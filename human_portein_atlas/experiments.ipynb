{
 "cells": [
  {
   "cell_type": "code",
   "execution_count": 3,
   "metadata": {},
   "outputs": [],
   "source": [
    "import numpy as np\n",
    "import pandas as pd\n",
    "import os\n",
    "import gc\n",
    "import re\n",
    "import cv2\n",
    "import seaborn as sns\n",
    "import matplotlib.pyplot as plt\n",
    "from PIL import Image\n",
    "from glob import glob # parse the files name\n",
    "from pathlib import Path\n",
    "import warnings\n",
    "import imgaug as ia\n",
    "from imgaug import augmenters as iaa\n",
    "from imblearn.over_sampling import SMOTE, RandomOverSampler\n",
    "from imblearn.under_sampling import RandomUnderSampler\n",
    "#pal = sns.color_palette()\n",
    "warnings.filterwarnings(\"ignore\")\n",
    "\n",
    "HOME = os.environ['HOME']\n",
    "data_folder = Path(os.path.join(HOME, 'ninja_project/data/human_protein_atlas'))"
   ]
  },
  {
   "cell_type": "code",
   "execution_count": 4,
   "metadata": {},
   "outputs": [],
   "source": [
    "train_data = pd.read_csv(str(data_folder / 'train.csv'))\n",
    "train_image_path = data_folder / 'train'\n",
    "test_image_path = data_folder / 'test'\n",
    "train_images_list = os.listdir(str(train_image_path))\n",
    "test_images_list = os.listdir(str(test_image_path))"
   ]
  },
  {
   "cell_type": "code",
   "execution_count": 5,
   "metadata": {},
   "outputs": [],
   "source": [
    "green_png = glob(str(train_image_path / '*_green.png'))\n",
    "blue_png = glob(str(train_image_path / '*_blue.png'))\n",
    "red_png = glob(str(train_image_path / '*_red.png'))\n",
    "yellow_png = glob(str(train_image_path / '*_yellow.png'))"
   ]
  },
  {
   "cell_type": "markdown",
   "metadata": {},
   "source": [
    "# Label list"
   ]
  },
  {
   "cell_type": "code",
   "execution_count": 6,
   "metadata": {},
   "outputs": [],
   "source": [
    "labels_dict = {\n",
    "0:  \"Nucleoplasm\", \n",
    "1:  \"Nuclear membrane\",   \n",
    "2:  \"Nucleoli\",   \n",
    "3:  \"Nucleoli fibrillar center\" ,  \n",
    "4:  \"Nuclear speckles\"   ,\n",
    "5:  \"Nuclear bodies\"   ,\n",
    "6:  \"Endoplasmic reticulum\",   \n",
    "7:  \"Golgi apparatus\"   ,\n",
    "8:  \"Peroxisomes\"   ,\n",
    "9:  \"Endosomes\"   ,\n",
    "10:  \"Lysosomes\"   ,\n",
    "11:  \"Intermediate filaments\",   \n",
    "12:  \"Actin filaments\"   ,\n",
    "13:  \"Focal adhesion sites\",   \n",
    "14:  \"Microtubules\"   ,\n",
    "15:  \"Microtubule ends\",   \n",
    "16:  \"Cytokinetic bridge\",   \n",
    "17:  \"Mitotic spindle\"   ,\n",
    "18:  \"Microtubule organizing center\" ,  \n",
    "19:  \"Centrosome\"   ,\n",
    "20:  \"Lipid droplets\",   \n",
    "21:  \"Plasma membrane\",   \n",
    "22:  \"Cell junctions\"  , \n",
    "23:  \"Mitochondria\"   ,\n",
    "24:  \"Aggresome\"   ,\n",
    "25:  \"Cytosol\",\n",
    "26:  \"Cytoplasmic bodies\",   \n",
    "27:  \"Rods & rings\" \n",
    "}\n"
   ]
  },
  {
   "cell_type": "markdown",
   "metadata": {},
   "source": [
    "# Training data "
   ]
  },
  {
   "cell_type": "code",
   "execution_count": 7,
   "metadata": {},
   "outputs": [],
   "source": [
    "from collections import Counter, defaultdict\n",
    "\n",
    "labels = train_data['Target'].apply(lambda x: x.split(' '))\n",
    "\n",
    "\n",
    "def get_labels_count(_data, _labels_dict):\n",
    "    count_labels = defaultdict(int)\n",
    "    for line in _data:\n",
    "        for l in line:\n",
    "            count_labels[l] += 1\n",
    "            \n",
    "    mapping_labels = dict()\n",
    "    for k in count_labels.keys():\n",
    "        mapping_labels[_labels_dict[int(k)]] = count_labels[k]\n",
    "    return mapping_labels\n",
    "\n",
    "mapping_labels = get_labels_count(labels, labels_dict)"
   ]
  },
  {
   "cell_type": "code",
   "execution_count": 8,
   "metadata": {},
   "outputs": [],
   "source": [
    "labels_df = pd.DataFrame.from_dict(mapping_labels, orient='index', columns=['count'])\n",
    "labels_df.reset_index(inplace=True)\n",
    "labels_df.rename(columns={'index': 'protein'}, inplace=True)"
   ]
  },
  {
   "cell_type": "code",
   "execution_count": 9,
   "metadata": {},
   "outputs": [],
   "source": [
    "def get_labels(row):\n",
    "    labels = row.split(' ')\n",
    "    labels = [int(x) for x in labels]\n",
    "    return labels\n",
    "    \n",
    "train_data['labels'] = train_data['Target'].apply(get_labels)\n",
    "train_data['nb_labels'] = train_data['labels'].apply(lambda x:len(x))"
   ]
  },
  {
   "cell_type": "markdown",
   "metadata": {},
   "source": [
    "## Oversampling "
   ]
  },
  {
   "cell_type": "code",
   "execution_count": 10,
   "metadata": {},
   "outputs": [],
   "source": [
    "rev_labels_dict = dict()\n",
    "for k, v in labels_dict.items():\n",
    "    rev_labels_dict[v] = k\n",
    "    \n",
    "labels_df['labels'] = labels_df['protein'].map(rev_labels_dict)\n",
    "labels_df.set_index('labels', inplace=True)"
   ]
  },
  {
   "cell_type": "code",
   "execution_count": 11,
   "metadata": {},
   "outputs": [],
   "source": [
    "labels_count_dict = labels_df.to_dict()['count']\n",
    "n_labels = sum(labels_df['count'].values)\n",
    "\n",
    "# create class weight \n",
    "def cls_wts(_labels_count_dict, mu=0.5):\n",
    "    '''\n",
    "    linear interpolation of the prior probability of a label being in a class towards equal weights.\n",
    "    '''\n",
    "    prob_dict, prob_dict_bal = {}, {}\n",
    "    max_ent_wt = 1 / 28 # 要 balance 的機率基準\n",
    "    for i in range(28):\n",
    "        prob_dict[i] = _labels_count_dict[i]/n_labels\n",
    "        if prob_dict[i] > max_ent_wt:\n",
    "            prob_dict_bal[i] = prob_dict[i]-mu*(prob_dict[i] - max_ent_wt)\n",
    "        else:\n",
    "            prob_dict_bal[i] = prob_dict[i]+mu*(max_ent_wt - prob_dict[i])            \n",
    "    return prob_dict, prob_dict_bal\n",
    "\n",
    "label_prob_dict, label_prob_dict_balance = cls_wts(labels_count_dict)"
   ]
  },
  {
   "cell_type": "code",
   "execution_count": null,
   "metadata": {},
   "outputs": [],
   "source": [
    "# duplicate low frequency classes using string matches\n",
    "train_df_orig=train_df.copy()    \n",
    "lows = [15, 15, 15, 8, 9, 10, 8, 9, 10, 8, 9, 10, 17, 20, 24, 26, 15, 27, 15, 20, 24, 17, 8, 15, 27, 27, 27]\n",
    "for i in lows:\n",
    "    target = str(i)\n",
    "    indicies = train_df_orig.loc[train_df_orig['Target'] == target].index\n",
    "    train_df = pd.concat([train_df,train_df_orig.loc[indicies]], ignore_index=True)\n",
    "    indicies = train_df_orig.loc[train_df_orig['Target'].str.startswith(target+\" \")].index\n",
    "    train_df = pd.concat([train_df,train_df_orig.loc[indicies]], ignore_index=True)\n",
    "    indicies = train_df_orig.loc[train_df_orig['Target'].str.endswith(\" \"+target)].index\n",
    "    train_df = pd.concat([train_df,train_df_orig.loc[indicies]], ignore_index=True)\n",
    "    indicies = train_df_orig.loc[train_df_orig['Target'].str.contains(\" \"+target+\" \")].index\n",
    "    train_df = pd.concat([train_df,train_df_orig.loc[indicies]], ignore_index=True)"
   ]
  },
  {
   "cell_type": "code",
   "execution_count": null,
   "metadata": {},
   "outputs": [],
   "source": [
    "'''\n",
    "import math\n",
    "def create_class_weight(_labels_count_dict, mu=0.5):\n",
    "    total = sum(_labels_count_dict.values())\n",
    "    keys = _labels_count_dict.keys()\n",
    "    class_weight = dict()\n",
    "    class_weight_log = dict()\n",
    "    for key in keys:\n",
    "        score = total / float(_labels_count_dict[key])\n",
    "        score_log = math.log(mu * total / float(_labels_count_dict[key]))\n",
    "        class_weight[key] = round(score, 2) if score > 1.0 else round(1.0, 2)\n",
    "        class_weight_log[key] = round(score_log, 2) if score_log > 1.0 else round(1.0, 2)\n",
    "    return class_weight, class_weight_log\n",
    "\n",
    "cw, cwl = create_class_weight(labels_count_dict)\n",
    "'''"
   ]
  },
  {
   "cell_type": "code",
   "execution_count": null,
   "metadata": {},
   "outputs": [],
   "source": [
    "labels_count_dict = labels_df.to_dict()['count']\n",
    "n_labels = sum(labels_df['count'].values)"
   ]
  },
  {
   "cell_type": "code",
   "execution_count": 10,
   "metadata": {},
   "outputs": [],
   "source": [
    "# oversample by labels weight \n",
    "\n",
    "#uncommon_classes = [8,9,10,15,16,17,20,24,26,27]\n",
    "def find_labels(line, t_label):\n",
    "    return True if t_label in line else False\n",
    "\n",
    "def use_oversampling(_data, _label_prob_dict_balance, _labels_count_dict, focus_labels):\n",
    "    labels_num = len(_label_prob_dict_balance.keys())\n",
    "    max_ent_wt = 1 / labels_num \n",
    "    max_ent_count = int(n_labels * max_ent_wt)    \n",
    "    for i in range(focus_labels):\n",
    "        if _label_prob_dict_balance[i] < max_ent_wt:\n",
    "            duplicate_num = max_ent_count - _labels_count_dict[i]\n",
    "            tmp_df = _data[_data.labels.apply(find_labels, args=(i,))]\n",
    "            tmp_df = tmp_df.sample(duplicate_num, replace=True)\n",
    "            _data = pd.concat([_data, tmp_df], axis=0)        \n",
    "            _data.reset_index(inplace=True)\n",
    "            _data.drop(['index'], axis=1, inplace=True)\n",
    "    return _data\n",
    "\n",
    "train_data = use_oversampling(train_data, labels_count_dict, label_prob_dict_balance.keys())"
   ]
  },
  {
   "cell_type": "code",
   "execution_count": 11,
   "metadata": {},
   "outputs": [],
   "source": [
    "# check oversample count of each label\n",
    "labels = train_data['Target'].apply(lambda x: x.split(' '))\n",
    "over_mapping_labels = get_labels_count(labels, labels_dict)\n"
   ]
  },
  {
   "cell_type": "markdown",
   "metadata": {},
   "source": [
    "# Create Multi Labels : one-hot-encode format"
   ]
  },
  {
   "cell_type": "code",
   "execution_count": 13,
   "metadata": {},
   "outputs": [],
   "source": [
    "from sklearn.preprocessing import MultiLabelBinarizer\n",
    "\n",
    "mlb = MultiLabelBinarizer(classes=np.array(list(labels_dict.keys())))\n",
    "mulit_label_encoder = mlb.fit_transform(train_data['labels'])\n",
    "mulit_label_df = pd.DataFrame(mulit_label_encoder, columns=list(labels_dict.values()))\n",
    "train_data = pd.concat([train_data, mulit_label_df], axis=1)\n"
   ]
  },
  {
   "cell_type": "code",
   "execution_count": 14,
   "metadata": {},
   "outputs": [],
   "source": [
    "color_mapping = {\n",
    "    'green': 'the protein of interest',\n",
    "    'blue': 'nucleus',\n",
    "    'red': 'microtubules',\n",
    "    'yellow': 'endoplasmic reticulum'\n",
    "}"
   ]
  },
  {
   "cell_type": "markdown",
   "metadata": {},
   "source": [
    "### Training-testing split and K-Fold Cross-Validation\n",
    "\n",
    "As our test data is 38 % of size compared to the train set it makes sense to use 3-Fold cross validation where the test set is 33 % of size compared to the train set. As we are working with neural networks that can be demanding in computational resources, let's only use 2 repetitions."
   ]
  },
  {
   "cell_type": "code",
   "execution_count": 15,
   "metadata": {},
   "outputs": [],
   "source": [
    "from sklearn.model_selection import RepeatedKFold, train_test_split\n",
    "train_ids, valid_ids = train_test_split(train_data.Id.values, \n",
    "                                        test_size=0.3, \n",
    "                                        stratify=train_data['nb_labels'])\n",
    "\n"
   ]
  },
  {
   "cell_type": "code",
   "execution_count": 16,
   "metadata": {},
   "outputs": [],
   "source": [
    "splitter = RepeatedKFold(n_splits=5, n_repeats=1, random_state=0)\n",
    "partitions = []\n",
    "for train_idx, test_idx in splitter.split(train_data.index.values):\n",
    "    partition = {}\n",
    "    partition['training'] = train_data.Id.values[train_idx]    \n",
    "    partition['validation'] = train_data.Id.values[test_idx]\n",
    "    partitions.append(partition)\n"
   ]
  },
  {
   "cell_type": "markdown",
   "metadata": {},
   "source": [
    "## Setting Parameters"
   ]
  },
  {
   "cell_type": "code",
   "execution_count": 17,
   "metadata": {},
   "outputs": [],
   "source": [
    "class ModelParameters:\n",
    "    def __init__(self, trainpath, testpath, n_classes=28, image_rows=512, image_cols=512, batch_size=32, \n",
    "                 n_channels=3, row_scale_factor=1.88, col_scale_factor=1.88, n_epochs=30):\n",
    "        self.basepath = trainpath\n",
    "        self.testpath = testpath\n",
    "        self.n_classes = n_classes\n",
    "        self.image_rows = image_rows\n",
    "        self.image_cols = image_cols\n",
    "        self.batch_size = batch_size\n",
    "        self.n_channels = n_channels\n",
    "        self.row_scale_factor = row_scale_factor\n",
    "        self.col_scale_factor = col_scale_factor\n",
    "        self.scaled_row_dim = np.int(self.image_rows / self.row_scale_factor)\n",
    "        self.scaled_col_dim = np.int(self.image_cols / self.col_scale_factor)\n",
    "        self.n_epochs = n_epochs\n",
    "        \n",
    "model_parameters = ModelParameters(train_image_path, test_image_path)        "
   ]
  },
  {
   "cell_type": "markdown",
   "metadata": {},
   "source": [
    "## Image preprocessor"
   ]
  },
  {
   "cell_type": "code",
   "execution_count": 18,
   "metadata": {},
   "outputs": [],
   "source": [
    "from skimage.transform import resize \n",
    "\n",
    "class ImagePreprocessor:\n",
    "    def __init__(self, model_parameter, use_aug=False, is_training=True):\n",
    "        self.parameter = model_parameter\n",
    "        self.basepath = self.parameter.basepath\n",
    "        self.scaled_row_dim = self.parameter.scaled_row_dim\n",
    "        self.scaled_col_dim = self.parameter.scaled_col_dim\n",
    "        self.n_channels = self.parameter.n_channels\n",
    "        self.use_aug = use_aug\n",
    "        self.is_training = is_training\n",
    "    \n",
    "    def preprocess(self, image):\n",
    "        image = self.img_resize(image)\n",
    "        #image = self.img_reshape(image)\n",
    "        image = self.img_normalize(image)\n",
    "        if (self.use_aug or self.is_training) == True:\n",
    "            image = self.img_augmentation(image)\n",
    "        return image\n",
    "        \n",
    "    def img_resize(self, image):\n",
    "        image = resize(image, (self.scaled_row_dim, self.scaled_col_dim))\n",
    "        return image\n",
    "\n",
    "    def img_reshape(self, image):\n",
    "        image = np.reshape(image, (image.shape[0], image.shape[1], self.n_channels))\n",
    "        return image\n",
    "    \n",
    "    def img_normalize(self, image):\n",
    "        image = np.divide(image, 255)\n",
    "        return image\n",
    "    \n",
    "    def img_augmentation(self, image):\n",
    "        # https://imgaug.readthedocs.io/en/latest/source/examples_basics.html\n",
    "        augment_img = iaa.Sequential([\n",
    "            iaa.OneOf([\n",
    "                #iaa.Crop(percent=(0, 0.1)), # random crops\n",
    "                iaa.Affine(rotate=0),\n",
    "                iaa.Affine(rotate=90),\n",
    "                iaa.Affine(rotate=180),\n",
    "                iaa.Affine(rotate=270),\n",
    "                iaa.Affine(shear=(-16, 16)),\n",
    "                iaa.Fliplr(0.5), # horizontal flips\n",
    "                iaa.Flipud(0.5),            \n",
    "                # Small gaussian blur with random sigma between 0 and 0.5.\n",
    "                # But we only blur about 50% of all images.\n",
    "                #iaa.Sometimes(0.5, iaa.GaussianBlur(sigma=(0, 0.5))),\n",
    "                \n",
    "                # Strengthen or weaken the contrast in each image.\n",
    "                #iaa.ContrastNormalization((0.5, 1.5)),\n",
    "                \n",
    "                # Add gaussian noise.\n",
    "                # For 50% of all images, we sample the noise once per pixel.\n",
    "                # For the other 50% of all images, we sample the noise per pixel AND\n",
    "                # channel. This can change the color (not only brightness) of the\n",
    "                # pixels.\n",
    "                #iaa.AdditiveGaussianNoise(loc=0, scale=(0.0, 0.05*255), per_channel=0.5),\n",
    "                \n",
    "                # Make some images brighter and some darker.\n",
    "                # In 20% of all cases, we sample the multiplier once per channel,\n",
    "                # which can end up changing the color of the images.\n",
    "                #iaa.Multiply((0.8, 1.2), per_channel=0.2)\n",
    "                \n",
    "                # Apply affine transformations to each image.\n",
    "                # Scale/zoom them, translate/move them, rotate them and shear them.\n",
    "            ])], random_order=True)\n",
    "        image_aug = augment_img.augment_image(image)\n",
    "        return image_aug\n",
    "        \n",
    "    def load_image(self, image_id):\n",
    "        #images = np.zeros(shape=(512, 512, 4))        \n",
    "        #images[:, :, 0] = cv2.imread(str(self.basepath / '{}_green.png'.format(image_id)), 0)\n",
    "        #images[:, :, 1] = cv2.imread(str(self.basepath / '{}_red.png'.format(image_id)), 0)\n",
    "        #images[:, :, 2] = cv2.imread(str(self.basepath / '{}_blue.png'.format(image_id)), 0)\n",
    "        #images[:, :, 3] = cv2.imread(str(self.basepath / '{}_yellow.png'.format(image_id)), 0)  \n",
    "        #return image[:,:,0:self.parameter.n_channels]\n",
    "        G = cv2.imread(str(self.basepath / '{}_green.png'.format(image_id)), 0)\n",
    "        R = cv2.imread(str(self.basepath / '{}_red.png'.format(image_id)), 0)\n",
    "        B = cv2.imread(str(self.basepath / '{}_blue.png'.format(image_id)), 0)\n",
    "        Y = cv2.imread(str(self.basepath / '{}_yellow.png'.format(image_id)), 0)          \n",
    "        im = np.stack((R, G, B), -1)\n",
    "        #im = np.stack((\n",
    "        #    R/2 + Y/2, \n",
    "        #    G/2 + Y/2, \n",
    "        #    B), -1)\n",
    "        return im\n",
    "    \n",
    "image_preprocessor = ImagePreprocessor(model_parameters, use_aug=True, is_training=True)"
   ]
  },
  {
   "cell_type": "markdown",
   "metadata": {},
   "source": [
    "## Data generator"
   ]
  },
  {
   "cell_type": "code",
   "execution_count": 19,
   "metadata": {},
   "outputs": [
    {
     "name": "stderr",
     "output_type": "stream",
     "text": [
      "Using TensorFlow backend.\n"
     ]
    }
   ],
   "source": [
    "import keras \n",
    "\n",
    "class DataGenerator(keras.utils.Sequence):\n",
    "    def __init__(self, list_ids, data, _model_parameters, _image_preprocessor, drop_list, shuffle=False,\n",
    "                 use_cache=False):\n",
    "        '''\n",
    "        :params list_ids     : list of image id  \n",
    "        :params data         : train data with pandas format\n",
    "        :_model_parameters   : parameters setting class\n",
    "        :_image_preprocessor : image preprocessor class\n",
    "        :drop_list           : the cols name to drop \n",
    "        :shuffle             : is shuffel data\n",
    "        :use_cache           : use cache to improve compute performance \n",
    "        '''\n",
    "        self.params = _model_parameters\n",
    "        self.preprocessor = _image_preprocessor        \n",
    "        self.data = data.copy() # each Id of the dataset\n",
    "        self.data.set_index('Id', inplace=True)\n",
    "        self.drop_list = drop_list\n",
    "        self.remained_cols = [c for c in data.columns if c not in drop_list]        \n",
    "        self.list_ids = list_ids\n",
    "        self.dim =(self.params.scaled_row_dim, self.params.scaled_col_dim)\n",
    "        self.batch_size = self.params.batch_size\n",
    "        self.n_channels = self.params.n_channels\n",
    "        self.n_classes = self.params.n_classes\n",
    "        self.shuffle = shuffle        \n",
    "        self.use_cache = use_cache\n",
    "        if self.use_cache == True:\n",
    "            self.cache = np.zeros((len(list_ids), \n",
    "                                   self.params.scaled_row_dim,\n",
    "                                   self.params.scaled_col_dim,\n",
    "                                   self.params.n_channels))\n",
    "            self.is_cached = np.zeros((len(list_ids)))\n",
    "        \n",
    "        self.on_epoch_end()\n",
    "        \n",
    "    \n",
    "    def on_epoch_end(self):\n",
    "        # Updates indexes after each epoch\n",
    "        self.indexes = np.arange(len(self.list_ids))\n",
    "        if self.shuffle:\n",
    "            np.random.shuffle(self.indexes)\n",
    "    \n",
    "    def get_targets_per_image(self, identifier):\n",
    "        if self.data.loc[identifier, self.remained_cols].shape[0] > 1:\n",
    "            return self.data.loc[identifier, self.remained_cols].values[0]\n",
    "        else:\n",
    "            return self.data.loc[identifier, self.remained_cols].values\n",
    "        #return self.data.loc[self.data.Id == identifier].drop(self.drop_list, axis=1).values\n",
    "    \n",
    "    def __data_generation(self, _list_ids_temp, _indexes):\n",
    "        # initialization\n",
    "        X = np.zeros((self.batch_size, *self.dim, self.n_channels))\n",
    "        y = np.zeros((self.batch_size, self.n_classes), dtype=int)\n",
    "        \n",
    "        if self.use_cache == True:\n",
    "            X = self.cache[_indexes]\n",
    "            for i, identifier in enumerate(_list_ids_temp[np.where(self.is_cached[_indexes] == 0)]):\n",
    "                image = self.preprocessor.load_image(identifier)\n",
    "                image = self.preprocessor.preprocess(image)\n",
    "                self.is_cached[indexes[i]] = 1\n",
    "                self.cache[indexes[i]] = image\n",
    "                X[i] = image\n",
    "                y[i] = self.get_targets_per_image(identifier)\n",
    "        else:\n",
    "            for i, identifier in enumerate(_list_ids_temp):\n",
    "                image = self.preprocessor.load_image(identifier)\n",
    "                image = self.preprocessor.preprocess(image)\n",
    "                X[i] = image\n",
    "                y[i] = self.get_targets_per_image(identifier)\n",
    "        return X, y \n",
    "    \n",
    "    def __len__(self):\n",
    "        \"Denotes the number of batches per epoch\"\n",
    "        return int(np.floor(len(self.list_ids) / self.batch_size)) + 1\n",
    "    \n",
    "    def __getitem__(self, index):\n",
    "        \"Generate one batch of data\"\n",
    "        while index <= self.__len__():\n",
    "            #if index == self.__len__():\n",
    "            #    indexes = self.indexes[index * self.batch_size: -1]        \n",
    "            #else:\n",
    "            #    indexes = self.indexes[index * self.batch_size: (index + 1) * self.batch_size]        \n",
    "            indexes = self.indexes[index * self.batch_size: (index + 1) * self.batch_size]\n",
    "            list_ids_temp = np.array([self.list_ids[k] for k in indexes])\n",
    "            training_x, training_y = self.__data_generation(list_ids_temp, indexes)\n",
    "            return training_x, training_y\n",
    "    "
   ]
  },
  {
   "cell_type": "code",
   "execution_count": 20,
   "metadata": {},
   "outputs": [],
   "source": [
    "from tqdm import tqdm\n",
    "class PredictGenerator:\n",
    "    def __init__(self, predict_ids, _image_preprocessor, predict_path):\n",
    "        self.preprocessor = _image_preprocessor\n",
    "        self.preprocessor.basepath = predict_path\n",
    "        self.identifiers = predict_ids\n",
    "        \n",
    "    def predict(self, model):\n",
    "        y = np.empty(shape=(len(self.identifiers), self.preprocessor.parameter.n_classes))\n",
    "        for n in tqdm(range(len(self.identifiers))):\n",
    "            image = self.preprocessor.load_image(self.identifiers[n])\n",
    "            image = self.preprocessor.preprocess(image)\n",
    "            image = image.reshape((1, *image.shape))\n",
    "            y[n] = model.predict(image)\n",
    "        return y\n",
    "    "
   ]
  },
  {
   "cell_type": "markdown",
   "metadata": {},
   "source": [
    "# Building model"
   ]
  },
  {
   "cell_type": "code",
   "execution_count": 21,
   "metadata": {},
   "outputs": [],
   "source": [
    "import keras\n",
    "from keras import models, layers\n",
    "from keras import Model\n",
    "from keras import losses, optimizers\n",
    "from keras.callbacks import EarlyStopping, ModelCheckpoint, LearningRateScheduler, ReduceLROnPlateau\n",
    "from keras import backend as K\n",
    "from keras.utils import multi_gpu_model\n",
    "from keras.applications.inception_v3 import InceptionV3\n",
    "import resnet50\n",
    "from distutils.version import StrictVersion\n",
    "if StrictVersion(keras.__version__) < StrictVersion('2.2.0'):\n",
    "    from keras.applications.imagenet_utils import _obtain_input_shape\n",
    "else:\n",
    "    from keras_applications.imagenet_utils import _obtain_input_shape"
   ]
  },
  {
   "cell_type": "code",
   "execution_count": 22,
   "metadata": {},
   "outputs": [],
   "source": [
    "def freeze_model(model):\n",
    "    for layer in model.layers:\n",
    "        layer.trainable = False\n",
    "    return model"
   ]
  },
  {
   "cell_type": "markdown",
   "metadata": {},
   "source": [
    "### ResNet50"
   ]
  },
  {
   "cell_type": "code",
   "execution_count": 23,
   "metadata": {},
   "outputs": [],
   "source": [
    "conv_params = resnet50.get_conv_params()\n",
    "bn_params = resnet50.get_bn_params()\n",
    "input_shape = (model_parameters.scaled_row_dim, model_parameters.scaled_col_dim, model_parameters.n_channels)\n",
    "fetch_resnet50_model = resnet50.ResNet50(conv_params=conv_params, \n",
    "                                         bn_params=bn_params, \n",
    "                                         weights_tag='imagenet', \n",
    "                                         input_shape=input_shape, \n",
    "                                         include_top=False)"
   ]
  },
  {
   "cell_type": "code",
   "execution_count": 24,
   "metadata": {},
   "outputs": [],
   "source": [
    "backbone = fetch_resnet50_model.build()\n",
    "#freeze_model(backbone)"
   ]
  },
  {
   "cell_type": "code",
   "execution_count": 25,
   "metadata": {},
   "outputs": [],
   "source": [
    "input = backbone.input\n",
    "x = backbone.output"
   ]
  },
  {
   "cell_type": "code",
   "execution_count": 26,
   "metadata": {},
   "outputs": [],
   "source": [
    "x = layers.Flatten(name='flatten')(x)\n",
    "x = layers.Dense(1024, name='fc_1')(x)\n",
    "x = layers.BatchNormalization(name='class_bn1')(x)\n",
    "x = layers.Activation('relu', name='class_relu1')(x)\n",
    "x = layers.Dropout(0.5, name='dropout_1')(x)\n",
    "\n",
    "x = layers.Dense(512, name='fc_2')(x)\n",
    "x = layers.BatchNormalization(name='class_bn2')(x)\n",
    "x = layers.Activation('relu', name='class_relu2')(x)\n",
    "x = layers.Dropout(0.5, name='dropout_2')(x)\n",
    "\n",
    "x = layers.Dense(model_parameters.n_classes, activation='sigmoid', name='output')(x)\n",
    "model = Model(inputs=input, outputs=x, name='resnet50')"
   ]
  },
  {
   "cell_type": "markdown",
   "metadata": {},
   "source": [
    "### ResNeXt50"
   ]
  },
  {
   "cell_type": "code",
   "execution_count": 19,
   "metadata": {},
   "outputs": [],
   "source": [
    "def handle_block_names(stage, block):\n",
    "    name_base = 'stage{}_block{}_'.format(stage + 1, block + 1)\n",
    "    conv_name = name_base + 'conv'\n",
    "    bn_name = name_base + 'bn'\n",
    "    relu_name = name_base + 'relu'\n",
    "    shortcut_name = name_base + 'shortcut'\n",
    "    return name_base, conv_name, bn_name, relu_name, shortcut_name\n",
    "\n",
    "name_base, conv_name, bn_name, relu_name, shortcut_name = handle_block_names(1, 1)\n"
   ]
  },
  {
   "cell_type": "code",
   "execution_count": 17,
   "metadata": {},
   "outputs": [],
   "source": [
    "conv_params = resnet50.get_conv_params()\n",
    "bn_params = resnet50.get_bn_params()"
   ]
  },
  {
   "cell_type": "code",
   "execution_count": 52,
   "metadata": {},
   "outputs": [],
   "source": [
    "filters = 128\n",
    "conv_shortcut = True\n",
    "groups = 32\n",
    "kernel_size = 3\n",
    "stride = 1\n",
    "include_top = False\n",
    "weights = 'imagenet'\n",
    "input_shape = (224, 224, 3)\n",
    "input_shape = _obtain_input_shape(input_shape, \n",
    "                                  default_size=224,\n",
    "                                  min_size=32,\n",
    "                                  data_format=K.image_data_format(),\n",
    "                                  require_flatten=include_top,\n",
    "                                  weights=weights)"
   ]
  },
  {
   "cell_type": "code",
   "execution_count": 55,
   "metadata": {},
   "outputs": [],
   "source": [
    "K.clear_session()\n",
    "input_tensor = layers.Input(input_shape, name='Img_input')\n",
    "if input_tensor is None:\n",
    "        img_input = layers.Input(shape=input_shape)\n",
    "else:\n",
    "    if not K.is_keras_tensor(input_tensor):\n",
    "        img_input = layers.Input(tensor=input_tensor, shape=input_shape)\n",
    "    else:\n",
    "        img_input = input_tensor"
   ]
  },
  {
   "cell_type": "code",
   "execution_count": null,
   "metadata": {},
   "outputs": [],
   "source": [
    "x = stack3(x, 128, 3, stride1=1, name='conv2')\n",
    "x = stack3(x, 256, 4, name='conv3')\n",
    "x = stack3(x, 512, 6, name='conv4')\n",
    "x = stack3(x, 1024, 3, name='conv5')"
   ]
  },
  {
   "cell_type": "code",
   "execution_count": 56,
   "metadata": {},
   "outputs": [],
   "source": [
    "x = layers.ZeroPadding2D(padding=((3, 3), (3, 3)), name='conv1_pad')(img_input)\n",
    "x = layers.Conv2D(64, 7, strides=2, use_bias=False, name='conv1_conv')(x)\n",
    "\n",
    "x = layers.ZeroPadding2D(padding=((1, 1), (1, 1)), name='pool1_pad')(x)\n",
    "x = layers.MaxPooling2D(3, strides=2, name='pool1_pool')(x)\n",
    "\n",
    "if conv_shortcut is True:\n",
    "    # convolution shortcut\n",
    "    shortcut = layers.Conv2D((64 // groups) * filters,\n",
    "                             kernel_size=(kernel_size, kernel_size),\n",
    "                             strides=(stride, stride),\n",
    "                             name=shortcut_name + '_conv',\n",
    "                             **conv_params)(x)\n",
    "    shortcut = layers.BatchNormalization(name=shortcut_name + '_bn',\n",
    "                                         **bn_params)(shortcut)\n",
    "\n",
    "else:\n",
    "    # identity shortcut\n",
    "    shortcut = x\n",
    "            \n",
    "x = layers.Conv2D(filters, kernel_size=(1, 1), strides=(1, 1), name=conv_name + '_a',\n",
    "                  **conv_params)(x)\n",
    "x = layers.BatchNormalization(name=bn_name + '_a',  **bn_params)(x)\n",
    "x = layers.Activation('relu', name=relu_name + '_a')(x)\n",
    "\n",
    "cardinality = filters // groups\n",
    "\n",
    "x = layers.ZeroPadding2D(padding=((1, 1), (1, 1)), name=name_base + 'pad')(x)\n",
    "\n",
    "x = layers.DepthwiseConv2D(kernel_size, strides=(stride, stride), depth_multiplier=cardinality,\n",
    "                           use_bias=False, name=name_base + 'group')(x)\n",
    "'''\n",
    "x_shape = K.int_shape(x)[1: -1]\n",
    "x = layers.Reshape(x_shape + (groups, cardinality, cardinality))(x)\n",
    "x = layers.Lambda(lambda x: sum([x[:, :, :, :, i] for i in range(cardinality)]),\n",
    "                  name=name_base + 'reduce')(x)\n",
    "x = layers.Reshape(x_shape + (filters, ))(x)\n",
    "x = layers.BatchNormalization(name=bn_name + 'b', **bn_params)(x)\n",
    "x = layers.Activation('relu', name=relu_name + 'b')(x)\n",
    "\n",
    "x = layers.Conv2D((64 // groups) * filters, kernel_size=(1, 1), strides=(1, 1),\n",
    "                  name=conv_name + 'c')(x)\n",
    "x = layers.BatchNormalization(name=bn_name + 'c', **bn_params)(x)\n",
    "\n",
    "x = layers.Add(name=name_base + 'add')([shortcut, x])\n",
    "x = layers.Activation('relu', name=relu_name + 'c')(x)\n",
    "'''\n",
    "model = Model(img_input, x, name='baseline')"
   ]
  },
  {
   "cell_type": "markdown",
   "metadata": {},
   "source": [
    "### InceptionV3"
   ]
  },
  {
   "cell_type": "code",
   "execution_count": 18,
   "metadata": {},
   "outputs": [],
   "source": [
    "def create_model(input_shape, n_out):\n",
    "    input_tensor = layers.Input(shape=input_shape)\n",
    "    base_model = InceptionV3(include_top=False,\n",
    "                             weights='imagenet',\n",
    "                             input_shape=input_shape)\n",
    "    bn = layers.BatchNormalization()(input_tensor)\n",
    "    x = base_model(bn)\n",
    "    x = layers.Conv2D(32, kernel_size=(1,1), activation='relu')(x)\n",
    "    x = layers.Flatten()(x)\n",
    "    x = layers.Dropout(0.5)(x)\n",
    "    x = layers.Dense(1024, activation='relu')(x)\n",
    "    x = layers.Dropout(0.5)(x)\n",
    "    output = layers.Dense(n_out, activation='sigmoid')(x)\n",
    "    model = Model(input_tensor, output)\n",
    "    \n",
    "    return model"
   ]
  },
  {
   "cell_type": "code",
   "execution_count": 19,
   "metadata": {},
   "outputs": [],
   "source": [
    "include_top = False\n",
    "weights = 'imagenet'\n",
    "input_shape = (model_parameters.scaled_row_dim, model_parameters.scaled_col_dim, model_parameters.n_channels)\n",
    "input_shape = _obtain_input_shape(input_shape, \n",
    "                                  default_size=224,\n",
    "                                  min_size=32,\n",
    "                                  data_format=K.image_data_format(),\n",
    "                                  require_flatten=include_top,\n",
    "                                  weights=weights)"
   ]
  },
  {
   "cell_type": "code",
   "execution_count": 20,
   "metadata": {},
   "outputs": [],
   "source": [
    "model = create_model(input_shape, 28)"
   ]
  },
  {
   "cell_type": "code",
   "execution_count": 21,
   "metadata": {},
   "outputs": [
    {
     "name": "stdout",
     "output_type": "stream",
     "text": [
      "_________________________________________________________________\n",
      "Layer (type)                 Output Shape              Param #   \n",
      "=================================================================\n",
      "input_1 (InputLayer)         (None, 299, 299, 3)       0         \n",
      "_________________________________________________________________\n",
      "batch_normalization_95 (Batc (None, 299, 299, 3)       12        \n",
      "_________________________________________________________________\n",
      "inception_v3 (Model)         (None, 8, 8, 2048)        21802784  \n",
      "_________________________________________________________________\n",
      "conv2d_95 (Conv2D)           (None, 8, 8, 32)          65568     \n",
      "_________________________________________________________________\n",
      "flatten_1 (Flatten)          (None, 2048)              0         \n",
      "_________________________________________________________________\n",
      "dropout_1 (Dropout)          (None, 2048)              0         \n",
      "_________________________________________________________________\n",
      "dense_1 (Dense)              (None, 1024)              2098176   \n",
      "_________________________________________________________________\n",
      "dropout_2 (Dropout)          (None, 1024)              0         \n",
      "_________________________________________________________________\n",
      "dense_2 (Dense)              (None, 28)                28700     \n",
      "=================================================================\n",
      "Total params: 23,995,240\n",
      "Trainable params: 23,960,802\n",
      "Non-trainable params: 34,438\n",
      "_________________________________________________________________\n"
     ]
    }
   ],
   "source": [
    "model.summary()"
   ]
  },
  {
   "cell_type": "code",
   "execution_count": 23,
   "metadata": {},
   "outputs": [
    {
     "name": "stdout",
     "output_type": "stream",
     "text": [
      "input_1 True\n",
      "batch_normalization_95 True\n",
      "inception_v3 True\n",
      "conv2d_95 True\n",
      "flatten_1 True\n",
      "dropout_1 True\n",
      "dense_1 True\n",
      "dropout_2 True\n",
      "dense_2 True\n"
     ]
    }
   ],
   "source": [
    "for layer in model.layers:\n",
    "    layer.trainable = True\n",
    "    print(layer.name, layer.trainable)"
   ]
  },
  {
   "cell_type": "markdown",
   "metadata": {},
   "source": [
    "# Define loss function"
   ]
  },
  {
   "cell_type": "code",
   "execution_count": 27,
   "metadata": {},
   "outputs": [],
   "source": [
    "from keras.losses import binary_crossentropy\n",
    "from keras import backend as K\n",
    "import tensorflow as tf\n",
    "\n",
    "def f1(y_true, y_pred, threshold=0.2):\n",
    "    #y_pred = K.round(y_pred) # threshold = 0.5\n",
    "    #keras_placeholder = K.placeholder(shape=(None, 28))\n",
    "    #y_pred = K.cast(K.greater(K.clip(keras_placeholder, 0.0, 1.0), \n",
    "    #                          threshold), K.floatx())\n",
    "    y_pred = K.cast(K.greater(K.clip(y_pred, 0, 1), threshold), K.floatx())\n",
    "    tp = K.sum(K.cast(y_true * y_pred, 'float'), axis=0)\n",
    "    tn = K.sum(K.cast((1-y_true) * (1-y_pred), 'float'), axis=0)\n",
    "    fp = K.sum(K.cast((1-y_true) * y_pred, 'float'), axis=0)\n",
    "    fn = K.sum(K.cast(y_true * (1-y_pred), 'float'), axis=0)\n",
    "\n",
    "    p = tp / (tp + fp + K.epsilon())\n",
    "    r = tp / (tp + fn + K.epsilon())\n",
    "\n",
    "    f1 = 2*p*r / (p+r+K.epsilon())\n",
    "    f1 = tf.where(tf.is_nan(f1), tf.zeros_like(f1), f1)\n",
    "    return K.mean(f1)\n",
    "\n",
    "def f1_loss(y_true, y_pred, threshold=0.1):\n",
    "    #y_pred = K.round(y_pred) # threshold = 0.5\n",
    "    #keras_placeholder = K.placeholder(shape=(None, 28))\n",
    "    #y_pred = K.cast(K.greater(K.clip(keras_placeholder, 0.0, 1.0), \n",
    "    #                          threshold), K.floatx())\n",
    "    y_pred = K.cast(K.greater(K.clip(y_pred, 0, 1), threshold), K.floatx())\n",
    "    tp = K.sum(K.cast(y_true * y_pred, 'float'), axis=0)\n",
    "    tn = K.sum(K.cast((1-y_true) * (1-y_pred), 'float'), axis=0)\n",
    "    fp = K.sum(K.cast((1-y_true) * y_pred, 'float'), axis=0)\n",
    "    fn = K.sum(K.cast(y_true * (1-y_pred), 'float'), axis=0)\n",
    "\n",
    "    p = tp / (tp + fp + K.epsilon())\n",
    "    r = tp / (tp + fn + K.epsilon())\n",
    "\n",
    "    f1 = 2 * p * r / (p + r + K.epsilon())\n",
    "    f1 = tf.where(tf.is_nan(f1), tf.zeros_like(f1), f1)\n",
    "    return 1 - K.mean(f1)\n",
    "\n",
    "def f1_min(y_true, y_pred):\n",
    "    f1 = base_f1(y_true, y_pred)\n",
    "    return K.min(f1)\n",
    "\n",
    "def f1_max(y_true, y_pred):\n",
    "    f1 = base_f1(y_true, y_pred)\n",
    "    return K.max(f1)\n",
    "\n",
    "def f1_mean(y_true, y_pred):\n",
    "    f1 = base_f1(y_true, y_pred)\n",
    "    return K.mean(f1)\n",
    "\n",
    "def f1_std(y_true, y_pred):\n",
    "    f1 = base_f1(y_true, y_pred)\n",
    "    return K.std(f1)"
   ]
  },
  {
   "cell_type": "markdown",
   "metadata": {},
   "source": [
    "# Define callback function"
   ]
  },
  {
   "cell_type": "code",
   "execution_count": 28,
   "metadata": {},
   "outputs": [],
   "source": [
    "# callback setting\n",
    "model_arch = 'resnet50_with_agg'\n",
    "weight_path = \"{}_weights.hdf5\".format(model_arch)\n",
    "start_learning_rate = 1e-4"
   ]
  },
  {
   "cell_type": "code",
   "execution_count": 29,
   "metadata": {},
   "outputs": [],
   "source": [
    "from keras.optimizers import Adadelta\n",
    "from clr_callback import *\n",
    "\n",
    "def step_decay_schedule(initial_lr=1e-3, decay_factor=0.75, step_size=10):\n",
    "    '''\n",
    "    Wrapper function to create a LearningRateScheduler with step decay schedule.\n",
    "    '''\n",
    "    def schedule(epoch):\n",
    "        return initial_lr * (decay_factor ** np.floor(epoch/step_size))\n",
    "    \n",
    "    return LearningRateScheduler(schedule)\n",
    "\n",
    "lr_sched = step_decay_schedule(initial_lr=start_learning_rate, decay_factor=1.5, step_size=50)\n",
    "\n",
    "checkpoint = ModelCheckpoint(weight_path, \n",
    "                             monitor='val_loss', \n",
    "                             verbose=1, \n",
    "                             save_best_only=True, \n",
    "                             mode='min',\n",
    "                             save_weights_only=True)\n",
    "\n",
    "reduce_lr = ReduceLROnPlateau(monitor='val_loss', \n",
    "                              factor=0.1, \n",
    "                              patience=3, \n",
    "                              verbose=1, \n",
    "                              min_delta=0.0001,\n",
    "                              mode='min', \n",
    "                              cooldown=2, \n",
    "                              min_lr=1e-6)\n",
    "\n",
    "early_stopping = EarlyStopping(monitor='val_loss', \n",
    "                               mode='min', \n",
    "                               patience=7)\n",
    "\n",
    "clr = CyclicLR(mode='triangular')\n",
    "\n",
    "callbacks_list = [early_stopping, checkpoint, reduce_lr]"
   ]
  },
  {
   "cell_type": "markdown",
   "metadata": {},
   "source": [
    "# Training model"
   ]
  },
  {
   "cell_type": "code",
   "execution_count": 30,
   "metadata": {},
   "outputs": [],
   "source": [
    "from keras.utils import multi_gpu_model\n",
    "isMultiGPU = 0\n",
    "if isMultiGPU:\n",
    "    parallel_model = multi_gpu_model(model, 2)\n",
    "    parallel_model.compile(optimizer=optimizers.Adam(start_learning_rate, decay=1e-6), \n",
    "                           loss='binary_crossentropy',\n",
    "                           metrics=[f1, f1_loss, 'binary_accuracy'])\n",
    "else:\n",
    "    model.compile(optimizer=optimizers.Adam(start_learning_rate, decay=1e-6), \n",
    "                  loss='binary_crossentropy',\n",
    "                  metrics=[f1, f1_loss, 'binary_accuracy'])"
   ]
  },
  {
   "cell_type": "code",
   "execution_count": 34,
   "metadata": {
    "scrolled": false
   },
   "outputs": [
    {
     "name": "stdout",
     "output_type": "stream",
     "text": [
      "#### Training Fold: 0\n",
      "Epoch 1/30\n",
      "777/777 [==============================] - 1585s 2s/step - loss: 0.1555 - f1: 0.6426 - f1_loss: 0.3792 - binary_accuracy: 0.6753 - val_loss: 0.6821 - val_f1: 0.5893 - val_f1_loss: 0.4107 - val_binary_accuracy: 0.5739\n",
      "\n",
      "Epoch 00001: val_loss improved from inf to 0.68213, saving model to resnet50_with_agg_weights.hdf5\n",
      "Epoch 2/30\n",
      "777/777 [==============================] - 1556s 2s/step - loss: 0.1364 - f1: 0.6723 - f1_loss: 0.3548 - binary_accuracy: 0.7338 - val_loss: 0.6503 - val_f1: 0.5894 - val_f1_loss: 0.4107 - val_binary_accuracy: 0.6356\n",
      "\n",
      "Epoch 00002: val_loss improved from 0.68213 to 0.65029, saving model to resnet50_with_agg_weights.hdf5\n",
      "Epoch 3/30\n",
      "777/777 [==============================] - 1571s 2s/step - loss: 0.1321 - f1: 0.6818 - f1_loss: 0.3498 - binary_accuracy: 0.7406 - val_loss: 0.7830 - val_f1: 0.5837 - val_f1_loss: 0.4152 - val_binary_accuracy: 0.5799\n",
      "\n",
      "Epoch 00003: val_loss did not improve from 0.65029\n",
      "Epoch 4/30\n",
      "777/777 [==============================] - 1565s 2s/step - loss: 0.1274 - f1: 0.6919 - f1_loss: 0.3388 - binary_accuracy: 0.7497 - val_loss: 0.6804 - val_f1: 0.5894 - val_f1_loss: 0.4106 - val_binary_accuracy: 0.5758\n",
      "\n",
      "Epoch 00004: val_loss did not improve from 0.65029\n",
      "Epoch 5/30\n",
      "777/777 [==============================] - 1580s 2s/step - loss: 0.1236 - f1: 0.7018 - f1_loss: 0.3298 - binary_accuracy: 0.7567 - val_loss: 0.6225 - val_f1: 0.5903 - val_f1_loss: 0.4105 - val_binary_accuracy: 0.7041\n",
      "\n",
      "Epoch 00005: val_loss improved from 0.65029 to 0.62251, saving model to resnet50_with_agg_weights.hdf5\n",
      "Epoch 6/30\n",
      "777/777 [==============================] - 1569s 2s/step - loss: 0.1247 - f1: 0.6970 - f1_loss: 0.3344 - binary_accuracy: 0.7604 - val_loss: 0.6817 - val_f1: 0.5893 - val_f1_loss: 0.4107 - val_binary_accuracy: 0.5758\n",
      "\n",
      "Epoch 00006: val_loss did not improve from 0.62251\n",
      "Epoch 7/30\n",
      "777/777 [==============================] - 1553s 2s/step - loss: 0.1233 - f1: 0.6967 - f1_loss: 0.3333 - binary_accuracy: 0.7606 - val_loss: 1.1848 - val_f1: 0.1147 - val_f1_loss: 0.8853 - val_binary_accuracy: 0.5758\n",
      "\n",
      "Epoch 00007: val_loss did not improve from 0.62251\n",
      "Epoch 8/30\n",
      "777/777 [==============================] - 1561s 2s/step - loss: 0.1210 - f1: 0.7048 - f1_loss: 0.3259 - binary_accuracy: 0.7637 - val_loss: 0.6814 - val_f1: 0.5893 - val_f1_loss: 0.4107 - val_binary_accuracy: 0.5758\n",
      "\n",
      "Epoch 00008: val_loss did not improve from 0.62251\n",
      "\n",
      "Epoch 00008: ReduceLROnPlateau reducing learning rate to 9.999999747378752e-06.\n",
      "Epoch 9/30\n",
      "777/777 [==============================] - 1538s 2s/step - loss: 0.1158 - f1: 0.7166 - f1_loss: 0.3128 - binary_accuracy: 0.7760 - val_loss: 0.6809 - val_f1: 0.5893 - val_f1_loss: 0.4107 - val_binary_accuracy: 0.5758\n",
      "\n",
      "Epoch 00009: val_loss did not improve from 0.62251\n",
      "Epoch 10/30\n",
      "777/777 [==============================] - 1546s 2s/step - loss: 0.1135 - f1: 0.7207 - f1_loss: 0.3073 - binary_accuracy: 0.7783 - val_loss: 0.6763 - val_f1: 0.5895 - val_f1_loss: 0.4107 - val_binary_accuracy: 0.5778\n",
      "\n",
      "Epoch 00010: val_loss did not improve from 0.62251\n",
      "Epoch 11/30\n",
      "777/777 [==============================] - 1523s 2s/step - loss: 0.1138 - f1: 0.7199 - f1_loss: 0.3085 - binary_accuracy: 0.7781 - val_loss: 0.6794 - val_f1: 0.5893 - val_f1_loss: 0.4107 - val_binary_accuracy: 0.5758\n",
      "\n",
      "Epoch 00011: val_loss did not improve from 0.62251\n",
      "Epoch 12/30\n",
      "777/777 [==============================] - 1538s 2s/step - loss: 0.1125 - f1: 0.7225 - f1_loss: 0.3051 - binary_accuracy: 0.7791 - val_loss: 0.6779 - val_f1: 0.5892 - val_f1_loss: 0.4107 - val_binary_accuracy: 0.5775\n",
      "\n",
      "Epoch 00012: val_loss did not improve from 0.62251\n",
      "\n",
      "Epoch 00012: ReduceLROnPlateau reducing learning rate to 1e-06.\n",
      "CPU times: user 12h 18min 9s, sys: 6h 55min 3s, total: 19h 13min 12s\n",
      "Wall time: 5h 11min 59s\n"
     ]
    }
   ],
   "source": [
    "%%time\n",
    "MAX_TRAIN_SETPS = 5\n",
    "drop_list = [\"Id\", \"Target\", \"labels\", \"nb_labels\"]\n",
    "kfold_evaluation = []\n",
    "for i, partition in enumerate(partitions[0:1]):\n",
    "    print('#### Training Fold: {}'.format(i))\n",
    "    drop_list = [\"Id\", \"Target\", \"labels\", \"nb_labels\"]\n",
    "    training_generator = DataGenerator(partition['training'], train_data, model_parameters, image_preprocessor, drop_list)\n",
    "    validation_generator = DataGenerator(partition['validation'], train_data, model_parameters, image_preprocessor, drop_list)\n",
    "    #step_count = min(MAX_TRAIN_SETPS, len(partition[\"training\"]) // model_parameters.batch_size)\n",
    "    if isMultiGPU:\n",
    "        loss_history = [parallel_model.fit_generator(generator=training_generator, \n",
    "                                                     #steps_per_epoch=step_count,\n",
    "                                                     epochs=model_parameters.n_epochs,\n",
    "                                                     validation_data=validation_generator,\n",
    "                                                     callbacks=callbacks_list,\n",
    "                                                     class_weight=label_prob_dict,\n",
    "                                                     use_multiprocessing=False,\n",
    "                                                     shuffle=True,\n",
    "                                                     workers=8)]   \n",
    "    else:\n",
    "        loss_history = [model.fit_generator(generator=training_generator, \n",
    "                                            #steps_per_epoch=step_count,\n",
    "                                            epochs=model_parameters.n_epochs,\n",
    "                                            validation_data=validation_generator,\n",
    "                                            callbacks=callbacks_list,\n",
    "                                            class_weight=label_prob_dict,\n",
    "                                            use_multiprocessing=False,\n",
    "                                            shuffle=True,\n",
    "                                            workers=8)]    \n",
    "    #eval_history = parallel_model.evaluate_generator(generator=validation_generator,\n",
    "    #                                                 use_multiprocessing=True, \n",
    "    #                                                workers=2)    \n",
    "    #kfold_evaluation.append(eval_history)\n",
    "    "
   ]
  },
  {
   "cell_type": "markdown",
   "metadata": {},
   "source": [
    "# Training evaluation"
   ]
  },
  {
   "cell_type": "code",
   "execution_count": 1,
   "metadata": {
    "scrolled": true
   },
   "outputs": [
    {
     "ename": "NameError",
     "evalue": "name 'plt' is not defined",
     "output_type": "error",
     "traceback": [
      "\u001b[0;31m---------------------------------------------------------------------------\u001b[0m",
      "\u001b[0;31mNameError\u001b[0m                                 Traceback (most recent call last)",
      "\u001b[0;32m<ipython-input-1-f12894653b90>\u001b[0m in \u001b[0;36m<module>\u001b[0;34m()\u001b[0m\n\u001b[0;32m----> 1\u001b[0;31m \u001b[0mplt\u001b[0m\u001b[0;34m.\u001b[0m\u001b[0mxlabel\u001b[0m\u001b[0;34m(\u001b[0m\u001b[0;34m'Training Iterations'\u001b[0m\u001b[0;34m)\u001b[0m\u001b[0;34m\u001b[0m\u001b[0m\n\u001b[0m\u001b[1;32m      2\u001b[0m \u001b[0mplt\u001b[0m\u001b[0;34m.\u001b[0m\u001b[0mylabel\u001b[0m\u001b[0;34m(\u001b[0m\u001b[0;34m'Learning Rate'\u001b[0m\u001b[0;34m)\u001b[0m\u001b[0;34m\u001b[0m\u001b[0m\n\u001b[1;32m      3\u001b[0m \u001b[0mplt\u001b[0m\u001b[0;34m.\u001b[0m\u001b[0mtitle\u001b[0m\u001b[0;34m(\u001b[0m\u001b[0;34m\"CLR - 'triangular' Policy\"\u001b[0m\u001b[0;34m)\u001b[0m\u001b[0;34m\u001b[0m\u001b[0m\n\u001b[1;32m      4\u001b[0m \u001b[0mplt\u001b[0m\u001b[0;34m.\u001b[0m\u001b[0mplot\u001b[0m\u001b[0;34m(\u001b[0m\u001b[0mclr\u001b[0m\u001b[0;34m.\u001b[0m\u001b[0mhistory\u001b[0m\u001b[0;34m[\u001b[0m\u001b[0;34m'iterations'\u001b[0m\u001b[0;34m]\u001b[0m\u001b[0;34m,\u001b[0m \u001b[0mclr\u001b[0m\u001b[0;34m.\u001b[0m\u001b[0mhistory\u001b[0m\u001b[0;34m[\u001b[0m\u001b[0;34m'lr'\u001b[0m\u001b[0;34m]\u001b[0m\u001b[0;34m)\u001b[0m\u001b[0;34m\u001b[0m\u001b[0m\n",
      "\u001b[0;31mNameError\u001b[0m: name 'plt' is not defined"
     ]
    }
   ],
   "source": [
    "plt.xlabel('Training Iterations')\n",
    "plt.ylabel('Learning Rate')\n",
    "plt.title(\"CLR - 'triangular' Policy\")\n",
    "plt.plot(clr.history['iterations'], clr.history['lr'])\n"
   ]
  },
  {
   "cell_type": "code",
   "execution_count": 35,
   "metadata": {},
   "outputs": [
    {
     "data": {
      "text/plain": [
       "Text(0.5,1,'Binary Accuracy (%)')"
      ]
     },
     "execution_count": 35,
     "metadata": {},
     "output_type": "execute_result"
    },
    {
     "data": {
      "image/png": "[encoded data removed]",
      "text/plain": [
       "<Figure size 1440x720 with 4 Axes>"
      ]
     },
     "metadata": {},
     "output_type": "display_data"
    }
   ],
   "source": [
    "epoch = np.cumsum(np.concatenate([np.linspace(0.5, 1, len(mh.epoch)) for mh in loss_history]))\n",
    "\n",
    "fig, (ax1, ax2, ax3, ax4) = plt.subplots(1, 4, figsize=(20, 10))\n",
    "_ = ax1.plot(epoch,\n",
    "             np.concatenate([mh.history['loss'] for mh in loss_history]),\n",
    "             'b-',\n",
    "             epoch, np.concatenate([mh.history['val_loss'] for mh in loss_history]), \n",
    "             'r-')\n",
    "ax1.legend(['Training', 'Validation'])\n",
    "ax1.set_title('Loss')\n",
    "\n",
    "_ = ax2.plot(epoch, np.concatenate([mh.history['f1'] for mh in loss_history]), \n",
    "             'b-', epoch, \n",
    "             np.concatenate([mh.history['val_f1'] for mh in loss_history]),\n",
    "             'r-')\n",
    "ax2.legend(['Training', 'Validation'])\n",
    "ax2.set_title('f1 score')\n",
    "\n",
    "_ = ax3.plot(epoch, np.concatenate([mh.history['binary_accuracy'] for mh in loss_history]),\n",
    "             'b-', epoch, \n",
    "             np.concatenate([mh.history['val_binary_accuracy'] for mh in loss_history]),\n",
    "             'r-')\n",
    "ax3.legend(['Training', 'Validation'])\n",
    "ax3.set_title('Binary Accuracy (%)')\n",
    "    \n",
    "#_ = ax4.plot(epoch, np.concatenate([mh.history['lr'] for mh in loss_history]), \n",
    "#             'b-')\n",
    "#ax4.set_title('Learning Rate')\n",
    "\n"
   ]
  },
  {
   "cell_type": "code",
   "execution_count": 84,
   "metadata": {},
   "outputs": [
    {
     "name": "stderr",
     "output_type": "stream",
     "text": [
      "100%|██████████| 11044/11044 [07:05<00:00, 27.11it/s]"
     ]
    },
    {
     "name": "stdout",
     "output_type": "stream",
     "text": [
      "CPU times: user 10min 41s, sys: 9min 53s, total: 20min 35s\n",
      "Wall time: 7min 5s\n"
     ]
    },
    {
     "name": "stderr",
     "output_type": "stream",
     "text": [
      "\n"
     ]
    }
   ],
   "source": [
    "%%time\n",
    "test_image_preprocessor = ImagePreprocessor(model_parameters, use_aug=False, is_training=False)\n",
    "predict_generator = PredictGenerator(partition['validation'], test_image_preprocessor, train_image_path)\n",
    "\n",
    "if isMultiGPU:\n",
    "    proba_predictions = predict_generator.predict(parallel_model)\n",
    "else:\n",
    "    proba_predictions = predict_generator.predict(model)\n",
    "    \n",
    "baseline_proba_predictions = pd.DataFrame(proba_predictions, \n",
    "                                          columns = train_data.drop(drop_list, axis=1).columns)\n"
   ]
  },
  {
   "cell_type": "code",
   "execution_count": 85,
   "metadata": {
    "scrolled": false
   },
   "outputs": [
    {
     "data": {
      "text/plain": [
       "Text(0,0.5,'Percentage')"
      ]
     },
     "execution_count": 85,
     "metadata": {},
     "output_type": "execute_result"
    },
    {
     "data": {
      "image/png": "[encoded data removed]",
      "text/plain": [
       "<Figure size 1440x360 with 2 Axes>"
      ]
     },
     "metadata": {},
     "output_type": "display_data"
    }
   ],
   "source": [
    "validation_labels = train_data.loc[train_data.Id.isin(partition[\"validation\"])]\n",
    "\n",
    "hot_values = validation_labels.drop(drop_list, axis=1).values.flatten()\n",
    "one_hot = (hot_values.sum()) / hot_values.shape[0] * 100\n",
    "zero_hot = (hot_values.shape[0] - hot_values.sum()) / hot_values.shape[0] * 100\n",
    "\n",
    "fig, ax = plt.subplots(1,2, figsize=(20,5))\n",
    "sns.distplot(proba_predictions.flatten() * 100, color=\"DodgerBlue\", ax=ax[0])\n",
    "ax[0].set_xlabel(\"Probability in %\")\n",
    "ax[0].set_ylabel(\"Density\")\n",
    "ax[0].set_title(\"Predicted probabilities\")\n",
    "sns.barplot(x=[\"label = 0\", \"label = 1\"], y=[zero_hot, one_hot], ax=ax[1])\n",
    "ax[1].set_ylim([0,100])\n",
    "ax[1].set_title(\"True target label count\")\n",
    "ax[1].set_ylabel(\"Percentage\")"
   ]
  },
  {
   "cell_type": "code",
   "execution_count": 86,
   "metadata": {
    "scrolled": false
   },
   "outputs": [
    {
     "data": {
      "text/plain": [
       "Text(0.5,1,'Percentage of hot counts (ones) per target class')"
      ]
     },
     "execution_count": 86,
     "metadata": {},
     "output_type": "execute_result"
    },
    {
     "data": {
      "image/png": "[encoded data removed]",
      "text/plain": [
       "<Figure size 1440x360 with 1 Axes>"
      ]
     },
     "metadata": {},
     "output_type": "display_data"
    }
   ],
   "source": [
    "# validation data 中每個 class 的在 overall 中的比例\n",
    "mean_targets = validation_labels.drop(drop_list, axis=1).mean()\n",
    "labels = validation_labels.drop(drop_list, axis=1).columns.values\n",
    "fig, ax = plt.subplots(1,1,figsize=(20,5))\n",
    "sns.barplot(x=labels, y=mean_targets.values, ax=ax)\n",
    "ax.set_xticklabels(labels=labels, rotation=45)\n",
    "ax.set_ylabel(\"Percentage of hot (1)\")\n",
    "ax.set_title(\"Percentage of hot counts (ones) per target class\")"
   ]
  },
  {
   "cell_type": "code",
   "execution_count": 87,
   "metadata": {},
   "outputs": [
    {
     "data": {
      "text/plain": [
       "Text(0.5,1,'Standard deviation of predicted probability per class over all samples')"
      ]
     },
     "execution_count": 87,
     "metadata": {},
     "output_type": "execute_result"
    },
    {
     "data": {
      "image/png": "[encoded data removed]",
      "text/plain": [
       "<Figure size 1440x360 with 2 Axes>"
      ]
     },
     "metadata": {},
     "output_type": "display_data"
    }
   ],
   "source": [
    "mean_predictions = np.mean(proba_predictions, axis=0)\n",
    "std_predictions = np.std(proba_predictions, axis=0)\n",
    "\n",
    "fig, ax = plt.subplots(1, 2, figsize=(20, 5))\n",
    "sns.barplot(x=labels, y=mean_predictions, ax=ax[0])\n",
    "ax[0].set_xticklabels(labels=labels, rotation=90)\n",
    "ax[0].set_ylabel(\"Mean predicted probability\")\n",
    "ax[0].set_title(\"Mean predicted probability per class over all samples\")\n",
    "\n",
    "sns.barplot(x=labels, y=std_predictions, ax=ax[1])\n",
    "ax[1].set_xticklabels(labels=labels, rotation=90)\n",
    "ax[1].set_ylabel(\"Standard deviation\")\n",
    "ax[1].set_title(\"Standard deviation of predicted probability per class over all samples\")"
   ]
  },
  {
   "cell_type": "markdown",
   "metadata": {},
   "source": [
    "* Our baseline model seemed to learn something even if this something does not look very nice.\n",
    "* Taking a look at the standard deviation we can see that all samples have nearly the same predicted values. There is no deviation, no difference between them. This is of course very bad! :-("
   ]
  },
  {
   "cell_type": "code",
   "execution_count": 88,
   "metadata": {},
   "outputs": [
    {
     "data": {
      "text/plain": [
       "(0, 1)"
      ]
     },
     "execution_count": 88,
     "metadata": {},
     "output_type": "execute_result"
    },
    {
     "data": {
      "image/png": "[encoded data removed]",
      "text/plain": [
       "<Figure size 720x360 with 1 Axes>"
      ]
     },
     "metadata": {},
     "output_type": "display_data"
    }
   ],
   "source": [
    "feature = 'Cytosol'\n",
    "plt.figure(figsize=(10,5))\n",
    "sns.distplot(baseline_proba_predictions[feature].values[0:-1], color=\"Purple\")\n",
    "plt.xlabel(\"Predicted probabilites of {}\".format(feature))\n",
    "plt.ylabel(\"Density\")\n",
    "plt.xlim([0,1])"
   ]
  },
  {
   "cell_type": "markdown",
   "metadata": {},
   "source": [
    "# Prediction "
   ]
  },
  {
   "cell_type": "code",
   "execution_count": null,
   "metadata": {},
   "outputs": [],
   "source": [
    "#seg_model.load_weights(weight_path)\n",
    "#seg_model.save('seg_model.h5')"
   ]
  },
  {
   "cell_type": "code",
   "execution_count": 36,
   "metadata": {},
   "outputs": [],
   "source": [
    "isMultiGPU = 0\n",
    "if isMultiGPU:\n",
    "    parallel_model = multi_gpu_model(model, 2)\n",
    "    parallel_model.compile(optimizer=optimizers.Adam(1e-4, decay=1e-6), \n",
    "                           loss='binary_crossentropy',\n",
    "                           metrics=[f1, f1_loss, 'binary_accuracy'])\n",
    "    parallel_model.load_weights(weight_path)\n",
    "else:\n",
    "    model.compile(optimizer=optimizers.Adam(1e-4, decay=1e-6), \n",
    "                  loss='binary_crossentropy',\n",
    "                  metrics=[f1, f1_loss, 'binary_accuracy'])\n",
    "    model.load_weights(weight_path)\n"
   ]
  },
  {
   "cell_type": "code",
   "execution_count": 37,
   "metadata": {},
   "outputs": [],
   "source": [
    "sample_submission = pd.read_csv(str(data_folder / 'sample_submission.csv'))"
   ]
  },
  {
   "cell_type": "code",
   "execution_count": 38,
   "metadata": {},
   "outputs": [
    {
     "name": "stderr",
     "output_type": "stream",
     "text": [
      "100%|██████████| 11702/11702 [07:22<00:00, 26.66it/s]"
     ]
    },
    {
     "name": "stdout",
     "output_type": "stream",
     "text": [
      "CPU times: user 11min 6s, sys: 10min 18s, total: 21min 24s\n",
      "Wall time: 7min 22s\n"
     ]
    },
    {
     "name": "stderr",
     "output_type": "stream",
     "text": [
      "\n"
     ]
    }
   ],
   "source": [
    "%%time\n",
    "test_image_preprocessor = ImagePreprocessor(model_parameters, use_aug=False, is_training=False)\n",
    "predict_generator = PredictGenerator(sample_submission.Id.values, test_image_preprocessor, test_image_path)\n",
    "\n",
    "if isMultiGPU:\n",
    "    proba_predictions = predict_generator.predict(parallel_model)\n",
    "else:\n",
    "    proba_predictions = predict_generator.predict(model)"
   ]
  },
  {
   "cell_type": "code",
   "execution_count": 39,
   "metadata": {},
   "outputs": [],
   "source": [
    "from datetime import datetime\n",
    "threshold_list = [0.2]\n",
    "for threshold in threshold_list:\n",
    "    submission_df = np.where(proba_predictions > threshold, 1, 0)\n",
    "    final_submission = []\n",
    "    for s in range(len(sample_submission.Id.values)):\n",
    "        predict_labels = ''\n",
    "        for i in list(np.where(submission_df[s] == 1)[0]):\n",
    "            predict_labels += str(i) + ' '\n",
    "        final_submission.append(predict_labels.strip())\n",
    "    sample_submission['Predicted'] = final_submission\n",
    "    sample_submission.to_csv('{}_{}_{}.csv'.format(model_arch, \n",
    "                                                   str(threshold).replace('.', ''), \n",
    "                                                   datetime.now().strftime('%H%M%S')), index=False)\n",
    "    "
   ]
  }
 ],
 "metadata": {
  "kernelspec": {
   "display_name": "Python 3",
   "language": "python",
   "name": "python3"
  },
  "language_info": {
   "codemirror_mode": {
    "name": "ipython",
    "version": 3
   },
   "file_extension": ".py",
   "mimetype": "text/x-python",
   "name": "python",
   "nbconvert_exporter": "python",
   "pygments_lexer": "ipython3",
   "version": "3.5.2"
  }
 },
 "nbformat": 4,
 "nbformat_minor": 2
}

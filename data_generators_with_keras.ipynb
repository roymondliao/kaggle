{
 "cells": [
  {
   "cell_type": "code",
   "execution_count": 2,
   "metadata": {},
   "outputs": [
    {
     "name": "stderr",
     "output_type": "stream",
     "text": [
      "Using TensorFlow backend.\n"
     ]
    }
   ],
   "source": [
    "import numpy as np\n",
    "import keras\n",
    "class DataGenerator(keras.utils.Sequence):\n",
    "    def __init__(self, list_ids, lables, batch_size=32, dim=(32, 32, 32), n_channels=1, n_classes=10, shuffle=True):\n",
    "        self.dim = dim\n",
    "        self.batch_size= batch_size\n",
    "        self.labels = labels\n",
    "        self.list_ids = list_ids\n",
    "        self.n_channels = n_channels\n",
    "        self.n_classes = n_classes\n",
    "        self.shuffle = shuffle\n",
    "        self.on_epoch_end()\n",
    "    \n",
    "    def on_epoch_end(self):\n",
    "        # update indexes after each epoch\n",
    "        self.indexes = np.arange(len(self.list_ids))\n",
    "        if self.shuffle:\n",
    "            np.random.shuffle(self.indexes)\n",
    "    \n",
    "    def __data_generation(self, list_ids_temp):\n",
    "        # initialization\n",
    "        X = np.empty((self.batch_size, *self.dim, self.n_channels))\n",
    "        y = np.empty((self.batch_size), dtype=int)\n",
    "        \n",
    "        # generate data\n",
    "        for i, ids in enumerate(list_ids_temp):\n",
    "            # store sample\n",
    "            X[i, :] = np.load('data/' + ids + '.npy')\n",
    "            y[i] = self.labels[ids]\n",
    "        return X, keras.utils.to_categorical(y, num_classes=self.n_classes)\n",
    "\n",
    "    def __len__(self):\n",
    "        # denotes the number of iterators per epoch\n",
    "        return int(mp.floor(len(self.list_ids) / self.batch_size))\n",
    "    \n",
    "    def __getitem__(self, index):\n",
    "        # generate indexes of the batch\n",
    "        indexes = self.indexes[index*self.batch_size:(index + 1)*self.batch_size]\n",
    "        \n",
    "        # find list os ids\n",
    "        list_ids_temp = [self.list_ids[k] for k in indexes]\n",
    "        \n",
    "        # generate data\n",
    "        X, y = self.__data_generation(list_ids_temp)\n",
    "        return X, y\n",
    "        "
   ]
  }
 ],
 "metadata": {
  "kernelspec": {
   "display_name": "Python 3",
   "language": "python",
   "name": "python3"
  },
  "language_info": {
   "codemirror_mode": {
    "name": "ipython",
    "version": 3
   },
   "file_extension": ".py",
   "mimetype": "text/x-python",
   "name": "python",
   "nbconvert_exporter": "python",
   "pygments_lexer": "ipython3",
   "version": "3.5.2"
  }
 },
 "nbformat": 4,
 "nbformat_minor": 2
}

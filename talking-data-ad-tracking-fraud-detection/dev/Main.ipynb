{
 "cells": [
  {
   "cell_type": "code",
   "execution_count": 1,
   "metadata": {},
   "outputs": [
    {
     "name": "stdout",
     "output_type": "stream",
     "text": [
      "Collecting lightgbm\n",
      "  Using cached https://files.pythonhosted.org/packages/bf/01/45e209af10fd16537df0c5d8a5474c286554c3eaf9ddb0ce04113f1e8506/lightgbm-2.1.1-py2.py3-none-manylinux1_x86_64.whl\n",
      "Requirement already satisfied: xgboost in /usr/local/envs/py3env/lib/python3.5/site-packages\n",
      "Collecting scikit-optimize\n",
      "  Using cached https://files.pythonhosted.org/packages/f4/44/60f82c97d1caa98752c7da2c1681cab5c7a390a0fdd3a55fac672b321cac/scikit_optimize-0.5.2-py2.py3-none-any.whl\n",
      "Collecting catboost\n",
      "  Using cached https://files.pythonhosted.org/packages/49/98/67ab754fb1579da74c334e4e7683b113149d6f254b73bdce4bdf61a6b52c/catboost-0.8.1.1-cp35-none-manylinux1_x86_64.whl\n",
      "Requirement already satisfied: dask in /usr/local/envs/py3env/lib/python3.5/site-packages\n",
      "Collecting cloudpickle\n",
      "  Using cached https://files.pythonhosted.org/packages/aa/18/514b557c4d8d4ada1f0454ad06c845454ad438fd5c5e0039ba51d6b032fe/cloudpickle-0.5.2-py2.py3-none-any.whl\n",
      "Requirement already satisfied: scipy in /usr/local/envs/py3env/lib/python3.5/site-packages (from lightgbm)\n",
      "Requirement already satisfied: scikit-learn in /usr/local/envs/py3env/lib/python3.5/site-packages (from lightgbm)\n",
      "Requirement already satisfied: numpy in /usr/local/envs/py3env/lib/python3.5/site-packages (from lightgbm)\n",
      "Requirement already satisfied: six in /usr/local/envs/py3env/lib/python3.5/site-packages (from catboost)\n",
      "Requirement already satisfied: pandas in /usr/local/envs/py3env/lib/python3.5/site-packages (from catboost)\n",
      "Requirement already satisfied: python-dateutil>=2 in /usr/local/envs/py3env/lib/python3.5/site-packages (from pandas->catboost)\n",
      "Requirement already satisfied: pytz>=2011k in /usr/local/envs/py3env/lib/python3.5/site-packages (from pandas->catboost)\n",
      "Installing collected packages: lightgbm, scikit-optimize, catboost, cloudpickle\n",
      "Successfully installed catboost-0.8.1.1 cloudpickle-0.5.2 lightgbm-2.1.1 scikit-optimize-0.5.2\n",
      "\u001b[33mYou are using pip version 9.0.1, however version 10.0.1 is available.\n",
      "You should consider upgrading via the 'pip install --upgrade pip' command.\u001b[0m\n"
     ]
    }
   ],
   "source": [
    "!pip install lightgbm xgboost scikit-optimize catboost dask cloudpickle"
   ]
  },
  {
   "cell_type": "code",
   "execution_count": 3,
   "metadata": {},
   "outputs": [
    {
     "data": {
      "text/plain": [
       "0"
      ]
     },
     "execution_count": 3,
     "metadata": {},
     "output_type": "execute_result"
    }
   ],
   "source": [
    "import subprocess\n",
    "data_source_path = 'gs://onead-gcpml/ninja_project/output/feature_data_6000.csv'\n",
    "local_source_path = '../input/'\n",
    "cmd = \"gsutil -m cp {} {}\".format(data_source_path, local_source_path)\n",
    "subprocess.check_call(cmd, shell=True)"
   ]
  },
  {
   "cell_type": "code",
   "execution_count": null,
   "metadata": {
    "collapsed": true
   },
   "outputs": [],
   "source": [
    "import subprocess\n",
    "data_source_path = 'gs://onead-gcpml/ninja_project/data/talkingdata-adtracking-fraud-detection/*.csv'\n",
    "local_source_path = '../input/'\n",
    "cmd = \"gsutil -m cp {} {}\".format(data_source_path, local_source_path)\n",
    "subprocess.check_call(cmd, shell=True)"
   ]
  },
  {
   "cell_type": "code",
   "execution_count": 2,
   "metadata": {},
   "outputs": [
    {
     "name": "stderr",
     "output_type": "stream",
     "text": [
      "/usr/local/envs/py3env/lib/python3.5/site-packages/h5py/__init__.py:36: FutureWarning: Conversion of the second argument of issubdtype from `float` to `np.floating` is deprecated. In future, it will be treated as `np.float64 == np.dtype(float).type`.\n",
      "  from ._conv import register_converters as _register_converters\n"
     ]
    }
   ],
   "source": [
    "import numpy as np # linear algebra\n",
    "import pandas as pd # data processing, CSV file I/O (e.g. pd.read_csv)\n",
    "import time\n",
    "import lightgbm as lgb\n",
    "import os\n",
    "import gc\n",
    "import subprocess\n",
    "import traceback\n",
    "import multiprocessing\n",
    "from datetime import datetime\n",
    "from pathlib import Path\n",
    "from skopt import BayesSearchCV\n",
    "from sklearn.model_selection import train_test_split\n",
    "from sklearn.model_selection import StratifiedKFold\n",
    "from tensorflow.python.lib.io import file_io\n",
    "import tensorflow as tf\n",
    "import matplotlib.pyplot as plt\n",
    "import dask.dataframe as dd\n",
    "from catboost import CatBoostClassifier"
   ]
  },
  {
   "cell_type": "code",
   "execution_count": 14,
   "metadata": {},
   "outputs": [
    {
     "name": "stdout",
     "output_type": "stream",
     "text": [
      "CPU times: user 2min 19s, sys: 27.8 s, total: 2min 47s\n",
      "Wall time: 4min 26s\n"
     ]
    }
   ],
   "source": [
    "\"\"\"\n",
    "%%time\n",
    "dtypes = {\n",
    "    'ip': 'uint32',\n",
    "    'app': 'uint16',\n",
    "    'device': 'uint16',\n",
    "    'os': 'uint16',\n",
    "    'channel': 'uint16',\n",
    "    'is_attributed': 'uint8',\n",
    "    'click_id': 'uint32'\n",
    "    }\n",
    "data_prefix = 'gs://onead-gcpml/ninja_project/data/talkingdata-adtracking-fraud-detection'\n",
    "file_list = tf.gfile.ListDirectory(data_prefix)\n",
    "file = os.path.join(data_prefix, 'train.csv')\n",
    "with file_io.FileIO(file, mode='rb') as input_f:\n",
    "   train = pd.read_csv(input_f, skiprows=range(1, 131886954), nrows=40000000, dtype=dtypes, \n",
    "                       usecols=['ip', 'app', 'device', 'os', 'channel', 'click_time', 'is_attributed'])\n",
    "\"\"\"                       "
   ]
  },
  {
   "cell_type": "code",
   "execution_count": 6,
   "metadata": {},
   "outputs": [
    {
     "name": "stdout",
     "output_type": "stream",
     "text": [
      "Loading test data...\n",
      "Loading train data...\n",
      "CPU times: user 3min 33s, sys: 21.7 s, total: 3min 55s\n",
      "Wall time: 3min 54s\n"
     ]
    }
   ],
   "source": [
    "%%time\n",
    "debug = 0\n",
    "total_nrows = 184903891 - 1\n",
    "nchuck = 0 \n",
    "main_path = Path('../input')\n",
    "# print(os.listdir(str(main_path)))\n",
    "\n",
    "# Any results you write to the current directory are saved as output.\n",
    "dtypes = {\n",
    "    'ip': 'uint32',\n",
    "    'app': 'uint16',\n",
    "    'device': 'uint16',\n",
    "    'os': 'uint16',\n",
    "    'channel': 'uint16',\n",
    "    'is_attributed': 'uint8',\n",
    "    'click_id': 'uint32'\n",
    "    }\n",
    "\n",
    "if debug:\n",
    "  train_rows = 1000000\n",
    "  print('Loading test data...')\n",
    "  test_data = pd.read_csv(main_path / 'test.csv', dtype=dtypes, parse_dates=['click_time'], \n",
    "                          nrows=100000,\n",
    "                          usecols=['ip', 'app', 'device', 'os', 'channel', 'click_time', 'click_id'])\n",
    "  length_of_train = len(train_data)\n",
    "else:\n",
    "  train_rows = total_nrows\n",
    "  print('Loading test data...')\n",
    "  test_data = pd.read_csv(main_path / 'test.csv', dtype=dtypes, parse_dates=['click_time'], \n",
    "                          usecols=['ip', 'app', 'device', 'os', 'channel', 'click_time', 'click_id'])\n",
    "  \n",
    "print('Loading train data...')\n",
    "train_data = pd.read_csv(main_path / 'train.csv', dtype=dtypes, nrows=train_rows,\n",
    "                         parse_dates=['click_time'],\n",
    "                         usecols=['ip', 'app', 'device', 'os', 'channel', 'click_time', 'is_attributed'])  \n",
    "length_of_train = len(train_data)\n",
    "train_data = train_data.append(test_data)"
   ]
  },
  {
   "cell_type": "code",
   "execution_count": 7,
   "metadata": {},
   "outputs": [
    {
     "data": {
      "text/plain": [
       "((203694359, 8), (18790469, 7))"
      ]
     },
     "execution_count": 7,
     "metadata": {},
     "output_type": "execute_result"
    }
   ],
   "source": [
    "train_data.shape, test_data.shape"
   ]
  },
  {
   "cell_type": "code",
   "execution_count": 5,
   "metadata": {},
   "outputs": [
    {
     "name": "stdout",
     "output_type": "stream",
     "text": [
      "CPU times: user 2min 55s, sys: 37.9 s, total: 3min 33s\n",
      "Wall time: 3min 33s\n"
     ]
    }
   ],
   "source": [
    "%%time\n",
    "# load feature data\n",
    "main_path = Path('../input')\n",
    "train_data = pd.read_csv(main_path / 'feature_data_4000.csv')  \n",
    "length_of_train = 40000000"
   ]
  },
  {
   "cell_type": "code",
   "execution_count": 6,
   "metadata": {},
   "outputs": [
    {
     "data": {
      "text/plain": [
       "(58790469, 28)"
      ]
     },
     "execution_count": 6,
     "metadata": {},
     "output_type": "execute_result"
    }
   ],
   "source": [
    "train_data.shape"
   ]
  },
  {
   "cell_type": "markdown",
   "metadata": {},
   "source": [
    "# Feature Engineering"
   ]
  },
  {
   "cell_type": "markdown",
   "metadata": {},
   "source": [
    "### Define common function "
   ]
  },
  {
   "cell_type": "code",
   "execution_count": 8,
   "metadata": {},
   "outputs": [],
   "source": [
    "    def time_labels(t):\n",
    "        most_freq_hours_in_test_data = [4, 5, 9, 10, 13, 14]\n",
    "        least_freq_hours_in_test_data = [6, 11, 15]\n",
    "        if t in most_freq_hours_in_test_data:\n",
    "            res = 1\n",
    "        elif t in least_freq_hours_in_test_data:\n",
    "            res = 3\n",
    "        else:\n",
    "            res = 2\n",
    "        return res\n",
    "\n",
    "    def do_count(data, group_cols, target_col, new_col_name, col_type):\n",
    "        print('[INFO] Count {} with group by {} combination...'.format(target_col, '-'.join(group_cols)))\n",
    "        cols = group_cols.copy()\n",
    "        cols.append(target_col)\n",
    "        group_data = data[cols].groupby(by=group_cols)[[target_col]].count().reset_index().\\\n",
    "            rename(index=str, columns={target_col: new_col_name})\n",
    "        data = data.merge(group_data, on=group_cols, how='left')\n",
    "        del group_data\n",
    "        data[new_col_name] = data[new_col_name].astype(col_type)\n",
    "        gc.collect()\n",
    "        return data\n",
    "\n",
    "    def do_count_unique(data, group_cols, target_col, new_col_name, col_type):\n",
    "        print('[INFO] Count unique {} with group by {} combination...'.format(target_col, '-'.join(group_cols)))\n",
    "        cols = group_cols.copy()\n",
    "        cols.append(target_col)\n",
    "        group_data = data[cols].groupby(by=group_cols)[[target_col]].nunique().reset_index().\\\n",
    "            rename(index=str, columns={target_col: new_col_name})\n",
    "        data = data.merge(group_data, on=group_cols, how='left')\n",
    "        del group_data\n",
    "        data[new_col_name] = data[new_col_name].astype(col_type)\n",
    "        gc.collect()\n",
    "        return data\n",
    "\n",
    "    def do_cumcount(data, group_cols, target_col, new_col_name, col_type):\n",
    "        print('[INFO] Cumcount {} with group by {} combination...'.format(target_col, '-'.join(group_cols)))\n",
    "        cols = group_cols.copy()\n",
    "        cols.append(target_col)\n",
    "        group_data = data[cols].groupby(by=group_cols)[[target_col]].cumcount()\n",
    "        data[new_col_name] = group_data.values\n",
    "        del group_data\n",
    "        data[new_col_name] = data[new_col_name].astype(col_type)\n",
    "        gc.collect()\n",
    "        return data\n",
    "\n",
    "    def do_mean(data, group_cols, target_col, new_col_name, col_type):\n",
    "        print('[INFO] Compute mean {} with group by {} combination...'.format(target_col, '-'.join(group_cols)))\n",
    "        cols = group_cols.copy()\n",
    "        cols.append(target_col)\n",
    "        group_data = data[cols].groupby(by=group_cols)[[target_col]].mean().reset_index().\\\n",
    "            rename(index=str, columns={target_col: new_col_name})\n",
    "        data = data.merge(group_data, on=group_cols, how='left')\n",
    "        del group_data\n",
    "        # data[new_col_name] = data[new_col_name].astype(col_type)\n",
    "        gc.collect()\n",
    "        return data\n",
    "\n",
    "    def do_var(data, group_cols, target_col, new_col_name, col_type):\n",
    "        print('[INFO] Compute var {} with group by {} combination...'.format(target_col, '-'.join(group_cols)))\n",
    "        cols = group_cols.copy()\n",
    "        cols.append(target_col)\n",
    "        group_data = data[cols].groupby(by=group_cols)[[target_col]].var().reset_index().\\\n",
    "            rename(index=str, columns={target_col: new_col_name})\n",
    "        data = data.merge(group_data, on=group_cols, how='left')\n",
    "        del group_data\n",
    "        # data[new_col_name] = data[new_col_name].astype(col_type)\n",
    "        gc.collect()\n",
    "        return data\n",
    "\n",
    "    def next_click(data):\n",
    "        # next_click: 定義user在不同時間點不同的channel中看到相同的app，click_buffer保留最後一個click的時間\n",
    "        # The log2-transformed and rounded counts are further hashed with the feature name. So the original feature\n",
    "        # gets mapped into separate features in the log-scale bins. This improves the score considerably and allows\n",
    "        # modeling a non-linear response for each feature. Factors further model interactions between the\n",
    "        # non-linear, although I haven't tested how much this contributes.\n",
    "        D= 2**26\n",
    "        data['category'] = (data['ip'].astype(str) + \"_\" + data['app'].astype(str) + \"_\" +\n",
    "                            data['device'].astype(str) + \"_\" + data['os'].astype(str)).apply(hash) % D\n",
    "        # 預先initial一個非常大的時間\n",
    "        # Click_buffer maintains the last seen times of clicks for each category. For each click, you look if there's\n",
    "        # been a previous click, and compute the time difference. This is done in reverse, and reversing the output\n",
    "        # list next_clicks at the end gives the times of next clicks in the correct order.\n",
    "        click_buffer= np.full(D, 3000000000, dtype=np.uint32)\n",
    "        data['epochtime'] = data['click_time'].astype(np.int64) // 10 ** 9\n",
    "        next_clicks= []\n",
    "        for category, time in zip(reversed(data['category'].values), reversed(data['epochtime'].values)):\n",
    "            next_clicks.append(click_buffer[category]-time)\n",
    "            click_buffer[category]= time\n",
    "        del(click_buffer)\n",
    "        data.drop(['epochtime'], axis=1, inplace=True)\n",
    "        data['next_click'] = list(reversed(next_clicks))\n",
    "        return data\n",
    "\n",
    "    def previous_click(data):\n",
    "        D = 2**26\n",
    "        data['category'] = (data['ip'].astype(str) + \"_\" + data['app'].astype(str) + \"_\" +\n",
    "                            data['device'].astype(str) + \"_\" + data['os'].astype(str)).apply(hash) % D\n",
    "        click_buffer= np.full(D, 3000000000, dtype=np.uint32)\n",
    "        data['epochtime'] = data['click_time'].astype(np.int64) // 10 ** 9\n",
    "        prev_clicks= []\n",
    "        for category, time in zip(data['category'].values, data['epochtime'].values):\n",
    "            prev_clicks.append(time-click_buffer[category])\n",
    "            click_buffer[category]= time\n",
    "        del(click_buffer)\n",
    "        data.drop(['epochtime'], axis=1, inplace=True)\n",
    "        data['prev_click'] = prev_clicks\n",
    "        return data\n",
    "\n",
    "    def do_next_click(data, group_cols, col_type):\n",
    "        print('[INFO] Compute next click with group by {} combination...'.format('-'.join(group_cols)))\n",
    "        # Calculate the time to next click for each group\n",
    "        # Name of new feature\n",
    "        new_feature = '{}_nextClick'.format('_'.join(group_cols))\n",
    "\n",
    "        # Unique list of features to select\n",
    "        all_features = group_cols + ['click_time']\n",
    "        data[new_feature] = (data[all_features].groupby(group_cols).click_time.shift(-1) -\n",
    "                             data.click_time).dt.seconds.astype(col_type)\n",
    "        gc.collect()\n",
    "        return data\n",
    "      \n",
    "    def do_prev_click(data, group_cols, col_type):\n",
    "        print('[INFO] Compute prev click with group by {} combination...'.format('-'.join(group_cols)))\n",
    "        # Calculate the time to next click for each group\n",
    "        # Name of new feature\n",
    "        new_feature = '{}_prevClick'.format('_'.join(group_cols))\n",
    "\n",
    "        # Unique list of features to select\n",
    "        all_features = group_cols + ['click_time']\n",
    "        data[new_feature] = (data.click_time - data[all_features].groupby(group_cols).click_time.shift(+1)).\\\n",
    "            dt.seconds.astype(col_type)\n",
    "        gc.collect()\n",
    "        return data"
   ]
  },
  {
   "cell_type": "markdown",
   "metadata": {},
   "source": [
    "### Time features"
   ]
  },
  {
   "cell_type": "code",
   "execution_count": 9,
   "metadata": {},
   "outputs": [
    {
     "name": "stdout",
     "output_type": "stream",
     "text": [
      "Extract new time features...\n"
     ]
    },
    {
     "data": {
      "text/plain": [
       "79"
      ]
     },
     "execution_count": 9,
     "metadata": {},
     "output_type": "execute_result"
    }
   ],
   "source": [
    "print('Extract new time features...')\n",
    "train_data['hour'] = train_data['click_time'].dt.hour.astype('uint8')\n",
    "train_data['day'] = train_data['click_time'].dt.day.astype('uint8')\n",
    "train_data['minute'] = train_data['click_time'].dt.minute.astype('uint8')\n",
    "train_data['second'] = train_data['click_time'].dt.second.astype('uint8')\n",
    "gc.collect()"
   ]
  },
  {
   "cell_type": "markdown",
   "metadata": {},
   "source": [
    "## Version - 1\n",
    "\n",
    "1. Added 4 new Features.<br/>\n",
    "For simplicity define an (ip,device,os) combination as a user instance.<br/>\n",
    "The 4 new features are:<br/>\n",
    "    * total count of a unique user instance.\n",
    "    * a running count of this particular user instance's visit number.For the first time a user instance appears, its 1 , the next time its 2 and so on.\n",
    "    * total count of a unique user instance and a unique app.\n",
    "    * a running count of this particular user instance using a particular app.\n",
    "    For the first time a user appears with a unique app, its 1 , the next time the same user\n",
    "    appearing with the same app its 2 and so on.\n",
    " \n",
    "2. Some cosmetic changes.<br/>\n",
    "    * Modified to train on 40 million rows, since we added new features.\n",
    "    * set seed to 202109\n",
    "    * validation ratio to 0.9\n",
    "    \n",
    "> Refference:\n",
    "* https://www.kaggle.com/krishnakesavan/r-lgbm-single-model-40m-rows-lb-0-9736/code\n",
    "* https://www.kaggle.com/pranav84/double-xgb-hist-example-for-chunk-processing/code\n",
    "* https://www.kaggle.com/pranav84/lightgbm-fixing-unbalanced-data-lb-0-9680/code"
   ]
  },
  {
   "cell_type": "code",
   "execution_count": 7,
   "metadata": {},
   "outputs": [],
   "source": [
    "most_freq_hours_in_test_data = [4, 5, 9, 10, 13, 14]\n",
    "least_freq_hours_in_test_data = [6, 11, 15]\n",
    "def time_labels(t):\n",
    "    if t in most_freq_hours_in_test_data:\n",
    "        res = 1\n",
    "    elif t in least_freq_hours_in_test_data:\n",
    "        res = 3\n",
    "    else:\n",
    "        res = 2\n",
    "    return res  \n",
    "\n",
    "train_data['in_test_hh'] = train_data['hour'].apply(time_labels)  \n",
    "train_data['in_test_hh'] = train_data['in_test_hh'].astype('uint8')"
   ]
  },
  {
   "cell_type": "code",
   "execution_count": 8,
   "metadata": {},
   "outputs": [
    {
     "name": "stdout",
     "output_type": "stream",
     "text": [
      "[INFO] Count channel with group by ip-app-device-os combination...\n",
      "[INFO] Count channel with group by ip-device-os combination...\n"
     ]
    }
   ],
   "source": [
    "# count channel with group ip-app-device-os\n",
    "train_data = do_count(data=train_data, group_cols=['ip', 'app', 'device', 'os'], target_col='channel', \n",
    "                      new_col_name='UsrappCount', col_type='uint16')\n",
    "train_data['UsrappNewness'] = train_data.groupby(['ip', 'app', 'device', 'os']).cumcount() + 1\n",
    "train_data['UsrappNewness'] = train_data['UsrappNewness'].astype('uint16')\n",
    "\n",
    "# count channel with group ip-device-os\n",
    "train_data = do_count(data=train_data, group_cols=['ip', 'device', 'os'], target_col='channel', \n",
    "                      new_col_name='UsrCount', col_type='uint16')\n",
    "\n",
    "train_data['UsrNewness'] = train_data.groupby(['ip', 'device', 'os']).cumcount() + 1\n",
    "train_data['UsrNewness'] = train_data['UsrNewness'].astype('uint16')\n",
    "train_data['UsrNewness'] = train_data['UsrNewness'].astype('uint16')"
   ]
  },
  {
   "cell_type": "code",
   "execution_count": 10,
   "metadata": {},
   "outputs": [
    {
     "name": "stdout",
     "output_type": "stream",
     "text": [
      "[INFO] Count channel with group by ip-day-in_test_hh combination...\n",
      "[INFO] Count channel with group by ip-day-hour combination...\n",
      "[INFO] Count channel with group by ip-day-hour-os combination...\n",
      "[INFO] Count channel with group by ip-day-hour-app combination...\n",
      "[INFO] Count channel with group by ip-day-hour-app-os combination...\n",
      "[INFO] Count channel with group by app-day-hour combination...\n"
     ]
    }
   ],
   "source": [
    "# count channel with group ip-day-in_test_hh\n",
    "train_data = do_count(data=train_data, group_cols=['ip', 'day', 'in_test_hh'], target_col='channel', \n",
    "                      new_col_name='n_ip_day_test_hh', col_type='uint32')\n",
    "train_data.drop(['in_test_hh'], axis=1, inplace=True)\n",
    "\n",
    "# count channel with group ip-day-hour\n",
    "train_data = do_count(data=train_data, group_cols=['ip', 'day', 'hour'], target_col='channel', \n",
    "                      new_col_name='n_ip', col_type='uint16')\n",
    "\n",
    "# count channel with group ip-day-hour-os\n",
    "train_data = do_count(data=train_data, group_cols=['ip', 'day', 'hour', 'os'], target_col='channel', \n",
    "                      new_col_name='n_ip_os', col_type='uint32')\n",
    "\n",
    "# count channel with group ip-day-hour-app\n",
    "train_data = do_count(data=train_data, group_cols=['ip', 'day', 'hour', 'app'], target_col='channel', \n",
    "                      new_col_name='n_ip_app', col_type='uint16')\n",
    "\n",
    "# count channel with group ip-day-hour-app-os\n",
    "train_data = do_count(data=train_data, group_cols=['ip', 'day', 'hour', 'app', 'os'], target_col='channel', \n",
    "                      new_col_name='n_ip_app_os', col_type='uint16')\n",
    "\n",
    "# count channel with group app-day-hour\n",
    "train_data = do_count(data=train_data, group_cols=['app', 'day', 'hour'], target_col='channel', \n",
    "                      new_col_name='n_app', col_type='uint16')"
   ]
  },
  {
   "cell_type": "code",
   "execution_count": 12,
   "metadata": {
    "collapsed": true
   },
   "outputs": [],
   "source": [
    "\n",
    "train_data = next_click(data=train_data)\n",
    "train_data = previous_click(data=train_data)\n",
    "\n",
    "train_data = do_count(data=train_data, group_cols=['device', 'channel', 'hour'], target_col='app', \n",
    "                      new_col_name='n_dev_channel', col_type='uint32')\n",
    "train_data = do_count(data=train_data, group_cols=['device', 'channel', 'hour', 'app'], target_col='os', \n",
    "                      new_col_name='n_dev_channel_app', col_type='uint32')\n",
    "train_data['app_confRate'] = train_data['n_dev_channel_app']/train_data['n_dev_channel']\n",
    "train_data.drop(['ip', 'day', 'click_time', 'n_dev_channel', 'n_dev_channel_app'], axis=1, inplace=True)\n",
    "gc.collect()\n"
   ]
  },
  {
   "cell_type": "code",
   "execution_count": 9,
   "metadata": {},
   "outputs": [
    {
     "data": {
      "text/plain": [
       "79"
      ]
     },
     "execution_count": 9,
     "metadata": {},
     "output_type": "execute_result"
    }
   ],
   "source": [
    "train_data.drop(['ip', 'day', 'click_time'], axis=1, inplace=True)\n",
    "gc.collect()"
   ]
  },
  {
   "cell_type": "markdown",
   "metadata": {},
   "source": [
    "## Version - 2"
   ]
  },
  {
   "cell_type": "code",
   "execution_count": null,
   "metadata": {},
   "outputs": [
    {
     "name": "stdout",
     "output_type": "stream",
     "text": [
      "[INFO] Count unique channel with group by ip combination...\n",
      "[INFO] Count unique app with group by ip-device-os combination...\n",
      "[INFO] Count unique hour with group by ip-day combination...\n",
      "[INFO] Count unique app with group by ip combination...\n",
      "[INFO] Count unique os with group by ip-app combination...\n",
      "[INFO] Count unique device with group by ip combination...\n",
      "[INFO] Count unique channel with group by app combination...\n"
     ]
    }
   ],
   "source": [
    "try:\n",
    "  train_data = do_count_unique(data=train_data, group_cols=['ip'],\n",
    "                               target_col='channel', new_col_name='uni_ip_with_ch', col_type='uint32')\n",
    "  train_data = do_count_unique(data=train_data, group_cols=['ip', 'device', 'os'],\n",
    "                               target_col='app', new_col_name='uni_ip_dev_os', col_type='uint32')\n",
    "  train_data = do_count_unique(data=train_data, group_cols=['ip', 'day'],\n",
    "                               target_col='hour', new_col_name='uni_ip_day', col_type='uint32')\n",
    "  train_data = do_count_unique(data=train_data, group_cols=['ip'],\n",
    "                               target_col='app', new_col_name='uni_ip_with_app', col_type='uint32')\n",
    "  train_data = do_count_unique(data=train_data, group_cols=['ip', 'app'],\n",
    "                               target_col='os', new_col_name='uni_ip_app', col_type='uint32')\n",
    "  train_data = do_count_unique(data=train_data, group_cols=['ip'],\n",
    "                               target_col='device', new_col_name='uni_ip_with_dev', col_type='uint32')\n",
    "  train_data = do_count_unique(data=train_data, group_cols=['app'],\n",
    "                               target_col='channel', new_col_name='uni_app_with_ch', col_type='uint32')\n",
    "\n",
    "  train_data = do_cumcount(data=train_data, group_cols=['ip'],\n",
    "                           target_col='os', new_col_name='cum_ip', col_type='uint32')\n",
    "  train_data = do_cumcount(data=train_data, group_cols=['ip', 'device', 'os'],\n",
    "                           target_col='app', new_col_name='cum_ip_dev_os', col_type='uint32')\n",
    "  \n",
    "  train_data = do_count(data=train_data, group_cols=['ip', 'day', 'hour'],\n",
    "                        target_col='channel', new_col_name='count_ip_day_hour', col_type='uint32')\n",
    "  train_data = do_count(data=train_data, group_cols=['ip', 'app'],\n",
    "                        target_col='channel', new_col_name='count_app', col_type='uint32')\n",
    "  train_data = do_count(data=train_data, group_cols=['ip', 'app', 'os'],\n",
    "                        target_col='channel', new_col_name='count_ip_app_os', col_type='uint32')\n",
    "\n",
    "  #train_data = do_var(data=train_data, group_cols=['ip', 'day', 'channel'],\n",
    "  #                              target_col='hour', new_col_name='var_ip_day_ch', col_type='float32')  \n",
    "  train_data = do_var(data=train_data, group_cols=['ip', 'app', 'os'],\n",
    "                      target_col='hour', new_col_name='var_ip_app_os', col_type='float32')  \n",
    "  #train_data = do_var(data=train_data, group_cols=['ip', 'app', 'channel'],\n",
    "  #                              target_col='day', new_col_name='var_ip_app_ch', col_type='float32')\n",
    "  train_data = do_mean(data=train_data, group_cols=['ip', 'app', 'channel'],\n",
    "                       target_col='hour', new_col_name='mean_ip_app_ch', col_type='float32')\n",
    "\n",
    "  train_data = do_next_click(data=train_data, group_cols=['ip', 'app', 'device', 'os', 'channel'],\n",
    "                             col_type='float32')\n",
    "  train_data = do_next_click(data=train_data, group_cols=['ip', 'os', 'device'],\n",
    "                             col_type='float32')\n",
    "  train_data = do_next_click(data=train_data, group_cols=['ip', 'os', 'device', 'app'],\n",
    "                             col_type='float32')\n",
    "  train_data = do_next_click(data=train_data, group_cols=['device', 'channel'],\n",
    "                             col_type='float32')\n",
    "  train_data = do_next_click(data=train_data, group_cols=['app', 'device', 'channel'],\n",
    "                             col_type='float32')\n",
    "  train_data = do_prev_click(data=train_data, group_cols=['ip', 'channel'],\n",
    "                             col_type='float32')\n",
    "  train_data = do_prev_click(data=train_data, group_cols=['ip', 'os'],\n",
    "                             col_type='float32')\n",
    "  #train_data = next_click(data=train_data)\n",
    "  #train_data = previous_click(data=train_data)\n",
    "except Exception as e:\n",
    "  print(e, traceback.print_exc(()))           "
   ]
  },
  {
   "cell_type": "code",
   "execution_count": null,
   "metadata": {},
   "outputs": [],
   "source": [
    "# remove useless features\n",
    "print('[INFO] Remove useless features')\n",
    "train_data.drop(['ip', 'day', 'click_time'], axis=1, inplace=True)\n",
    "gc.collect()"
   ]
  },
  {
   "cell_type": "code",
   "execution_count": null,
   "metadata": {},
   "outputs": [],
   "source": [
    "train_data.columns"
   ]
  },
  {
   "cell_type": "code",
   "execution_count": null,
   "metadata": {},
   "outputs": [],
   "source": [
    "local_data_path = Path('/tmp')\n",
    "output_path = \"gs://onead-gcpml/ninja_project/output\"\n",
    "train_data.to_csv(str(local_data_path / 'feature_data_4000_server.csv'), index=False)\n",
    "cmd = 'gsutil cp {} {}'.format(str(local_data_path / 'feature_data.csv'), output_path)\n",
    "subprocess.check_call(cmd, shell=True)\n",
    "gc.collect()"
   ]
  },
  {
   "cell_type": "markdown",
   "metadata": {},
   "source": [
    "## Version - 3 \n",
    "<br/>\n",
    "#### Confidence Rates for is_attributed\n",
    "My thought is that some ips, apps, devices, etc. might have higher frequencies of is_attributed, and I wish to add that information, i.e. I'm calculating the following \"attributed rates\":\n",
    "\n",
    "$ P\\left(is\\_attributed\\middle|category\\right) $\n",
    " \n",
    "or in some cases two- or multiple-paired combinations:\n",
    "\n",
    "$ P\\left(is\\_attributed\\middle|category\\_1, category\\_2\\right)$\n",
    " \n",
    "The danger of this is that if a given category-combination has very few clicks, then the statistical significance of above equations cannot be trusted. Therefore I'll be weighing the rates by the following confidence rates:\n",
    "\n",
    "$ conf_{is\\_attributed} = \\frac{log(views_{category\\_1})}{log(100000)}$\n",
    " \n",
    "where the value 100000 has been chosen arbitrarily to such that if a given category has 1000 views, then it gets a confidence weight of 60%, if it has 100 views then onfly a confidence weight of 40% etc.\n",
    "\n",
    "*Reference*\n",
    "* https://www.kaggle.com/nanomathias/feature-engineering-importance-testing"
   ]
  },
  {
   "cell_type": "code",
   "execution_count": null,
   "metadata": {},
   "outputs": [],
   "source": [
    "ATTRIBUTION_CATEGORIES = [        \n",
    "    # V1 Features #\n",
    "    ###############\n",
    "    ['ip'], ['app'], ['device'], ['os'], ['channel'],    \n",
    "    # V2 Features #\n",
    "    ['app', 'channel'], ['app', 'os'], ['app', 'device'],    \n",
    "    # V3 Features #\n",
    "    ['channel', 'os'], ['channel', 'device'], ['os', 'device']\n",
    "]\n",
    "\n",
    "def confidence_rate(x):\n",
    "    if x.count() >0:\n",
    "        rate = x.sum() / float(x.count() + 0.00001)\n",
    "        conf = np.min([1, np.log(x.count())/np.log(100000)])\n",
    "        res = rate*conf\n",
    "    else:\n",
    "        res = 0\n",
    "    return res\n",
    "\n",
    "for cols in ATTRIBUTION_CATEGORIES:\n",
    "  print('[INFO] Compute {} confidence rate...'.format('-'.join(cols)))\n",
    "  new_feature = '_'.join(cols)+'_confRate'  \n",
    "  cols.append('is_attributed')\n",
    "  group_data = train_data[cols].groupby(by=cols[:-1])[cols[-1]].apply(confidence_rate).reset_index().rename(index=str, columns={'is_attributed': new_feature})\n",
    "  train_data = train_data.merge(group_data, on=cols[:-1], how='left')\n",
    "  del group_data\n",
    "  gc.collect()"
   ]
  },
  {
   "cell_type": "markdown",
   "metadata": {},
   "source": [
    "# Split data"
   ]
  },
  {
   "cell_type": "code",
   "execution_count": 7,
   "metadata": {},
   "outputs": [
    {
     "name": "stdout",
     "output_type": "stream",
     "text": [
      "train size:  36000000\n",
      "valid size:  4000000\n",
      "test size :  18790469\n"
     ]
    }
   ],
   "source": [
    "split_probability = 0.1\n",
    "seed = 202109\n",
    "test_df = train_data[length_of_train:]\n",
    "train_df, validation_df = train_test_split(train_data[:length_of_train], \n",
    "                                           test_size=split_probability, \n",
    "                                           random_state=seed)\n",
    "#validation_df = train_data[(length_of_train-validation_boundary):length_of_train]\n",
    "#train_df = train_data[:(length_of_train-validation_boundary)]\n",
    "\n",
    "print(\"train size: \", len(train_df))\n",
    "print(\"valid size: \", len(validation_df))\n",
    "print(\"test size : \", len(test_df))"
   ]
  },
  {
   "cell_type": "code",
   "execution_count": 8,
   "metadata": {},
   "outputs": [],
   "source": [
    "target = 'is_attributed'\n",
    "categorical_features = [col for col in train_df.columns if col in ['app', 'device', 'os', 'channel', 'day', 'hour', 'minute', 'second']]\n",
    "predictors = list(train_df.columns.get_values()).copy()\n",
    "predictors.remove(target)\n",
    "predictors.remove('click_id')\n"
   ]
  },
  {
   "cell_type": "code",
   "execution_count": 9,
   "metadata": {},
   "outputs": [
    {
     "data": {
      "text/plain": [
       "85"
      ]
     },
     "execution_count": 9,
     "metadata": {},
     "output_type": "execute_result"
    }
   ],
   "source": [
    "sub = pd.DataFrame()\n",
    "sub['click_id'] = test_df['click_id'].astype('int')\n",
    "gc.collect()"
   ]
  },
  {
   "cell_type": "markdown",
   "metadata": {},
   "source": [
    "# CatBoost"
   ]
  },
  {
   "cell_type": "code",
   "execution_count": 10,
   "metadata": {},
   "outputs": [
    {
     "data": {
      "text/plain": [
       "[0, 1, 2, 3, 4, 5, 6]"
      ]
     },
     "execution_count": 10,
     "metadata": {},
     "output_type": "execute_result"
    }
   ],
   "source": [
    "categorical_index = [predictors.index(c) for c in categorical_features]\n",
    "categorical_index"
   ]
  },
  {
   "cell_type": "code",
   "execution_count": 11,
   "metadata": {},
   "outputs": [
    {
     "name": "stdout",
     "output_type": "stream",
     "text": [
      "CPU times: user 9min 55s, sys: 15.4 s, total: 10min 10s\n",
      "Wall time: 10min 8s\n"
     ]
    }
   ],
   "source": [
    "%%time\n",
    "from catboost import Pool\n",
    "train_pool = Pool(data=train_df[predictors], label=train_df[target], cat_features=categorical_index)\n"
   ]
  },
  {
   "cell_type": "code",
   "execution_count": null,
   "metadata": {},
   "outputs": [
    {
     "name": "stdout",
     "output_type": "stream",
     "text": [
      "CPU times: user 1min 6s, sys: 1.32 s, total: 1min 8s\n",
      "Wall time: 1min 8s\n"
     ]
    }
   ],
   "source": [
    "%%time\n",
    "valid_pool = Pool(data=validation_df[predictors], label=validation_df[target], cat_features=categorical_index)"
   ]
  },
  {
   "cell_type": "code",
   "execution_count": null,
   "metadata": {
    "collapsed": true
   },
   "outputs": [],
   "source": [
    "%%time\n",
    "test_pool = Pool(data=test_df[predictors], cat_features=categorical_index)"
   ]
  },
  {
   "cell_type": "code",
   "execution_count": null,
   "metadata": {},
   "outputs": [],
   "source": [
    "number_of_iter = 500\n",
    "params = {\n",
    "  'iterations': number_of_iter, # alias n_estimators\n",
    "  'learning_rate' : 0.1, # alias eta\n",
    "  'depth': 6, # alias max_depth\n",
    "  'loss_function': 'Logloss',\n",
    "  'l2_leaf_reg': 5, # L2 regularization coefficient. Used for leaf value calculation.\n",
    "  # 'subsample': 0.7, # Can't used when bootstrap_type = 'Bayesian'(default).\n",
    "  'colsample_bylevel': 0.7,\n",
    "  'scale_pos_weight': 99.7,\n",
    "  'eval_metric': 'AUC',\n",
    "  'random_state': 202109,\n",
    "  'calc_feature_importance': True,\n",
    "  'thread_count': multiprocessing.cpu_count()-1,\n",
    "  'verbose': True\n",
    "  # 'one_hot_max_size': 31 # Use one-hot encoding for all features with number of different values less than or equal to the given parameter value\n",
    "  # 'ignored_features'\n",
    "}\n",
    "catboost_model = CatBoostClassifier(**params, od_type='Iter', od_wait=10)\n",
    "gc.collect()"
   ]
  },
  {
   "cell_type": "code",
   "execution_count": null,
   "metadata": {},
   "outputs": [],
   "source": [
    "catboost_model.get_params()"
   ]
  },
  {
   "cell_type": "code",
   "execution_count": null,
   "metadata": {},
   "outputs": [],
   "source": [
    "#catboost_model.fit(train_df[predictors], train_df[target], cat_features=categorical_index,\n",
    "#                   eval_set=(validation_df[predictors], validation_df[target]), \n",
    "#                   use_best_model=True, verbose=True, plot=False)\n",
    "\n",
    "catboost_model.fit(train_pool, eval_set=valid_pool, use_best_model=True, verbose=True, plot=False)"
   ]
  },
  {
   "cell_type": "code",
   "execution_count": 32,
   "metadata": {
    "collapsed": true
   },
   "outputs": [],
   "source": [
    "pred = catboost_model.predict_proba(data=test_df[predictors])[:, 1]"
   ]
  },
  {
   "cell_type": "code",
   "execution_count": null,
   "metadata": {
    "collapsed": true
   },
   "outputs": [],
   "source": [
    "(np.exp(pred) - 1.0).clip(0,1)"
   ]
  },
  {
   "cell_type": "code",
   "execution_count": 35,
   "metadata": {},
   "outputs": [
    {
     "name": "stderr",
     "output_type": "stream",
     "text": [
      "/usr/local/envs/py3env/lib/python3.5/site-packages/matplotlib/font_manager.py:1320: UserWarning: findfont: Font family ['sans-serif'] not found. Falling back to DejaVu Sans\n",
      "  (prop.get_family(), self.defaultFamily[fontext]))\n"
     ]
    },
    {
     "data": {
      "image/png": "[encoded data removed]",
      "text/plain": [
       "<matplotlib.figure.Figure at 0x7fdef7ed4a20>"
      ]
     },
     "metadata": {},
     "output_type": "display_data"
    }
   ],
   "source": [
    "import matplotlib.pyplot as plt\n",
    "\n",
    "imp_df = pd.DataFrame({'importances': catboost_model.feature_importances_, 'cols':predictors})\n",
    "imp_df = imp_df.sort_values(['importances','cols'], ascending=[True, False])\n",
    "_ = imp_df.plot(kind='barh', x='cols', y='importances', figsize=(7,12))\n",
    "plt.savefig('catboost_feature_importance.png')"
   ]
  },
  {
   "cell_type": "markdown",
   "metadata": {},
   "source": [
    "# Optimizaiton"
   ]
  },
  {
   "cell_type": "code",
   "execution_count": null,
   "metadata": {},
   "outputs": [],
   "source": [
    "number_of_iter = 1000\n",
    "bayes_cv_tuner = BayesSearchCV(\n",
    "  estimator = lgb.LGBMClassifier(objective='binary', metric='auc', n_jobs=1, verbose=0),\n",
    "  search_spaces = {'learning_rate': (0.01, 0.1, 'log-uniform'),\n",
    "                   'num_leaves': (1, 10),\n",
    "                   'max_depth': (0, 10),\n",
    "                   'min_child_samples': (0, 50),\n",
    "                   'max_bin': (100, 1000),\n",
    "                   'subsample': (0.3, 1.0, 'uniform'),\n",
    "                   'subsample_freq': (0, 10),\n",
    "                   'colsample_bytree': (0.3, 1.0, 'uniform'),\n",
    "                   'min_child_weight': (0, 10),\n",
    "                   'subsample_for_bin': (100000, 500000),\n",
    "                   'reg_lambda': (1e-9, 1000, 'log-uniform'),\n",
    "                   'reg_alpha': (1e-9, 1.0, 'log-uniform'),\n",
    "                   'scale_pos_weight': (1e-6, 500, 'log-uniform')},\n",
    "  scoring = 'roc_auc',\n",
    "  cv = StratifiedKFold(n_splits=3, shuffle=True, random_state=seed),\n",
    "  n_jobs = 1,\n",
    "  n_iter = number_of_iter,\n",
    "  verbose = 0,\n",
    "  refit = True,\n",
    "  random_state = seed)\n",
    "# Fit the model\n",
    "def status_print(optim_result):\n",
    "  \"\"\"Status callback durring bayesian hyperparameter search\"\"\"\n",
    "  # Get all the models tested so far in DataFrame format\n",
    "  all_models = pd.DataFrame(bayes_cv_tuner.cv_results_)\n",
    "\n",
    "  # Get current parameters and the best parameters\n",
    "  best_params = pd.Series(bayes_cv_tuner.best_params_)\n",
    "  print('Model #{}\\nBest ROC-AUC: {}\\nBest params: {}\\n'.format(len(all_models),\n",
    "                                                                np.round(bayes_cv_tuner.best_score_, 4),\n",
    "                                                                bayes_cv_tuner.best_params_))\n",
    "  # Save all model results\n",
    "  clf_name = bayes_cv_tuner.estimator.__class__.__name__\n",
    "  output_path = os.path.join('/tmp', (clf_name + \"_cv_results.csv\"))\n",
    "  all_models.to_csv(output_path)\n",
    "  cmd = 'gsutil cp {} {}'.format(output_path, 'gs://onead-gcpml/ninja_project/output')\n",
    "  res = subprocess.check_call(cmd, shell=True)\n",
    "\n",
    "result = bayes_cv_tuner.fit(train_df[predictors].values, train_df[target].values)\n"
   ]
  },
  {
   "cell_type": "markdown",
   "metadata": {},
   "source": [
    "# LGBM"
   ]
  },
  {
   "cell_type": "code",
   "execution_count": 71,
   "metadata": {},
   "outputs": [],
   "source": [
    "start_time = time.time()\n",
    "params = {\n",
    "  'boosting_type': 'gbdt',\n",
    "  'objective': 'binary',\n",
    "  'metric': 'auc',\n",
    "  'learning_rate': 0.1,\n",
    "  #'is_unbalance': 'true', # replaced with scale_pos_weight argument\n",
    "  'num_leaves': 7,  # 2^max_depth - 1\n",
    "  'max_depth': 4,  # -1 means no limit\n",
    "  'min_child_samples': 100,  # Minimum number of data need in a child(min_data_in_leaf)\n",
    "  'max_bin': 100,  # Number of bucketed bin for feature values\n",
    "  'subsample': 0.7,  # Subsample ratio of the training instance.\n",
    "  'subsample_freq': 1,  # frequence of subsample, <=0 means no enable\n",
    "  'colsample_bytree': 0.7,  # Subsample ratio of columns when constructing each tree.\n",
    "  'min_child_weight': 0,  # Minimum sum of instance weight(hessian) needed in a child(leaf)\n",
    "  'scale_pos_weight': 99.7, # because training data is extremely unbalanced \n",
    "  'subsample_for_bin': 200000,  # Number of samples for constructing bin\n",
    "  'min_split_gain': 0,  # lambda_l1, lambda_l2 and min_gain_to_split to regularization\n",
    "  'reg_alpha': 0,  # L1 regularization term on weights\n",
    "  'reg_lambda': 0,  # L2 regularization term on weights\n",
    "  'nthread': multiprocessing.cpu_count()-1,\n",
    "  'verbose': 0,\n",
    "}"
   ]
  },
  {
   "cell_type": "code",
   "execution_count": null,
   "metadata": {},
   "outputs": [],
   "source": [
    "#lightgbm.LGBMClassifier(boosting_type='gbdt', num_leaves=31, max_depth=-1, learning_rate=0.1, \n",
    "#n_estimators=100, subsample_for_bin=200000, objective=None, class_weight=None, min_split_gain=0.0, \n",
    "#min_child_weight=0.001, min_child_samples=20, subsample=1.0, subsample_freq=1, colsample_bytree=1.0,\n",
    "#reg_alpha=0.0, reg_lambda=0.0, random_state=None, n_jobs=-1, silent=True, **kwargs)\n",
    "#number_of_iter = 3000\n",
    "#estimator = lgb.LGBMClassifier(boosting_type='gbdt', objective='binary', metric='auc', n_estimators=3000,\n",
    "#                               n_jobs=multiprocessing.cpu_count()-1, verbose=True)\n",
    "\n",
    "#model = estimator.fit(train_df[predictors].values, train_df[target].values, \n",
    "#                      eval_metric='auc', early_stopping_rounds=20, \n",
    "#                      eval_set=[(validation_df[predictors].values, validation_df[target].values)], \n",
    "#                      eval_class_weight=[0.03, 99.7],\n",
    "#                      eval_names=['valid'], feature_name=predictors, \n",
    "#                      categorical_feature=categorical_features)"
   ]
  },
  {
   "cell_type": "code",
   "execution_count": null,
   "metadata": {},
   "outputs": [],
   "source": [
    "  %%time\n",
    "  # Classifier\n",
    "  number_of_iter = 1000\n",
    "  bayes_cv_tuner = BayesSearchCV(\n",
    "      estimator = lgb.LGBMClassifier(objective='binary', metric='auc', n_jobs=1, verbose=0),\n",
    "      search_spaces = {\n",
    "          'learning_rate': (0.01, 1.0, 'log-uniform'),\n",
    "          'num_leaves': (1, 100),      \n",
    "          'max_depth': (0, 50),\n",
    "          'min_child_samples': (0, 50),\n",
    "          'max_bin': (100, 1000),\n",
    "          'subsample': (0.01, 1.0, 'uniform'),\n",
    "          'subsample_freq': (0, 10),\n",
    "          'colsample_bytree': (0.01, 1.0, 'uniform'),\n",
    "          'min_child_weight': (0, 10),\n",
    "          'subsample_for_bin': (100000, 500000),\n",
    "          'reg_lambda': (1e-9, 1000, 'log-uniform'),\n",
    "          'reg_alpha': (1e-9, 1.0, 'log-uniform'),\n",
    "          'scale_pos_weight': (1e-6, 500, 'log-uniform'),\n",
    "          'n_estimators': (50, 100),\n",
    "      },    \n",
    "      scoring = 'roc_auc',\n",
    "      cv = StratifiedKFold(n_splits=3, shuffle=True, random_state=seed),\n",
    "      n_jobs = 1,\n",
    "      n_iter = number_of_iter,   \n",
    "      verbose = 0,\n",
    "      refit = True,\n",
    "      random_state = seed\n",
    "  )\n",
    "\n",
    "  def status_print(optim_result):\n",
    "      \"\"\"Status callback durring bayesian hyperparameter search\"\"\" \n",
    "      # Get all the models tested so far in DataFrame format\n",
    "      all_models = pd.DataFrame(bayes_cv_tuner.cv_results_)    \n",
    "\n",
    "      # Get current parameters and the best parameters    \n",
    "      best_params = pd.Series(bayes_cv_tuner.best_params_)\n",
    "      print('Model #{}\\nBest ROC-AUC: {}\\nBest params: {}\\n'.format(\n",
    "          len(all_models),\n",
    "          np.round(bayes_cv_tuner.best_score_, 4),\n",
    "          bayes_cv_tuner.best_params_\n",
    "      ))\n",
    "\n",
    "      # Save all model results\n",
    "      clf_name = bayes_cv_tuner.estimator.__class__.__name__\n",
    "      all_models.to_csv(clf_name+\"_cv_results.csv\")\n",
    "\n",
    "  # Fit the model\n",
    "  result = bayes_cv_tuner.fit(train_df[predictors].values, train_df[target].values)"
   ]
  },
  {
   "cell_type": "code",
   "execution_count": null,
   "metadata": {},
   "outputs": [
    {
     "name": "stdout",
     "output_type": "stream",
     "text": [
      "Training...\n"
     ]
    },
    {
     "name": "stderr",
     "output_type": "stream",
     "text": [
      "/usr/local/envs/py3env/lib/python3.5/site-packages/lightgbm/basic.py:1036: UserWarning: Using categorical_feature in Dataset.\n",
      "  warnings.warn('Using categorical_feature in Dataset.')\n",
      "/usr/local/envs/py3env/lib/python3.5/site-packages/lightgbm/basic.py:681: UserWarning: categorical_feature in param dict is overrided.\n",
      "  warnings.warn('categorical_feature in param dict is overrided.')\n"
     ]
    },
    {
     "name": "stdout",
     "output_type": "stream",
     "text": [
      "Training until validation scores don't improve for 50 rounds.\n",
      "[10]\ttrain's auc: 0.954317\tvalid's auc: 0.9535\n",
      "[20]\ttrain's auc: 0.961474\tvalid's auc: 0.960786\n",
      "[30]\ttrain's auc: 0.965194\tvalid's auc: 0.964578\n",
      "[40]\ttrain's auc: 0.968612\tvalid's auc: 0.968085\n",
      "[50]\ttrain's auc: 0.970283\tvalid's auc: 0.969529\n",
      "[60]\ttrain's auc: 0.971648\tvalid's auc: 0.970877\n",
      "[70]\ttrain's auc: 0.972543\tvalid's auc: 0.971848\n",
      "[80]\ttrain's auc: 0.97326\tvalid's auc: 0.972455\n",
      "[90]\ttrain's auc: 0.973872\tvalid's auc: 0.972938\n",
      "[100]\ttrain's auc: 0.974276\tvalid's auc: 0.97327\n",
      "[110]\ttrain's auc: 0.974753\tvalid's auc: 0.973662\n",
      "[120]\ttrain's auc: 0.975141\tvalid's auc: 0.973971\n",
      "[130]\ttrain's auc: 0.975482\tvalid's auc: 0.974243\n",
      "[140]\ttrain's auc: 0.975806\tvalid's auc: 0.974427\n",
      "[150]\ttrain's auc: 0.976058\tvalid's auc: 0.974593\n",
      "[160]\ttrain's auc: 0.976314\tvalid's auc: 0.974711\n",
      "[170]\ttrain's auc: 0.976506\tvalid's auc: 0.974848\n",
      "[180]\ttrain's auc: 0.976741\tvalid's auc: 0.974972\n",
      "[190]\ttrain's auc: 0.976904\tvalid's auc: 0.975046\n",
      "[200]\ttrain's auc: 0.977079\tvalid's auc: 0.97514\n",
      "[210]\ttrain's auc: 0.977235\tvalid's auc: 0.975236\n",
      "[220]\ttrain's auc: 0.977393\tvalid's auc: 0.975319\n",
      "[230]\ttrain's auc: 0.977537\tvalid's auc: 0.975415\n",
      "[240]\ttrain's auc: 0.977669\tvalid's auc: 0.975501\n",
      "[250]\ttrain's auc: 0.977757\tvalid's auc: 0.975574\n",
      "[260]\ttrain's auc: 0.977912\tvalid's auc: 0.975651\n",
      "[270]\ttrain's auc: 0.97801\tvalid's auc: 0.975676\n",
      "[280]\ttrain's auc: 0.978101\tvalid's auc: 0.975695\n",
      "[290]\ttrain's auc: 0.978225\tvalid's auc: 0.97571\n",
      "[470]\ttrain's auc: 0.979667\tvalid's auc: 0.976081\n",
      "[480]\ttrain's auc: 0.979725\tvalid's auc: 0.976089\n",
      "[490]\ttrain's auc: 0.979786\tvalid's auc: 0.976103\n",
      "[500]\ttrain's auc: 0.979842\tvalid's auc: 0.976116\n",
      "[510]\ttrain's auc: 0.979885\tvalid's auc: 0.97612\n",
      "[520]\ttrain's auc: 0.979946\tvalid's auc: 0.976117\n",
      "[530]\ttrain's auc: 0.980009\tvalid's auc: 0.976107\n",
      "[540]\ttrain's auc: 0.980062\tvalid's auc: 0.976122\n",
      "[550]\ttrain's auc: 0.980108\tvalid's auc: 0.976121\n",
      "[560]\ttrain's auc: 0.980174\tvalid's auc: 0.97614\n",
      "[570]\ttrain's auc: 0.980224\tvalid's auc: 0.976123\n",
      "[580]\ttrain's auc: 0.980281\tvalid's auc: 0.976128\n",
      "[590]\ttrain's auc: 0.980333\tvalid's auc: 0.976118\n",
      "[600]\ttrain's auc: 0.980388\tvalid's auc: 0.976105\n",
      "[610]\ttrain's auc: 0.980417\tvalid's auc: 0.976119\n",
      "Early stopping, best iteration is:\n",
      "[564]\ttrain's auc: 0.980197\tvalid's auc: 0.976144\n"
     ]
    }
   ],
   "source": [
    "print('Training...')\n",
    "number_of_iter = 3000\n",
    "x_train = lgb.Dataset(train_df[predictors].values, label=train_df[target].values, \n",
    "                      feature_name=predictors, categorical_feature=categorical_features)\n",
    "x_validation = lgb.Dataset(validation_df[predictors].values, label=validation_df[target].values, \n",
    "                           feature_name=predictors, categorical_feature=categorical_features)\n",
    "evals_results = {}\n",
    "lgbm_model = lgb.train(params, x_train, valid_sets=[x_train, x_validation], valid_names=['train', 'valid'],\n",
    "                       evals_result=evals_results, num_boost_round=number_of_iter, early_stopping_rounds=50,\n",
    "                       verbose_eval=10, feval=None)\n",
    "n_estimators = lgbm_model.best_iteration  "
   ]
  },
  {
   "cell_type": "code",
   "execution_count": null,
   "metadata": {},
   "outputs": [
    {
     "name": "stdout",
     "output_type": "stream",
     "text": [
      "\n",
      "Model Report:\n",
      "n_estimators :  564\n",
      "AUC : 0.9761442110659042\n",
      "Model training time: 1.8614056142171225\n"
     ]
    }
   ],
   "source": [
    "print(\"\\nModel Report:\")\n",
    "print(\"n_estimators : \", n_estimators)\n",
    "print(\"AUC :\", evals_results['valid']['auc'][n_estimators-1])\n",
    "print('Model training time: {}'.format((time.time() - start_time)/3600))"
   ]
  },
  {
   "cell_type": "code",
   "execution_count": null,
   "metadata": {},
   "outputs": [
    {
     "name": "stdout",
     "output_type": "stream",
     "text": [
      "Predicting...\n",
      "writing...\n",
      "done...\n"
     ]
    }
   ],
   "source": [
    "print(\"Predicting...\")\n",
    "sub['is_attributed'] = lgbm_model.predict(test_df[predictors])\n",
    "print(\"writing...\")\n",
    "save_path = 'lgbm_submission_{}.csv'.format(datetime.now().strftime('%Y%m%d_%H%M%S'))\n",
    "sub.to_csv(save_path, index=False)\n",
    "print(\"done...\")"
   ]
  },
  {
   "cell_type": "code",
   "execution_count": null,
   "metadata": {},
   "outputs": [
    {
     "data": {
      "text/plain": [
       "0"
      ]
     },
     "execution_count": 75,
     "metadata": {},
     "output_type": "execute_result"
    }
   ],
   "source": [
    "output_path = \"gs://onead-gcpml/ninja_project/output\"\n",
    "cmd = 'gsutil cp {} {}'.format(save_path, output_path)\n",
    "subprocess.check_call(cmd, shell=True)"
   ]
  },
  {
   "cell_type": "code",
   "execution_count": null,
   "metadata": {},
   "outputs": [
    {
     "name": "stdout",
     "output_type": "stream",
     "text": [
      "Plot metrics during training...\n"
     ]
    },
    {
     "name": "stderr",
     "output_type": "stream",
     "text": [
      "/usr/local/envs/py3env/lib/python3.5/site-packages/matplotlib/font_manager.py:1320: UserWarning: findfont: Font family ['sans-serif'] not found. Falling back to DejaVu Sans\n",
      "  (prop.get_family(), self.defaultFamily[fontext]))\n"
     ]
    },
    {
     "data": {
      "image/png": "[encoded data removed]",
      "text/plain": [
       "<matplotlib.figure.Figure at 0x7f6c9c943908>"
      ]
     },
     "metadata": {},
     "output_type": "display_data"
    },
    {
     "name": "stdout",
     "output_type": "stream",
     "text": [
      "Plot feature importances...\n"
     ]
    },
    {
     "data": {
      "image/png": "[encoded data removed]",
      "text/plain": [
       "<matplotlib.figure.Figure at 0x7f6c9c8da9e8>"
      ]
     },
     "metadata": {},
     "output_type": "display_data"
    }
   ],
   "source": [
    "print('Plot metrics during training...')\n",
    "ax = lgb.plot_metric(evals_results, metric='auc')\n",
    "plt.show()\n",
    "\n",
    "print('Plot feature importances...')\n",
    "ax = lgb.plot_importance(lgbm_model, max_num_features=10)\n",
    "plt.gcf().savefig('test2.png')"
   ]
  },
  {
   "cell_type": "markdown",
   "metadata": {},
   "source": [
    "# xbgboost"
   ]
  },
  {
   "cell_type": "code",
   "execution_count": 33,
   "metadata": {},
   "outputs": [
    {
     "name": "stderr",
     "output_type": "stream",
     "text": [
      "/usr/local/envs/py3env/lib/python3.5/site-packages/sklearn/cross_validation.py:44: DeprecationWarning: This module was deprecated in version 0.18 in favor of the model_selection module into which all the refactored classes and functions are moved. Also note that the interface of the new CV iterators are different from that of this module. This module will be removed in 0.20.\n",
      "  \"This module will be removed in 0.20.\", DeprecationWarning)\n"
     ]
    }
   ],
   "source": [
    "import xgboost as xgb\n",
    "from xgboost import plot_importance\n",
    "import matplotlib.pyplot as plt"
   ]
  },
  {
   "cell_type": "code",
   "execution_count": 31,
   "metadata": {},
   "outputs": [
    {
     "name": "stdout",
     "output_type": "stream",
     "text": [
      "train size:  33500000\n",
      "valid size:  16500000\n",
      "test size :  18790469\n"
     ]
    }
   ],
   "source": [
    "validation_boundary = 5000000\n",
    "test_df = train_data[length_of_train:]\n",
    "train_df, validation_df = train_test_split(train_data[:length_of_train], test_size=0.33, random_state=202109)\n",
    "#validation_df = train_data[(length_of_train-validation_boundary):length_of_train]\n",
    "#train_df = train_data[:(length_of_train-validation_boundary)]\n",
    "\n",
    "print(\"train size: \", len(train_df))\n",
    "print(\"valid size: \", len(validation_df))\n",
    "print(\"test size : \", len(test_df))"
   ]
  },
  {
   "cell_type": "code",
   "execution_count": 45,
   "metadata": {
    "collapsed": true
   },
   "outputs": [],
   "source": [
    "params = {'eta': 0.3,\n",
    "          'tree_method': \"hist\", # Fast histogram optimized approximate greedy algorithm. \n",
    "          'grow_policy': \"lossguide\", # split at nodes with highest loss change\n",
    "          'max_leaves': 1400, # Maximum number of nodes to be added. (for lossguide grow policy)\n",
    "          'max_depth': 0, # 0 means no limit (useful only for depth wise grow policy)\n",
    "          'subsample': 0.7, \n",
    "          'colsample_bytree': 0.7, \n",
    "          'colsample_bylevel':0.7,\n",
    "          'min_child_weight':0, # The larger, the more conservative the algorithm will be\n",
    "          'alpha': 4, # L1 regularization. on weights | large value = more conservative model (maintain more features)\n",
    "          'objective': 'binary:logistic', \n",
    "          'scale_pos_weight': 90,\n",
    "          'eval_metric': 'auc', \n",
    "          'nthread': multiprocessing.cpu_count()-1,\n",
    "          'random_state': 202109 , \n",
    "          'silent': True}"
   ]
  },
  {
   "cell_type": "code",
   "execution_count": 35,
   "metadata": {
    "collapsed": true
   },
   "outputs": [],
   "source": [
    "dtrain = xgb.DMatrix(train_df[predictors], train_df[target])\n",
    "dvalid = xgb.DMatrix(validation_df[predictors], validation_df[target])"
   ]
  },
  {
   "cell_type": "code",
   "execution_count": 44,
   "metadata": {},
   "outputs": [
    {
     "data": {
      "text/plain": [
       "0.0    16459217\n",
       "1.0       40783\n",
       "Name: is_attributed, dtype: int64"
      ]
     },
     "execution_count": 44,
     "metadata": {},
     "output_type": "execute_result"
    }
   ],
   "source": [
    "validation_df[target].value_counts()"
   ]
  },
  {
   "cell_type": "code",
   "execution_count": 46,
   "metadata": {},
   "outputs": [
    {
     "name": "stdout",
     "output_type": "stream",
     "text": [
      "[0]\ttrain-auc:0.90009\tvalid-auc:0.900501\n",
      "Multiple eval metrics have been passed: 'valid-auc' will be used for early stopping.\n",
      "\n",
      "Will train until valid-auc hasn't improved in 25 rounds.\n",
      "[5]\ttrain-auc:0.929877\tvalid-auc:0.929923\n",
      "[10]\ttrain-auc:0.952453\tvalid-auc:0.952943\n",
      "[15]\ttrain-auc:0.95826\tvalid-auc:0.958532\n",
      "[20]\ttrain-auc:0.961177\tvalid-auc:0.961576\n",
      "[25]\ttrain-auc:0.963896\tvalid-auc:0.964238\n",
      "[30]\ttrain-auc:0.965488\tvalid-auc:0.96585\n",
      "[35]\ttrain-auc:0.966604\tvalid-auc:0.96686\n",
      "[40]\ttrain-auc:0.967488\tvalid-auc:0.96766\n",
      "[45]\ttrain-auc:0.968221\tvalid-auc:0.968148\n",
      "[50]\ttrain-auc:0.968646\tvalid-auc:0.968492\n",
      "[55]\ttrain-auc:0.969173\tvalid-auc:0.96887\n",
      "[60]\ttrain-auc:0.969628\tvalid-auc:0.969171\n",
      "[65]\ttrain-auc:0.970144\tvalid-auc:0.969491\n",
      "[70]\ttrain-auc:0.970448\tvalid-auc:0.969733\n",
      "[75]\ttrain-auc:0.970964\tvalid-auc:0.970067\n",
      "[80]\ttrain-auc:0.971192\tvalid-auc:0.970192\n",
      "[85]\ttrain-auc:0.971517\tvalid-auc:0.970347\n",
      "[90]\ttrain-auc:0.971807\tvalid-auc:0.970526\n",
      "[95]\ttrain-auc:0.972033\tvalid-auc:0.970614\n",
      "[100]\ttrain-auc:0.972227\tvalid-auc:0.970619\n",
      "[105]\ttrain-auc:0.972398\tvalid-auc:0.970719\n",
      "[110]\ttrain-auc:0.972684\tvalid-auc:0.970818\n",
      "[115]\ttrain-auc:0.972893\tvalid-auc:0.970846\n",
      "[120]\ttrain-auc:0.973145\tvalid-auc:0.9709\n",
      "[125]\ttrain-auc:0.973371\tvalid-auc:0.970936\n",
      "[130]\ttrain-auc:0.973579\tvalid-auc:0.971029\n",
      "[135]\ttrain-auc:0.973722\tvalid-auc:0.971035\n",
      "[140]\ttrain-auc:0.973925\tvalid-auc:0.971133\n",
      "[145]\ttrain-auc:0.974137\tvalid-auc:0.971181\n",
      "[150]\ttrain-auc:0.974279\tvalid-auc:0.971223\n",
      "[155]\ttrain-auc:0.974464\tvalid-auc:0.971286\n",
      "[160]\ttrain-auc:0.974605\tvalid-auc:0.971322\n",
      "[165]\ttrain-auc:0.974739\tvalid-auc:0.971341\n",
      "[170]\ttrain-auc:0.974933\tvalid-auc:0.971386\n",
      "[175]\ttrain-auc:0.975081\tvalid-auc:0.971386\n",
      "[180]\ttrain-auc:0.97527\tvalid-auc:0.971399\n",
      "[185]\ttrain-auc:0.975382\tvalid-auc:0.971448\n",
      "[190]\ttrain-auc:0.975496\tvalid-auc:0.971482\n",
      "[195]\ttrain-auc:0.975605\tvalid-auc:0.971476\n"
     ]
    }
   ],
   "source": [
    "watchlist = [(dtrain, 'train'), (dvalid, 'valid')]\n",
    "xgb_model = xgb.train(params=params, dtrain=dtrain, num_boost_round=number_of_iter, evals=watchlist, \n",
    "                      early_stopping_rounds = 20, verbose_eval=5)"
   ]
  },
  {
   "cell_type": "code",
   "execution_count": 48,
   "metadata": {
    "collapsed": true
   },
   "outputs": [],
   "source": [
    "dtest = xgb.DMatrix(test_df[predictors])"
   ]
  },
  {
   "cell_type": "code",
   "execution_count": 49,
   "metadata": {},
   "outputs": [
    {
     "data": {
      "text/plain": [
       "28931"
      ]
     },
     "execution_count": 49,
     "metadata": {},
     "output_type": "execute_result"
    }
   ],
   "source": [
    "sub = pd.DataFrame()\n",
    "sub['click_id'] = test_df['click_id'].astype('int')\n",
    "gc.collect()"
   ]
  },
  {
   "cell_type": "code",
   "execution_count": 51,
   "metadata": {},
   "outputs": [
    {
     "name": "stdout",
     "output_type": "stream",
     "text": [
      "Predicting...\n",
      "writing...\n",
      "done...\n"
     ]
    }
   ],
   "source": [
    "print(\"Predicting...\")\n",
    "sub['is_attributed'] = xgb_model.predict(dtest, ntree_limit=xgb_model.best_ntree_limit)\n",
    "print(\"writing...\")\n",
    "save_path = 'xgboost_submission_{}.csv'.format(datetime.now().strftime('%Y%m%d_%H%M%S'))\n",
    "sub.to_csv(save_path, index=False)\n",
    "print(\"done...\")"
   ]
  },
  {
   "cell_type": "code",
   "execution_count": 52,
   "metadata": {},
   "outputs": [
    {
     "data": {
      "text/plain": [
       "0"
      ]
     },
     "execution_count": 52,
     "metadata": {},
     "output_type": "execute_result"
    }
   ],
   "source": [
    "output_path = \"gs://onead-gcpml/ninja_project/output\"\n",
    "cmd = 'gsutil cp {} {}'.format(save_path, output_path)\n",
    "subprocess.check_call(cmd, shell=True)"
   ]
  },
  {
   "cell_type": "code",
   "execution_count": 5,
   "metadata": {},
   "outputs": [
    {
     "data": {
      "text/plain": [
       "0"
      ]
     },
     "execution_count": 5,
     "metadata": {},
     "output_type": "execute_result"
    }
   ],
   "source": [
    "output_path = \"gs://onead-gcpml/ninja_project/output\"\n",
    "cmd = 'gsutil cp {} {}'.format('./sub_it.csv', output_path)\n",
    "subprocess.check_call(cmd, shell=True)"
   ]
  }
 ],
 "metadata": {
  "kernelspec": {
   "display_name": "Python 3",
   "language": "python",
   "name": "python3"
  },
  "language_info": {
   "codemirror_mode": {
    "name": "ipython",
    "version": 3
   },
   "file_extension": ".py",
   "mimetype": "text/x-python",
   "name": "python",
   "nbconvert_exporter": "python",
   "pygments_lexer": "ipython3",
   "version": "3.5.2"
  }
 },
 "nbformat": 4,
 "nbformat_minor": 2
}

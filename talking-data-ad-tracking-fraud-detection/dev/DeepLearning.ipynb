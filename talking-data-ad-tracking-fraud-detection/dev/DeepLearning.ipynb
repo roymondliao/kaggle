{
 "cells": [
  {
   "cell_type": "code",
   "execution_count": 1,
   "metadata": {
    "collapsed": false,
    "deletable": true,
    "editable": true
   },
   "outputs": [
    {
     "name": "stdout",
     "output_type": "stream",
     "text": [
      "Collecting keras\n",
      "  Downloading https://files.pythonhosted.org/packages/54/e8/eaff7a09349ae9bd40d3ebaf028b49f5e2392c771f294910f75bb608b241/Keras-2.1.6-py2.py3-none-any.whl (339kB)\n",
      "\u001b[K    100% |████████████████████████████████| 348kB 1.4MB/s ta 0:00:01\n",
      "\u001b[?25hCollecting pydot\n",
      "Collecting graphviz\n",
      "  Using cached https://files.pythonhosted.org/packages/05/e4/8fcc76823534d47f079c0ff1b3d8b57784e8fba63ceb1ded32c9f4dd993c/graphviz-0.8.2-py2.py3-none-any.whl\n",
      "Requirement already satisfied: scipy>=0.14 in /usr/local/envs/py3env/lib/python3.5/site-packages (from keras)\n",
      "Requirement already satisfied: six>=1.9.0 in /usr/local/envs/py3env/lib/python3.5/site-packages (from keras)\n",
      "Requirement already satisfied: h5py in /usr/local/envs/py3env/lib/python3.5/site-packages (from keras)\n",
      "Requirement already satisfied: numpy>=1.9.1 in /usr/local/envs/py3env/lib/python3.5/site-packages (from keras)\n",
      "Requirement already satisfied: pyyaml in /usr/local/envs/py3env/lib/python3.5/site-packages (from keras)\n",
      "Requirement already satisfied: pyparsing>=2.1.4 in /usr/local/envs/py3env/lib/python3.5/site-packages (from pydot)\n",
      "Installing collected packages: keras, pydot, graphviz\n",
      "Successfully installed graphviz-0.8.2 keras-2.1.6 pydot-1.2.4\n",
      "\u001b[33mYou are using pip version 9.0.1, however version 10.0.1 is available.\n",
      "You should consider upgrading via the 'pip install --upgrade pip' command.\u001b[0m\n"
     ]
    }
   ],
   "source": [
    "!pip install keras pydot graphviz"
   ]
  },
  {
   "cell_type": "code",
   "execution_count": 2,
   "metadata": {
    "collapsed": false,
    "deletable": true,
    "editable": true
   },
   "outputs": [
    {
     "name": "stderr",
     "output_type": "stream",
     "text": [
      "/usr/local/envs/py3env/lib/python3.5/site-packages/h5py/__init__.py:36: FutureWarning: Conversion of the second argument of issubdtype from `float` to `np.floating` is deprecated. In future, it will be treated as `np.float64 == np.dtype(float).type`.\n",
      "  from ._conv import register_converters as _register_converters\n"
     ]
    }
   ],
   "source": [
    "import numpy as np # linear algebra\n",
    "import pandas as pd # data processing, CSV file I/O (e.g. pd.read_csv)\n",
    "import time\n",
    "import os\n",
    "import gc\n",
    "import subprocess\n",
    "import multiprocessing\n",
    "from datetime import datetime\n",
    "from pathlib import Path\n",
    "from tensorflow.python.lib.io import file_io\n",
    "import tensorflow as tf\n",
    "import matplotlib.pyplot as plt\n",
    "from sklearn.preprocessing import LabelEncoder\n",
    "from sklearn.model_selection import train_test_split"
   ]
  },
  {
   "cell_type": "code",
   "execution_count": 3,
   "metadata": {
    "collapsed": false,
    "deletable": true,
    "editable": true
   },
   "outputs": [
    {
     "name": "stdout",
     "output_type": "stream",
     "text": [
      "Loading train data...\n",
      "Loading test data...\n",
      "CPU times: user 2min 34s, sys: 11.7 s, total: 2min 45s\n",
      "Wall time: 3min 52s\n"
     ]
    }
   ],
   "source": [
    "%%time\n",
    "main_path = Path('../input')\n",
    "# Any results you write to the current directory are saved as output.\n",
    "dtypes = {\n",
    "    'ip': 'uint32',\n",
    "    'app': 'uint16',\n",
    "    'device': 'uint16',\n",
    "    'os': 'uint16',\n",
    "    'channel': 'uint16',\n",
    "    'is_attributed': 'uint8',\n",
    "    'click_id': 'uint32'\n",
    "    }\n",
    "\n",
    "total_train_rows = 184903890\n",
    "train_rows = 40000000\n",
    "print('Loading train data...')\n",
    "train_data = pd.read_csv(main_path / 'train.csv', dtype=dtypes, \n",
    "                         skiprows=range(1, total_train_rows-train_rows), nrows=train_rows,\n",
    "                         parse_dates=['click_time'],\n",
    "                         usecols=['ip', 'app', 'device', 'os', 'channel', 'click_time', 'is_attributed'])\n",
    "\n",
    "print('Loading test data...')\n",
    "test_data = pd.read_csv(main_path / 'test.csv', dtype=dtypes, parse_dates=['click_time'], \n",
    "                        usecols=['ip', 'app', 'device', 'os', 'channel', 'click_time', 'click_id'])\n"
   ]
  },
  {
   "cell_type": "code",
   "execution_count": 4,
   "metadata": {
    "collapsed": true,
    "deletable": true,
    "editable": true
   },
   "outputs": [],
   "source": [
    "length_of_train = len(train_data)\n",
    "train_data = train_data.append(test_data)"
   ]
  },
  {
   "cell_type": "markdown",
   "metadata": {
    "deletable": true,
    "editable": true
   },
   "source": [
    "# Feature Engineering"
   ]
  },
  {
   "cell_type": "code",
   "execution_count": 5,
   "metadata": {
    "collapsed": false,
    "deletable": true,
    "editable": true
   },
   "outputs": [
    {
     "name": "stdout",
     "output_type": "stream",
     "text": [
      "Extract new time features...\n"
     ]
    },
    {
     "data": {
      "text/plain": [
       "21"
      ]
     },
     "execution_count": 5,
     "metadata": {},
     "output_type": "execute_result"
    }
   ],
   "source": [
    "print('Extract new time features...')\n",
    "train_data['hour'] = train_data['click_time'].dt.hour.astype('uint8')\n",
    "train_data['day'] = train_data['click_time'].dt.day.astype('uint8')\n",
    "gc.collect()"
   ]
  },
  {
   "cell_type": "code",
   "execution_count": 32,
   "metadata": {
    "collapsed": true
   },
   "outputs": [],
   "source": [
    "  def do_cumcount(data, group_cols, target_col, new_col_name, col_type):\n",
    "        print('[INFO] Count unique {} with group by {} combination...'.format(target_col, '-'.join(group_cols)))\n",
    "        cols = group_cols.copy()\n",
    "        cols.append(target_col)\n",
    "        group_data = data[cols].groupby(by=group_cols)[[target_col]].cumcount().reset_index().\\\n",
    "            rename(index=str, columns={target_col: new_col_name})\n",
    "        data[new_col_name] = group_data\n",
    "        del group_data\n",
    "        data[new_col_name] = data[new_col_name].astype(col_type)\n",
    "        gc.collect()\n",
    "        return data"
   ]
  },
  {
   "cell_type": "code",
   "execution_count": null,
   "metadata": {
    "collapsed": false
   },
   "outputs": [],
   "source": [
    "train_data = do_cumcount(data=train_data, group_cols=['ip'],\n",
    "                             target_col='channel', new_col_name='uni_ip_with_ch', col_type='uint32')\n"
   ]
  },
  {
   "cell_type": "code",
   "execution_count": null,
   "metadata": {
    "collapsed": true
   },
   "outputs": [],
   "source": [
    "train_data.head()"
   ]
  },
  {
   "cell_type": "code",
   "execution_count": null,
   "metadata": {
    "collapsed": false,
    "deletable": true,
    "editable": true
   },
   "outputs": [
    {
     "name": "stdout",
     "output_type": "stream",
     "text": [
      "Count channel with group by ip-day-hour combination...\n",
      "Count channel with group by ip-app combination...\n",
      "Count channel with group by ip-app-os combination...\n",
      "Compute var of hour with group by ip-day-channel combination...\n",
      "Compute var of hour with group by ip-app-os combination...\n",
      "Compute var of day with group by ip-app-channel combination...\n"
     ]
    }
   ],
   "source": [
    "# count channel with group by ip, day, hour\n",
    "print('Count channel with group by ip-day-hour combination...')\n",
    "group_data = train_data[['ip', 'day', 'hour', 'channel']].groupby(by=['ip', 'day', 'hour'])[['channel']].count().reset_index().rename(index=str, columns={'channel': 'ip_day_hour_count'})\n",
    "train_data = train_data.merge(group_data, on=['ip', 'day', 'hour'], how='left')\n",
    "del group_data\n",
    "gc.collect()\n",
    "\n",
    "# count channel with group by ip, app\n",
    "print('Count channel with group by ip-app combination...')\n",
    "group_data = train_data[['ip', 'app', 'channel']].groupby(by=['ip', 'app'])[['channel']].count().reset_index().rename(index=str, columns={'channel': 'ip_app_count'})\n",
    "train_data = train_data.merge(group_data, on=['ip', 'app'], how='left')\n",
    "del group_data\n",
    "gc.collect()\n",
    "\n",
    "# count channel with group by ip, app, os\n",
    "print('Count channel with group by ip-app-os combination...')\n",
    "group_data = train_data[['ip', 'app', 'os', 'channel']].groupby(by=['ip', 'app', 'os'])[['channel']].count().reset_index().rename(index=str, columns={'channel': 'ip_app_os_count'})\n",
    "train_data = train_data.merge(group_data, on=['ip', 'app', 'os'], how='left')\n",
    "del group_data\n",
    "gc.collect()\n",
    "\n",
    "# 以(ip, day, channel)為主，計算hour的變異數\n",
    "print('Compute var of hour with group by ip-day-channel combination...')\n",
    "group_data = train_data[['ip','day','hour','channel']].groupby(by=['ip','day','channel'])[['hour']].var().reset_index().rename(index=str, columns={'hour': 'ip_day_channel_var'})\n",
    "train_data = train_data.merge(group_data, on=['ip','day','channel'], how='left')\n",
    "del group_data\n",
    "gc.collect()\n",
    "\n",
    "print('Compute var of hour with group by ip-app-os combination...')\n",
    "group_data = train_data[['ip','app', 'os', 'hour']].groupby(by=['ip', 'app', 'os'])[['hour']].var().reset_index().rename(index=str, columns={'hour': 'ip_app_os_var'})\n",
    "train_data = train_data.merge(group_data, on=['ip','app', 'os'], how='left')\n",
    "del group_data\n",
    "gc.collect()\n",
    "\n",
    "# 以(ip, app, channel)為主，計算day的變異數\n",
    "print('Compute var of day with group by ip-app-channel combination...')\n",
    "group_data = train_data[['ip','app','channel', 'day']].groupby(by=['ip','app','channel'])[['day']].var().reset_index().rename(index=str, columns={'day': 'ip_app_channel_var_day'})\n",
    "train_data = train_data.merge(group_data, on=['ip','app','channel'], how='left')\n",
    "del group_data\n",
    "gc.collect()\n",
    "\n",
    "# 以(ip, app, channel)為主，計算hour的平均\n",
    "print('Compute mean of hour with group by ip-app-channel combination...')\n",
    "group_data = train_data[['ip','app','channel', 'hour']].groupby(by=['ip','app','channel'])[['hour']].mean().reset_index().rename(index=str, columns={'hour': 'ip_app_channel_mean_hour'})\n",
    "train_data = train_data.merge(group_data, on=['ip','app','channel'], how='left')\n",
    "del group_data\n",
    "gc.collect()"
   ]
  },
  {
   "cell_type": "code",
   "execution_count": 17,
   "metadata": {
    "collapsed": false,
    "deletable": true,
    "editable": true
   },
   "outputs": [
    {
     "data": {
      "text/plain": [
       "Index(['app', 'channel', 'click_id', 'click_time', 'device', 'ip',\n",
       "       'is_attributed', 'os', 'hour', 'day', 'ip_day_hour_count',\n",
       "       'ip_app_count', 'ip_app_os_count', 'ip_day_channel_var',\n",
       "       'ip_app_os_var', 'ip_app_channel_var_day', 'ip_app_channel_mean_hour'],\n",
       "      dtype='object')"
      ]
     },
     "execution_count": 17,
     "metadata": {},
     "output_type": "execute_result"
    }
   ],
   "source": [
    "train_data.columns"
   ]
  },
  {
   "cell_type": "code",
   "execution_count": 16,
   "metadata": {
    "collapsed": false,
    "deletable": true,
    "editable": true
   },
   "outputs": [
    {
     "name": "stdout",
     "output_type": "stream",
     "text": [
      "train size:  36000000\n",
      "valid size:  4000000\n",
      "test size :  18790469\n"
     ]
    }
   ],
   "source": [
    "split_probability = 0.1\n",
    "seed = 202109\n",
    "test_df = train_data[length_of_train:]\n",
    "train_df, validation_df = train_test_split(train_data[:length_of_train], \n",
    "                                           test_size=split_probability, \n",
    "                                           random_state=seed)\n",
    "#validation_df = train_data[(length_of_train-validation_boundary):length_of_train]\n",
    "#train_df = train_data[:(length_of_train-validation_boundary)]\n",
    "\n",
    "print(\"train size: \", len(train_df))\n",
    "print(\"valid size: \", len(validation_df))\n",
    "print(\"test size : \", len(test_df))"
   ]
  },
  {
   "cell_type": "code",
   "execution_count": 19,
   "metadata": {
    "collapsed": true,
    "deletable": true,
    "editable": true
   },
   "outputs": [],
   "source": [
    "target = 'is_attributed'\n",
    "categorical_features = [col for col in train_df.columns if col in ['app', 'device', 'os', 'channel', 'hour', 'day']]\n",
    "predictors = list(train_df.columns.get_values()).copy()\n",
    "predictors.remove(target)\n",
    "predictors.remove('click_id')\n"
   ]
  },
  {
   "cell_type": "code",
   "execution_count": 20,
   "metadata": {
    "collapsed": true,
    "deletable": true,
    "editable": true
   },
   "outputs": [],
   "source": [
    "y_train = train_df[target].values"
   ]
  },
  {
   "cell_type": "code",
   "execution_count": 21,
   "metadata": {
    "collapsed": false,
    "deletable": true,
    "editable": true
   },
   "outputs": [
    {
     "name": "stdout",
     "output_type": "stream",
     "text": [
      "neural network....\n"
     ]
    },
    {
     "name": "stderr",
     "output_type": "stream",
     "text": [
      "Using TensorFlow backend.\n"
     ]
    }
   ],
   "source": [
    "print ('neural network....')\n",
    "from keras.layers import Input, Embedding, Dense, Flatten, Dropout, concatenate\n",
    "from keras.layers import BatchNormalization, SpatialDropout1D\n",
    "from keras.callbacks import Callback\n",
    "from keras.models import Model\n",
    "from keras.optimizers import Adam"
   ]
  },
  {
   "cell_type": "code",
   "execution_count": 25,
   "metadata": {
    "collapsed": false,
    "deletable": true,
    "editable": true
   },
   "outputs": [
    {
     "data": {
      "text/plain": [
       "Index(['app', 'channel', 'click_id', 'click_time', 'device', 'ip',\n",
       "       'is_attributed', 'os', 'hour', 'day', 'ip_day_hour_count',\n",
       "       'ip_app_count', 'ip_app_os_count', 'ip_day_channel_var',\n",
       "       'ip_app_os_var', 'ip_app_channel_var_day', 'ip_app_channel_mean_hour'],\n",
       "      dtype='object')"
      ]
     },
     "execution_count": 25,
     "metadata": {},
     "output_type": "execute_result"
    }
   ],
   "source": [
    "test_df.columns"
   ]
  },
  {
   "cell_type": "code",
   "execution_count": 30,
   "metadata": {
    "collapsed": false,
    "deletable": true,
    "editable": true
   },
   "outputs": [],
   "source": [
    "max_app = np.max([train_df['app'].max(), test_df['app'].max()])+1\n",
    "max_ch = np.max([train_df['channel'].max(), test_df['channel'].max()])+1\n",
    "max_dev = np.max([train_df['device'].max(), test_df['device'].max()])+1\n",
    "max_os = np.max([train_df['os'].max(), test_df['os'].max()])+1\n",
    "max_h = np.max([train_df['hour'].max(), test_df['hour'].max()])+1\n",
    "max_d = np.max([train_df['day'].max(), test_df['day'].max()])+1\n",
    "max_c1 = np.max([train_df['ip_app_count'].max(), test_df['ip_app_count'].max()])+1\n",
    "max_c2 = np.max([train_df['ip_app_os_count'].max(), test_df['ip_app_os_count'].max()])+1\n",
    "def get_keras_data(dataset):\n",
    "    X = {\n",
    "        'app': np.array(dataset.app),\n",
    "        'ch': np.array(dataset.channel),\n",
    "        'dev': np.array(dataset.device),\n",
    "        'os': np.array(dataset.os),\n",
    "        'h': np.array(dataset.hour),\n",
    "        'd': np.array(dataset.day),\n",
    "        'c1': np.array(dataset.ip_app_count),\n",
    "        'c2': np.array(dataset.ip_app_os_count)\n",
    "    }\n",
    "    return X\n"
   ]
  },
  {
   "cell_type": "code",
   "execution_count": 31,
   "metadata": {
    "collapsed": false,
    "deletable": true,
    "editable": true
   },
   "outputs": [],
   "source": [
    "train_df = get_keras_data(train_df)"
   ]
  },
  {
   "cell_type": "code",
   "execution_count": 32,
   "metadata": {
    "collapsed": false,
    "deletable": true,
    "editable": true
   },
   "outputs": [
    {
     "data": {
      "text/plain": [
       "{'app': array([ 3, 26,  2, ...,  2, 12,  9], dtype=uint16),\n",
       " 'c1': array([ 790,   55, 2938, ...,   89, 2682,   58]),\n",
       " 'c2': array([59,  1, 45, ...,  4, 19, 14]),\n",
       " 'ch': array([137, 121, 205, ..., 401, 259, 232], dtype=uint16),\n",
       " 'd': array([9, 9, 9, ..., 9, 9, 9], dtype=uint8),\n",
       " 'dev': array([1, 1, 1, ..., 1, 1, 1], dtype=uint16),\n",
       " 'h': array([ 5,  4, 13, ...,  4, 13,  7], dtype=uint8),\n",
       " 'os': array([22, 10, 23, ..., 53, 28, 15], dtype=uint16)}"
      ]
     },
     "execution_count": 32,
     "metadata": {},
     "output_type": "execute_result"
    }
   ],
   "source": [
    "train_df"
   ]
  },
  {
   "cell_type": "code",
   "execution_count": 37,
   "metadata": {
    "collapsed": true,
    "deletable": true,
    "editable": true
   },
   "outputs": [],
   "source": [
    "emb_n = 50\n",
    "dense_n = 1000\n",
    "input_app = Input(shape=[1], name='app')\n",
    "embending_app = Embedding(max_app, emb_n)(input_app)\n",
    "\n",
    "input_ch = Input(shape=[1], name='ch')\n",
    "embending_ch = Embedding(max_ch, emb_n)(input_ch)\n",
    "\n",
    "input_dev = Input(shape=[1], name='dev')\n",
    "embending_dev = Embedding(max_dev, emb_n)(input_dev)\n",
    "\n",
    "input_os = Input(shape=[1], name='os')\n",
    "embending_os = Embedding(max_os, emb_n)(input_os)\n",
    "\n",
    "input_h = Input(shape=[1], name='h')\n",
    "embending_h = Embedding(max_h, emb_n)(input_h)\n",
    "\n",
    "input_d = Input(shape=[1], name='d')\n",
    "embending_d = Embedding(max_d, emb_n)(input_d)\n",
    "\n",
    "input_c1 = Input(shape=[1], name='c1')\n",
    "embending_c1 = Embedding(max_c1, emb_n)(input_c1)\n",
    "\n",
    "input_c2 = Input(shape=[1], name='c2')\n",
    "embending_c2 = Embedding(max_c2, emb_n)(input_c2)\n"
   ]
  },
  {
   "cell_type": "code",
   "execution_count": 38,
   "metadata": {
    "collapsed": false,
    "deletable": true,
    "editable": true
   },
   "outputs": [],
   "source": [
    "fe = concatenate([(embending_app), (embending_ch), (embending_dev), (embending_os), (embending_h),\n",
    "                  (embending_d), (embending_c1), (embending_c2)])\n",
    "s_drop_out = SpatialDropout1D(0.2)(fe)"
   ]
  },
  {
   "cell_type": "code",
   "execution_count": 39,
   "metadata": {
    "collapsed": false,
    "deletable": true,
    "editable": true
   },
   "outputs": [
    {
     "name": "stderr",
     "output_type": "stream",
     "text": [
      "/usr/local/envs/py3env/lib/python3.5/site-packages/ipykernel/__main__.py:6: UserWarning: Update your `Model` call to the Keras 2 API: `Model(inputs=[<tf.Tenso..., outputs=Tensor(\"de...)`\n"
     ]
    }
   ],
   "source": [
    "x = Flatten()(s_drop_out)\n",
    "x = Dropout(0.2)(Dense(dense_n, activation='relu')(x))\n",
    "x = Dropout(0.2)(Dense(dense_n, activation='relu')(x))\n",
    "output_result = Dense(1, activation='sigmoid')(x)\n",
    "model = Model(input=[input_app, input_ch, input_dev, input_os, input_h, input_d, input_c1, input_c2], \n",
    "              output=output_result)"
   ]
  },
  {
   "cell_type": "code",
   "execution_count": 41,
   "metadata": {
    "collapsed": false,
    "deletable": true,
    "editable": true
   },
   "outputs": [
    {
     "name": "stdout",
     "output_type": "stream",
     "text": [
      "__________________________________________________________________________________________________\n",
      "Layer (type)                    Output Shape         Param #     Connected to                     \n",
      "==================================================================================================\n",
      "app (InputLayer)                (None, 1)            0                                            \n",
      "__________________________________________________________________________________________________\n",
      "ch (InputLayer)                 (None, 1)            0                                            \n",
      "__________________________________________________________________________________________________\n",
      "dev (InputLayer)                (None, 1)            0                                            \n",
      "__________________________________________________________________________________________________\n",
      "os (InputLayer)                 (None, 1)            0                                            \n",
      "__________________________________________________________________________________________________\n",
      "h (InputLayer)                  (None, 1)            0                                            \n",
      "__________________________________________________________________________________________________\n",
      "d (InputLayer)                  (None, 1)            0                                            \n",
      "__________________________________________________________________________________________________\n",
      "c1 (InputLayer)                 (None, 1)            0                                            \n",
      "__________________________________________________________________________________________________\n",
      "c2 (InputLayer)                 (None, 1)            0                                            \n",
      "__________________________________________________________________________________________________\n",
      "embedding_9 (Embedding)         (None, 1, 50)        38450       app[0][0]                        \n",
      "__________________________________________________________________________________________________\n",
      "embedding_10 (Embedding)        (None, 1, 50)        25050       ch[0][0]                         \n",
      "__________________________________________________________________________________________________\n",
      "embedding_11 (Embedding)        (None, 1, 50)        211400      dev[0][0]                        \n",
      "__________________________________________________________________________________________________\n",
      "embedding_12 (Embedding)        (None, 1, 50)        47850       os[0][0]                         \n",
      "__________________________________________________________________________________________________\n",
      "embedding_13 (Embedding)        (None, 1, 50)        850         h[0][0]                          \n",
      "__________________________________________________________________________________________________\n",
      "embedding_14 (Embedding)        (None, 1, 50)        550         d[0][0]                          \n",
      "__________________________________________________________________________________________________\n",
      "embedding_15 (Embedding)        (None, 1, 50)        3800650     c1[0][0]                         \n",
      "__________________________________________________________________________________________________\n",
      "embedding_16 (Embedding)        (None, 1, 50)        773000      c2[0][0]                         \n",
      "__________________________________________________________________________________________________\n",
      "concatenate_3 (Concatenate)     (None, 1, 400)       0           embedding_9[0][0]                \n",
      "                                                                 embedding_10[0][0]               \n",
      "                                                                 embedding_11[0][0]               \n",
      "                                                                 embedding_12[0][0]               \n",
      "                                                                 embedding_13[0][0]               \n",
      "                                                                 embedding_14[0][0]               \n",
      "                                                                 embedding_15[0][0]               \n",
      "                                                                 embedding_16[0][0]               \n",
      "__________________________________________________________________________________________________\n",
      "spatial_dropout1d_2 (SpatialDro (None, 1, 400)       0           concatenate_3[0][0]              \n",
      "__________________________________________________________________________________________________\n",
      "flatten_2 (Flatten)             (None, 400)          0           spatial_dropout1d_2[0][0]        \n",
      "__________________________________________________________________________________________________\n",
      "dense_4 (Dense)                 (None, 1000)         401000      flatten_2[0][0]                  \n",
      "__________________________________________________________________________________________________\n",
      "dropout_3 (Dropout)             (None, 1000)         0           dense_4[0][0]                    \n",
      "__________________________________________________________________________________________________\n",
      "dense_5 (Dense)                 (None, 1000)         1001000     dropout_3[0][0]                  \n",
      "__________________________________________________________________________________________________\n",
      "dropout_4 (Dropout)             (None, 1000)         0           dense_5[0][0]                    \n",
      "__________________________________________________________________________________________________\n",
      "dense_6 (Dense)                 (None, 1)            1001        dropout_4[0][0]                  \n",
      "==================================================================================================\n",
      "Total params: 6,300,801\n",
      "Trainable params: 6,300,801\n",
      "Non-trainable params: 0\n",
      "__________________________________________________________________________________________________\n"
     ]
    }
   ],
   "source": [
    "model.summary()"
   ]
  },
  {
   "cell_type": "code",
   "execution_count": null,
   "metadata": {
    "collapsed": true,
    "deletable": true,
    "editable": true
   },
   "outputs": [],
   "source": []
  }
 ],
 "metadata": {
  "kernelspec": {
   "display_name": "Python 3",
   "language": "python",
   "name": "python3"
  },
  "language_info": {
   "codemirror_mode": {
    "name": "ipython",
    "version": 3
   },
   "file_extension": ".py",
   "mimetype": "text/x-python",
   "name": "python",
   "nbconvert_exporter": "python",
   "pygments_lexer": "ipython3",
   "version": "3.5.5"
  }
 },
 "nbformat": 4,
 "nbformat_minor": 2
}

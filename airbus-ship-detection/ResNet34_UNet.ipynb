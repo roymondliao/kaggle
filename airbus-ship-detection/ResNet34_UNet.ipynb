{
 "cells": [
  {
   "cell_type": "code",
   "execution_count": 1,
   "metadata": {},
   "outputs": [
    {
     "name": "stderr",
     "output_type": "stream",
     "text": [
      "Using TensorFlow backend.\n"
     ]
    }
   ],
   "source": [
    "import numpy as np\n",
    "import pandas as pd\n",
    "import six\n",
    "from random import randint\n",
    "import matplotlib.pyplot as plt\n",
    "plt.style.use('seaborn-white')\n",
    "import seaborn as sns\n",
    "sns.set_style(\"white\")\n",
    "import keras\n",
    "from sklearn.model_selection import train_test_split\n",
    "from pathlib import Path\n",
    "from skimage import io\n",
    "from skimage.segmentation import mark_boundaries\n",
    "from skimage.util import montage2d as montage\n",
    "from skimage.morphology import label\n",
    "from skimage.transform import resize\n",
    "from keras import Model\n",
    "from keras.callbacks import EarlyStopping, ModelCheckpoint, ReduceLROnPlateau\n",
    "from keras.models import load_model\n",
    "from keras.optimizers import Adam\n",
    "from keras.utils.vis_utils import plot_model\n",
    "from keras.preprocessing.image import ImageDataGenerator\n",
    "from keras.layers import Input, Conv2D, Conv2DTranspose, MaxPooling2D, concatenate, Dropout,BatchNormalization\n",
    "from keras.layers import Conv2D, Concatenate, MaxPooling2D\n",
    "from keras.layers import UpSampling2D, Dropout, BatchNormalization\n",
    "from tqdm import tqdm_notebook\n",
    "from keras import initializers\n",
    "from keras import regularizers\n",
    "from keras import constraints\n",
    "from keras.utils import conv_utils\n",
    "from keras.utils.data_utils import get_file\n",
    "from keras.engine.topology import get_source_inputs\n",
    "from keras.engine import InputSpec\n",
    "from keras import backend as K\n",
    "from keras.regularizers import l2\n",
    "from keras.engine.topology import Input\n",
    "from keras.engine.training import Model\n",
    "from keras import losses, optimizers\n",
    "from keras.layers.convolutional import Conv2D, UpSampling2D, Conv2DTranspose\n",
    "from keras.layers.core import Activation, SpatialDropout2D\n",
    "from keras.layers.merge import concatenate,add\n",
    "from keras.layers.normalization import BatchNormalization\n",
    "from keras.layers.pooling import MaxPooling2D\n",
    "from keras.layers import Conv2D\n",
    "from keras.layers import GlobalAveragePooling2D\n",
    "from keras.layers import ZeroPadding2D\n",
    "from keras.layers import Dense\n",
    "from keras.layers import Add\n",
    "from distutils.version import StrictVersion\n",
    "from pathlib import Path\n",
    "import os\n",
    "import gc\n",
    "if StrictVersion(keras.__version__) < StrictVersion('2.2.0'):\n",
    "    from keras.applications.imagenet_utils import _obtain_input_shape\n",
    "else:\n",
    "    from keras_applications.imagenet_utils import _obtain_input_shape"
   ]
  },
  {
   "cell_type": "code",
   "execution_count": 2,
   "metadata": {},
   "outputs": [],
   "source": [
    "data_folder = Path('/home/yuyuliao/ninja_project/data/airbus/')\n",
    "masks = pd.read_csv(str(data_folder / 'train_ship_segmentations_v2.csv'))\n",
    "train_path = data_folder / 'train'\n",
    "valid_path = data_folder / 'test'\n",
    "test_path = data_folder / 'test'\n",
    "train_images_list = os.listdir(str(train_path))\n",
    "test_images_list = os.listdir(str(test_path))\n",
    "has_ship_data = pd.read_csv('./has_ship_data.csv')"
   ]
  },
  {
   "cell_type": "code",
   "execution_count": 3,
   "metadata": {},
   "outputs": [],
   "source": [
    "masks = masks[masks['ImageId'] != '6384c3e78.jpg']"
   ]
  },
  {
   "cell_type": "code",
   "execution_count": 4,
   "metadata": {},
   "outputs": [],
   "source": [
    "BATCH_SIZE = 4\n",
    "EDGE_CROP = 16\n",
    "NB_EPOCHS = 10\n",
    "GAUSSIAN_NOISE = 0.1\n",
    "UPSAMPLE_MODE = 'SAMPLE'\n",
    "# Downsampling inside the network\n",
    "NET_SCALING = None\n",
    "\n",
    "# Downsampling in preprocessing\n",
    "IMG_SCALING = (1, 1)\n",
    "\n",
    "# Number of validation images to use\n",
    "VALID_IMG_COUNT = 400\n",
    "\n",
    "# Maximum number of steps_per_epoch in training\n",
    "MAX_TRAIN_STEPS = 200\n",
    "AUGMENT_BRIGHTNESS = False"
   ]
  },
  {
   "cell_type": "code",
   "execution_count": 5,
   "metadata": {},
   "outputs": [],
   "source": [
    "masks['ships'] = masks['EncodedPixels'].map(lambda row: 1 if isinstance(row, str) else 0)\n",
    "unique_img_ids = masks.groupby('ImageId').agg({'ships': 'sum'}).reset_index()\n",
    "unique_img_ids['has_ship'] = unique_img_ids['ships'].map(lambda x: 1.0 if x > 0 else 0.0)\n",
    "unique_img_ids['has_ship_vec'] = unique_img_ids['has_ship'].map(lambda x: [x])\n",
    "masks.drop(['ships'], axis=1, inplace=True)\n"
   ]
  },
  {
   "cell_type": "markdown",
   "metadata": {},
   "source": [
    "Using only has ship data to training the model"
   ]
  },
  {
   "cell_type": "code",
   "execution_count": 6,
   "metadata": {},
   "outputs": [
    {
     "data": {
      "text/plain": [
       "(42556, 4)"
      ]
     },
     "execution_count": 6,
     "metadata": {},
     "output_type": "execute_result"
    }
   ],
   "source": [
    "tmp_unique_img_ids = unique_img_ids[unique_img_ids['has_ship'] > 0]\n",
    "tmp_unique_img_ids.shape"
   ]
  },
  {
   "cell_type": "markdown",
   "metadata": {},
   "source": [
    "Use the file size to filter the data"
   ]
  },
  {
   "cell_type": "code",
   "execution_count": null,
   "metadata": {},
   "outputs": [],
   "source": [
    "#unique_img_ids['file_size_kb'] = unique_img_ids['ImageId'].map(lambda img_id: os.stat(str(train_path / img_id)).st_size/1024)\n",
    "#tmp_unique_img_ids = unique_img_ids[unique_img_ids['file_size_kb'] > 50 ] # keep only greater 50 kb files\n"
   ]
  },
  {
   "cell_type": "code",
   "execution_count": 7,
   "metadata": {},
   "outputs": [],
   "source": [
    "train_ids, valid_ids = train_test_split(tmp_unique_img_ids, \n",
    "                                        test_size=0.3, \n",
    "                                        stratify=tmp_unique_img_ids['has_ship'])"
   ]
  },
  {
   "cell_type": "code",
   "execution_count": 8,
   "metadata": {},
   "outputs": [
    {
     "name": "stdout",
     "output_type": "stream",
     "text": [
      "Train images:57236\n",
      "Valid images:24487\n"
     ]
    },
    {
     "data": {
      "text/plain": [
       "21"
      ]
     },
     "execution_count": 8,
     "metadata": {},
     "output_type": "execute_result"
    }
   ],
   "source": [
    "train_df = pd.merge(masks, train_ids)\n",
    "valid_df = pd.merge(masks, valid_ids)\n",
    "print('Train images:{}'.format(train_df.shape[0]))\n",
    "print('Valid images:{}'.format(valid_df.shape[0]))\n",
    "del tmp_unique_img_ids\n",
    "gc.collect()"
   ]
  },
  {
   "cell_type": "code",
   "execution_count": 9,
   "metadata": {},
   "outputs": [
    {
     "data": {
      "text/plain": [
       "1     18993\n",
       "2     10666\n",
       "3      6261\n",
       "4      4480\n",
       "5      3240\n",
       "6      2772\n",
       "7      2037\n",
       "8      1880\n",
       "9      1494\n",
       "10     1170\n",
       "12     1128\n",
       "11     1056\n",
       "14      840\n",
       "15      660\n",
       "13      559\n",
       "Name: ships, dtype: int64"
      ]
     },
     "execution_count": 9,
     "metadata": {},
     "output_type": "execute_result"
    }
   ],
   "source": [
    "train_df['ships'].value_counts()\n",
    "\n"
   ]
  },
  {
   "cell_type": "code",
   "execution_count": 10,
   "metadata": {},
   "outputs": [
    {
     "data": {
      "text/plain": [
       "(24000, 6)"
      ]
     },
     "execution_count": 10,
     "metadata": {},
     "output_type": "execute_result"
    }
   ],
   "source": [
    "train_df['grouped_ship_count'] = train_df['ships'].map(lambda x: (x + 1) // 2).clip(0, 15)\n",
    "\n",
    "def sample_ships(in_df, base_rep_val=3000):\n",
    "    if in_df['ships'].values[0] == 0:\n",
    "        return in_df.sample(base_rep_val // 3)\n",
    "    else:\n",
    "        return in_df.sample(base_rep_val, replace=(in_df.shape[0] < base_rep_val))\n",
    "\n",
    "balanced_train_df = train_df.groupby('grouped_ship_count').apply(sample_ships)\n",
    "balanced_train_df.shape"
   ]
  },
  {
   "cell_type": "code",
   "execution_count": 11,
   "metadata": {},
   "outputs": [],
   "source": [
    "def rle_encode(img):\n",
    "    '''\n",
    "    img: numpy array, 1 - mask, 0 - background\n",
    "    Returns run length as string formated\n",
    "    '''\n",
    "    pixels = img.T.flatten()\n",
    "    pixels = np.concatenate([[0], pixels, [0]])\n",
    "    runs = np.where(pixels[1:] != pixels[:-1])[0] + 1\n",
    "    runs[1::2] -= runs[::2]\n",
    "    return ' '.join(str(x) for x in runs)\n",
    "\n",
    "def rle_deconde(mask_rle, shape=(768, 768)):\n",
    "    '''\n",
    "    mask_rle: run-length as string formated (start length)\n",
    "    shape: (height,width) of array to return \n",
    "    Returns numpy array, 1 - mask, 0 - background\n",
    "    '''\n",
    "    s = mask_rle.split()\n",
    "    starts, lengths = [np.asarray(x , dtype=int) for x in (s[0:][::2], s[1:][::2])]\n",
    "    starts -= 1\n",
    "    ends = starts + lengths\n",
    "    img = np.zeros(shape[0] * shape[1], dtype=np.uint8)\n",
    "    for lo, hi in zip(starts, ends):\n",
    "        img[lo:hi] = 1\n",
    "    return img.reshape(shape).T\n",
    "\n",
    "def multi_rle_encode(img):\n",
    "    # labels 兩個像素點如果相鄰且同值 ，則為 1 or 0；不同則反之。用來進行標記\n",
    "    labels = label(img[:, :, 0])\n",
    "    return [rle_encode(labels==k) for k in np.unique(labels[labels > 0])]\n",
    "\n",
    "def masks_as_image(in_mask_list):\n",
    "    all_masks = np.zeros((768, 768), dtype=np.int16)\n",
    "    for mask in in_mask_list:\n",
    "        if isinstance(mask, str):\n",
    "            all_masks += rle_deconde(mask)\n",
    "    return np.expand_dims(all_masks, -1) # 在最後面延伸一個維度"
   ]
  },
  {
   "cell_type": "code",
   "execution_count": 12,
   "metadata": {},
   "outputs": [],
   "source": [
    "def make_image_gen(in_df, batch_size=BATCH_SIZE):\n",
    "    all_batchs = list(in_df.groupby('ImageId'))\n",
    "    out_rgb = []\n",
    "    out_mask = []\n",
    "    while True:\n",
    "        np.random.shuffle(all_batchs)\n",
    "        for c_img_id, c_masks in all_batchs:\n",
    "            rgb_path = str(train_path / c_img_id)\n",
    "            c_img = io.imread(rgb_path)\n",
    "            c_mask = masks_as_image(c_masks['EncodedPixels'].values) \n",
    "            if IMG_SCALING is not None:\n",
    "                c_img = c_img[::IMG_SCALING[0], ::IMG_SCALING[1]]\n",
    "                c_mask = c_mask[::IMG_SCALING[0], ::IMG_SCALING[1]]\n",
    "            out_rgb += [c_img]\n",
    "            out_mask += [c_mask]\n",
    "            if len(out_rgb) >= batch_size:\n",
    "                yield np.stack(out_rgb, 0) / 255.0, np.stack(out_mask, 0)\n",
    "                out_rgb, out_mask = [], []"
   ]
  },
  {
   "cell_type": "code",
   "execution_count": 13,
   "metadata": {},
   "outputs": [
    {
     "name": "stdout",
     "output_type": "stream",
     "text": [
      "x (4, 768, 768, 3) 0.0 1.0\n",
      "y (4, 768, 768, 1) 0 1\n"
     ]
    }
   ],
   "source": [
    "train_gen = make_image_gen(balanced_train_df)\n",
    "train_x, train_y = next(train_gen)\n",
    "print('x', train_x.shape, train_x.min(), train_x.max())\n",
    "print('y', train_y.shape, train_y.min(), train_y.max())"
   ]
  },
  {
   "cell_type": "code",
   "execution_count": 14,
   "metadata": {},
   "outputs": [
    {
     "name": "stdout",
     "output_type": "stream",
     "text": [
      "(400, 768, 768, 3) (400, 768, 768, 1)\n"
     ]
    }
   ],
   "source": [
    "valid_x, valid_y = next(make_image_gen(valid_df, VALID_IMG_COUNT))\n",
    "print(valid_x.shape, valid_y.shape)\n"
   ]
  },
  {
   "cell_type": "code",
   "execution_count": 15,
   "metadata": {},
   "outputs": [],
   "source": [
    "from keras.preprocessing.image import ImageDataGenerator\n",
    "dg_args = dict(\n",
    "    featurewise_center=False,\n",
    "    samplewise_center=False,\n",
    "    rotation_range=15,\n",
    "    width_shift_range=0.1,\n",
    "    height_shift_range=0.1,\n",
    "    shear_range=0.01,\n",
    "    zoom_range=[0.9, 1.25],\n",
    "    horizontal_flip=True,\n",
    "    vertical_flip=True,\n",
    "    fill_mode='reflect',\n",
    "    data_format='channels_last'\n",
    "    )\n",
    "\n",
    "# brightness can be problematic since it seems to change \n",
    "# the labels differently from the images \n",
    "if AUGMENT_BRIGHTNESS:\n",
    "    dg_args[' brightness_range'] = [0.5, 1.5]\n",
    "\n",
    "image_gen = ImageDataGenerator(**dg_args)\n",
    "\n",
    "if AUGMENT_BRIGHTNESS:\n",
    "    dg_args.pop('brightness_range')\n",
    "    \n",
    "label_gen = ImageDataGenerator(**dg_args)\n",
    "\n",
    "def create_aug_gen(in_gen, seed=202109):\n",
    "    for in_x, in_y in in_gen:\n",
    "        g_x = image_gen.flow(255 * in_x, \n",
    "                             batch_size=in_x.shape[0],\n",
    "                             seed=seed,\n",
    "                             shuffle=True)\n",
    "        g_y = label_gen.flow(in_y, \n",
    "                             batch_size=in_y.shape[0],\n",
    "                             seed=seed,\n",
    "                             shuffle=True)\n",
    "        yield next(g_x) / 255.0, next(g_y)"
   ]
  },
  {
   "cell_type": "code",
   "execution_count": 16,
   "metadata": {},
   "outputs": [
    {
     "name": "stdout",
     "output_type": "stream",
     "text": [
      "x (4, 768, 768, 3) float32 0.0 0.99977106\n",
      "y (4, 768, 768, 1) float32 0.0 1.0\n"
     ]
    }
   ],
   "source": [
    "cur_gen = create_aug_gen(train_gen)\n",
    "t_x, t_y = next(cur_gen)\n",
    "print('x', t_x.shape, t_x.dtype, t_x.min(), t_x.max())\n",
    "print('y', t_y.shape, t_y.dtype, t_y.min(), t_y.max())"
   ]
  },
  {
   "cell_type": "markdown",
   "metadata": {},
   "source": [
    "# Unet model - Decoder\n",
    "\n",
    "Custom U-Net with Resnet34 backbone as encoder, Unet34"
   ]
  },
  {
   "cell_type": "code",
   "execution_count": 17,
   "metadata": {},
   "outputs": [],
   "source": [
    "def handle_block_names_decode(stage):\n",
    "    conv_name = 'decoder_stage{}_conv'.format(stage)\n",
    "    bn_name = 'decoder_stage{}_bn'.format(stage)\n",
    "    relu_name = 'decoder_stage{}_relu'.format(stage)\n",
    "    up_name = 'decoder_stage{}_upsample'.format(stage)\n",
    "    return conv_name, bn_name, relu_name, up_name\n",
    "\n",
    "def Upsample2D_block(filters, stage, kernal_size=(3, 3), upsample_rate=(2, 2),\n",
    "                     batch_norm=False, skip=None):\n",
    "    def layer(input_tensor):\n",
    "        conv_name, bn_name, relu_name, up_name = handle_block_names_decode(stage)\n",
    "        x = UpSampling2D(size=upsample_rate, name=up_name)(input_tensor)\n",
    "        print(x, skip)\n",
    "        if skip is not None:\n",
    "            x = Concatenate()([x, skip])\n",
    "        x = Conv2D(filters, kernal_size, padding='same', name=conv_name + '1')(x)\n",
    "        \n",
    "        if batch_norm:\n",
    "            x = BatchNormalization(name=bn_name + '1')(x)\n",
    "        x = Activation('relu', name=relu_name + '1')(x)\n",
    "        \n",
    "        x = Conv2D(filters, kernal_size, padding='same', name=conv_name + '2')(x)\n",
    "        if batch_norm:\n",
    "            x = BatchNormalization(name=bn_name + '2')(x)\n",
    "        x = Activation('relu', name=relu_name + '2')(x)\n",
    "        return x\n",
    "    return layer\n",
    "\n",
    "def Transpose2D_block(filters, stage, kernel_size=(3, 3), upsample_rate=(2, 2),\n",
    "                      transpose_kernel_size=(4, 4), batch_norm=False, skip=None):\n",
    "    def layer(input_tensor):\n",
    "        conv_name, bn_name, relu_name, up_name = handle_block_names_decode(stage)\n",
    "        x = Conv2DTranspose(filters, transpose_kernel_size, strides=upsample_rate,\n",
    "                            padding='same', name=up_name)(input_tensor)\n",
    "        if batch_norm:\n",
    "            x = BatchNormalization(name=bn_name + '1')(x)\n",
    "        x = Activation('relu', name=relu_name + '1')(x)\n",
    "\n",
    "        if skip is not None:\n",
    "            x = Concatenate()([x, skip])\n",
    "\n",
    "        x = Conv2D(filters, kernel_size, padding='same', name=conv_name+'2')(x)\n",
    "        if batch_norm:\n",
    "            x = BatchNormalization(name=bn_name + '2')(x)\n",
    "        x = Activation('relu', name=relu_name + '2')(x)\n",
    "        return x\n",
    "    return layer\n",
    "            "
   ]
  },
  {
   "cell_type": "code",
   "execution_count": 18,
   "metadata": {},
   "outputs": [],
   "source": [
    "def build_unet(backbone, \n",
    "               classes, \n",
    "               last_block_filters, \n",
    "               skip_layers, \n",
    "               n_upsample_blocks=5,\n",
    "               upsmaple_rates=(2, 2, 2, 2, 2), \n",
    "               block_type='upsampling', \n",
    "               activation='sigmoid',\n",
    "               **kwargs):\n",
    "    input = backbone.input\n",
    "    x = backbone.output\n",
    "    print(x)\n",
    "    if block_type == 'transpose':\n",
    "        up_block = Transpose2D_block\n",
    "    else:\n",
    "        up_block = Upsample2D_block\n",
    "    \n",
    "    # Convert layer name to indices\n",
    "    skip_layers = ([get_layer_number(backbone, l) if isinstance(l, str) else l \n",
    "                    for l in skip_layers])\n",
    "    for i in range(n_upsample_blocks):\n",
    "        # Check if there is a skip connection\n",
    "        if i < len(skip_layers):\n",
    "            print(backbone.layers[skip_layers[i]])\n",
    "            print(backbone.layers[skip_layers[i]].output)\n",
    "            skip = backbone.layers[skip_layers[i]].output\n",
    "        else:\n",
    "            skip = None\n",
    "\n",
    "        up_size = (upsmaple_rates[i], upsmaple_rates[i])\n",
    "        filters = last_block_filters * 2**(n_upsample_blocks - (i + 1))\n",
    "\n",
    "        x = up_block(filters, i, upsample_rate=up_size, skip=skip, **kwargs)(x)\n",
    "        \n",
    "    if classes < 2:\n",
    "        activation = 'sigmoid'\n",
    "        \n",
    "    x = Conv2D(classes, (3, 3), padding='same', name='final_conv')(x)\n",
    "    x = Activation(activation, name=activation)(x)\n",
    "    \n",
    "    model = Model(input, x)\n",
    "    return model\n",
    "        "
   ]
  },
  {
   "cell_type": "markdown",
   "metadata": {},
   "source": [
    "# ResNet34 model - encoder"
   ]
  },
  {
   "cell_type": "code",
   "execution_count": 19,
   "metadata": {},
   "outputs": [],
   "source": [
    "def handle_block_names(stage, block):\n",
    "    name_base = 'stage{}_unit{}_'.format(stage + 1, block + 1)\n",
    "    conv_name = name_base + 'conv'\n",
    "    bn_name = name_base + 'bn'\n",
    "    relu_name = name_base + 'relu'\n",
    "    sc_name = name_base + 'sc' # shortcut\n",
    "    return conv_name, bn_name, relu_name, sc_name\n",
    "\n",
    "def basic_identity_block(filters, stage, block):\n",
    "\n",
    "    def layer(input_tensor):\n",
    "        conv_params = get_conv_params()\n",
    "        bn_params = get_bn_params()\n",
    "        conv_name, bn_name, relu_name, sc_name = handle_block_names(stage, block)\n",
    "\n",
    "        x = BatchNormalization(name=bn_name + '1', **bn_params)(input_tensor)\n",
    "        x = Activation('relu', name=relu_name + '1')(x)\n",
    "        x = ZeroPadding2D(padding=(1, 1))(x)\n",
    "        x = Conv2D(filters, (3, 3), name=conv_name + '1', **conv_params)(x)\n",
    "\n",
    "        x = BatchNormalization(name=bn_name + '2', **bn_params)(x)\n",
    "        x = Activation('relu', name=relu_name + '2')(x)\n",
    "        x = ZeroPadding2D(padding=(1, 1))(x)\n",
    "        x = Conv2D(filters, (3, 3), name=conv_name + '2', **conv_params)(x)\n",
    "\n",
    "        x = Add()([x, input_tensor])\n",
    "        return x\n",
    "\n",
    "    return layer\n",
    "\n",
    "def basic_conv_block(filters, stage, block, strides=(2, 2)):\n",
    "    def layer(input_tensor):\n",
    "        conv_params = get_conv_params()\n",
    "        bn_params = get_bn_params()\n",
    "        conv_name, bn_name, relu_name, sc_name = handle_block_names(stage, block)\n",
    "\n",
    "        x = BatchNormalization(name=bn_name + '1', **bn_params)(input_tensor)\n",
    "        x = Activation('relu', name=relu_name + '1')(x)\n",
    "        shortcut = x\n",
    "        x = ZeroPadding2D(padding=(1, 1))(x)\n",
    "        x = Conv2D(filters, (3, 3), strides=strides, name=conv_name + '1', **conv_params)(x)\n",
    "\n",
    "        x = BatchNormalization(name=bn_name + '2', **bn_params)(x)\n",
    "        x = Activation('relu', name=relu_name + '2')(x)\n",
    "        x = ZeroPadding2D(padding=(1, 1))(x)\n",
    "        x = Conv2D(filters, (3, 3), name=conv_name + '2', **conv_params)(x)\n",
    "\n",
    "        shortcut = Conv2D(filters, (1, 1), name=sc_name, strides=strides, **conv_params)(shortcut)\n",
    "        x = Add()([x, shortcut])\n",
    "        return x\n",
    "\n",
    "    return layer\n",
    "\n",
    "def conv_block(filters, stage, block, strides=(2, 2)):\n",
    "    def layer(input_tensor):\n",
    "        conv_params = get_conv_params()\n",
    "        bn_params = get_bn_params()\n",
    "        conv_name, bn_name, relu_name, sc_name = handle_block_names(stage, block)\n",
    "        \n",
    "        x = BatchNormalization(name=bn_name + '1', **bn_params)(input_tensor)\n",
    "        x = Activation('relu', name=relu_name + '1')(x)\n",
    "        shortcut = x\n",
    "        x = Conv2D(filters, (1, 1), name=conv_name + '1', **conv_params)(x)\n",
    "        \n",
    "        x = BatchNormalization(name=bn_name + '2', **bn_params)(x)\n",
    "        x = Activation('relu', name=relu_name + '2')(x)\n",
    "        x = ZeroPadding2D(padding=(1, 1))(x)\n",
    "        x = Conv2D(filters, (3, 3), strides=strides, name=conv_name + '2', **conv_params)(x)\n",
    "        \n",
    "        x = BatchNormalization(name=bn_name + '3', **bn_params)(x)\n",
    "        x = Activation('relu', name=relu_name + '3')(x)\n",
    "        x = Conv2D(filters*4, (1, 1), name=conv_name + '3', **conv_params)(x)\n",
    "        \n",
    "        shortcut = Conv2D(filters*4, (1, 1), name=sc_name, strides=strides, **conv_params)(shortcut)\n",
    "        x = Add()([x, shortcut])\n",
    "        return x\n",
    "    return layer\n",
    "\n",
    "def identity_block(filters, stage, block):\n",
    "    def layer(input_tensor):\n",
    "        conv_params = get_conv_params()\n",
    "        bn_params = get_bn_params()\n",
    "        conv_name, bn_name, relu_name, sc_name = handle_block_names(stage, block)\n",
    "        \n",
    "        x = BatchNormalization(name=bn_name + '1', **bn_params)(input_tensor)\n",
    "        x = Activation('relu', name=relu_name + '1')(x)\n",
    "        shortcut = x\n",
    "        x = ZeroPadding2D(padding=(1, 1))(x)\n",
    "        x = Conv2D(filters, (3, 3), name=conv_name + '1', **conv_params)(x)\n",
    "        \n",
    "        x = BatchNormalization(name=bn_name + '2', **bn_params)(x)\n",
    "        x = Activation('relu', name=relu_name + '2')(x)\n",
    "        x = ZeroPadding2D(padding=(1, 1))(x)\n",
    "        x = Conv2D(filters, (3, 3), name=conv_name + '2', **conv_params)(x) \n",
    "        \n",
    "        x = BatchNormalization(name=bn_name + '3', **bn_params)(x)\n",
    "        x = Activation('relu', name=relu_name + '3')(x)\n",
    "        x = Conv2D(filters*4, (1, 1), name=conv_name + '3', **conv_params)(x)\n",
    "\n",
    "        x = Add()([x, input_tensor])\n",
    "        return x\n",
    "    return layer    \n"
   ]
  },
  {
   "cell_type": "code",
   "execution_count": 20,
   "metadata": {},
   "outputs": [],
   "source": [
    "def get_conv_params(**params):\n",
    "    default_conv_params = {\n",
    "        'kernel_initializer': 'glorot_uniform',\n",
    "        'use_bias': False,\n",
    "        'padding': 'valid'\n",
    "    }\n",
    "    default_conv_params.update(params)\n",
    "    return default_conv_params\n",
    "\n",
    "def get_bn_params(**params):\n",
    "    default_bn_params = {\n",
    "        'axis': 3,\n",
    "        'momentum': 0.99,\n",
    "        'epsilon': 2e-5,\n",
    "        'center': True,\n",
    "        'scale': True\n",
    "    }\n",
    "    default_bn_params.update(params)\n",
    "    return default_bn_params\n",
    "    "
   ]
  },
  {
   "cell_type": "code",
   "execution_count": 21,
   "metadata": {},
   "outputs": [],
   "source": [
    "def build_resnet(repetitions=(2, 2, 2, 2), include_top=True, input_tensor=None,\n",
    "                 input_shape=None, classes=1000, block_type='usual'):\n",
    "    # Determine proper input shape\n",
    "    input_shape = _obtain_input_shape(input_shape, \n",
    "                                      default_size=224,\n",
    "                                      min_size=197,\n",
    "                                      data_format='channels_last',\n",
    "                                      require_flatten=include_top)\n",
    "    if input_tensor is None:\n",
    "        img_input = Input(shape=input_shape, name='data')\n",
    "    else:\n",
    "        if not K.is_keras_tensor(input_tensor):\n",
    "            img_input = Input(tensor=input_tensor, shape=input_shape)\n",
    "        else:\n",
    "            img_input = input_tensor\n",
    "\n",
    "    # Get parameters for model layers\n",
    "    no_scale_bn_params = get_bn_params(scale=False)\n",
    "    bn_params = get_bn_params()\n",
    "    conv_params = get_conv_params()\n",
    "    init_filters = 64\n",
    "    \n",
    "    if block_type == 'basic':\n",
    "        conv_block = basic_conv_block\n",
    "        identity_block = basic_identity_block\n",
    "    else:\n",
    "        conv_block = conv_block\n",
    "        identity_block = identity_block\n",
    "        \n",
    "    # resnet bottom\n",
    "    x = BatchNormalization(name='bn_data', **no_scale_bn_params)(img_input)\n",
    "    x = ZeroPadding2D(padding=(3, 3))(x)\n",
    "    x = Conv2D(init_filters, (7, 7), strides=(2, 2), name='conv0', **conv_params)(x)\n",
    "    x = BatchNormalization(name='bn0', **bn_params)(x)\n",
    "    x = Activation('relu', name='relu0')(x)\n",
    "    x = ZeroPadding2D(padding=(1, 1))(x)\n",
    "    x = MaxPooling2D((3, 3), strides=(2, 2), padding='valid', name='pooling0')(x) \n",
    "    \n",
    "    # resnet body\n",
    "    for stage, rep in enumerate(repetitions):\n",
    "        for block in range(rep):\n",
    "            filters = init_filters * (2**stage)\n",
    "            \n",
    "            # first block of first stage without strides because we have maxpooling before\n",
    "            if block == 0 and stage == 0:\n",
    "                x = conv_block(filters, stage, block, strides=(1, 1))(x)                \n",
    "            elif block == 0:\n",
    "                x = conv_block(filters, stage, block, strides=(2, 2))(x)                \n",
    "            else:\n",
    "                x = identity_block(filters, stage, block)(x)\n",
    "    x = BatchNormalization(name='bn1', **bn_params)(x)\n",
    "    x = Activation('relu', name='relu1')(x)\n",
    "    \n",
    "    # resnet top\n",
    "    if include_top:\n",
    "        x = GlobalAveragePooling2D(name='pool1')(x)\n",
    "        x = Dense(classes, name='fc1')(x)\n",
    "        x = Activation('softmax', name='softmax')(x)\n",
    "    \n",
    "    # Ensure that the model takes into account any potential predecessors of `input_tensor`.\n",
    "    if input_tensor is not None:\n",
    "        inputs = get_source_inputs(input_tensor)\n",
    "    else:\n",
    "        inputs = img_input\n",
    "        \n",
    "    # Create model.\n",
    "    model = Model(inputs, x)\n",
    "\n",
    "    return model\n",
    "    \n",
    "    "
   ]
  },
  {
   "cell_type": "markdown",
   "metadata": {},
   "source": [
    "# Load pretrain Weight by using ImageNet trained"
   ]
  },
  {
   "cell_type": "code",
   "execution_count": 22,
   "metadata": {},
   "outputs": [],
   "source": [
    "from keras.utils import get_file\n",
    "\n",
    "def find_weights(weights_collection, model_name, dataset, include_top):\n",
    "    w = list(filter(lambda x: x['model'] == model_name, weights_collection))\n",
    "    w = list(filter(lambda x: x['dataset'] == dataset, w))\n",
    "    w = list(filter(lambda x: x['include_top'] == include_top, w))\n",
    "    return w\n",
    "\n",
    "\n",
    "def load_model_weights(weights_collection, model, dataset, classes, include_top):\n",
    "    weights = find_weights(weights_collection, model.name, dataset, include_top)\n",
    "\n",
    "    if weights:\n",
    "        weights = weights[0]\n",
    "\n",
    "        if include_top and weights['classes'] != classes:\n",
    "            raise ValueError('If using `weights` and `include_top`'\n",
    "                             ' as true, `classes` should be {}'.format(weights['classes']))\n",
    "\n",
    "        weights_path = get_file(weights['name'],\n",
    "                                weights['url'],\n",
    "                                cache_subdir='models',\n",
    "                                md5_hash=weights['md5'])\n",
    "\n",
    "        model.load_weights(weights_path)\n",
    "\n",
    "    else:\n",
    "        raise ValueError('There is no weights for such configuration: ' +\n",
    "                         'model = {}, dataset = {}, '.format(model.name, dataset) +\n",
    "                         'classes = {}, include_top = {}.'.format(classes, include_top))"
   ]
  },
  {
   "cell_type": "code",
   "execution_count": 23,
   "metadata": {},
   "outputs": [],
   "source": [
    "weights_collection = [\n",
    "    # ResNet34\n",
    "    {\n",
    "        'model': 'resnet34',\n",
    "        'dataset': 'imagenet',\n",
    "        'classes': 1000,\n",
    "        'include_top': True,\n",
    "        'url': 'https://github.com/qubvel/classification_models/releases/download/0.0.1/resnet34_imagenet_1000.h5',\n",
    "        'name': 'resnet34_imagenet_1000.h5',\n",
    "        'md5': '2ac8277412f65e5d047f255bcbd10383',\n",
    "    },\n",
    "    {\n",
    "        'model': 'resnet34',\n",
    "        'dataset': 'imagenet',\n",
    "        'classes': 1000,\n",
    "        'include_top': False,\n",
    "        'url': 'https://github.com/qubvel/classification_models/releases/download/0.0.1/resnet34_imagenet_1000_no_top.h5',\n",
    "        'name': 'resnet34_imagenet_1000_no_top.h5',\n",
    "        'md5': '8caaa0ad39d927cb8ba5385bf945d582',\n",
    "    }]"
   ]
  },
  {
   "cell_type": "markdown",
   "metadata": {},
   "source": [
    "# Build Unet model base on ResNet34"
   ]
  },
  {
   "cell_type": "code",
   "execution_count": 24,
   "metadata": {},
   "outputs": [],
   "source": [
    "#Freeze Encoder weight if needed\n",
    "\n",
    "def freeze_model(model):\n",
    "    for layer in model.layers:\n",
    "        layer.trainable = False\n",
    "    return"
   ]
  },
  {
   "cell_type": "code",
   "execution_count": 26,
   "metadata": {},
   "outputs": [],
   "source": [
    "def UResNet34(input_shape=(None, None, 3), classes=1, decoder_filters=16, \n",
    "              decoder_block_type='upsampling',\n",
    "              encoder_weights=None, input_tensor=None, activation='sigmoid', **kwargs):\n",
    "\n",
    "    backbone = build_resnet(input_tensor=None,\n",
    "                            input_shape=input_shape,\n",
    "                            repetitions=(3, 4, 6, 3),\n",
    "                            classes=classes,\n",
    "                            include_top=False,\n",
    "                            block_type='basic')\n",
    "    backbone.name = 'resnet34'\n",
    "    \n",
    "    if encoder_weights == True:\n",
    "        load_model_weights(weights_collection, backbone , dataset= 'imagenet', \n",
    "                           classes = 1, include_top=False)\n",
    "    \n",
    "    skip_connections = list([129, 74, 37, 5]) # for resnet 34\n",
    "    model = build_unet(backbone, classes, decoder_filters,\n",
    "                       skip_connections, block_type=decoder_block_type,\n",
    "                       activation=activation, **kwargs)\n",
    "    model.name = 'u-resnet34'\n",
    "    \n",
    "    #freeze_model(backbone)\n",
    "\n",
    "    return model"
   ]
  },
  {
   "cell_type": "code",
   "execution_count": 27,
   "metadata": {},
   "outputs": [
    {
     "name": "stdout",
     "output_type": "stream",
     "text": [
      "Tensor(\"relu1/Relu:0\", shape=(?, 24, 24, 512), dtype=float32)\n",
      "<keras.layers.core.Activation object at 0x7f4f134372b0>\n",
      "Tensor(\"stage4_unit1_relu1/Relu:0\", shape=(?, 48, 48, 256), dtype=float32)\n",
      "<keras.layers.core.Activation object at 0x7f4f149389b0>\n",
      "Tensor(\"stage3_unit1_relu1/Relu:0\", shape=(?, 96, 96, 128), dtype=float32)\n",
      "<keras.layers.core.Activation object at 0x7f4f147de550>\n",
      "Tensor(\"stage2_unit1_relu1/Relu:0\", shape=(?, 192, 192, 64), dtype=float32)\n",
      "<keras.layers.core.Activation object at 0x7f4f0f3b8c50>\n",
      "Tensor(\"relu0/Relu:0\", shape=(?, 384, 384, 64), dtype=float32)\n"
     ]
    }
   ],
   "source": [
    "seg_model = UResNet34(input_shape=(768, 768, 3), encoder_weights=True, decoder_block_type='transpose')\n"
   ]
  },
  {
   "cell_type": "markdown",
   "metadata": {},
   "source": [
    "# Define Loss function"
   ]
  },
  {
   "cell_type": "code",
   "execution_count": 36,
   "metadata": {},
   "outputs": [],
   "source": [
    "from keras.losses import binary_crossentropy\n",
    "from keras import backend as K\n",
    "\n",
    "def dice_coef(y_true, y_pred):\n",
    "    y_true_f = K.flatten(y_true)\n",
    "    y_pred = K.cast(y_pred, 'float32')\n",
    "    y_pred_f = K.cast(K.greater(K.flatten(y_pred), 0.5), 'float32')\n",
    "    intersection = y_true_f * y_pred_f\n",
    "    score = 2. * K.sum(intersection) / (K.sum(y_true_f) + K.sum(y_pred_f))\n",
    "    return score\n",
    "\n",
    "def dice_loss(y_true, y_pred):\n",
    "    smooth = 1.\n",
    "    y_true_f = K.flatten(y_true)\n",
    "    y_pred_f = K.flatten(y_pred)\n",
    "    intersection = y_true_f * y_pred_f\n",
    "    score = (2. * K.sum(intersection) + smooth) / (K.sum(y_true_f) + K.sum(y_pred_f) + smooth)\n",
    "    return 1. - score\n",
    "\n",
    "\n",
    "def bce_dice_loss(y_true, y_pred):\n",
    "    return binary_crossentropy(y_true, y_pred) + dice_loss(y_true, y_pred)\n",
    "\n",
    "def bce_logdice_loss(y_true, y_pred):\n",
    "    return binary_crossentropy(y_true, y_pred) - K.log(1. - dice_loss(y_true, y_pred))\n",
    "\n",
    "def weighted_bce_loss(y_true, y_pred, weight):\n",
    "    epsilon = 1e-7\n",
    "    y_pred = K.clip(y_pred, epsilon, 1. - epsilon)\n",
    "    logit_y_pred = K.log(y_pred / (1. - y_pred))\n",
    "    loss = weight * (logit_y_pred * (1. - y_true) + \n",
    "                     K.log(1. + K.exp(-K.abs(logit_y_pred))) + K.maximum(-logit_y_pred, 0.))\n",
    "    return K.sum(loss) / K.sum(weight)\n",
    "\n",
    "def weighted_dice_loss(y_true, y_pred, weight):\n",
    "    smooth = 1.\n",
    "    w, m1, m2 = weight, y_true, y_pred\n",
    "    intersection = (m1 * m2)\n",
    "    score = (2. * K.sum(w * intersection) + smooth) / (K.sum(w * m1) + K.sum(w * m2) + smooth)\n",
    "    loss = 1. - K.sum(score)\n",
    "    return loss\n",
    "\n",
    "def weighted_bce_dice_loss(y_true, y_pred):\n",
    "    y_true = K.cast(y_true, 'float32')\n",
    "    y_pred = K.cast(y_pred, 'float32')\n",
    "    # if we want to get same size of output, kernel size must be odd\n",
    "    averaged_mask = K.pool2d(\n",
    "            y_true, pool_size=(50, 50), strides=(1, 1), padding='same', pool_mode='avg')\n",
    "    weight = K.ones_like(averaged_mask)\n",
    "    w0 = K.sum(weight)\n",
    "    weight = 5. * K.exp(-5. * K.abs(averaged_mask - 0.5))\n",
    "    w1 = K.sum(weight)\n",
    "    weight *= (w0 / w1)\n",
    "    loss = weighted_bce_loss(y_true, y_pred, weight) + dice_loss(y_true, y_pred)\n",
    "    return loss"
   ]
  },
  {
   "cell_type": "code",
   "execution_count": 37,
   "metadata": {},
   "outputs": [],
   "source": [
    "import keras.backend as K\n",
    "from keras.optimizers import Adam\n",
    "from keras.losses import binary_crossentropy\n",
    "# https://dev.to/andys0975/what-is-dice-loss-for-image-segmentation-3p85\n",
    "def dice_coef(y_true, y_pred, smooth=1):\n",
    "    intersection = K.sum(y_true * y_pred, axis=[1,2,3])\n",
    "    union = K.sum(y_true, axis=[1,2,3]) + K.sum(y_pred, axis=[1,2,3])\n",
    "    return K.mean( (2. * intersection + smooth) / (union + smooth), axis=0)\n",
    "\n",
    "def dice_p_bce(in_gt, in_pred):\n",
    "    return 1e-3*binary_crossentropy(in_gt, in_pred) - dice_coef(in_gt, in_pred)\n",
    "\n",
    "def true_positive_rate(y_true, y_pred):\n",
    "    return K.sum(K.flatten(y_true)*K.flatten(K.round(y_pred))) / (K.sum(y_true) + K.epsilon())\n",
    "\n",
    "#seg_model.compile(optimizer=Adam(1e-4, decay=1e-6), loss=dice_p_bce, metrics=[dice_coef, 'binary_accuracy', true_positive_rate])"
   ]
  },
  {
   "cell_type": "code",
   "execution_count": 38,
   "metadata": {},
   "outputs": [
    {
     "data": {
      "text/plain": [
       "67836"
      ]
     },
     "execution_count": 38,
     "metadata": {},
     "output_type": "execute_result"
    }
   ],
   "source": [
    "gc.collect()"
   ]
  },
  {
   "cell_type": "code",
   "execution_count": 39,
   "metadata": {},
   "outputs": [],
   "source": [
    "weight_path = \"{}_weights.best.hdf5\".format('seg_model')\n",
    "\n",
    "checkpoint = ModelCheckpoint(weight_path, \n",
    "                             monitor='val_loss', \n",
    "                             verbose=1, \n",
    "                             save_best_only=True, \n",
    "                             mode='min',\n",
    "                             save_weights_only=True)\n",
    "\n",
    "reduce_lr = ReduceLROnPlateau(monitor='val_loss', \n",
    "                              factor=0.5, \n",
    "                              patience=3, \n",
    "                              verbose=1, \n",
    "                              min_delta=0.0001,\n",
    "                              mode='min', \n",
    "                              cooldown=2, \n",
    "                              min_lr=1e-6)\n",
    "\n",
    "early_stopping = EarlyStopping(monitor='val_loss', \n",
    "                               mode='min', \n",
    "                               patience=15)\n",
    "\n",
    "callbacks_list = [checkpoint, early_stopping, reduce_lr]\n"
   ]
  },
  {
   "cell_type": "code",
   "execution_count": 40,
   "metadata": {},
   "outputs": [],
   "source": [
    "from keras.utils import multi_gpu_model\n",
    "isMultiGPU = 1\n",
    "if isMultiGPU:\n",
    "    parallel_model = multi_gpu_model(seg_model, 2)\n",
    "    parallel_model.compile(optimizer=optimizers.Adam(1e-4, decay=1e-6), \n",
    "                           loss=bce_logdice_loss,\n",
    "                           metrics=[dice_coef, dice_loss, 'binary_accuracy'])\n",
    "else:\n",
    "    seg_model.compile(optimizer=optimizers.Adam(1e-4, decay=1e-6), \n",
    "                      loss=bce_logdice_loss,\n",
    "                      metrics=[dice_coef, dice_loss, 'binary_accuracy'])"
   ]
  },
  {
   "cell_type": "code",
   "execution_count": 41,
   "metadata": {},
   "outputs": [
    {
     "name": "stdout",
     "output_type": "stream",
     "text": [
      "Epoch 1/20\n",
      "200/200 [==============================] - 243s 1s/step - loss: 3.2917 - dice_coef: 0.1121 - dice_loss: 0.8548 - binary_accuracy: 0.8212 - val_loss: 1.3391 - val_dice_coef: 0.2889 - val_dice_loss: 0.6153 - val_binary_accuracy: 0.9944\n",
      "\n",
      "Epoch 00001: val_loss improved from inf to 1.33909, saving model to seg_model_weights.best.hdf5\n",
      "Epoch 2/20\n",
      "200/200 [==============================] - 221s 1s/step - loss: 1.4022 - dice_coef: 0.2355 - dice_loss: 0.6816 - binary_accuracy: 0.9925 - val_loss: 1.4576 - val_dice_coef: 0.2825 - val_dice_loss: 0.6269 - val_binary_accuracy: 0.9959\n",
      "\n",
      "Epoch 00002: val_loss did not improve from 1.33909\n",
      "Epoch 3/20\n",
      "200/200 [==============================] - 220s 1s/step - loss: 1.1374 - dice_coef: 0.3176 - dice_loss: 0.6109 - binary_accuracy: 0.9939 - val_loss: 0.7434 - val_dice_coef: 0.4500 - val_dice_loss: 0.4476 - val_binary_accuracy: 0.9963\n",
      "\n",
      "Epoch 00003: val_loss improved from 1.33909 to 0.74335, saving model to seg_model_weights.best.hdf5\n",
      "Epoch 4/20\n",
      "200/200 [==============================] - 219s 1s/step - loss: 0.9453 - dice_coef: 0.3732 - dice_loss: 0.5321 - binary_accuracy: 0.9938 - val_loss: 0.7773 - val_dice_coef: 0.4388 - val_dice_loss: 0.4414 - val_binary_accuracy: 0.9966\n",
      "\n",
      "Epoch 00004: val_loss did not improve from 0.74335\n",
      "Epoch 5/20\n",
      "200/200 [==============================] - 220s 1s/step - loss: 1.0034 - dice_coef: 0.3663 - dice_loss: 0.5565 - binary_accuracy: 0.9936 - val_loss: 0.6751 - val_dice_coef: 0.4819 - val_dice_loss: 0.4211 - val_binary_accuracy: 0.9963\n",
      "\n",
      "Epoch 00005: val_loss improved from 0.74335 to 0.67511, saving model to seg_model_weights.best.hdf5\n",
      "Epoch 6/20\n",
      "200/200 [==============================] - 222s 1s/step - loss: 1.0423 - dice_coef: 0.3680 - dice_loss: 0.5630 - binary_accuracy: 0.9942 - val_loss: 0.6718 - val_dice_coef: 0.4908 - val_dice_loss: 0.4318 - val_binary_accuracy: 0.9966\n",
      "\n",
      "Epoch 00006: val_loss improved from 0.67511 to 0.67180, saving model to seg_model_weights.best.hdf5\n",
      "Epoch 7/20\n",
      "200/200 [==============================] - 223s 1s/step - loss: 0.8860 - dice_coef: 0.3971 - dice_loss: 0.5223 - binary_accuracy: 0.9940 - val_loss: 0.6254 - val_dice_coef: 0.4853 - val_dice_loss: 0.3981 - val_binary_accuracy: 0.9969\n",
      "\n",
      "Epoch 00007: val_loss improved from 0.67180 to 0.62540, saving model to seg_model_weights.best.hdf5\n",
      "Epoch 8/20\n",
      "200/200 [==============================] - 220s 1s/step - loss: 0.8806 - dice_coef: 0.3917 - dice_loss: 0.5112 - binary_accuracy: 0.9946 - val_loss: 0.5369 - val_dice_coef: 0.5370 - val_dice_loss: 0.3546 - val_binary_accuracy: 0.9968\n",
      "\n",
      "Epoch 00008: val_loss improved from 0.62540 to 0.53695, saving model to seg_model_weights.best.hdf5\n",
      "Epoch 9/20\n",
      "200/200 [==============================] - 219s 1s/step - loss: 0.8107 - dice_coef: 0.4199 - dice_loss: 0.4795 - binary_accuracy: 0.9946 - val_loss: 0.6779 - val_dice_coef: 0.4978 - val_dice_loss: 0.3809 - val_binary_accuracy: 0.9969\n",
      "\n",
      "Epoch 00009: val_loss did not improve from 0.53695\n",
      "Epoch 10/20\n",
      "200/200 [==============================] - 219s 1s/step - loss: 0.8448 - dice_coef: 0.4054 - dice_loss: 0.5026 - binary_accuracy: 0.9950 - val_loss: 0.5206 - val_dice_coef: 0.5386 - val_dice_loss: 0.3536 - val_binary_accuracy: 0.9968\n",
      "\n",
      "Epoch 00010: val_loss improved from 0.53695 to 0.52062, saving model to seg_model_weights.best.hdf5\n",
      "Epoch 11/20\n",
      "200/200 [==============================] - 214s 1s/step - loss: 0.8476 - dice_coef: 0.4353 - dice_loss: 0.4804 - binary_accuracy: 0.9949 - val_loss: 0.6061 - val_dice_coef: 0.5313 - val_dice_loss: 0.3793 - val_binary_accuracy: 0.9964\n",
      "\n",
      "Epoch 00011: val_loss did not improve from 0.52062\n",
      "Epoch 12/20\n",
      "200/200 [==============================] - 214s 1s/step - loss: 0.9444 - dice_coef: 0.3771 - dice_loss: 0.5334 - binary_accuracy: 0.9947 - val_loss: 0.6565 - val_dice_coef: 0.4833 - val_dice_loss: 0.4025 - val_binary_accuracy: 0.9963\n",
      "\n",
      "Epoch 00012: val_loss did not improve from 0.52062\n",
      "Epoch 13/20\n",
      "200/200 [==============================] - 213s 1s/step - loss: 0.7549 - dice_coef: 0.4521 - dice_loss: 0.4516 - binary_accuracy: 0.9945 - val_loss: 0.6705 - val_dice_coef: 0.4823 - val_dice_loss: 0.4009 - val_binary_accuracy: 0.9967\n",
      "\n",
      "Epoch 00013: val_loss did not improve from 0.52062\n",
      "\n",
      "Epoch 00013: ReduceLROnPlateau reducing learning rate to 4.999999873689376e-05.\n",
      "Epoch 14/20\n",
      "200/200 [==============================] - 216s 1s/step - loss: 0.8782 - dice_coef: 0.4245 - dice_loss: 0.5098 - binary_accuracy: 0.9947 - val_loss: 0.7237 - val_dice_coef: 0.4711 - val_dice_loss: 0.4249 - val_binary_accuracy: 0.9970\n",
      "\n",
      "Epoch 00014: val_loss did not improve from 0.52062\n",
      "Epoch 15/20\n",
      "200/200 [==============================] - 216s 1s/step - loss: 0.7952 - dice_coef: 0.4325 - dice_loss: 0.4765 - binary_accuracy: 0.9949 - val_loss: 0.5035 - val_dice_coef: 0.5576 - val_dice_loss: 0.3344 - val_binary_accuracy: 0.9971\n",
      "\n",
      "Epoch 00015: val_loss improved from 0.52062 to 0.50352, saving model to seg_model_weights.best.hdf5\n",
      "Epoch 16/20\n",
      "200/200 [==============================] - 213s 1s/step - loss: 0.7424 - dice_coef: 0.4494 - dice_loss: 0.4575 - binary_accuracy: 0.9949 - val_loss: 0.5151 - val_dice_coef: 0.5562 - val_dice_loss: 0.3388 - val_binary_accuracy: 0.9972\n",
      "\n",
      "Epoch 00016: val_loss did not improve from 0.50352\n",
      "Epoch 17/20\n",
      "200/200 [==============================] - 217s 1s/step - loss: 0.7946 - dice_coef: 0.4306 - dice_loss: 0.4789 - binary_accuracy: 0.9949 - val_loss: 0.6791 - val_dice_coef: 0.4961 - val_dice_loss: 0.4093 - val_binary_accuracy: 0.9970\n",
      "\n",
      "Epoch 00017: val_loss did not improve from 0.50352\n",
      "Epoch 18/20\n",
      "200/200 [==============================] - 215s 1s/step - loss: 0.8611 - dice_coef: 0.4281 - dice_loss: 0.4972 - binary_accuracy: 0.9948 - val_loss: 0.4738 - val_dice_coef: 0.5713 - val_dice_loss: 0.3266 - val_binary_accuracy: 0.9969\n",
      "\n",
      "Epoch 00018: val_loss improved from 0.50352 to 0.47385, saving model to seg_model_weights.best.hdf5\n",
      "Epoch 19/20\n",
      "200/200 [==============================] - 215s 1s/step - loss: 0.7423 - dice_coef: 0.4568 - dice_loss: 0.4558 - binary_accuracy: 0.9946 - val_loss: 0.5776 - val_dice_coef: 0.5331 - val_dice_loss: 0.3677 - val_binary_accuracy: 0.9972\n",
      "\n",
      "Epoch 00019: val_loss did not improve from 0.47385\n",
      "Epoch 20/20\n",
      "200/200 [==============================] - 215s 1s/step - loss: 0.7778 - dice_coef: 0.4438 - dice_loss: 0.4694 - binary_accuracy: 0.9950 - val_loss: 0.5316 - val_dice_coef: 0.5612 - val_dice_loss: 0.3532 - val_binary_accuracy: 0.9972\n",
      "\n",
      "Epoch 00020: val_loss did not improve from 0.47385\n",
      "CPU times: user 2h 17min 5s, sys: 14min 54s, total: 2h 31min 59s\n",
      "Wall time: 1h 13min 12s\n"
     ]
    }
   ],
   "source": [
    "%%time\n",
    "BATCH_SIZE = 32\n",
    "NB_EPOCHS = 20\n",
    "step_count = min(MAX_TRAIN_STEPS, balanced_train_df.shape[0] // BATCH_SIZE)\n",
    "aug_gen = create_aug_gen(make_image_gen(balanced_train_df))\n",
    "\n",
    "if isMultiGPU:\n",
    "    loss_history = [parallel_model.fit_generator(aug_gen, \n",
    "                                                 steps_per_epoch=step_count,\n",
    "                                                 epochs=NB_EPOCHS,\n",
    "                                                 validation_data=(valid_x, valid_y),\n",
    "                                                 callbacks=callbacks_list,\n",
    "                                                 use_multiprocessing=False,\n",
    "                                                 shuffle=True,\n",
    "                                                 workers=2)]    \n",
    "else:\n",
    "    loss_history = [seg_model.fit_generator(aug_gen, \n",
    "                                            steps_per_epoch=step_count,\n",
    "                                            epochs=NB_EPOCHS,\n",
    "                                            validation_data=(valid_x, valid_y),\n",
    "                                            callbacks=callbacks_list,\n",
    "                                            use_multiprocessing=False,\n",
    "                                            shuffle=True,\n",
    "                                            workers=1)]"
   ]
  },
  {
   "cell_type": "code",
   "execution_count": 35,
   "metadata": {},
   "outputs": [
    {
     "data": {
      "text/plain": [
       "0"
      ]
     },
     "execution_count": 35,
     "metadata": {},
     "output_type": "execute_result"
    }
   ],
   "source": [
    "#seg_model.load_weights(weight_path)\n",
    "#seg_model.save('seg_model.h5')"
   ]
  },
  {
   "cell_type": "code",
   "execution_count": 42,
   "metadata": {},
   "outputs": [
    {
     "data": {
      "text/plain": [
       "Text(0.5,1,'Dice Coef')"
      ]
     },
     "execution_count": 42,
     "metadata": {},
     "output_type": "execute_result"
    },
    {
     "data": {
      "image/png": "[encoded data removed]",
      "text/plain": [
       "<Figure size 1584x720 with 4 Axes>"
      ]
     },
     "metadata": {},
     "output_type": "display_data"
    }
   ],
   "source": [
    "epich = np.cumsum(np.concatenate([np.linspace(0.5, 1, len(mh.epoch)) for mh in loss_history]))\n",
    "\n",
    "fig, (ax1, ax2, ax3, ax4) = plt.subplots(1, 4, figsize=(22, 10))\n",
    "_ = ax1.plot(epich,\n",
    "             np.concatenate([mh.history['loss'] for mh in loss_history]),\n",
    "             'b-',\n",
    "             epich, np.concatenate([mh.history['val_loss'] for mh in loss_history]), \n",
    "             'r-')\n",
    "ax1.legend(['Training', 'Validation'])\n",
    "ax1.set_title('Loss')\n",
    "\n",
    "_ = ax2.plot(epich, np.concatenate([mh.history['dice_loss'] for mh in loss_history]), \n",
    "             'b-', epich, \n",
    "             np.concatenate([mh.history['val_dice_loss'] for mh in loss_history]),\n",
    "             'r-')\n",
    "ax2.legend(['Training', 'Validation'])\n",
    "ax2.set_title('Dice Loss')\n",
    "\n",
    "_ = ax3.plot(epich, np.concatenate([mh.history['binary_accuracy'] for mh in loss_history]),\n",
    "             'b-', epich, \n",
    "             np.concatenate([mh.history['val_binary_accuracy'] for mh in loss_history]),\n",
    "             'r-')\n",
    "ax3.legend(['Training', 'Validation'])\n",
    "ax3.set_title('Binary Accuracy (%)')\n",
    "    \n",
    "_ = ax4.plot(epich, np.concatenate([mh.history['dice_coef'] for mh in loss_history]), \n",
    "             'b-', epich, \n",
    "             np.concatenate([mh.history['val_dice_coef'] for mh in loss_history]),\n",
    "             'r-')\n",
    "ax4.legend(['Training', 'Validation'])\n",
    "ax4.set_title('Dice Coef')\n"
   ]
  },
  {
   "cell_type": "code",
   "execution_count": null,
   "metadata": {},
   "outputs": [],
   "source": [
    "# Use load model method to reduce memory usage to avoid memory error"
   ]
  },
  {
   "cell_type": "code",
   "execution_count": 43,
   "metadata": {},
   "outputs": [],
   "source": [
    "from keras import models, layers\n",
    "#IMG_SCALING = None\n",
    "if isMultiGPU:\n",
    "    if IMG_SCALING is not None:\n",
    "        fullres_model = models.Sequential()\n",
    "        fullres_model.add(layers.AvgPool2D(IMG_SCALING, input_shape = (None, None, 3)))\n",
    "        fullres_model.add(parallel_model)\n",
    "        fullres_model.add(layers.UpSampling2D(IMG_SCALING))\n",
    "    else:\n",
    "        fullres_model = parallel_model\n",
    "else:\n",
    "    if IMG_SCALING is not None:\n",
    "        fullres_model = models.Sequential()\n",
    "        fullres_model.add(layers.AvgPool2D(IMG_SCALING, input_shape = (None, None, 3)))\n",
    "        fullres_model.add(seg_model)\n",
    "        fullres_model.add(layers.UpSampling2D(IMG_SCALING))\n",
    "    else:\n",
    "        fullres_model = seg_model\n",
    "#fullres_model.save('fullres_model.h5')"
   ]
  },
  {
   "cell_type": "code",
   "execution_count": 44,
   "metadata": {},
   "outputs": [
    {
     "name": "stdout",
     "output_type": "stream",
     "text": [
      "_________________________________________________________________\n",
      "Layer (type)                 Output Shape              Param #   \n",
      "=================================================================\n",
      "average_pooling2d_1 (Average (None, None, None, 3)     0         \n",
      "_________________________________________________________________\n",
      "model_6 (Model)              (None, 768, 768, 1)       25675322  \n",
      "_________________________________________________________________\n",
      "up_sampling2d_1 (UpSampling2 (None, 768, 768, 1)       0         \n",
      "=================================================================\n",
      "Total params: 25,675,322\n",
      "Trainable params: 25,659,956\n",
      "Non-trainable params: 15,366\n",
      "_________________________________________________________________\n"
     ]
    }
   ],
   "source": [
    "fullres_model.summary()"
   ]
  },
  {
   "cell_type": "code",
   "execution_count": 45,
   "metadata": {},
   "outputs": [
    {
     "name": "stdout",
     "output_type": "stream",
     "text": [
      "15606 test images found\n"
     ]
    }
   ],
   "source": [
    "print(len(test_images_list), 'test images found')"
   ]
  },
  {
   "cell_type": "code",
   "execution_count": 209,
   "metadata": {
    "scrolled": true
   },
   "outputs": [
    {
     "data": {
      "text/plain": [
       "1"
      ]
     },
     "execution_count": 209,
     "metadata": {},
     "output_type": "execute_result"
    }
   ],
   "source": [
    "'''\n",
    "import multiprocessing\n",
    "def generate_test_array_data(_test_path, _img_name):\n",
    "    c_path = str(_test_path / _img_name)\n",
    "    c_img = io.imread(c_path)\n",
    "    c_img = np.expand_dims(c_img, 0) / 255.0\n",
    "    return c_img\n",
    "\n",
    "\n",
    "pool_size = multiprocessing.cpu_count()\n",
    "pool = multiprocessing.Pool(processes=pool_size)\n",
    "result = []\n",
    "for c_img_name in test_images_list:\n",
    "    result.append(pool.apply_async(generate_test_array_data, args=(test_path, c_img_name, )))\n",
    "pool.close()\n",
    "pool.join()\n",
    "\n",
    "get_process_result = []\n",
    "for res in result:\n",
    "    get_process_result.append(res.get(10))\n",
    "'''    "
   ]
  },
  {
   "cell_type": "code",
   "execution_count": 47,
   "metadata": {},
   "outputs": [
    {
     "data": {
      "text/plain": [
       "2976"
      ]
     },
     "execution_count": 47,
     "metadata": {},
     "output_type": "execute_result"
    }
   ],
   "source": [
    "has_ship_test_images_list = has_ship_data[has_ship_data['has_ship'] > 0]['ImageId'].tolist()\n",
    "len(has_ship_test_images_list)"
   ]
  },
  {
   "cell_type": "code",
   "execution_count": null,
   "metadata": {
    "scrolled": false
   },
   "outputs": [
    {
     "name": "stderr",
     "output_type": "stream",
     "text": [
      " 42%|████▏     | 1258/2976 [21:32<30:06,  1.05s/it]"
     ]
    }
   ],
   "source": [
    "%%time\n",
    "from tqdm import tqdm\n",
    "from skimage.morphology import binary_opening, disk\n",
    "out_pred_rows = []\n",
    "for c_img_name in tqdm(has_ship_test_images_list):\n",
    "    c_path = str(test_path / c_img_name)\n",
    "    c_img = io.imread(c_path)\n",
    "    c_img = np.expand_dims(c_img, 0) / 255.0\n",
    "    cur_seg = fullres_model.predict(c_img)[0]\n",
    "    cur_seg = binary_opening(cur_seg > 0.5, np.expand_dims(disk(2), -1))\n",
    "    cur_rles = multi_rle_encode(cur_seg)\n",
    "    if len(cur_rles) > 0:\n",
    "        for c_rle in cur_rles:\n",
    "            out_pred_rows += [{'ImageId': c_img_name, 'EncodedPixels': c_rle}]\n",
    "    else:\n",
    "        out_pred_rows += [{'ImageId': c_img_name, 'EncodedPixels': None}]\n",
    "    gc.collect()"
   ]
  },
  {
   "cell_type": "code",
   "execution_count": 43,
   "metadata": {},
   "outputs": [],
   "source": [
    "no_ship_test_images_df = pd.DataFrame()\n",
    "no_ship_test_images_df['ImageId'] = has_ship_data[has_ship_data['has_ship'] == 0]['ImageId']\n",
    "no_ship_test_images_df['EncodedPixels'] = None"
   ]
  },
  {
   "cell_type": "code",
   "execution_count": 44,
   "metadata": {},
   "outputs": [
    {
     "data": {
      "text/html": [
       "<div>\n",
       "<style scoped>\n",
       "    .dataframe tbody tr th:only-of-type {\n",
       "        vertical-align: middle;\n",
       "    }\n",
       "\n",
       "    .dataframe tbody tr th {\n",
       "        vertical-align: top;\n",
       "    }\n",
       "\n",
       "    .dataframe thead th {\n",
       "        text-align: right;\n",
       "    }\n",
       "</style>\n",
       "<table border=\"1\" class=\"dataframe\">\n",
       "  <thead>\n",
       "    <tr style=\"text-align: right;\">\n",
       "      <th></th>\n",
       "      <th>ImageId</th>\n",
       "      <th>EncodedPixels</th>\n",
       "    </tr>\n",
       "  </thead>\n",
       "  <tbody>\n",
       "    <tr>\n",
       "      <th>0</th>\n",
       "      <td>d0a337b7f.jpg</td>\n",
       "      <td>366561 3 367328 5 368095 7 368864 7 369632 7 3...</td>\n",
       "    </tr>\n",
       "    <tr>\n",
       "      <th>1</th>\n",
       "      <td>d0a337b7f.jpg</td>\n",
       "      <td>226093 11 226860 13 227627 15 228395 15 229163...</td>\n",
       "    </tr>\n",
       "    <tr>\n",
       "      <th>2</th>\n",
       "      <td>d0a337b7f.jpg</td>\n",
       "      <td>27470 2 28237 5 29004 7 29771 9 30539 10 31307...</td>\n",
       "    </tr>\n",
       "    <tr>\n",
       "      <th>3</th>\n",
       "      <td>a5c9ae5de.jpg</td>\n",
       "      <td>467960 2 468725 7 469492 9 470259 11 471027 12...</td>\n",
       "    </tr>\n",
       "    <tr>\n",
       "      <th>4</th>\n",
       "      <td>a5c9ae5de.jpg</td>\n",
       "      <td>160984 6 161751 8 162518 10 163286 10 164053 1...</td>\n",
       "    </tr>\n",
       "  </tbody>\n",
       "</table>\n",
       "</div>"
      ],
      "text/plain": [
       "         ImageId                                      EncodedPixels\n",
       "0  d0a337b7f.jpg  366561 3 367328 5 368095 7 368864 7 369632 7 3...\n",
       "1  d0a337b7f.jpg  226093 11 226860 13 227627 15 228395 15 229163...\n",
       "2  d0a337b7f.jpg  27470 2 28237 5 29004 7 29771 9 30539 10 31307...\n",
       "3  a5c9ae5de.jpg  467960 2 468725 7 469492 9 470259 11 471027 12...\n",
       "4  a5c9ae5de.jpg  160984 6 161751 8 162518 10 163286 10 164053 1..."
      ]
     },
     "execution_count": 44,
     "metadata": {},
     "output_type": "execute_result"
    }
   ],
   "source": [
    "from datetime import datetime\n",
    "submission_df = pd.DataFrame(out_pred_rows)[['ImageId', 'EncodedPixels']]\n",
    "submission_df = pd.concat([submission_df, no_ship_test_images_df])\n",
    "sub_file_name = 'submission_{}.csv'.format(datetime.now().strftime('%Y%m%d%H%M%S'))\n",
    "submission_df.to_csv(sub_file_name, index=False)\n",
    "submission_df.head()"
   ]
  }
 ],
 "metadata": {
  "kernelspec": {
   "display_name": "Python 3",
   "language": "python",
   "name": "python3"
  },
  "language_info": {
   "codemirror_mode": {
    "name": "ipython",
    "version": 3
   },
   "file_extension": ".py",
   "mimetype": "text/x-python",
   "name": "python",
   "nbconvert_exporter": "python",
   "pygments_lexer": "ipython3",
   "version": "3.5.2"
  }
 },
 "nbformat": 4,
 "nbformat_minor": 2
}

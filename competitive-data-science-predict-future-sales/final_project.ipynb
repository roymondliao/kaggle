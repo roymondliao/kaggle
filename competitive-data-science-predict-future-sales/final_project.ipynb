{
 "cells": [
  {
   "cell_type": "markdown",
   "metadata": {},
   "source": [
    "# Workflow\n",
    "1. Understand our data better in Exploratory Data Analysis\n",
    "\n",
    "2. Doing necessary data wrangling. Using sales from Oct 2015 as predictions for Nov 2015(Previous Value Benchmark)\n",
    "\n",
    "4. Baseline. Apply some variant of decision tree(without any feature engineering, compare this with previous value benchmark)\n",
    "\n",
    "5. Set up Cross Validation to try out different feature engineering ideas\n",
    "\n",
    "6. Tuning hyperparameters.\n",
    "\n",
    "7. Use Ensemble methods to boost score\n"
   ]
  },
  {
   "cell_type": "code",
   "execution_count": 2,
   "metadata": {},
   "outputs": [
    {
     "name": "stdout",
     "output_type": "stream",
     "text": [
      "\u001b[33mWARNING: You are using pip version 19.1, however version 19.2.3 is available.\r\n",
      "You should consider upgrading via the 'pip install --upgrade pip' command.\u001b[0m\r\n"
     ]
    }
   ],
   "source": [
    "!pip install keras-tqdm -q"
   ]
  },
  {
   "cell_type": "code",
   "execution_count": 3,
   "metadata": {},
   "outputs": [
    {
     "name": "stdout",
     "output_type": "stream",
     "text": [
      "\u001b[33mWARNING: You are using pip version 19.1, however version 19.2.3 is available.\r\n",
      "You should consider upgrading via the 'pip install --upgrade pip' command.\u001b[0m\r\n"
     ]
    }
   ],
   "source": [
    "!pip install keras-rectified-adam -q"
   ]
  },
  {
   "cell_type": "code",
   "execution_count": 1,
   "metadata": {},
   "outputs": [],
   "source": [
    "import multiprocessing\n",
    "import warnings\n",
    "import os\n",
    "import gc\n",
    "import random\n",
    "import itertools\n",
    "import pickle\n",
    "import time\n",
    "from datetime import datetime\n",
    "from pathlib import Path\n",
    "from collections import Counter\n",
    "from datetime import datetime\n",
    "from IPython.core.interactiveshell import InteractiveShell\n",
    "InteractiveShell.ast_node_interactivity = \"all\"\n",
    "\n",
    "# visualization \n",
    "import seaborn as sns\n",
    "import matplotlib.pyplot as plt\n",
    "\n",
    "# data preprocessing \n",
    "from itertools import product\n",
    "import pandas as pd\n",
    "import numpy as np\n",
    "import missingno\n",
    "from sklearn.preprocessing import StandardScaler, LabelEncoder\n",
    "from sklearn.utils import shuffle\n",
    "\n",
    "# model\n",
    "import xgboost as xgb\n",
    "import lightgbm as lgb\n",
    "from xgboost import plot_importance\n",
    "\n",
    "# eveluation \n",
    "from sklearn.model_selection import train_test_split\n",
    "from sklearn.model_selection import TimeSeriesSplit\n",
    "from sklearn.feature_selection import SelectFromModel\n",
    "from sklearn.model_selection import StratifiedKFold, KFold\n",
    "from sklearn.metrics import mean_squared_error\n",
    "from sklearn.metrics import explained_variance_score\n",
    "from sklearn.metrics import r2_score"
   ]
  },
  {
   "cell_type": "code",
   "execution_count": 4,
   "metadata": {},
   "outputs": [
    {
     "name": "stderr",
     "output_type": "stream",
     "text": [
      "/usr/local/lib/python3.5/dist-packages/tensorflow/python/framework/dtypes.py:526: FutureWarning: Passing (type, 1) or '1type' as a synonym of type is deprecated; in a future version of numpy, it will be understood as (type, (1,)) / '(1,)type'.\n",
      "  _np_qint8 = np.dtype([(\"qint8\", np.int8, 1)])\n",
      "/usr/local/lib/python3.5/dist-packages/tensorflow/python/framework/dtypes.py:527: FutureWarning: Passing (type, 1) or '1type' as a synonym of type is deprecated; in a future version of numpy, it will be understood as (type, (1,)) / '(1,)type'.\n",
      "  _np_quint8 = np.dtype([(\"quint8\", np.uint8, 1)])\n",
      "/usr/local/lib/python3.5/dist-packages/tensorflow/python/framework/dtypes.py:528: FutureWarning: Passing (type, 1) or '1type' as a synonym of type is deprecated; in a future version of numpy, it will be understood as (type, (1,)) / '(1,)type'.\n",
      "  _np_qint16 = np.dtype([(\"qint16\", np.int16, 1)])\n",
      "/usr/local/lib/python3.5/dist-packages/tensorflow/python/framework/dtypes.py:529: FutureWarning: Passing (type, 1) or '1type' as a synonym of type is deprecated; in a future version of numpy, it will be understood as (type, (1,)) / '(1,)type'.\n",
      "  _np_quint16 = np.dtype([(\"quint16\", np.uint16, 1)])\n",
      "/usr/local/lib/python3.5/dist-packages/tensorflow/python/framework/dtypes.py:530: FutureWarning: Passing (type, 1) or '1type' as a synonym of type is deprecated; in a future version of numpy, it will be understood as (type, (1,)) / '(1,)type'.\n",
      "  _np_qint32 = np.dtype([(\"qint32\", np.int32, 1)])\n",
      "/usr/local/lib/python3.5/dist-packages/tensorflow/python/framework/dtypes.py:535: FutureWarning: Passing (type, 1) or '1type' as a synonym of type is deprecated; in a future version of numpy, it will be understood as (type, (1,)) / '(1,)type'.\n",
      "  np_resource = np.dtype([(\"resource\", np.ubyte, 1)])\n"
     ]
    }
   ],
   "source": [
    "import tensorflow as tf\n",
    "def reset_tf_session():\n",
    "    curr_session = tf.get_default_session()\n",
    "    # close current session\n",
    "    if curr_session is not None:\n",
    "        curr_session.close()\n",
    "    # reset graph\n",
    "    K.clear_session()\n",
    "    # create new session\n",
    "    config = tf.ConfigProto()\n",
    "    config.gpu_options.allow_growth = True\n",
    "    s = tf.InteractiveSession(config=config)\n",
    "    K.set_session(s)\n",
    "    return s"
   ]
  },
  {
   "cell_type": "code",
   "execution_count": 5,
   "metadata": {},
   "outputs": [
    {
     "name": "stderr",
     "output_type": "stream",
     "text": [
      "Using TensorFlow backend.\n"
     ]
    }
   ],
   "source": [
    "from keras.models import Sequential\n",
    "from keras.layers import Dense,RepeatVector\n",
    "from keras.layers import Flatten\n",
    "from keras.layers import TimeDistributed\n",
    "from keras.layers.convolutional import Conv1D\n",
    "from keras.layers.convolutional import MaxPooling1D\n",
    "\n",
    "from sklearn.preprocessing import MinMaxScaler\n",
    "from sklearn.metrics import mean_squared_error"
   ]
  },
  {
   "cell_type": "code",
   "execution_count": 6,
   "metadata": {},
   "outputs": [],
   "source": [
    "def mean_encoding(data_x, data_y, feature, target):\n",
    "    data = pd.concat([data_x, data_y], axis=1)\n",
    "    prior_mean = np.mean(data[target].values)\n",
    "    enc_value = data.groupby(feature)[target].mean()\n",
    "    if isinstance(feature, list):\n",
    "        feature_name = 'enc_' + '_'.join(feature)\n",
    "        data_x[feature_name] = data_x[f].join(pd.DataFrame(enc_value), on=feature, how='left')[target]\n",
    "    else:\n",
    "        feature_name = 'enc_' + feature\n",
    "        data_x[feature_name] = data_x[feature].map(enc_value)    \n",
    "    return data_x, enc_value, prior_mean, feature_name\n",
    "\n",
    "def smooth_mean_encoding(data_x, data_y, feature, target, min_samples=1, smooth_method='stats_smooth'):\n",
    "    data = pd.concat([data_x, data_y], axis=1)\n",
    "    nrows = data.groupby(feature)[target].count()\n",
    "    target_mean = data.groupby(feature)[target].mean()\n",
    "    prior_mean = np.mean(data[target].values)    \n",
    "    if smooth_method == 'stats_smooth':\n",
    "        smooth_enc_value = (target_mean * nrows + prior_mean * min_samples) / (nrows + min_samples) \n",
    "    elif smooth_method == 'sigmoid_smooth':\n",
    "        smoothing_slope = 1\n",
    "        smooth_factor = 1 / (1 + np.exp(- (nrows - min_samples) / smoothing_slope))\n",
    "        smooth_enc_value = smooth_factor * target_mean + (1 - smooth_factor) * prior_mean        \n",
    "    if isinstance(feature, list):\n",
    "        feature_name = 'smooth_enc_' + '_'.join(feature)\n",
    "        data_x[feature_name] = data_x[f].join(pd.DataFrame(smooth_enc_value), on=feature, how='left')[target]\n",
    "    else:\n",
    "        feature_name = 'smooth_enc_' + feature\n",
    "        data_x[feature_name] = data_x[feature].map(smooth_enc_value)          \n",
    "    return data_x, smooth_enc_value, prior_mean, feature_name\n",
    "\n",
    "def beta_mean_encoding(data, feature, target, stats, prior_mean, N_min=5):\n",
    "    df_stats = pd.merge(data[[feature]], stats, how='left', on=feature)\n",
    "    df_stats['sum'].fillna(value=prior_mean, inplace = True)\n",
    "    df_stats['count'].fillna(value=1.0, inplace = True)    \n",
    "    N_prior = np.maximum(N_min - df_stats['count'].values, 0)   # prior parameters\n",
    "    df_stats[feature_name] = (prior_mean * N_prior + df_stats['sum']) / (N_prior + df_stats['count']) # Bayesian mean\n",
    "    \n",
    "    if isinstance(feature, list):\n",
    "        feature_name = 'mec_' + '_'.join(feature)\n",
    "        data[feature_name] = df_stats[feature_name].values\n",
    "    else:\n",
    "        feature_name = 'mec_' + feature\n",
    "        data[feature_name] = df_stats[feature_name].values         \n",
    "    return data, feature_name"
   ]
  },
  {
   "cell_type": "code",
   "execution_count": 16,
   "metadata": {},
   "outputs": [],
   "source": [
    "predict_future_sales_path = Path('../input/competitive-data-science-predict-future-sales')\n",
    "\n",
    "item_categories_data = pd.read_csv(str(predict_future_sales_path / 'item_categories.csv'), \n",
    "                                   dtype={'item_category_name': 'str', \n",
    "                                          'item_category_id': 'int32'})\n",
    "items_data = pd.read_csv(str(predict_future_sales_path / 'items.csv'), \n",
    "                         dtype={'item_name': 'str', \n",
    "                                'item_id': 'int32', \n",
    "                                'item_category_id': 'int32'})\n",
    "\n",
    "sales_data = pd.read_csv(str(predict_future_sales_path / 'sales_train.csv'),\n",
    "                         dtype={'date': 'str', \n",
    "                                'date_block_num': 'int32', \n",
    "                                'shop_id': 'int32', \n",
    "                                'item_id': 'int32', \n",
    "                                'item_price': 'float32', \n",
    "                                'item_cnt_day': 'int32'})\n",
    "\n",
    "shop_data = pd.read_csv(str(predict_future_sales_path / 'shops.csv'),\n",
    "                        dtype={'shop_name': 'str', \n",
    "                               'shop_id': 'int32'})\n",
    "\n",
    "test_data = pd.read_csv(str(predict_future_sales_path / 'test.csv'),\n",
    "                        dtype={'ID': 'int32', \n",
    "                               'shop_id': 'int32', \n",
    "                               'item_id': 'int32'})\n",
    "test_data.set_index('ID', inplace=True)"
   ]
  },
  {
   "cell_type": "code",
   "execution_count": 3,
   "metadata": {
    "scrolled": true
   },
   "outputs": [
    {
     "name": "stdout",
     "output_type": "stream",
     "text": [
      "Number of train data:2935849 \n",
      "Number of test data:214200\n"
     ]
    }
   ],
   "source": [
    "print('Number of train data:{} \\nNumber of test data:{}'.format(sales_data.shape[0], test_data.shape[0]))\n"
   ]
  },
  {
   "cell_type": "code",
   "execution_count": 4,
   "metadata": {},
   "outputs": [
    {
     "name": "stdout",
     "output_type": "stream",
     "text": [
      "1. Number of good pairs: 111404\n",
      "2. No Data Items: 15246\n",
      "3. Only Item_id Info: 87550\n"
     ]
    }
   ],
   "source": [
    "good_sales = test_data.merge(sales_data, on=['item_id', 'shop_id'], how='left').dropna()\n",
    "good_pairs = test_data[test_data['ID'].isin(good_sales['ID'])]\n",
    "no_data_items = test_data[~(test_data['item_id'].isin(sales_data['item_id']))]\n",
    "\n",
    "print('1. Number of good pairs:', len(good_pairs))\n",
    "print('2. No Data Items:', len(no_data_items))\n",
    "print('3. Only Item_id Info:', len(test_data)-len(no_data_items)-len(good_pairs))"
   ]
  },
  {
   "cell_type": "markdown",
   "metadata": {},
   "source": [
    "# Data Preprocessing\n"
   ]
  },
  {
   "cell_type": "markdown",
   "metadata": {},
   "source": [
    "***Check missing value***"
   ]
  },
  {
   "cell_type": "code",
   "execution_count": 17,
   "metadata": {},
   "outputs": [
    {
     "data": {
      "text/plain": [
       "date              0\n",
       "date_block_num    0\n",
       "shop_id           0\n",
       "item_id           0\n",
       "item_price        0\n",
       "item_cnt_day      0\n",
       "dtype: int64"
      ]
     },
     "execution_count": 17,
     "metadata": {},
     "output_type": "execute_result"
    }
   ],
   "source": [
    "sales_data.isnull().sum()"
   ]
  },
  {
   "cell_type": "code",
   "execution_count": 18,
   "metadata": {},
   "outputs": [
    {
     "data": {
      "text/plain": [
       "date              0\n",
       "date_block_num    0\n",
       "shop_id           0\n",
       "item_id           0\n",
       "item_price        0\n",
       "item_cnt_day      0\n",
       "dtype: int64"
      ]
     },
     "execution_count": 18,
     "metadata": {},
     "output_type": "execute_result"
    }
   ],
   "source": [
    "sales_data.isna().sum()"
   ]
  },
  {
   "cell_type": "markdown",
   "metadata": {},
   "source": [
    "***Remove outlier***"
   ]
  },
  {
   "cell_type": "code",
   "execution_count": 20,
   "metadata": {
    "scrolled": false
   },
   "outputs": [
    {
     "data": {
      "text/html": [
       "<div>\n",
       "<style scoped>\n",
       "    .dataframe tbody tr th:only-of-type {\n",
       "        vertical-align: middle;\n",
       "    }\n",
       "\n",
       "    .dataframe tbody tr th {\n",
       "        vertical-align: top;\n",
       "    }\n",
       "\n",
       "    .dataframe thead th {\n",
       "        text-align: right;\n",
       "    }\n",
       "</style>\n",
       "<table border=\"1\" class=\"dataframe\">\n",
       "  <thead>\n",
       "    <tr style=\"text-align: right;\">\n",
       "      <th></th>\n",
       "      <th>date_block_num</th>\n",
       "      <th>shop_id</th>\n",
       "      <th>item_id</th>\n",
       "      <th>item_price</th>\n",
       "      <th>item_cnt_day</th>\n",
       "    </tr>\n",
       "  </thead>\n",
       "  <tbody>\n",
       "    <tr>\n",
       "      <th>count</th>\n",
       "      <td>2.935849e+06</td>\n",
       "      <td>2.935849e+06</td>\n",
       "      <td>2.935849e+06</td>\n",
       "      <td>2.935849e+06</td>\n",
       "      <td>2.935849e+06</td>\n",
       "    </tr>\n",
       "    <tr>\n",
       "      <th>mean</th>\n",
       "      <td>1.456991e+01</td>\n",
       "      <td>3.300173e+01</td>\n",
       "      <td>1.019723e+04</td>\n",
       "      <td>8.908532e+02</td>\n",
       "      <td>1.242641e+00</td>\n",
       "    </tr>\n",
       "    <tr>\n",
       "      <th>std</th>\n",
       "      <td>9.422988e+00</td>\n",
       "      <td>1.622697e+01</td>\n",
       "      <td>6.324297e+03</td>\n",
       "      <td>1.729800e+03</td>\n",
       "      <td>2.618834e+00</td>\n",
       "    </tr>\n",
       "    <tr>\n",
       "      <th>min</th>\n",
       "      <td>0.000000e+00</td>\n",
       "      <td>0.000000e+00</td>\n",
       "      <td>0.000000e+00</td>\n",
       "      <td>-1.000000e+00</td>\n",
       "      <td>-2.200000e+01</td>\n",
       "    </tr>\n",
       "    <tr>\n",
       "      <th>25%</th>\n",
       "      <td>7.000000e+00</td>\n",
       "      <td>2.200000e+01</td>\n",
       "      <td>4.476000e+03</td>\n",
       "      <td>2.490000e+02</td>\n",
       "      <td>1.000000e+00</td>\n",
       "    </tr>\n",
       "    <tr>\n",
       "      <th>50%</th>\n",
       "      <td>1.400000e+01</td>\n",
       "      <td>3.100000e+01</td>\n",
       "      <td>9.343000e+03</td>\n",
       "      <td>3.990000e+02</td>\n",
       "      <td>1.000000e+00</td>\n",
       "    </tr>\n",
       "    <tr>\n",
       "      <th>75%</th>\n",
       "      <td>2.300000e+01</td>\n",
       "      <td>4.700000e+01</td>\n",
       "      <td>1.568400e+04</td>\n",
       "      <td>9.990000e+02</td>\n",
       "      <td>1.000000e+00</td>\n",
       "    </tr>\n",
       "    <tr>\n",
       "      <th>max</th>\n",
       "      <td>3.300000e+01</td>\n",
       "      <td>5.900000e+01</td>\n",
       "      <td>2.216900e+04</td>\n",
       "      <td>3.079800e+05</td>\n",
       "      <td>2.169000e+03</td>\n",
       "    </tr>\n",
       "  </tbody>\n",
       "</table>\n",
       "</div>"
      ],
      "text/plain": [
       "       date_block_num       shop_id       item_id    item_price  item_cnt_day\n",
       "count    2.935849e+06  2.935849e+06  2.935849e+06  2.935849e+06  2.935849e+06\n",
       "mean     1.456991e+01  3.300173e+01  1.019723e+04  8.908532e+02  1.242641e+00\n",
       "std      9.422988e+00  1.622697e+01  6.324297e+03  1.729800e+03  2.618834e+00\n",
       "min      0.000000e+00  0.000000e+00  0.000000e+00 -1.000000e+00 -2.200000e+01\n",
       "25%      7.000000e+00  2.200000e+01  4.476000e+03  2.490000e+02  1.000000e+00\n",
       "50%      1.400000e+01  3.100000e+01  9.343000e+03  3.990000e+02  1.000000e+00\n",
       "75%      2.300000e+01  4.700000e+01  1.568400e+04  9.990000e+02  1.000000e+00\n",
       "max      3.300000e+01  5.900000e+01  2.216900e+04  3.079800e+05  2.169000e+03"
      ]
     },
     "execution_count": 20,
     "metadata": {},
     "output_type": "execute_result"
    }
   ],
   "source": [
    "sales_data.describe()"
   ]
  },
  {
   "cell_type": "code",
   "execution_count": 21,
   "metadata": {},
   "outputs": [
    {
     "data": {
      "text/plain": [
       "<matplotlib.axes._subplots.AxesSubplot at 0x7fe920ed8940>"
      ]
     },
     "execution_count": 21,
     "metadata": {},
     "output_type": "execute_result"
    },
    {
     "data": {
      "text/plain": [
       "(-22, 2385.9)"
      ]
     },
     "execution_count": 21,
     "metadata": {},
     "output_type": "execute_result"
    },
    {
     "data": {
      "text/plain": [
       "<matplotlib.axes._subplots.AxesSubplot at 0x7fe920f47cc0>"
      ]
     },
     "execution_count": 21,
     "metadata": {},
     "output_type": "execute_result"
    },
    {
     "data": {
      "text/plain": [
       "(-1.0, 338778.0)"
      ]
     },
     "execution_count": 21,
     "metadata": {},
     "output_type": "execute_result"
    },
    {
     "data": {
      "image/png": "[encoded data removed]",
      "text/plain": [
       "<Figure size 720x432 with 2 Axes>"
      ]
     },
     "metadata": {
      "needs_background": "light"
     },
     "output_type": "display_data"
    }
   ],
   "source": [
    "fig, ax = plt.subplots(1, 2, figsize=(10, 6))\n",
    "sns.boxplot(x=sales_data['item_cnt_day'], ax=ax[0])\n",
    "ax[0].set_xlim([sales_data.item_cnt_day.min(), sales_data.item_cnt_day.max()*1.1])  \n",
    "\n",
    "sns.boxplot(x=sales_data['item_price'], ax=ax[1])\n",
    "ax[1].set_xlim([sales_data.item_price.min(), sales_data.item_price.max()*1.1])  \n",
    "\n",
    "plt.show()"
   ]
  },
  {
   "cell_type": "code",
   "execution_count": 22,
   "metadata": {},
   "outputs": [
    {
     "name": "stdout",
     "output_type": "stream",
     "text": [
      "How many number of item_price less than 0:0\n",
      "How many number of item_cnt_day less than 0: 7356\n"
     ]
    }
   ],
   "source": [
    "sales_data = sales_data[sales_data.item_price < 100000]\n",
    "sales_data = sales_data[sales_data.item_cnt_day < 1000]\n",
    "\n",
    "# replace the NA value of item price \n",
    "condition = (sales_data.shop_id == 32) & (sales_data.item_id == 2973)\n",
    "sales_data.loc[sales_data.item_price < 0, 'item_price'] = sales_data[condition]['item_price'].median()\n",
    "\n",
    "print('How many number of item_price less than 0:{}'.format(sales_data[sales_data.item_price < 0].shape[0]))   \n",
    "print('How many number of item_cnt_day less than 0: {}'.format(sales_data[sales_data.item_cnt_day < 0].shape[0]))"
   ]
  },
  {
   "cell_type": "markdown",
   "metadata": {},
   "source": [
    "***Shops / Cats / Items preprocessing***"
   ]
  },
  {
   "cell_type": "code",
   "execution_count": 23,
   "metadata": {},
   "outputs": [],
   "source": [
    "# shop id 0 is as same as 57,  Якутск Орджоникидзе, 56\n",
    "# shop id 1 is as same as 58,  Якутск ТЦ \"Центральный\"\n",
    "# shop id 10 is as same as 11, Жуковский ул. Чкалова 39м²\n",
    "# change the shop_id\n",
    "sales_data.loc[sales_data.shop_id == 0, 'shop_id'] = 57\n",
    "test_data.loc[test_data.shop_id == 0, 'shop_id'] = 57\n",
    "\n",
    "sales_data.loc[sales_data.shop_id == 1, 'shop_id'] = 58\n",
    "test_data.loc[test_data.shop_id == 1, 'shop_id'] = 58\n",
    "\n",
    "sales_data.loc[sales_data.shop_id == 10, 'shop_id'] = 11\n",
    "test_data.loc[test_data.shop_id == 10, 'shop_id'] = 11\n"
   ]
  },
  {
   "cell_type": "code",
   "execution_count": 24,
   "metadata": {},
   "outputs": [
    {
     "name": "stdout",
     "output_type": "stream",
     "text": [
      "(60, 2) (22170, 3) (84, 2) (2935846, 6) (214200, 3)\n"
     ]
    }
   ],
   "source": [
    "print(shop_data.shape, items_data.shape, item_categories_data.shape, sales_data.shape, test_data.shape)"
   ]
  },
  {
   "cell_type": "code",
   "execution_count": 25,
   "metadata": {},
   "outputs": [],
   "source": [
    "shop_data.loc[shop_data.shop_name == 'Сергиев Посад ТЦ \"7Я\"', 'shop_name'] = 'СергиевПосад ТЦ \"7Я\"'\n",
    "\n",
    "shop_data['city'] = shop_data['shop_name'].apply(lambda x:x.split(' ')[0])\n",
    "shop_data.loc[shop_data.city == '!Якутск', 'city'] = 'Якутск'\n",
    "\n",
    "label_encoder = LabelEncoder()\n",
    "shop_data['city_code'] = label_encoder.fit_transform(shop_data['city'])\n",
    "shop_data = shop_data[['shop_id', 'city_code']]"
   ]
  },
  {
   "cell_type": "code",
   "execution_count": 26,
   "metadata": {},
   "outputs": [],
   "source": [
    "# splite item categories name to get item type\n",
    "item_categories_data['split'] = item_categories_data['item_category_name'].apply(lambda x:x.split('-'))\n",
    "item_categories_data['type'] = item_categories_data['split'].apply(lambda x:x[0].strip())\n",
    "item_categories_data['type_code'] = LabelEncoder().fit_transform(item_categories_data['type'])\n",
    "\n",
    "item_categories_data['subtype'] = item_categories_data['split'].apply(lambda x:x[1].strip() if len(x) > 1 else x[0].strip())\n",
    "item_categories_data['subtype_code'] = LabelEncoder().fit_transform(item_categories_data['subtype'])\n",
    "item_categories_data = item_categories_data[['item_category_id', 'type_code', 'subtype_code']]\n",
    "\n",
    "items_data.drop(['item_name'], axis=1, inplace=True)"
   ]
  },
  {
   "cell_type": "code",
   "execution_count": 28,
   "metadata": {},
   "outputs": [],
   "source": [
    "sales_data['revenue'] = sales_data['item_price'] * sales_data['item_cnt_day']"
   ]
  },
  {
   "cell_type": "markdown",
   "metadata": {},
   "source": [
    "For every month we create a grid from all shops/items combinations from that month"
   ]
  },
  {
   "cell_type": "code",
   "execution_count": 37,
   "metadata": {},
   "outputs": [],
   "source": [
    "%%time\n",
    "matrix = []\n",
    "cols = ['date_block_num', 'shop_id','item_id']\n",
    "for i in range(34):\n",
    "    sales = sales_data[sales_data.date_block_num == i]\n",
    "    matrix.append(np.array(list(product([i], sales.shop_id.unique(), sales.item_id.unique())), dtype='int16'))\n",
    "    \n",
    "matrix = pd.DataFrame(np.vstack(matrix), columns=cols)\n",
    "matrix['date_block_num'] = matrix['date_block_num'].astype(np.int8)\n",
    "matrix['shop_id'] = matrix['shop_id'].astype(np.int8)\n",
    "matrix['item_id'] = matrix['item_id'].astype(np.int16)\n",
    "matrix.sort_values(cols, inplace=True)\n"
   ]
  },
  {
   "cell_type": "code",
   "execution_count": 39,
   "metadata": {},
   "outputs": [
    {
     "name": "stdout",
     "output_type": "stream",
     "text": [
      "Number of complete month of year for each shop_id and item_id: 10913804\n"
     ]
    }
   ],
   "source": [
    "print('Number of complete month of year for each shop_id and item_id: {}'.format(matrix.shape[0]))"
   ]
  },
  {
   "cell_type": "code",
   "execution_count": 40,
   "metadata": {
    "scrolled": false
   },
   "outputs": [
    {
     "data": {
      "text/html": [
       "<div>\n",
       "<style scoped>\n",
       "    .dataframe tbody tr th:only-of-type {\n",
       "        vertical-align: middle;\n",
       "    }\n",
       "\n",
       "    .dataframe tbody tr th {\n",
       "        vertical-align: top;\n",
       "    }\n",
       "\n",
       "    .dataframe thead th {\n",
       "        text-align: right;\n",
       "    }\n",
       "</style>\n",
       "<table border=\"1\" class=\"dataframe\">\n",
       "  <thead>\n",
       "    <tr style=\"text-align: right;\">\n",
       "      <th></th>\n",
       "      <th>date_block_num</th>\n",
       "      <th>shop_id</th>\n",
       "      <th>item_id</th>\n",
       "    </tr>\n",
       "  </thead>\n",
       "  <tbody>\n",
       "  </tbody>\n",
       "</table>\n",
       "</div>"
      ],
      "text/plain": [
       "Empty DataFrame\n",
       "Columns: [date_block_num, shop_id, item_id]\n",
       "Index: []"
      ]
     },
     "execution_count": 40,
     "metadata": {},
     "output_type": "execute_result"
    }
   ],
   "source": [
    "# data check\n",
    "condition = (matrix.shop_id == 0) & (matrix.item_id == 0)\n",
    "matrix[condition]"
   ]
  },
  {
   "cell_type": "markdown",
   "metadata": {},
   "source": [
    "**Submissions are evaluated by root mean squared error (RMSE). True target values are clipped into [0,20] range.**"
   ]
  },
  {
   "cell_type": "code",
   "execution_count": 41,
   "metadata": {
    "scrolled": true
   },
   "outputs": [],
   "source": [
    "groupby_cols = ['shop_id', 'item_id', 'date_block_num']\n",
    "train_df = sales_data.groupby(groupby_cols).agg({\n",
    "    'item_cnt_day':['sum']\n",
    "}).reset_index()\n",
    "\n",
    "train_df.columns = ['_'.join(cols).strip() for cols in train_df.columns.values]\n",
    "train_df.rename({\n",
    "    'shop_id_': 'shop_id',\n",
    "    'item_id_': 'item_id',\n",
    "    'date_block_num_': 'date_block_num',\n",
    "    'item_cnt_day_sum': 'item_cnt_month'\n",
    "}, inplace=True, axis=1)\n",
    "\n",
    "matrix = pd.merge(matrix, train_df, on=groupby_cols, how='left')\n",
    "matrix['item_cnt_month'] = matrix['item_cnt_month'].fillna(0).clip(0, 20).astype(np.float16)\n",
    "                            "
   ]
  },
  {
   "cell_type": "markdown",
   "metadata": {},
   "source": [
    "*merge other data info*"
   ]
  },
  {
   "cell_type": "code",
   "execution_count": 42,
   "metadata": {},
   "outputs": [],
   "source": [
    "matrix = pd.merge(matrix, shop_data, on=['shop_id'], how='left')\n",
    "matrix = pd.merge(matrix, items_data, on=['item_id'], how='left')\n",
    "matrix = pd.merge(matrix, item_categories_data, on=['item_category_id'], how='left')\n",
    "\n",
    "matrix['city_code'] = matrix['city_code'].astype(np.int8)\n",
    "matrix['item_category_id'] = matrix['item_category_id'].astype(np.int8)\n",
    "matrix['type_code'] = matrix['type_code'].astype(np.int8)\n",
    "matrix['subtype_code'] = matrix['subtype_code'].astype(np.int8)"
   ]
  },
  {
   "cell_type": "code",
   "execution_count": 43,
   "metadata": {},
   "outputs": [],
   "source": [
    "test_data['date_block_num'] = 34\n",
    "test_data['date_block_num'] = test_data['date_block_num'].astype(np.int8)\n",
    "test_data['shop_id'] = test_data['shop_id'].astype(np.int8)\n",
    "test_data['item_id'] = test_data['item_id'].astype(np.int16)"
   ]
  },
  {
   "cell_type": "code",
   "execution_count": 44,
   "metadata": {},
   "outputs": [],
   "source": [
    "matrix = pd.concat([matrix, test_data], ignore_index=True, sort=False, keys=groupby_cols)\n",
    "matrix.fillna(0, inplace=True)"
   ]
  },
  {
   "cell_type": "code",
   "execution_count": 45,
   "metadata": {},
   "outputs": [
    {
     "data": {
      "text/html": [
       "<div>\n",
       "<style scoped>\n",
       "    .dataframe tbody tr th:only-of-type {\n",
       "        vertical-align: middle;\n",
       "    }\n",
       "\n",
       "    .dataframe tbody tr th {\n",
       "        vertical-align: top;\n",
       "    }\n",
       "\n",
       "    .dataframe thead th {\n",
       "        text-align: right;\n",
       "    }\n",
       "</style>\n",
       "<table border=\"1\" class=\"dataframe\">\n",
       "  <thead>\n",
       "    <tr style=\"text-align: right;\">\n",
       "      <th></th>\n",
       "      <th>date_block_num</th>\n",
       "      <th>shop_id</th>\n",
       "      <th>item_id</th>\n",
       "      <th>item_cnt_month</th>\n",
       "      <th>city_code</th>\n",
       "      <th>item_category_id</th>\n",
       "      <th>type_code</th>\n",
       "      <th>subtype_code</th>\n",
       "      <th>ID</th>\n",
       "    </tr>\n",
       "  </thead>\n",
       "  <tbody>\n",
       "    <tr>\n",
       "      <th>0</th>\n",
       "      <td>0</td>\n",
       "      <td>2</td>\n",
       "      <td>19</td>\n",
       "      <td>0.0</td>\n",
       "      <td>0.0</td>\n",
       "      <td>40.0</td>\n",
       "      <td>11.0</td>\n",
       "      <td>4.0</td>\n",
       "      <td>0.0</td>\n",
       "    </tr>\n",
       "    <tr>\n",
       "      <th>1</th>\n",
       "      <td>0</td>\n",
       "      <td>2</td>\n",
       "      <td>27</td>\n",
       "      <td>1.0</td>\n",
       "      <td>0.0</td>\n",
       "      <td>19.0</td>\n",
       "      <td>5.0</td>\n",
       "      <td>10.0</td>\n",
       "      <td>0.0</td>\n",
       "    </tr>\n",
       "    <tr>\n",
       "      <th>2</th>\n",
       "      <td>0</td>\n",
       "      <td>2</td>\n",
       "      <td>28</td>\n",
       "      <td>0.0</td>\n",
       "      <td>0.0</td>\n",
       "      <td>30.0</td>\n",
       "      <td>8.0</td>\n",
       "      <td>55.0</td>\n",
       "      <td>0.0</td>\n",
       "    </tr>\n",
       "    <tr>\n",
       "      <th>3</th>\n",
       "      <td>0</td>\n",
       "      <td>2</td>\n",
       "      <td>29</td>\n",
       "      <td>0.0</td>\n",
       "      <td>0.0</td>\n",
       "      <td>23.0</td>\n",
       "      <td>5.0</td>\n",
       "      <td>16.0</td>\n",
       "      <td>0.0</td>\n",
       "    </tr>\n",
       "    <tr>\n",
       "      <th>4</th>\n",
       "      <td>0</td>\n",
       "      <td>2</td>\n",
       "      <td>32</td>\n",
       "      <td>0.0</td>\n",
       "      <td>0.0</td>\n",
       "      <td>40.0</td>\n",
       "      <td>11.0</td>\n",
       "      <td>4.0</td>\n",
       "      <td>0.0</td>\n",
       "    </tr>\n",
       "  </tbody>\n",
       "</table>\n",
       "</div>"
      ],
      "text/plain": [
       "   date_block_num  shop_id  item_id  item_cnt_month  city_code  \\\n",
       "0               0        2       19             0.0        0.0   \n",
       "1               0        2       27             1.0        0.0   \n",
       "2               0        2       28             0.0        0.0   \n",
       "3               0        2       29             0.0        0.0   \n",
       "4               0        2       32             0.0        0.0   \n",
       "\n",
       "   item_category_id  type_code  subtype_code   ID  \n",
       "0              40.0       11.0           4.0  0.0  \n",
       "1              19.0        5.0          10.0  0.0  \n",
       "2              30.0        8.0          55.0  0.0  \n",
       "3              23.0        5.0          16.0  0.0  \n",
       "4              40.0       11.0           4.0  0.0  "
      ]
     },
     "execution_count": 45,
     "metadata": {},
     "output_type": "execute_result"
    }
   ],
   "source": [
    "matrix.head()"
   ]
  },
  {
   "cell_type": "code",
   "execution_count": 46,
   "metadata": {
    "scrolled": true
   },
   "outputs": [
    {
     "name": "stdout",
     "output_type": "stream",
     "text": [
      "Number of train + test data:11128004\n"
     ]
    }
   ],
   "source": [
    "print('Number of train + test data:{}'.format(matrix.shape[0]))"
   ]
  },
  {
   "cell_type": "code",
   "execution_count": 47,
   "metadata": {},
   "outputs": [],
   "source": [
    "with open('all_month_data.pkl', 'wb') as handle:\n",
    "    pickle.dump(matrix, handle, protocol=pickle.HIGHEST_PROTOCOL)"
   ]
  },
  {
   "cell_type": "markdown",
   "metadata": {},
   "source": [
    "# Feature engineering"
   ]
  },
  {
   "cell_type": "markdown",
   "metadata": {},
   "source": [
    "*Target lags*\n",
    "\n",
    "Lag 為此次比賽的關鍵 feature，因為是要預測下一個月的總量，所以用 Lags 可以彌補 `date_block_num:34` 所需要的資料"
   ]
  },
  {
   "cell_type": "code",
   "execution_count": 49,
   "metadata": {},
   "outputs": [],
   "source": [
    "lags_list = list(range(1, 13))\n",
    "\n",
    "def lag_feature(df, lags, col):\n",
    "    start_time = time.time()\n",
    "    tmp = df[['date_block_num','shop_id','item_id', col]]\n",
    "    for i in lags:\n",
    "        shifted = tmp.copy()\n",
    "        shifted.columns = ['date_block_num','shop_id','item_id', col + '_lag_' + str(i)]\n",
    "        shifted['date_block_num'] += i\n",
    "        df = pd.merge(df, shifted, on=['date_block_num','shop_id','item_id'], how='left')\n",
    "        del shifted\n",
    "    end_time = time.time()    \n",
    "    print('Computing time:{}'.format(end_time - start_time))\n",
    "    return df"
   ]
  },
  {
   "cell_type": "code",
   "execution_count": 50,
   "metadata": {},
   "outputs": [
    {
     "name": "stdout",
     "output_type": "stream",
     "text": [
      "Computing time:144.4366819858551\n"
     ]
    }
   ],
   "source": [
    "matrix = lag_feature(matrix, lags_list, 'item_cnt_month')\n"
   ]
  },
  {
   "cell_type": "markdown",
   "metadata": {},
   "source": [
    "### Group based lag features "
   ]
  },
  {
   "cell_type": "code",
   "execution_count": 51,
   "metadata": {},
   "outputs": [],
   "source": [
    "def do_count(data, group_cols, target_col, new_col_name, col_type):\n",
    "    print('[INFO] Count {} with group by {} combination...'.format(target_col, '-'.join(group_cols)))\n",
    "    cols = group_cols.copy()\n",
    "    cols.append(target_col)\n",
    "    group_data = data[cols].groupby(by=group_cols)[[target_col]].count()\\\n",
    "        .reset_index()\\\n",
    "        .rename(index=str, columns={target_col: new_col_name})\n",
    "    data = data.merge(group_data, on=group_cols, how='left')\n",
    "    del group_data\n",
    "    data[new_col_name] = data[new_col_name].astype(col_type)\n",
    "    gc.collect()\n",
    "    return data\n",
    "    \n",
    "def do_mean(data, group_cols, target_col, new_col_name, col_type):\n",
    "    print('[INFO] Compute mean {} with group by {} combination...'.format(target_col, '-'.join(group_cols)))\n",
    "    cols = group_cols.copy()\n",
    "    cols.append(target_col)\n",
    "    group_data = data[cols].groupby(by=group_cols)[[target_col]].mean()\\\n",
    "        .reset_index().rename(index=str, columns={target_col: new_col_name})\n",
    "    data = data.merge(group_data, on=group_cols, how='left')\n",
    "    del group_data\n",
    "    data[new_col_name] = data[new_col_name].astype(col_type)\n",
    "    gc.collect()\n",
    "    return data\n",
    "\n",
    "def do_sum(data, group_cols, target_col, new_col_name, col_type):\n",
    "    print('[INFO] Compute mean {} with group by {} combination...'.format(target_col, '-'.join(group_cols)))\n",
    "    cols = group_cols.copy()\n",
    "    cols.append(target_col)\n",
    "    group_data = data[cols].groupby(by=group_cols)[[target_col]].sum()\\\n",
    "        .reset_index().rename(index=str, columns={target_col: new_col_name})\n",
    "    data = data.merge(group_data, on=group_cols, how='left')\n",
    "    del group_data\n",
    "    data[new_col_name] = data[new_col_name].astype(col_type)\n",
    "    gc.collect()\n",
    "    return data\n",
    "\n",
    "def do_max(data, group_cols, target_col, new_col_name, col_type):\n",
    "    print('[INFO] Compute mean {} with group by {} combination...'.format(target_col, '-'.join(group_cols)))\n",
    "    cols = group_cols.copy()\n",
    "    cols.append(target_col)\n",
    "    group_data = data[cols].groupby(by=group_cols)[[target_col]].max()\\\n",
    "        .reset_index().rename(index=str, columns={target_col: new_col_name})\n",
    "    data = data.merge(group_data, on=group_cols, how='left')\n",
    "    del group_data\n",
    "    data[new_col_name] = data[new_col_name].astype(col_type)\n",
    "    gc.collect()\n",
    "    return data\n",
    "\n",
    "def do_min(data, group_cols, target_col, new_col_name, col_type):\n",
    "    print('[INFO] Compute mean {} with group by {} combination...'.format(target_col, '-'.join(group_cols)))\n",
    "    cols = group_cols.copy()\n",
    "    cols.append(target_col)\n",
    "    group_data = data[cols].groupby(by=group_cols)[[target_col]].min()\\\n",
    "        .reset_index().rename(index=str, columns={target_col: new_col_name})\n",
    "    data = data.merge(group_data, on=group_cols, how='left')\n",
    "    del group_data\n",
    "    data[new_col_name] = data[new_col_name].astype(col_type)\n",
    "    gc.collect()\n",
    "    return data"
   ]
  },
  {
   "cell_type": "code",
   "execution_count": 52,
   "metadata": {},
   "outputs": [
    {
     "name": "stdout",
     "output_type": "stream",
     "text": [
      "[INFO] Compute mean item_cnt_month with group by date_block_num combination...\n",
      "Computing time:13.271844625473022\n"
     ]
    }
   ],
   "source": [
    "group_cols = ['date_block_num']\n",
    "target_col = 'item_cnt_month'\n",
    "new_col_name = 'date_avg_item_cnt_month'\n",
    "col_type = 'float16'\n",
    "\n",
    "matrix = do_mean(data=matrix,\n",
    "                   group_cols=group_cols,\n",
    "                   target_col=target_col,\n",
    "                   new_col_name=new_col_name,\n",
    "                   col_type=col_type)\n",
    "\n",
    "matrix = lag_feature(matrix, [1], new_col_name)\n",
    "matrix.drop([new_col_name], axis=1, inplace=True)\n"
   ]
  },
  {
   "cell_type": "code",
   "execution_count": 53,
   "metadata": {},
   "outputs": [
    {
     "name": "stdout",
     "output_type": "stream",
     "text": [
      "[INFO] Compute mean item_cnt_month with group by date_block_num-item_id combination...\n",
      "Computing time:160.10187125205994\n"
     ]
    }
   ],
   "source": [
    "group_cols = ['date_block_num', 'item_id']\n",
    "target_col = 'item_cnt_month'\n",
    "new_col_name = 'date_item_avg_item_cnt_month'\n",
    "col_type = 'float16'\n",
    "\n",
    "matrix = do_mean(data=matrix,\n",
    "                   group_cols=group_cols,\n",
    "                   target_col=target_col,\n",
    "                   new_col_name=new_col_name,\n",
    "                   col_type=col_type)\n",
    "\n",
    "matrix = lag_feature(matrix, lags_list, new_col_name)\n",
    "matrix.drop([new_col_name], axis=1, inplace=True)\n"
   ]
  },
  {
   "cell_type": "code",
   "execution_count": 54,
   "metadata": {},
   "outputs": [
    {
     "name": "stdout",
     "output_type": "stream",
     "text": [
      "[INFO] Compute mean item_cnt_month with group by date_block_num-shop_id combination...\n",
      "Computing time:170.39596271514893\n"
     ]
    }
   ],
   "source": [
    "group_cols = ['date_block_num', 'shop_id']\n",
    "target_col = 'item_cnt_month'\n",
    "new_col_name = 'date_shop_avg_item_cnt_month'\n",
    "col_type = 'float16'\n",
    "\n",
    "matrix = do_mean(data=matrix,\n",
    "                   group_cols=group_cols,\n",
    "                   target_col=target_col,\n",
    "                   new_col_name=new_col_name,\n",
    "                   col_type=col_type)\n",
    "\n",
    "matrix = lag_feature(matrix, lags_list, new_col_name)\n",
    "matrix.drop([new_col_name], axis=1, inplace=True)\n"
   ]
  },
  {
   "cell_type": "code",
   "execution_count": 55,
   "metadata": {},
   "outputs": [
    {
     "name": "stdout",
     "output_type": "stream",
     "text": [
      "[INFO] Compute mean item_cnt_month with group by date_block_num-item_category_id combination...\n",
      "Computing time:17.533079147338867\n"
     ]
    }
   ],
   "source": [
    "group_cols = ['date_block_num', 'item_category_id']\n",
    "target_col = 'item_cnt_month'\n",
    "new_col_name = 'date_cat_avg_item_cnt_month'\n",
    "col_type = 'float16'\n",
    "\n",
    "matrix = do_mean(data=matrix,\n",
    "                   group_cols=group_cols,\n",
    "                   target_col=target_col,\n",
    "                   new_col_name=new_col_name,\n",
    "                   col_type=col_type)\n",
    "\n",
    "matrix = lag_feature(matrix, [1], new_col_name)\n",
    "matrix.drop([new_col_name], axis=1, inplace=True)\n"
   ]
  },
  {
   "cell_type": "code",
   "execution_count": 56,
   "metadata": {},
   "outputs": [
    {
     "name": "stdout",
     "output_type": "stream",
     "text": [
      "[INFO] Compute mean item_cnt_month with group by date_block_num-shop_id-item_category_id combination...\n",
      "Computing time:17.784915685653687\n"
     ]
    }
   ],
   "source": [
    "group_cols = ['date_block_num', 'shop_id', 'item_category_id']\n",
    "target_col = 'item_cnt_month'\n",
    "new_col_name = 'date_shop_cat_avg_item_cnt_month'\n",
    "col_type = 'float16'\n",
    "\n",
    "matrix = do_mean(data=matrix,\n",
    "                   group_cols=group_cols,\n",
    "                   target_col=target_col,\n",
    "                   new_col_name=new_col_name,\n",
    "                   col_type=col_type)\n",
    "\n",
    "matrix = lag_feature(matrix, [1], new_col_name)\n",
    "matrix.drop([new_col_name], axis=1, inplace=True)\n"
   ]
  },
  {
   "cell_type": "code",
   "execution_count": 57,
   "metadata": {},
   "outputs": [
    {
     "name": "stdout",
     "output_type": "stream",
     "text": [
      "[INFO] Compute mean item_cnt_month with group by date_block_num-shop_id-type_code combination...\n",
      "Computing time:17.237791538238525\n"
     ]
    }
   ],
   "source": [
    "group_cols = ['date_block_num', 'shop_id', 'type_code']\n",
    "target_col = 'item_cnt_month'\n",
    "new_col_name = 'date_shop_type_avg_item_cnt_month'\n",
    "col_type = 'float16'\n",
    "\n",
    "matrix = do_mean(data=matrix,\n",
    "                   group_cols=group_cols,\n",
    "                   target_col=target_col,\n",
    "                   new_col_name=new_col_name,\n",
    "                   col_type=col_type)\n",
    "\n",
    "matrix = lag_feature(matrix, [1], new_col_name)\n",
    "matrix.drop([new_col_name], axis=1, inplace=True)\n"
   ]
  },
  {
   "cell_type": "code",
   "execution_count": 58,
   "metadata": {},
   "outputs": [
    {
     "name": "stdout",
     "output_type": "stream",
     "text": [
      "[INFO] Compute mean item_cnt_month with group by date_block_num-shop_id-subtype_code combination...\n",
      "Computing time:17.892373085021973\n"
     ]
    }
   ],
   "source": [
    "group_cols = ['date_block_num', 'shop_id', 'subtype_code']\n",
    "target_col = 'item_cnt_month'\n",
    "new_col_name = 'date_city_subtype_avg_item_cnt_month'\n",
    "col_type = 'float16'\n",
    "\n",
    "matrix = do_mean(data=matrix,\n",
    "                   group_cols=group_cols,\n",
    "                   target_col=target_col,\n",
    "                   new_col_name=new_col_name,\n",
    "                   col_type=col_type)\n",
    "\n",
    "matrix = lag_feature(matrix, [1], new_col_name)\n",
    "matrix.drop([new_col_name], axis=1, inplace=True)\n"
   ]
  },
  {
   "cell_type": "code",
   "execution_count": 59,
   "metadata": {},
   "outputs": [
    {
     "name": "stdout",
     "output_type": "stream",
     "text": [
      "[INFO] Compute mean item_cnt_month with group by date_block_num-city_code combination...\n",
      "Computing time:17.715256214141846\n"
     ]
    }
   ],
   "source": [
    "group_cols = ['date_block_num', 'city_code']\n",
    "target_col = 'item_cnt_month'\n",
    "new_col_name = 'date_city_avg_item_cnt_month'\n",
    "col_type = 'float16'\n",
    "\n",
    "matrix = do_mean(data=matrix,\n",
    "                   group_cols=group_cols,\n",
    "                   target_col=target_col,\n",
    "                   new_col_name=new_col_name,\n",
    "                   col_type=col_type)\n",
    "\n",
    "matrix = lag_feature(matrix, [1], new_col_name)\n",
    "matrix.drop([new_col_name], axis=1, inplace=True)\n"
   ]
  },
  {
   "cell_type": "code",
   "execution_count": 60,
   "metadata": {},
   "outputs": [
    {
     "name": "stdout",
     "output_type": "stream",
     "text": [
      "[INFO] Compute mean item_cnt_month with group by date_block_num-item_id-city_code combination...\n",
      "Computing time:18.783292293548584\n"
     ]
    }
   ],
   "source": [
    "group_cols = ['date_block_num', 'item_id', 'city_code']\n",
    "target_col = 'item_cnt_month'\n",
    "new_col_name = 'date_item_city_avg_item_cnt_month'\n",
    "col_type = 'float16'\n",
    "\n",
    "matrix = do_mean(data=matrix,\n",
    "                   group_cols=group_cols,\n",
    "                   target_col=target_col,\n",
    "                   new_col_name=new_col_name,\n",
    "                   col_type=col_type)\n",
    "\n",
    "matrix = lag_feature(matrix, [1], new_col_name)\n",
    "matrix.drop([new_col_name], axis=1, inplace=True)\n"
   ]
  },
  {
   "cell_type": "code",
   "execution_count": 61,
   "metadata": {},
   "outputs": [
    {
     "name": "stdout",
     "output_type": "stream",
     "text": [
      "[INFO] Compute mean item_cnt_month with group by date_block_num-type_code combination...\n",
      "Computing time:19.222887754440308\n"
     ]
    }
   ],
   "source": [
    "group_cols = ['date_block_num', 'type_code']\n",
    "target_col = 'item_cnt_month'\n",
    "new_col_name = 'date_type_avg_item_cnt_month'\n",
    "col_type = 'float16'\n",
    "\n",
    "matrix = do_mean(data=matrix,\n",
    "                   group_cols=group_cols,\n",
    "                   target_col=target_col,\n",
    "                   new_col_name=new_col_name,\n",
    "                   col_type=col_type)\n",
    "\n",
    "matrix = lag_feature(matrix, [1], new_col_name)\n",
    "matrix.drop([new_col_name], axis=1, inplace=True)\n"
   ]
  },
  {
   "cell_type": "code",
   "execution_count": 62,
   "metadata": {},
   "outputs": [
    {
     "name": "stdout",
     "output_type": "stream",
     "text": [
      "[INFO] Compute mean item_cnt_month with group by date_block_num-subtype_code combination...\n",
      "Computing time:18.79897427558899\n"
     ]
    }
   ],
   "source": [
    "group_cols = ['date_block_num', 'subtype_code']\n",
    "target_col = 'item_cnt_month'\n",
    "new_col_name = 'date_subtype_avg_item_cnt_month'\n",
    "col_type = 'float16'\n",
    "\n",
    "matrix = do_mean(data=matrix,\n",
    "                   group_cols=group_cols,\n",
    "                   target_col=target_col,\n",
    "                   new_col_name=new_col_name,\n",
    "                   col_type=col_type)\n",
    "\n",
    "matrix = lag_feature(matrix, [1], new_col_name)\n",
    "matrix.drop([new_col_name], axis=1, inplace=True)\n"
   ]
  },
  {
   "cell_type": "markdown",
   "metadata": {},
   "source": [
    "***Trend features***\n",
    "\n",
    "Price trend for the last six months."
   ]
  },
  {
   "cell_type": "code",
   "execution_count": 63,
   "metadata": {},
   "outputs": [
    {
     "name": "stdout",
     "output_type": "stream",
     "text": [
      "[INFO] Compute mean item_price with group by item_id combination...\n"
     ]
    },
    {
     "data": {
      "text/plain": [
       "35"
      ]
     },
     "execution_count": 63,
     "metadata": {},
     "output_type": "execute_result"
    }
   ],
   "source": [
    "group_cols = ['item_id']\n",
    "target_col = 'item_price'\n",
    "new_col_name = 'item_avg_item_price'\n",
    "col_type = 'float16'\n",
    "\n",
    "sales_data = do_mean(data=sales_data,\n",
    "                     group_cols=group_cols,\n",
    "                     target_col=target_col,\n",
    "                     new_col_name=new_col_name,\n",
    "                     col_type=col_type)\n",
    "\n",
    "tmp_data = sales_data[group_cols + [new_col_name]].drop_duplicates()\n",
    "matrix = pd.merge(matrix, tmp_data, on=group_cols, how='left')\n",
    "del tmp_data\n",
    "gc.collect()"
   ]
  },
  {
   "cell_type": "code",
   "execution_count": 64,
   "metadata": {},
   "outputs": [
    {
     "name": "stdout",
     "output_type": "stream",
     "text": [
      "[INFO] Compute mean item_price with group by date_block_num-item_id combination...\n"
     ]
    },
    {
     "data": {
      "text/plain": [
       "35"
      ]
     },
     "execution_count": 64,
     "metadata": {},
     "output_type": "execute_result"
    }
   ],
   "source": [
    "group_cols = ['date_block_num', 'item_id']\n",
    "target_col = 'item_price'\n",
    "new_col_name = 'date_item_avg_item_price'\n",
    "col_type = 'float16'\n",
    "\n",
    "sales_data = do_mean(data=sales_data,\n",
    "                     group_cols=group_cols,\n",
    "                     target_col=target_col,\n",
    "                     new_col_name=new_col_name,\n",
    "                     col_type=col_type)\n",
    "\n",
    "tmp_data = sales_data[group_cols + [new_col_name]].drop_duplicates()\n",
    "matrix = pd.merge(matrix, tmp_data, on=group_cols, how='left')\n",
    "del tmp_data\n",
    "gc.collect()"
   ]
  },
  {
   "cell_type": "code",
   "execution_count": 65,
   "metadata": {},
   "outputs": [
    {
     "name": "stdout",
     "output_type": "stream",
     "text": [
      "Computing time:95.3943612575531\n"
     ]
    }
   ],
   "source": [
    "lags = [1, 2, 3, 4, 5, 6]\n",
    "matrix = lag_feature(matrix, lags, new_col_name)\n"
   ]
  },
  {
   "cell_type": "code",
   "execution_count": 66,
   "metadata": {},
   "outputs": [],
   "source": [
    "for i in lags:\n",
    "    matrix['delta_price_lag_' + str(i)] = (matrix['date_item_avg_item_price_lag_'+ str(i)] - \n",
    "                                             matrix['item_avg_item_price']) / matrix['item_avg_item_price']\n",
    "    "
   ]
  },
  {
   "cell_type": "code",
   "execution_count": 67,
   "metadata": {},
   "outputs": [],
   "source": [
    "delta_cols = [i for i in matrix.columns.tolist() if i.startswith('delta_price_lag_')]"
   ]
  },
  {
   "cell_type": "code",
   "execution_count": 68,
   "metadata": {},
   "outputs": [],
   "source": [
    "def select_trend(row):\n",
    "    for i in lags:\n",
    "        if row['delta_price_lag_'+ str(i)]:\n",
    "            return row['delta_price_lag_'+ str(i)]\n",
    "    return 0\n",
    "\n",
    "matrix['delta_price_lag'] = matrix[delta_cols].apply(select_trend, axis=1)\n",
    "matrix['delta_price_lag'] = matrix['delta_price_lag'].astype(np.float16)\n",
    "matrix['delta_price_lag'].fillna(0, inplace=True)"
   ]
  },
  {
   "cell_type": "code",
   "execution_count": 69,
   "metadata": {},
   "outputs": [
    {
     "data": {
      "text/plain": [
       "140"
      ]
     },
     "execution_count": 69,
     "metadata": {},
     "output_type": "execute_result"
    }
   ],
   "source": [
    "fetures_to_drop = ['date_item_avg_item_price', 'item_avg_item_price']\n",
    "for i in lags:\n",
    "    fetures_to_drop += ['date_item_avg_item_price_lag_' + str(i)]\n",
    "    fetures_to_drop += ['delta_price_lag_' + str(i)]\n",
    "\n",
    "matrix.drop(fetures_to_drop, axis=1, inplace=True)\n",
    "gc.collect()"
   ]
  },
  {
   "cell_type": "markdown",
   "metadata": {},
   "source": [
    "***Last month shop revenue trend***"
   ]
  },
  {
   "cell_type": "code",
   "execution_count": 70,
   "metadata": {},
   "outputs": [
    {
     "name": "stdout",
     "output_type": "stream",
     "text": [
      "[INFO] Compute mean revenue with group by date_block_num-shop_id combination...\n"
     ]
    }
   ],
   "source": [
    "group_cols = ['date_block_num', 'shop_id']\n",
    "target_col = 'revenue'\n",
    "new_col_name = 'date_shop_revenue'\n",
    "col_type = 'float32'\n",
    "\n",
    "sales_data = do_sum(data=sales_data,\n",
    "                    group_cols=group_cols,\n",
    "                    target_col=target_col,\n",
    "                    new_col_name=new_col_name,\n",
    "                    col_type=col_type)"
   ]
  },
  {
   "cell_type": "code",
   "execution_count": 71,
   "metadata": {},
   "outputs": [
    {
     "data": {
      "text/plain": [
       "35"
      ]
     },
     "execution_count": 71,
     "metadata": {},
     "output_type": "execute_result"
    }
   ],
   "source": [
    "tmp_data = sales_data[group_cols + [new_col_name]].drop_duplicates()\n",
    "matrix = pd.merge(matrix, tmp_data, on=group_cols, how='left')\n",
    "del tmp_data\n",
    "gc.collect()"
   ]
  },
  {
   "cell_type": "code",
   "execution_count": 72,
   "metadata": {},
   "outputs": [
    {
     "name": "stdout",
     "output_type": "stream",
     "text": [
      "[INFO] Compute mean revenue with group by shop_id combination...\n"
     ]
    },
    {
     "data": {
      "text/plain": [
       "35"
      ]
     },
     "execution_count": 72,
     "metadata": {},
     "output_type": "execute_result"
    }
   ],
   "source": [
    "group_cols = ['shop_id']\n",
    "target_col = 'revenue'\n",
    "new_col_name = 'shop_avg_revenue'\n",
    "col_type = 'float32'\n",
    "\n",
    "sales_data = do_mean(data=sales_data,\n",
    "                     group_cols=group_cols,\n",
    "                     target_col=target_col,\n",
    "                     new_col_name=new_col_name,\n",
    "                     col_type=col_type)\n",
    "\n",
    "tmp_data = sales_data[group_cols + [new_col_name]].drop_duplicates()\n",
    "matrix = pd.merge(matrix, tmp_data, on=group_cols, how='left')\n",
    "del tmp_data\n",
    "gc.collect()"
   ]
  },
  {
   "cell_type": "code",
   "execution_count": 73,
   "metadata": {},
   "outputs": [
    {
     "name": "stdout",
     "output_type": "stream",
     "text": [
      "Computing time:18.989776611328125\n"
     ]
    }
   ],
   "source": [
    "matrix['delta_revenue'] = (matrix['date_shop_revenue'] - matrix['shop_avg_revenue']) / matrix['shop_avg_revenue']\n",
    "matrix['delta_revenue'] = matrix['delta_revenue'].astype(np.float16)\n",
    "matrix = lag_feature(matrix, [1], 'delta_revenue')\n",
    "matrix.drop(['date_shop_revenue', 'shop_avg_revenue', 'delta_revenue'], axis=1, inplace=True)\n"
   ]
  },
  {
   "cell_type": "markdown",
   "metadata": {},
   "source": [
    "*add month and day featue*"
   ]
  },
  {
   "cell_type": "code",
   "execution_count": 74,
   "metadata": {},
   "outputs": [],
   "source": [
    "matrix['month'] = matrix['date_block_num'] % 12\n"
   ]
  },
  {
   "cell_type": "code",
   "execution_count": 100,
   "metadata": {},
   "outputs": [],
   "source": [
    "days = pd.Series([31, 28, 31, 30, 31, 30, 31, 31, 30, 31, 30, 31])\n",
    "matrix['days'] = matrix['month'].map(days).astype(np.int8)"
   ]
  },
  {
   "cell_type": "markdown",
   "metadata": {},
   "source": [
    "Create HashTable with key equals to `{shop_id, item_id}` and value equals to date_block_num. Iterate data from the top. Foreach row if `{row.shop_id,row.item_id}` is not present in the table, then add it to the table and set its value to row.date_block_num. If HashTable contains key, then calculate the difference beteween cached value and `row.date_block_num`."
   ]
  },
  {
   "cell_type": "code",
   "execution_count": 103,
   "metadata": {},
   "outputs": [],
   "source": [
    "cache = {}\n",
    "matrix['item_shop_last_sale'] = -1\n",
    "matrix['item_shop_last_sale'] = matrix['item_shop_last_sale'].astype(np.int8)\n",
    "for idx, row in matrix.iterrows():    \n",
    "    key = str(row.item_id) + '_' + str(row.shop_id)\n",
    "    if key not in cache:\n",
    "        if row.item_cnt_month != 0:\n",
    "            cache[key] = row.date_block_num\n",
    "    else:\n",
    "        last_date_block_num = cache[key]\n",
    "        matrix.at[idx, 'item_shop_last_sale'] = row.date_block_num - last_date_block_num\n",
    "        cache[key] = row.date_block_num         \n"
   ]
  },
  {
   "cell_type": "code",
   "execution_count": 104,
   "metadata": {},
   "outputs": [],
   "source": [
    "cache = {}\n",
    "matrix['item_last_sale'] = -1\n",
    "matrix['item_last_sale'] = matrix['item_last_sale'].astype(np.int8)\n",
    "for idx, row in matrix.iterrows():    \n",
    "    key = row.item_id\n",
    "    if key not in cache:\n",
    "        if row.item_cnt_month! = 0:\n",
    "            cache[key] = row.date_block_num\n",
    "    else:\n",
    "        last_date_block_num = cache[key]\n",
    "        if row.date_block_num > last_date_block_num:\n",
    "            matrix.at[idx, 'item_last_sale'] = row.date_block_num - last_date_block_num\n",
    "            cache[key] = row.date_block_num  "
   ]
  },
  {
   "cell_type": "code",
   "execution_count": 107,
   "metadata": {},
   "outputs": [
    {
     "data": {
      "text/plain": [
       "2832"
      ]
     },
     "execution_count": 107,
     "metadata": {},
     "output_type": "execute_result"
    }
   ],
   "source": [
    "del cache\n",
    "gc.collect()"
   ]
  },
  {
   "cell_type": "code",
   "execution_count": 9,
   "metadata": {},
   "outputs": [],
   "source": [
    "matrix['item_shop_first_sale'] = matrix['date_block_num'] - matrix.groupby(['item_id','shop_id'])['date_block_num'].transform('min')\n",
    "matrix['item_first_sale'] = matrix['date_block_num'] - matrix.groupby('item_id')['date_block_num'].transform('min')"
   ]
  },
  {
   "cell_type": "code",
   "execution_count": null,
   "metadata": {},
   "outputs": [],
   "source": [
    "matrix = matrix[matrix.date_block_num > 11]"
   ]
  },
  {
   "cell_type": "code",
   "execution_count": null,
   "metadata": {},
   "outputs": [],
   "source": [
    "def fill_na(df):\n",
    "    for col in df.columns:\n",
    "        if ('_lag_' in col) & (df[col].isnull().any()):\n",
    "            if ('item_cnt' in col):\n",
    "                df[col].fillna(0, inplace=True)         \n",
    "    return df\n",
    "\n",
    "matrix = fill_na(matrix)\n"
   ]
  },
  {
   "cell_type": "code",
   "execution_count": 12,
   "metadata": {},
   "outputs": [],
   "source": [
    "# Save data with feature engineering\n",
    "with open('all_month_data_with_fe.pkl', 'wb') as handle:\n",
    "    pickle.dump(matrix, handle, protocol=pickle.HIGHEST_PROTOCOL)"
   ]
  },
  {
   "cell_type": "markdown",
   "metadata": {},
   "source": [
    "# Building model\n"
   ]
  },
  {
   "cell_type": "code",
   "execution_count": 7,
   "metadata": {},
   "outputs": [],
   "source": [
    "with open('all_month_data_with_fe.pkl', 'rb') as handle:\n",
    "    matrix = pickle.load(handle)"
   ]
  },
  {
   "cell_type": "code",
   "execution_count": 14,
   "metadata": {},
   "outputs": [
    {
     "data": {
      "text/plain": [
       "(6639294, 62)"
      ]
     },
     "execution_count": 14,
     "metadata": {},
     "output_type": "execute_result"
    }
   ],
   "source": [
    "matrix.shape"
   ]
  },
  {
   "cell_type": "code",
   "execution_count": 18,
   "metadata": {},
   "outputs": [],
   "source": [
    "features_cols = [c for c in matrix.columns.tolist() if c not in ['item_cnt_month', 'ID']]\n",
    "target_col = 'item_cnt_month'\n",
    "cat_features = ['date_block_num', 'shop_id', 'item_id', 'city_code', 'item_category_id', \n",
    "                'type_code', 'subtype_code']"
   ]
  },
  {
   "cell_type": "markdown",
   "metadata": {},
   "source": [
    "# Baseline model"
   ]
  },
  {
   "cell_type": "code",
   "execution_count": 15,
   "metadata": {},
   "outputs": [],
   "source": [
    "train_df = matrix[matrix.date_block_num < 33]\n",
    "valid_df = matrix[matrix.date_block_num == 33]\n",
    "test_df = matrix[matrix.date_block_num == 34]"
   ]
  },
  {
   "cell_type": "code",
   "execution_count": 16,
   "metadata": {},
   "outputs": [],
   "source": [
    "num_of_iter = 1000\n",
    "num_early_stopping = 20\n",
    "num_verbose_eval = 100\n",
    "seed = 9527\n",
    "metric = 'rmse'\n",
    "    \n",
    "xgb_sk_params = {\n",
    "    'learning_rate': 0.3,\n",
    "    'n_estimators': num_of_iter,                                   \n",
    "    'objective': 'reg:squarederror', # binary:logistic\n",
    "    'n_jobs': multiprocessing.cpu_count(),\n",
    "    'eval_metric': [metric], # logloss\n",
    "    'random_state':  seed,\n",
    "    'max_depth': 8, # 0 means no limit (useful only for depth wise grow policy).\n",
    "    'min_child_weight': 300, # Minimum sum of instance weight (hessian) needed in a child.\n",
    "    'subsample': 0.8, # Subsample ratio of the training instances.\n",
    "    'colsample_bytree': 0.8, # subsample ratio of columns when constructing each tree.\n",
    "}\n",
    "\n",
    "lgb_sk_params = {\n",
    "    'boosting_type': 'gbdt', # goss, dart\n",
    "    'learning_rate': 0.1,\n",
    "    'n_estimators': num_of_iter,\n",
    "    'objective': 'regression_l2',\n",
    "    'metrics': [metric],\n",
    "    'random_state': seed,\n",
    "    'n_jobs': multiprocessing.cpu_count(),\n",
    "\n",
    "}"
   ]
  },
  {
   "cell_type": "markdown",
   "metadata": {},
   "source": [
    "## XGBoost"
   ]
  },
  {
   "cell_type": "code",
   "execution_count": 19,
   "metadata": {
    "scrolled": false
   },
   "outputs": [
    {
     "name": "stdout",
     "output_type": "stream",
     "text": [
      "[06:29:43] WARNING: /workspace/src/learner.cc:686: Tree method is automatically selected to be 'approx' for faster speed. To use old behavior (exact greedy algorithm on single machine), set tree_method to 'exact'.\n",
      "[0]\tvalidation_0-rmse:1.0728\tvalidation_1-rmse:1.06573\n",
      "Multiple eval metrics have been passed: 'validation_1-rmse' will be used for early stopping.\n",
      "\n",
      "Will train until validation_1-rmse hasn't improved in 20 rounds.\n",
      "Stopping. Best iteration:\n",
      "[8]\tvalidation_0-rmse:0.831928\tvalidation_1-rmse:0.913173\n",
      "\n"
     ]
    },
    {
     "data": {
      "text/plain": [
       "XGBRegressor(base_score=0.5, booster='gbtree', colsample_bylevel=1,\n",
       "             colsample_bynode=1, colsample_bytree=0.8, eval_metric=['rmse'],\n",
       "             gamma=0, importance_type='gain', learning_rate=0.3,\n",
       "             max_delta_step=0, max_depth=8, min_child_weight=300, missing=None,\n",
       "             n_estimators=1000, n_jobs=8, nthread=None,\n",
       "             objective='reg:squarederror', random_state=9527, reg_alpha=0,\n",
       "             reg_lambda=1, scale_pos_weight=1, seed=None, silent=None,\n",
       "             subsample=0.8, verbosity=1)"
      ]
     },
     "execution_count": 19,
     "metadata": {},
     "output_type": "execute_result"
    }
   ],
   "source": [
    "eval_set = [(train_df[features_cols], train_df[target_col]),\n",
    "            (valid_df[features_cols], valid_df[target_col])]\n",
    "model = xgb.XGBRegressor(**xgb_sk_params)\n",
    "model.fit(X=train_df[features_cols],\n",
    "          y=train_df[target_col], \n",
    "          eval_set=eval_set,             \n",
    "          early_stopping_rounds=num_early_stopping, \n",
    "          verbose=num_verbose_eval)\n",
    "      "
   ]
  },
  {
   "cell_type": "code",
   "execution_count": null,
   "metadata": {},
   "outputs": [],
   "source": [
    "y_pred = model.predict(valid_df[features_cols], ntree_limit=model.best_iteration_)\n",
    "\n",
    "print('MSE:', mean_squared_error(valid_df[target_col], y_pred))\n",
    "print('RMSE:', np.sqrt(mean_squared_error(valid_df[target_col], y_pred)))\n",
    "print('R2 score:', r2_score(valid_df[target_col], y_pred))    "
   ]
  },
  {
   "cell_type": "code",
   "execution_count": null,
   "metadata": {},
   "outputs": [],
   "source": [
    "fig, ax = plt.subplots(figsize=(15, 15))\n",
    "xgb.plot_importance(model, importance_type='weight', max_num_features=-1, height=0.5, ax=ax)"
   ]
  },
  {
   "cell_type": "markdown",
   "metadata": {},
   "source": [
    "## LightGBM"
   ]
  },
  {
   "cell_type": "code",
   "execution_count": 30,
   "metadata": {},
   "outputs": [
    {
     "name": "stdout",
     "output_type": "stream",
     "text": [
      "Training until validation scores don't improve for 50 rounds.\n",
      "Early stopping, best iteration is:\n",
      "[29]\tvalidation_0's rmse: 0.859803\tvalidation_1's rmse: 0.940769\n"
     ]
    },
    {
     "data": {
      "text/plain": [
       "LGBMRegressor(boosting_type='gbdt', class_weight=None, colsample_bytree=1.0,\n",
       "              importance_type='split', learning_rate=0.1, max_depth=-1,\n",
       "              metrics=['rmse'], min_child_samples=20, min_child_weight=0.001,\n",
       "              min_split_gain=0.0, n_estimators=1000, n_jobs=8, num_leaves=31,\n",
       "              objective='regression_l2', random_state=9527, reg_alpha=0.0,\n",
       "              reg_lambda=0.0, silent=True, subsample=1.0,\n",
       "              subsample_for_bin=200000, subsample_freq=0)"
      ]
     },
     "execution_count": 30,
     "metadata": {},
     "output_type": "execute_result"
    }
   ],
   "source": [
    "eval_set = [(train_df[features_cols], train_df[target_col]),\n",
    "            (valid_df[features_cols], valid_df[target_col])]\n",
    "model = lgb.LGBMRegressor(**lgb_sk_params)    \n",
    "model.fit(X=train_df[features_cols],\n",
    "          y=train_df[target_col], \n",
    "          eval_set=eval_set, \n",
    "          eval_names=['validation_0', 'validation_1'],\n",
    "          early_stopping_rounds=num_early_stopping, \n",
    "          verbose=num_verbose_eval)"
   ]
  },
  {
   "cell_type": "code",
   "execution_count": 32,
   "metadata": {},
   "outputs": [
    {
     "name": "stdout",
     "output_type": "stream",
     "text": [
      "MSE: 0.8850470959300232\n",
      "RMSE: 0.9407694169827286\n",
      "R2 score: 0.31425523196476757\n"
     ]
    }
   ],
   "source": [
    "y_pred = model.predict(valid_df[features_cols], ntree_limit=model.best_iteration_)\n",
    "\n",
    "print('MSE:', mean_squared_error(valid_df[target_col], y_pred))\n",
    "print('RMSE:', np.sqrt(mean_squared_error(valid_df[target_col], y_pred)))\n",
    "print('R2 score:', r2_score(valid_df[target_col], y_pred))    "
   ]
  },
  {
   "cell_type": "code",
   "execution_count": 33,
   "metadata": {},
   "outputs": [
    {
     "data": {
      "text/plain": [
       "<matplotlib.axes._subplots.AxesSubplot at 0x7fea9aa71860>"
      ]
     },
     "execution_count": 33,
     "metadata": {},
     "output_type": "execute_result"
    },
    {
     "data": {
      "image/png": "[encoded data removed]",
      "text/plain": [
       "<Figure size 1080x1080 with 1 Axes>"
      ]
     },
     "metadata": {
      "needs_background": "light"
     },
     "output_type": "display_data"
    }
   ],
   "source": [
    "fig, ax = plt.subplots(figsize=(15, 15))\n",
    "lgb.plot_importance(model, max_num_features=30, height=0.5, importance_type='split', ax=ax)"
   ]
  },
  {
   "cell_type": "code",
   "execution_count": 98,
   "metadata": {},
   "outputs": [],
   "source": [
    "y_pred = model.predict(test_df[features_cols],\n",
    "                       ntree_limit=model.best_iteration)\n",
    "y_pred = y_pred.clip(0, 20)\n",
    "submission_df = pd.DataFrame({\n",
    "    \"ID\": list(range(test_df.shape[0])), \n",
    "    \"item_cnt_month\": y_pred\n",
    "})\n",
    "submission_df.to_csv('submission_bs_{}.csv'.format(datetime.now().strftime('%Y%m%d%H%M%S')), index=False)"
   ]
  },
  {
   "cell_type": "markdown",
   "metadata": {},
   "source": [
    "# Cross validation with time split"
   ]
  },
  {
   "cell_type": "code",
   "execution_count": 34,
   "metadata": {},
   "outputs": [],
   "source": [
    "train_df = matrix[matrix.date_block_num <= 33]\n",
    "test_df = matrix[matrix.date_block_num == 34]"
   ]
  },
  {
   "cell_type": "code",
   "execution_count": 176,
   "metadata": {},
   "outputs": [],
   "source": [
    "num_of_iter = 1000\n",
    "num_early_stopping = 50\n",
    "num_verbose_eval = 100\n",
    "seed = 9527\n",
    "metric = 'rmse'\n",
    "    \n",
    "xgb_sk_params = {\n",
    "    'learning_rate': 0.1,\n",
    "    'n_estimators': num_of_iter,                                   \n",
    "    'objective': 'reg:squarederror', # binary:logistic\n",
    "    'n_jobs': multiprocessing.cpu_count(),\n",
    "    #'tree_method': \"gpu_hist\",  # gpu_hist\n",
    "    #'n_gpus': -1,\n",
    "    'eval_metric': [metric], # logloss\n",
    "    'random_state':  seed,\n",
    "    #'gamma': 0, # Minimum loss reduction required to make a further partition on a leaf node of the tree, alias min_split_loss. It acts as a regularization parameter. Either 0, 1 or 5.\n",
    "    #'max_depth': 8, # 0 means no limit (useful only for depth wise grow policy).\n",
    "    #'min_child_weight': 300, # Minimum sum of instance weight (hessian) needed in a child.\n",
    "    #'subsample': 0.8, # Subsample ratio of the training instances.\n",
    "    #'colsample_bytree': 0.8, # subsample ratio of columns when constructing each tree.\n",
    "    #'colsample_bylevel': 1, # subsample ratio of columns for each level.\n",
    "    #'reg_lambda': 1e-3, # L2 regularization. Increasing this value will make model more conservative.\n",
    "    #'reg_alpha': 0, # L1 regularization. Increasing this value will make model more conservative.\n",
    "    #'scale_pos_weight': weight_ratio, # Control the balance of positive and negative weights, useful for unbalanced classes.\n",
    "    #'grow_policy': \"lossguide\", # split at nodes with highest loss change.\n",
    "    #'max_leaves': 255, # Maximum number of nodes to be added. (for lossguide grow policy).\n",
    "    #'max_bin': 100, # Increasing this number improves the optimality of splits at the cost of higher computation time.\n",
    "}\n",
    "\n",
    "lgb_sk_params = {\n",
    "    'boosting_type': 'gbdt', # goss, dart\n",
    "    #'num_leaves': 80,\n",
    "    #'max_depth': 5,\n",
    "    'learning_rate': 0.0010151324067998776,\n",
    "    'n_estimators': num_of_iter,\n",
    "    #'subsample_for_bin': 200000,  # Number of samples for constructing bin\n",
    "    'objective': 'regression_l2',\n",
    "    'metrics': [metric],\n",
    "    #'min_split_gain': 0,  # lambda_l1, lambda_l2 and min_gain_to_split to regularization\n",
    "    #'min_child_weight': 1,  # Minimum sum of instance weight(hessian) needed in a child(leaf)\n",
    "    #'min_child_samples': 100,  # Minimum number of data need in a child(min_data_in_leaf)\n",
    "    #'subsample': 0.8,\n",
    "    #'colsample_bytree': 0.8,\n",
    "    #'reg_alpha': 3,  # L1 regularization term on weights\n",
    "    #'reg_lambda': 1e-3,\n",
    "    'random_state': seed,\n",
    "    'n_jobs': multiprocessing.cpu_count(),\n",
    "    #'scale_pos_weight': 0.5,\n",
    "    #'max_bin': 255\n",
    "}"
   ]
  },
  {
   "cell_type": "code",
   "execution_count": 177,
   "metadata": {
    "scrolled": false
   },
   "outputs": [
    {
     "name": "stdout",
     "output_type": "stream",
     "text": [
      "===== Fold 0 =====\n",
      "Training until validation scores don't improve for 50 rounds.\n",
      "[100]\tvalidation_0's rmse: 1.14219\tvalidation_1's rmse: 1.14307\n",
      "[200]\tvalidation_0's rmse: 1.10288\tvalidation_1's rmse: 1.1043\n",
      "[300]\tvalidation_0's rmse: 1.06921\tvalidation_1's rmse: 1.07111\n",
      "[400]\tvalidation_0's rmse: 1.0406\tvalidation_1's rmse: 1.04294\n",
      "[500]\tvalidation_0's rmse: 1.01607\tvalidation_1's rmse: 1.01876\n",
      "[600]\tvalidation_0's rmse: 0.995053\tvalidation_1's rmse: 0.998082\n",
      "[700]\tvalidation_0's rmse: 0.977017\tvalidation_1's rmse: 0.980329\n",
      "[800]\tvalidation_0's rmse: 0.961582\tvalidation_1's rmse: 0.965132\n",
      "[900]\tvalidation_0's rmse: 0.948353\tvalidation_1's rmse: 0.952134\n",
      "[1000]\tvalidation_0's rmse: 0.936986\tvalidation_1's rmse: 0.941028\n",
      "Did not meet early stopping. Best iteration is:\n",
      "[1000]\tvalidation_0's rmse: 0.936986\tvalidation_1's rmse: 0.941028\n"
     ]
    },
    {
     "data": {
      "text/plain": [
       "LGBMRegressor(boosting_type='gbdt', class_weight=None, colsample_bytree=1.0,\n",
       "              importance_type='split', learning_rate=0.0010151324067998776,\n",
       "              max_depth=-1, metrics=['rmse'], min_child_samples=20,\n",
       "              min_child_weight=0.001, min_split_gain=0.0, n_estimators=1000,\n",
       "              n_jobs=8, num_leaves=31, objective='regression_l2',\n",
       "              random_state=9569, reg_alpha=0.0, reg_lambda=0.0, silent=True,\n",
       "              subsample=1.0, subsample_for_bin=200000, subsample_freq=0)"
      ]
     },
     "execution_count": 177,
     "metadata": {},
     "output_type": "execute_result"
    },
    {
     "name": "stdout",
     "output_type": "stream",
     "text": [
      "\n",
      "MSE: 0.8855329603973645\n",
      "RMSE: 0.9410276087327961\n",
      "R2 score: 0.37317718323490723\n",
      "===== Fold 1 =====\n",
      "Training until validation scores don't improve for 50 rounds.\n",
      "[100]\tvalidation_0's rmse: 1.14232\tvalidation_1's rmse: 1.14249\n",
      "[200]\tvalidation_0's rmse: 1.10316\tvalidation_1's rmse: 1.10327\n",
      "[300]\tvalidation_0's rmse: 1.06962\tvalidation_1's rmse: 1.06973\n",
      "[400]\tvalidation_0's rmse: 1.04107\tvalidation_1's rmse: 1.04114\n",
      "[500]\tvalidation_0's rmse: 1.01662\tvalidation_1's rmse: 1.01668\n",
      "[600]\tvalidation_0's rmse: 0.995685\tvalidation_1's rmse: 0.995732\n",
      "[700]\tvalidation_0's rmse: 0.977722\tvalidation_1's rmse: 0.977741\n",
      "[800]\tvalidation_0's rmse: 0.962325\tvalidation_1's rmse: 0.962328\n",
      "[900]\tvalidation_0's rmse: 0.94918\tvalidation_1's rmse: 0.949172\n",
      "[1000]\tvalidation_0's rmse: 0.937873\tvalidation_1's rmse: 0.937852\n",
      "Did not meet early stopping. Best iteration is:\n",
      "[1000]\tvalidation_0's rmse: 0.937873\tvalidation_1's rmse: 0.937852\n"
     ]
    },
    {
     "data": {
      "text/plain": [
       "LGBMRegressor(boosting_type='gbdt', class_weight=None, colsample_bytree=1.0,\n",
       "              importance_type='split', learning_rate=0.0010151324067998776,\n",
       "              max_depth=-1, metrics=['rmse'], min_child_samples=20,\n",
       "              min_child_weight=0.001, min_split_gain=0.0, n_estimators=1000,\n",
       "              n_jobs=8, num_leaves=31, objective='regression_l2',\n",
       "              random_state=9936, reg_alpha=0.0, reg_lambda=0.0, silent=True,\n",
       "              subsample=1.0, subsample_for_bin=200000, subsample_freq=0)"
      ]
     },
     "execution_count": 177,
     "metadata": {},
     "output_type": "execute_result"
    },
    {
     "name": "stdout",
     "output_type": "stream",
     "text": [
      "\n",
      "MSE: 0.8795654444230848\n",
      "RMSE: 0.937851504462772\n",
      "R2 score: 0.3773971988164574\n",
      "===== Fold 2 =====\n",
      "Training until validation scores don't improve for 50 rounds.\n",
      "[100]\tvalidation_0's rmse: 1.14252\tvalidation_1's rmse: 1.14169\n",
      "[200]\tvalidation_0's rmse: 1.10349\tvalidation_1's rmse: 1.10192\n",
      "[300]\tvalidation_0's rmse: 1.07019\tvalidation_1's rmse: 1.06802\n",
      "[400]\tvalidation_0's rmse: 1.04177\tvalidation_1's rmse: 1.03912\n",
      "[500]\tvalidation_0's rmse: 1.01745\tvalidation_1's rmse: 1.01447\n",
      "[600]\tvalidation_0's rmse: 0.996533\tvalidation_1's rmse: 0.993228\n",
      "[700]\tvalidation_0's rmse: 0.97857\tvalidation_1's rmse: 0.974955\n",
      "[800]\tvalidation_0's rmse: 0.963192\tvalidation_1's rmse: 0.959341\n",
      "[900]\tvalidation_0's rmse: 0.950026\tvalidation_1's rmse: 0.945987\n",
      "[1000]\tvalidation_0's rmse: 0.938717\tvalidation_1's rmse: 0.934534\n",
      "Did not meet early stopping. Best iteration is:\n",
      "[1000]\tvalidation_0's rmse: 0.938717\tvalidation_1's rmse: 0.934534\n"
     ]
    },
    {
     "data": {
      "text/plain": [
       "LGBMRegressor(boosting_type='gbdt', class_weight=None, colsample_bytree=1.0,\n",
       "              importance_type='split', learning_rate=0.0010151324067998776,\n",
       "              max_depth=-1, metrics=['rmse'], min_child_samples=20,\n",
       "              min_child_weight=0.001, min_split_gain=0.0, n_estimators=1000,\n",
       "              n_jobs=8, num_leaves=31, objective='regression_l2',\n",
       "              random_state=10253, reg_alpha=0.0, reg_lambda=0.0, silent=True,\n",
       "              subsample=1.0, subsample_for_bin=200000, subsample_freq=0)"
      ]
     },
     "execution_count": 177,
     "metadata": {},
     "output_type": "execute_result"
    },
    {
     "name": "stdout",
     "output_type": "stream",
     "text": [
      "\n",
      "MSE: 0.8733542352413964\n",
      "RMSE: 0.9345342343870536\n",
      "R2 score: 0.3816214042623145\n",
      "===== Fold 3 =====\n",
      "Training until validation scores don't improve for 50 rounds.\n",
      "[100]\tvalidation_0's rmse: 1.14245\tvalidation_1's rmse: 1.14229\n",
      "[200]\tvalidation_0's rmse: 1.10326\tvalidation_1's rmse: 1.10308\n",
      "[300]\tvalidation_0's rmse: 1.0698\tvalidation_1's rmse: 1.06962\n",
      "[400]\tvalidation_0's rmse: 1.04124\tvalidation_1's rmse: 1.04112\n",
      "[500]\tvalidation_0's rmse: 1.01682\tvalidation_1's rmse: 1.01677\n",
      "[600]\tvalidation_0's rmse: 0.995755\tvalidation_1's rmse: 0.995747\n",
      "[700]\tvalidation_0's rmse: 0.977759\tvalidation_1's rmse: 0.977799\n",
      "[800]\tvalidation_0's rmse: 0.962366\tvalidation_1's rmse: 0.962453\n",
      "[900]\tvalidation_0's rmse: 0.949194\tvalidation_1's rmse: 0.949334\n",
      "[1000]\tvalidation_0's rmse: 0.937855\tvalidation_1's rmse: 0.938053\n",
      "Did not meet early stopping. Best iteration is:\n",
      "[1000]\tvalidation_0's rmse: 0.937855\tvalidation_1's rmse: 0.938053\n"
     ]
    },
    {
     "data": {
      "text/plain": [
       "LGBMRegressor(boosting_type='gbdt', class_weight=None, colsample_bytree=1.0,\n",
       "              importance_type='split', learning_rate=0.0010151324067998776,\n",
       "              max_depth=-1, metrics=['rmse'], min_child_samples=20,\n",
       "              min_child_weight=0.001, min_split_gain=0.0, n_estimators=1000,\n",
       "              n_jobs=8, num_leaves=31, objective='regression_l2',\n",
       "              random_state=9870, reg_alpha=0.0, reg_lambda=0.0, silent=True,\n",
       "              subsample=1.0, subsample_for_bin=200000, subsample_freq=0)"
      ]
     },
     "execution_count": 177,
     "metadata": {},
     "output_type": "execute_result"
    },
    {
     "name": "stdout",
     "output_type": "stream",
     "text": [
      "\n",
      "MSE: 0.8799441476791774\n",
      "RMSE: 0.9380533821052922\n",
      "R2 score: 0.37676208794632304\n",
      "===== Fold 4 =====\n",
      "Training until validation scores don't improve for 50 rounds.\n",
      "[100]\tvalidation_0's rmse: 1.14232\tvalidation_1's rmse: 1.14252\n",
      "[200]\tvalidation_0's rmse: 1.10303\tvalidation_1's rmse: 1.1039\n",
      "[300]\tvalidation_0's rmse: 1.06941\tvalidation_1's rmse: 1.07087\n",
      "[400]\tvalidation_0's rmse: 1.04082\tvalidation_1's rmse: 1.04272\n",
      "[500]\tvalidation_0's rmse: 1.01631\tvalidation_1's rmse: 1.01865\n",
      "[600]\tvalidation_0's rmse: 0.995271\tvalidation_1's rmse: 0.998023\n",
      "[700]\tvalidation_0's rmse: 0.977246\tvalidation_1's rmse: 0.98039\n",
      "[800]\tvalidation_0's rmse: 0.961847\tvalidation_1's rmse: 0.965333\n",
      "[900]\tvalidation_0's rmse: 0.948614\tvalidation_1's rmse: 0.952401\n",
      "[1000]\tvalidation_0's rmse: 0.937229\tvalidation_1's rmse: 0.941288\n",
      "Did not meet early stopping. Best iteration is:\n",
      "[1000]\tvalidation_0's rmse: 0.937229\tvalidation_1's rmse: 0.941288\n"
     ]
    },
    {
     "data": {
      "text/plain": [
       "LGBMRegressor(boosting_type='gbdt', class_weight=None, colsample_bytree=1.0,\n",
       "              importance_type='split', learning_rate=0.0010151324067998776,\n",
       "              max_depth=-1, metrics=['rmse'], min_child_samples=20,\n",
       "              min_child_weight=0.001, min_split_gain=0.0, n_estimators=1000,\n",
       "              n_jobs=8, num_leaves=31, objective='regression_l2',\n",
       "              random_state=10464, reg_alpha=0.0, reg_lambda=0.0, silent=True,\n",
       "              subsample=1.0, subsample_for_bin=200000, subsample_freq=0)"
      ]
     },
     "execution_count": 177,
     "metadata": {},
     "output_type": "execute_result"
    },
    {
     "name": "stdout",
     "output_type": "stream",
     "text": [
      "\n",
      "MSE: 0.8860222129777016\n",
      "RMSE: 0.9412875293860541\n",
      "R2 score: 0.37209408841973834\n",
      "---------------------------\n",
      "MSE: 0.8808837958101539\n",
      "RMSE: 0.9385540984994706\n",
      "R2 score: 0.3762109871805164\n"
     ]
    }
   ],
   "source": [
    "n_splits = 5\n",
    "folds = StratifiedKFold(n_splits=n_splits, shuffle=True, random_state=seed)\n",
    "Kflods = folds.split(train_df[features_cols].values, train_df[target_col].values)\n",
    "#folds = TimeSeriesSplit(n_splits=n_splits)\n",
    "#Kflods = folds.split(train_df[features_cols].values, train_df[target_col].values)\n",
    "\n",
    "oof = np.zeros(len(train_df))\n",
    "predictions = np.zeros(len(test_df))\n",
    "feature_importance_df = pd.DataFrame()\n",
    "total_fold_loss_df = pd.DataFrame()\n",
    "y_true = test_df[target_col].values.tolist()\n",
    "y_pred = np.zeros(test_df.shape[0])\n",
    "test_acc_score = []\n",
    "test_auc_score = []\n",
    "target_encoding_cols = ['date_block_num', 'shop_id', 'item_id']\n",
    "mean_enc = None\n",
    "model_name = 'lgb'\n",
    "\n",
    "for fold, (trn_idx, val_idx) in enumerate(Kflods):\n",
    "    print(\"===== Fold {} =====\".format(fold))\n",
    "    trn_idx = shuffle(trn_idx)\n",
    "    train_x, train_y = train_df.iloc[trn_idx][features_cols], train_df.iloc[trn_idx][target_col]\n",
    "    valid_x, valid_y = train_df.iloc[val_idx][features_cols], train_df.iloc[val_idx][target_col]\n",
    "    features_cols_v2 = features_cols.copy()\n",
    "    if mean_enc == 'mean':\n",
    "        for f in target_encoding_cols:\n",
    "            train_x, enc_value, prior_mean, feature_name = mean_encoding(train_x, train_y, f, target_col)\n",
    "            valid_x[feature_name] = valid_x[f].map(enc_value)\n",
    "            valid_x[feature_name].fillna(prior_mean, inplace=True)    \n",
    "            test_df[feature_name] = test_df[f].map(enc_value)\n",
    "            test_df[feature_name].fillna(prior_mean, inplace=True)\n",
    "            features_cols_v2.remove(f)\n",
    "            features_cols_v2.append(feature_name)\n",
    "    elif mean_enc == 'smooth':\n",
    "        for f in target_encoding_cols:\n",
    "            train_x, enc_value, prior_mean, feature_name = smooth_mean_encoding(train_x, train_y, f, target_col)\n",
    "            valid_x[feature_name] = valid_x[f].map(enc_value)\n",
    "            valid_x[feature_name].fillna(prior_mean, inplace=True)    \n",
    "            test_df[feature_name] = test_df[f].map(enc_value)\n",
    "            test_df[feature_name].fillna(prior_mean, inplace=True)\n",
    "            features_cols_v2.append(feature_name)\n",
    "    elif mean_enc == 'beta':\n",
    "        prior_mean = np.mean(train_y)\n",
    "        for f in target_encoding_cols:\n",
    "            stats = train_df.iloc[trn_idx].groupby(f).agg(['sum', 'count'])['label'].reset_index()\n",
    "            train_x, feature_name = beta_mean_encoding(train_x, f, target_col, stats, prior_mean)\n",
    "            valid_x, _ = beta_mean_encoding(valid_x, f, target_col, stats, prior_mean)\n",
    "            test_df, _ = beta_mean_encoding(test_df, f, target_col, stats, prior_mean)\n",
    "            features_cols_v2.append(feature_name)\n",
    "\n",
    "    eval_set = [(train_x[features_cols_v2], train_y), (valid_x[features_cols_v2], valid_y)]\n",
    "    if model_name == 'xgb':\n",
    "        xgb_sk_params.update({'random_state': fold + np.random.randint(999) + seed})\n",
    "        cv_model = xgb.XGBRegressor(**xgb_sk_params)\n",
    "        cv_model.fit(X=train_x[features_cols_v2],\n",
    "                     y=train_y, \n",
    "                     eval_set=eval_set,             \n",
    "                     early_stopping_rounds=num_early_stopping, \n",
    "                     verbose=num_verbose_eval) \n",
    "        loss = cv_model.evals_result().items()\n",
    "    elif model_name == 'lgb':\n",
    "        lgb_sk_params.update({'random_state': fold + np.random.randint(999) + seed})\n",
    "        cv_model = lgb.LGBMRegressor(**lgb_sk_params)    \n",
    "        cv_model.fit(X=train_x[features_cols_v2],\n",
    "                     y=train_y, \n",
    "                     eval_set=eval_set,    \n",
    "                     eval_names=['validation_0', 'validation_1'],\n",
    "                     early_stopping_rounds=num_early_stopping, \n",
    "                     verbose=num_verbose_eval) \n",
    "        loss = cv_model.evals_result_.items()\n",
    "    \n",
    "    # loss \n",
    "    fold_loss_df = pd.DataFrame(columns=['fold', 'type', 'loss'])\n",
    "    for k, v in loss:\n",
    "        if k == 'validation_0':        \n",
    "            fold_loss_df['loss'] = v[list(v.keys())[0]]\n",
    "            fold_loss_df['fold'] = fold + 1\n",
    "            fold_loss_df['type'] = 'train'                \n",
    "        elif k == 'validation_1':\n",
    "            fold_loss_df['loss'] = v[list(v.keys())[0]]\n",
    "            fold_loss_df['fold'] = fold + 1\n",
    "            fold_loss_df['type'] = 'valid'                \n",
    "        total_fold_loss_df = pd.concat([total_fold_loss_df, fold_loss_df], axis=0)\n",
    "    \n",
    "    # feature importance\n",
    "    fold_importance_df = pd.DataFrame()\n",
    "    fold_importance_df[\"feature\"] = features_cols_v2\n",
    "    fold_importance_df[\"importance\"] = cv_model.feature_importances_\n",
    "    fold_importance_df[\"fold\"] = fold + 1\n",
    "    feature_importance_df = pd.concat([feature_importance_df, fold_importance_df], axis=0)\n",
    "    \n",
    "    # evaluation\n",
    "    if model_name == 'xgb':\n",
    "        oof[val_idx] += cv_model.predict(valid_x[features_cols_v2], \n",
    "                                         ntree_limit=cv_model.best_iteration)\n",
    "        y_pred += cv_model.predict(test_df[features_cols_v2], \n",
    "                                   ntree_limit=cv_model.best_iteration) / folds.n_splits\n",
    "    elif model_name == 'lgb':\n",
    "        oof[val_idx] += cv_model.predict(valid_x[features_cols_v2], \n",
    "                                               ntree_limit=cv_model.best_iteration_)\n",
    "        y_pred += cv_model.predict(test_df[features_cols_v2], \n",
    "                                         ntree_limit=cv_model.best_iteration_) / folds.n_splits\n",
    "        \n",
    "    print()\n",
    "    print('MSE:', mean_squared_error(valid_y, oof[val_idx]))\n",
    "    print('RMSE:', np.sqrt(mean_squared_error(valid_y, oof[val_idx])))\n",
    "    print('R2 score:', r2_score(valid_y, oof[val_idx]))\n",
    "\n",
    "print('---------------------------')\n",
    "print('MSE:', mean_squared_error(train_df[target_col], oof))\n",
    "print('RMSE:', np.sqrt(mean_squared_error(train_df[target_col], oof)))\n",
    "print('R2 score:', r2_score(train_df[target_col], oof))    \n",
    "       "
   ]
  },
  {
   "cell_type": "code",
   "execution_count": 178,
   "metadata": {},
   "outputs": [],
   "source": [
    "y_pred = y_pred.clip(0, 20)\n",
    "submission_df = pd.DataFrame({\n",
    "    \"ID\": list(range(test_df.shape[0])), \n",
    "    \"item_cnt_month\": y_pred\n",
    "})\n",
    "submission_df.to_csv('lgb_cv_submission_{}.csv'.format(datetime.now().strftime('%Y%m%d%H%M%S')), index=False)"
   ]
  },
  {
   "cell_type": "code",
   "execution_count": 181,
   "metadata": {},
   "outputs": [],
   "source": [
    "main_result = pd.read_csv('lgb_cv_submission_20190830173409.csv')"
   ]
  },
  {
   "cell_type": "code",
   "execution_count": 182,
   "metadata": {},
   "outputs": [
    {
     "data": {
      "text/html": [
       "<div>\n",
       "<style scoped>\n",
       "    .dataframe tbody tr th:only-of-type {\n",
       "        vertical-align: middle;\n",
       "    }\n",
       "\n",
       "    .dataframe tbody tr th {\n",
       "        vertical-align: top;\n",
       "    }\n",
       "\n",
       "    .dataframe thead th {\n",
       "        text-align: right;\n",
       "    }\n",
       "</style>\n",
       "<table border=\"1\" class=\"dataframe\">\n",
       "  <thead>\n",
       "    <tr style=\"text-align: right;\">\n",
       "      <th></th>\n",
       "      <th>item_cnt_month</th>\n",
       "      <th>item_cnt_month</th>\n",
       "    </tr>\n",
       "  </thead>\n",
       "  <tbody>\n",
       "    <tr>\n",
       "      <th>item_cnt_month</th>\n",
       "      <td>1.000000</td>\n",
       "      <td>0.949295</td>\n",
       "    </tr>\n",
       "    <tr>\n",
       "      <th>item_cnt_month</th>\n",
       "      <td>0.949295</td>\n",
       "      <td>1.000000</td>\n",
       "    </tr>\n",
       "  </tbody>\n",
       "</table>\n",
       "</div>"
      ],
      "text/plain": [
       "                item_cnt_month  item_cnt_month\n",
       "item_cnt_month        1.000000        0.949295\n",
       "item_cnt_month        0.949295        1.000000"
      ]
     },
     "execution_count": 182,
     "metadata": {},
     "output_type": "execute_result"
    }
   ],
   "source": [
    "pd.concat([main_result['item_cnt_month'], submission_df['item_cnt_month']], axis=1).corr()"
   ]
  },
  {
   "cell_type": "markdown",
   "metadata": {},
   "source": [
    "# Use Nested LSTM"
   ]
  },
  {
   "cell_type": "code",
   "execution_count": 153,
   "metadata": {},
   "outputs": [],
   "source": [
    "from __future__ import absolute_import\n",
    "import warnings\n",
    "import os\n",
    "import sys\n",
    "\n",
    "import keras\n",
    "from keras import backend as K\n",
    "from keras import activations\n",
    "from keras import initializers\n",
    "from keras import regularizers\n",
    "from keras import constraints\n",
    "from keras.engine import Layer\n",
    "from keras.engine import InputSpec\n",
    "from keras.legacy import interfaces\n",
    "from keras.layers import RNN\n",
    "from keras.layers.recurrent import _generate_dropout_mask\n",
    "from keras.layers import LSTMCell, LSTM, Bidirectional\n",
    "from keras.layers import Dropout\n",
    "from keras.models import Sequential\n",
    "from keras import layers\n",
    "from keras import optimizers\n",
    "from keras_tqdm import TQDMNotebookCallback\n",
    "from keras_radam import RAdam\n",
    "from nested_lstm import NestedLSTM\n",
    "from clr_callback import *"
   ]
  },
  {
   "cell_type": "code",
   "execution_count": 102,
   "metadata": {},
   "outputs": [],
   "source": [
    "# parameters setting\n",
    "LEARNING_RATE = 0.01\n",
    "BATCH_SIZE = 1024\n",
    "EPOCHS = 10\n",
    "TIME_PERIOD = 24\n",
    "#TIME_SPLIE_SHIFT = train_cnt_df.shape[1] - TIME_PERIOD\n",
    "#RANDOM_SAMPLE_SIZE = int(np.floor(train_cnt_df.shape[0] / 5))\n",
    "\n",
    "#NUM_STEPS = train_x.shape[0] / NUM_BATCH_SIZE\n",
    "DECAY_FACTOR = 0.96"
   ]
  },
  {
   "cell_type": "code",
   "execution_count": 154,
   "metadata": {},
   "outputs": [],
   "source": [
    "from keras.callbacks import EarlyStopping, ModelCheckpoint, LearningRateScheduler, ReduceLROnPlateau\n",
    "\n",
    "\n",
    "#checkpoint = ModelCheckpoint(weight_path, \n",
    "#                             monitor='val_loss', \n",
    "#                             verbose=1, \n",
    "#                             save_best_only=True, \n",
    "#                             mode='min',\n",
    "#                             save_weights_only=True)\n",
    "\n",
    "reduce_lr = ReduceLROnPlateau(monitor='val_loss', \n",
    "                              factor=DECAY_FACTOR, \n",
    "                              patience=3, \n",
    "                              verbose=1, \n",
    "                              min_delta=0.001,\n",
    "                              mode='min', \n",
    "                              cooldown=2, \n",
    "                              min_lr=1e-6)\n",
    "\n",
    "early_stopping = EarlyStopping(monitor='val_loss', \n",
    "                               mode='min', \n",
    "                               patience=3)\n",
    "\n",
    "clr = CyclicLR(base_lr=LEARNING_RATE, max_lr=0.006,\n",
    "               step_size=2000, mode='exp_range',\n",
    "               gamma=0.99994)\n",
    "\n",
    "callbacks_list = [early_stopping, clr, TQDMNotebookCallback()]\n"
   ]
  },
  {
   "cell_type": "code",
   "execution_count": 155,
   "metadata": {
    "scrolled": false
   },
   "outputs": [
    {
     "data": {
      "text/plain": [
       "<tensorflow.python.client.session.InteractiveSession at 0x7fe91977e1d0>"
      ]
     },
     "execution_count": 155,
     "metadata": {},
     "output_type": "execute_result"
    },
    {
     "name": "stdout",
     "output_type": "stream",
     "text": [
      "_________________________________________________________________\n",
      "Layer (type)                 Output Shape              Param #   \n",
      "=================================================================\n",
      "nested_lstm_1 (NestedLSTM)   (None, 1, 64)             97536     \n",
      "_________________________________________________________________\n",
      "nested_lstm_2 (NestedLSTM)   (None, 1, 32)             29056     \n",
      "_________________________________________________________________\n",
      "lstm_1 (LSTM)                (None, 1)                 136       \n",
      "_________________________________________________________________\n",
      "dense_1 (Dense)              (None, 10)                20        \n",
      "_________________________________________________________________\n",
      "dense_2 (Dense)              (None, 1)                 11        \n",
      "=================================================================\n",
      "Total params: 126,759\n",
      "Trainable params: 126,759\n",
      "Non-trainable params: 0\n",
      "_________________________________________________________________\n"
     ]
    }
   ],
   "source": [
    "reset_tf_session()\n",
    "adam = optimizers.Adam(LEARNING_RATE, decay=DECAY_FACTOR)\n",
    "\n",
    "lstm_model = Sequential()\n",
    "lstm_model.add(NestedLSTM(units=64, input_shape=(1, len(features_cols)), depth=3, dropout=0.2, \n",
    "                          recurrent_dropout=0.2, return_sequences=True))\n",
    "lstm_model.add(NestedLSTM(units=32, depth=3, dropout=0.2, recurrent_dropout=0.2, return_sequences=True))\n",
    "lstm_model.add(LSTM(1, activation='relu', return_sequences=False))\n",
    "lstm_model.add(Dense(10, kernel_initializer='glorot_normal', activation='relu'))\n",
    "#lstm_model.add(Dense(10, kernel_initializer='glorot_normal', activation='relu'))\n",
    "lstm_model.add(Dense(1))\n",
    "lstm_model.compile(loss='mse', \n",
    "                   optimizer=RAdam(total_steps=10000, warmup_proportion=LEARNING_RATE, min_lr=1e-5),\n",
    "                   metrics=['mean_squared_error'])\n",
    "lstm_model.summary()"
   ]
  },
  {
   "cell_type": "code",
   "execution_count": 157,
   "metadata": {},
   "outputs": [],
   "source": [
    "train_df = matrix[matrix.date_block_num < 33]\n",
    "valid_df = matrix[matrix.date_block_num == 33]\n",
    "test_df = matrix[matrix.date_block_num == 34]\n",
    "\n",
    "train_x = np.expand_dims(train_df[features_cols].values, axis=1)\n",
    "valid_x = np.expand_dims(valid_df[features_cols].values, axis=1)\n",
    "train_y = train_df[target_col]\n",
    "valid_y = valid_df[target_col]"
   ]
  },
  {
   "cell_type": "code",
   "execution_count": 159,
   "metadata": {
    "scrolled": false
   },
   "outputs": [
    {
     "name": "stderr",
     "output_type": "stream",
     "text": [
      "Exception ignored in: <bound method BaseSession._Callable.__del__ of <tensorflow.python.client.session.BaseSession._Callable object at 0x7fe92af35a20>>\n",
      "Traceback (most recent call last):\n",
      "  File \"/usr/local/lib/python3.5/dist-packages/tensorflow/python/client/session.py\", line 1455, in __del__\n",
      "    self._session._session, self._handle, status)\n",
      "  File \"/usr/local/lib/python3.5/dist-packages/tensorflow/python/framework/errors_impl.py\", line 528, in __exit__\n",
      "    c_api.TF_GetCode(self.status.status))\n",
      "tensorflow.python.framework.errors_impl.CancelledError: Session has been closed.\n",
      "Exception ignored in: <bound method BaseSession._Callable.__del__ of <tensorflow.python.client.session.BaseSession._Callable object at 0x7fe92aec4ba8>>\n",
      "Traceback (most recent call last):\n",
      "  File \"/usr/local/lib/python3.5/dist-packages/tensorflow/python/client/session.py\", line 1455, in __del__\n",
      "    self._session._session, self._handle, status)\n",
      "  File \"/usr/local/lib/python3.5/dist-packages/tensorflow/python/framework/errors_impl.py\", line 528, in __exit__\n",
      "    c_api.TF_GetCode(self.status.status))\n",
      "tensorflow.python.framework.errors_impl.CancelledError: Session has been closed.\n"
     ]
    },
    {
     "name": "stdout",
     "output_type": "stream",
     "text": [
      "Train on 6186922 samples, validate on 238172 samples\n"
     ]
    },
    {
     "data": {
      "application/vnd.jupyter.widget-view+json": {
       "model_id": "7c2070612a624b75b94e46d1796d2db7",
       "version_major": 2,
       "version_minor": 0
      },
      "text/plain": [
       "HBox(children=(IntProgress(value=0, description='Training', max=10, style=ProgressStyle(description_width='ini…"
      ]
     },
     "metadata": {},
     "output_type": "display_data"
    },
    {
     "name": "stdout",
     "output_type": "stream",
     "text": [
      "Epoch 1/10\n"
     ]
    },
    {
     "data": {
      "application/vnd.jupyter.widget-view+json": {
       "model_id": "",
       "version_major": 2,
       "version_minor": 0
      },
      "text/plain": [
       "HBox(children=(IntProgress(value=0, description='Epoch 0', max=6186922, style=ProgressStyle(description_width=…"
      ]
     },
     "metadata": {},
     "output_type": "display_data"
    },
    {
     "name": "stdout",
     "output_type": "stream",
     "text": [
      "6186922/6186922 [==============================] - 168s 27us/step - loss: 1.4134 - mean_squared_error: 1.4134 - val_loss: 1.2916 - val_mean_squared_error: 1.2916\n",
      "Epoch 2/10\n"
     ]
    },
    {
     "data": {
      "application/vnd.jupyter.widget-view+json": {
       "model_id": "",
       "version_major": 2,
       "version_minor": 0
      },
      "text/plain": [
       "HBox(children=(IntProgress(value=0, description='Epoch 1', max=6186922, style=ProgressStyle(description_width=…"
      ]
     },
     "metadata": {},
     "output_type": "display_data"
    },
    {
     "name": "stdout",
     "output_type": "stream",
     "text": [
      "6186922/6186922 [==============================] - 169s 27us/step - loss: 1.4119 - mean_squared_error: 1.4119 - val_loss: 1.2917 - val_mean_squared_error: 1.2917\n",
      "Epoch 3/10\n"
     ]
    },
    {
     "data": {
      "application/vnd.jupyter.widget-view+json": {
       "model_id": "",
       "version_major": 2,
       "version_minor": 0
      },
      "text/plain": [
       "HBox(children=(IntProgress(value=0, description='Epoch 2', max=6186922, style=ProgressStyle(description_width=…"
      ]
     },
     "metadata": {},
     "output_type": "display_data"
    },
    {
     "name": "stdout",
     "output_type": "stream",
     "text": [
      "6186922/6186922 [==============================] - 168s 27us/step - loss: 1.4119 - mean_squared_error: 1.4119 - val_loss: 1.2918 - val_mean_squared_error: 1.2918\n",
      "Epoch 4/10\n"
     ]
    },
    {
     "data": {
      "application/vnd.jupyter.widget-view+json": {
       "model_id": "",
       "version_major": 2,
       "version_minor": 0
      },
      "text/plain": [
       "HBox(children=(IntProgress(value=0, description='Epoch 3', max=6186922, style=ProgressStyle(description_width=…"
      ]
     },
     "metadata": {},
     "output_type": "display_data"
    },
    {
     "name": "stdout",
     "output_type": "stream",
     "text": [
      "6186922/6186922 [==============================] - 169s 27us/step - loss: 1.4119 - mean_squared_error: 1.4119 - val_loss: 1.2918 - val_mean_squared_error: 1.2918\n"
     ]
    }
   ],
   "source": [
    "history = [lstm_model.fit(train_x, train_y,\n",
    "                          validation_data=(valid_x, valid_y),\n",
    "                          epochs=EPOCHS,\n",
    "                          batch_size=BATCH_SIZE,\n",
    "                          verbose=1,\n",
    "                          callbacks=callbacks_list)]\n"
   ]
  },
  {
   "cell_type": "code",
   "execution_count": null,
   "metadata": {
    "scrolled": false
   },
   "outputs": [],
   "source": [
    "n_splits = 5\n",
    "#folds = StratifiedKFold(n_splits=n_splits, shuffle=True, random_state=seed)\n",
    "#Kflods = folds.split(train_df[features_cols].values, train_df[target_col].values)\n",
    "folds = TimeSeriesSplit(n_splits=n_splits)\n",
    "Kflods = folds.split(train_df[features_cols].values, train_df[target_col].values)\n",
    "\n",
    "oof = np.zeros(len(train_df))\n",
    "predictions = np.zeros(len(test_df))\n",
    "feature_importance_df = pd.DataFrame()\n",
    "total_fold_loss_df = pd.DataFrame()\n",
    "y_true = test_df[target_col].values.tolist()\n",
    "y_pred = np.zeros(test_df.shape[0])\n",
    "test_acc_score = []\n",
    "test_auc_score = []\n",
    "target_encoding_cols = ['date_block_num', 'shop_id', 'item_id']\n",
    "mean_enc = None\n",
    "model_name = 'lgb'\n",
    "\n",
    "for fold, (trn_idx, val_idx) in enumerate(Kflods):\n",
    "    print(\"===== Fold {} =====\".format(fold))\n",
    "    trn_idx = shuffle(trn_idx)\n",
    "    train_x, train_y = train_df.iloc[trn_idx][features_cols], train_df.iloc[trn_idx][target_col]\n",
    "    valid_x, valid_y = train_df.iloc[val_idx][features_cols], train_df.iloc[val_idx][target_col]\n",
    "    features_cols_v2 = features_cols.copy()\n",
    "    train_x = np.expand_dims(train_x, axis=1)\n",
    "    valid_x = np.expand_dims(valid_x, axis=1)\n",
    "    history = [lstm_model.fit(train_x, train_y,\n",
    "                              validation_data=(valid_x, valid_y),\n",
    "                              epochs=EPOCHS,\n",
    "                              batch_size=BATCH_SIZE,\n",
    "                              verbose=1,\n",
    "                              callbacks=callbacks_list)]\n",
    "    # evaluation\n",
    "    test_data = np.expand_dims(test_df[features_cols].values, axis=1)\n",
    "    y_pred += lstm_model.predict(test_data).reshape(-1) / folds.n_splits\n",
    "    \n",
    "    print()\n",
    "    print('MSE:', mean_squared_error(valid_y, oof[val_idx]))\n",
    "    print('RMSE:', np.sqrt(mean_squared_error(valid_y, oof[val_idx])))\n",
    "    print('R2 score:', r2_score(valid_y, oof[val_idx]))\n",
    " "
   ]
  },
  {
   "cell_type": "markdown",
   "metadata": {},
   "source": [
    "# HPO"
   ]
  },
  {
   "cell_type": "code",
   "execution_count": 119,
   "metadata": {},
   "outputs": [
    {
     "name": "stderr",
     "output_type": "stream",
     "text": [
      "/usr/local/lib/python3.5/dist-packages/sklearn/externals/joblib/__init__.py:15: DeprecationWarning: sklearn.externals.joblib is deprecated in 0.21 and will be removed in 0.23. Please import this functionality directly from joblib, which can be installed with: pip install joblib. If this warning is raised when loading pickled models, you may need to re-serialize those models with scikit-learn 0.21+.\n",
      "  warnings.warn(msg, category=DeprecationWarning)\n"
     ]
    }
   ],
   "source": [
    "from skopt import BayesSearchCV\n",
    "from skopt.space import Real, Categorical, Integer\n",
    "from skopt.utils import use_named_args\n",
    "from skopt import gp_minimize"
   ]
  },
  {
   "cell_type": "code",
   "execution_count": 160,
   "metadata": {},
   "outputs": [],
   "source": [
    "xgb_space  = [\n",
    "    Real(0.001, 0.1, name='learning_rate'),\n",
    "    Integer(3, 10, name='max_depth'),\n",
    "    Integer(50, 200, name='min_child_weight'),\n",
    "    Real(1, 400,  name='scale_pos_weight'),\n",
    "    Real(0.6, 0.9, name='subsample'),\n",
    "    Real(0.6, 0.9, name='colsample_bytree'),\n",
    "    Real(0, 5, name='reg_lambda'),\n",
    "    Integer(100, 255, name='max_bin'),\n",
    "    Real(0, 10, name='gamma')\n",
    "]\n",
    "\n",
    "lgb_space  = [\n",
    "    #Real(0.001, 0.1, name='learning_rate'),\n",
    "    Integer(3, 10, name='max_depth'),\n",
    "    Integer(50, 200, name='min_child_weight'),\n",
    "    Real(1, 400,  name='scale_pos_weight'),\n",
    "    Real(0.6, 0.9, name='subsample'),\n",
    "    Real(0.6, 0.9, name='colsample_bytree'),\n",
    "    Real(0, 5, name='reg_lambda'),\n",
    "    Integer(100, 255, name='max_bin')\n",
    "]\n",
    "\n",
    "cat_space = [\n",
    "    Real(0.001, 0.1, name='learning_rate'),\n",
    "    Integer(3, 10, name='depth'),\n",
    "    Real(1, 400,  name='scale_pos_weight'),\n",
    "    Real(0.1, 0.9, name='subsample'),\n",
    "    Real(0.1, 0.9, name='rsm'), # Alias: colsample_bylevel\n",
    "    Real(0, 5, name='l2_leaf_reg'),\n",
    "    Integer(100, 255, name='max_bin'),\n",
    "    Categorical(['Gradient'], name='leaf_estimation_method'),\n",
    "    Categorical(['Bernoulli'], name='bootstrap_type'), # Bayesian not support subsample\n",
    "    Integer(1, 8, name='leaf_estimation_iterations'),\n",
    "    Integer(10, 31, name='one_hot_max_size')\n",
    "]\n"
   ]
  },
  {
   "cell_type": "code",
   "execution_count": 161,
   "metadata": {},
   "outputs": [],
   "source": [
    "num_of_iter = 1000\n",
    "num_early_stopping = 50\n",
    "num_verbose_eval = 100\n",
    "metric = 'rmse'\n",
    "\n",
    "xgb_sk_params = {\n",
    "    'learning_rate': 0.1,\n",
    "    'n_estimators': num_of_iter,                                   \n",
    "    'objective': 'reg:squarederror', # binary:logistic\n",
    "    'n_jobs': multiprocessing.cpu_count(),\n",
    "    #'tree_method': \"gpu_hist\",  # gpu_hist\n",
    "    #'n_gpus': -1,\n",
    "    'eval_metric': [metric], # logloss\n",
    "    'random_state':  seed,\n",
    "    'verbosity ': 0,\n",
    "    #'gamma': 1.718862, # Minimum loss reduction required to make a further partition on a leaf node of the tree, alias min_split_loss. It acts as a regularization parameter. Either 0, 1 or 5.\n",
    "    #'max_depth': 3, # 0 means no limit (useful only for depth wise grow policy).\n",
    "    #'min_child_weight': 156, # Minimum sum of instance weight (hessian) needed in a child.\n",
    "    #'subsample': 0.729009, # Subsample ratio of the training instances.\n",
    "    #'colsample_bytree': 0.884221, # subsample ratio of columns when constructing each tree.\n",
    "    #'colsample_bylevel': 0.034, # subsample ratio of columns for each level.\n",
    "    #'reg_lambda': 1e-3, # L2 regularization. Increasing this value will make model more conservative.\n",
    "    #'reg_alpha': 0, # L1 regularization. Increasing this value will make model more conservative.\n",
    "    #'scale_pos_weight': weight_ratio, # Control the balance of positive and negative weights, useful for unbalanced classes.\n",
    "    #'grow_policy': \"lossguide\", # split at nodes with highest loss change.\n",
    "    #'max_leaves': 255, # Maximum number of nodes to be added. (for lossguide grow policy).\n",
    "    #'max_bin': 115, # Increasing this number improves the optimality of splits at the cost of higher computation time.\n",
    "}\n",
    "\n",
    "lgb_sk_params = {\n",
    "    'boosting_type': 'gbdt', # goss, dart\n",
    "    #'num_leaves': 80,\n",
    "    #'max_depth': 5,\n",
    "    'learning_rate': 0.0010151324067998776,\n",
    "    'n_estimators': num_of_iter,\n",
    "    #'subsample_for_bin': 200000,  # Number of samples for constructing bin\n",
    "    'objective': 'regression_l2',\n",
    "    'metrics': [metric],\n",
    "    #'min_split_gain': 0,  # lambda_l1, lambda_l2 and min_gain_to_split to regularization\n",
    "    #'min_child_weight': 1,  # Minimum sum of instance weight(hessian) needed in a child(leaf)\n",
    "    #'min_child_samples': 100,  # Minimum number of data need in a child(min_data_in_leaf)\n",
    "    #'subsample': 0.8,\n",
    "    #'colsample_bytree': 0.8,\n",
    "    #'reg_alpha': 3,  # L1 regularization term on weights\n",
    "    #'reg_lambda': 0.191472,\n",
    "    'random_state': seed,\n",
    "    'n_jobs': multiprocessing.cpu_count(),\n",
    "    #'scale_pos_weight': 7.369937,\n",
    "    #'max_bin': 255\n",
    "}\n",
    "\n",
    "cat_sk_params = {\n",
    "    'loss_function': 'RMSE',\n",
    "    'iterations': num_of_iter,\n",
    "    'learning_rate': 0.1,\n",
    "    'random_state': seed,\n",
    "    'eval_metric': ['RMSE', 'MAPE'],\n",
    "    #'l2_leaf_reg': 0.01,\n",
    "    #'bootstrap_type': 'Bayesian',\n",
    "    #'subsample': 0.8, # only use at bootstrap type is [Poisson, Bernoulli]\n",
    "    'use_best_model': True,\n",
    "    #'depth': 5,\n",
    "    #'one_hot_max_size': 31,\n",
    "    #'colsample_bylevel': 0.8,\n",
    "    #'leaf_estimation_method': 'Gradient', # [Newton, Gradient]\n",
    "    #'class_weights': [1, 0.9038461538461537],\n",
    "    #'max_bin': 128, # alias max_bin\n",
    "    'thread_count': multiprocessing.cpu_count()    \n",
    "}"
   ]
  },
  {
   "cell_type": "code",
   "execution_count": 162,
   "metadata": {},
   "outputs": [],
   "source": [
    "@use_named_args(lgb_space)\n",
    "def objective(**params):\n",
    "    print('--- params ---\\n{}'.format(params))\n",
    "    num_of_iter = 1000\n",
    "    num_early_stopping = 50\n",
    "    num_verbose_eval = 100\n",
    "\n",
    "    n_splits = 3\n",
    "    #folds = StratifiedKFold(n_splits=n_splits, shuffle=True, random_state=seed)\n",
    "    #Kflods = folds.split(train_df[features_cols].values, train_df[target_col].values)\n",
    "    folds = TimeSeriesSplit(n_splits=5)\n",
    "    Kflods = folds.split(train_df[features_cols].values, train_df[target_col].values)\n",
    "\n",
    "    oof = np.zeros(len(train_df))\n",
    "    feature_importance_df = pd.DataFrame()\n",
    "    total_fold_loss_df = pd.DataFrame()\n",
    "    target_encoding_cols = ['date_block_num', 'shop_id', 'item_id']\n",
    "    mean_enc = None\n",
    "    model_name = 'lgb'\n",
    "\n",
    "    for fold, (trn_idx, val_idx) in enumerate(Kflods):\n",
    "        print(\"===== Fold {} =====\".format(fold))\n",
    "        trn_idx = shuffle(trn_idx)\n",
    "        train_x, train_y = train_df.iloc[trn_idx][features_cols], train_df.iloc[trn_idx][target_col]\n",
    "        valid_x, valid_y = train_df.iloc[val_idx][features_cols], train_df.iloc[val_idx][target_col]\n",
    "        features_cols_v2 = features_cols.copy()\n",
    "        if mean_enc == 'mean':\n",
    "            for f in target_encoding_cols:\n",
    "                train_x, enc_value, prior_mean, feature_name = mean_encoding(train_x, train_y, f, target_col)\n",
    "                valid_x[feature_name] = valid_x[f].map(enc_value)\n",
    "                valid_x[feature_name].fillna(prior_mean, inplace=True)    \n",
    "                features_cols_v2.remove(f)\n",
    "                features_cols_v2.append(feature_name)\n",
    "        elif mean_enc == 'smooth':\n",
    "            for f in target_encoding_cols:\n",
    "                train_x, enc_value, prior_mean, feature_name = smooth_mean_encoding(train_x, train_y, f, target_col)\n",
    "                valid_x[feature_name] = valid_x[f].map(enc_value)\n",
    "                valid_x[feature_name].fillna(prior_mean, inplace=True)    \n",
    "                features_cols_v2.append(feature_name)\n",
    "        elif mean_enc == 'beta':\n",
    "            prior_mean = np.mean(train_y)\n",
    "            for f in target_encoding_cols:\n",
    "                stats = train_df.iloc[trn_idx].groupby(f).agg(['sum', 'count'])['label'].reset_index()\n",
    "                train_x, feature_name = beta_mean_encoding(train_x, f, target_col, stats, prior_mean)\n",
    "                valid_x, _ = beta_mean_encoding(valid_x, f, target_col, stats, prior_mean)\n",
    "                features_cols_v2.append(feature_name)\n",
    "\n",
    "        eval_set = [(train_x[features_cols_v2], train_y), (valid_x[features_cols_v2], valid_y)]\n",
    "        if model_name == 'xgb':\n",
    "            xgb_sk_params.update({'random_state': fold + np.random.randint(999) + seed})\n",
    "            cv_model = xgb.XGBRegressor(**xgb_sk_params)\n",
    "            cv_model.fit(X=train_x[features_cols_v2],\n",
    "                         y=train_y, \n",
    "                         eval_set=eval_set,             \n",
    "                         early_stopping_rounds=num_early_stopping, \n",
    "                         verbose=num_verbose_eval) \n",
    "            loss = cv_model.evals_result().items()\n",
    "        elif model_name == 'lgb':\n",
    "            lgb_sk_params.update({'random_state': fold + np.random.randint(999) + seed})\n",
    "            cv_model = lgb.LGBMRegressor(**lgb_sk_params)    \n",
    "            cv_model.fit(X=train_x[features_cols_v2],\n",
    "                         y=train_y, \n",
    "                         eval_set=eval_set,    \n",
    "                         eval_names=['validation_0', 'validation_1'],\n",
    "                         early_stopping_rounds=num_early_stopping, \n",
    "                         verbose=num_verbose_eval) \n",
    "            loss = cv_model.evals_result_.items()\n",
    "\n",
    "        # loss \n",
    "        fold_loss_df = pd.DataFrame(columns=['fold', 'type', 'loss'])\n",
    "        for k, v in loss:\n",
    "            if k == 'validation_0':        \n",
    "                fold_loss_df['loss'] = v[list(v.keys())[0]]\n",
    "                fold_loss_df['fold'] = fold + 1\n",
    "                fold_loss_df['type'] = 'train'                \n",
    "            elif k == 'validation_1':\n",
    "                fold_loss_df['loss'] = v[list(v.keys())[0]]\n",
    "                fold_loss_df['fold'] = fold + 1\n",
    "                fold_loss_df['type'] = 'valid'                \n",
    "            total_fold_loss_df = pd.concat([total_fold_loss_df, fold_loss_df], axis=0)\n",
    "\n",
    "        # feature importance\n",
    "        fold_importance_df = pd.DataFrame()\n",
    "        fold_importance_df[\"feature\"] = features_cols_v2\n",
    "        fold_importance_df[\"importance\"] = cv_model.feature_importances_\n",
    "        fold_importance_df[\"fold\"] = fold + 1\n",
    "        feature_importance_df = pd.concat([feature_importance_df, fold_importance_df], axis=0)\n",
    "\n",
    "        # evaluation\n",
    "        if model_name == 'xgb':\n",
    "            oof[val_idx] += cv_model.predict(valid_x[features_cols_v2], \n",
    "                                             ntree_limit=cv_model.best_iteration)\n",
    "        elif model_name == 'lgb':\n",
    "            oof[val_idx] += cv_model.predict(valid_x[features_cols_v2], \n",
    "                                                   ntree_limit=cv_model.best_iteration_)\n",
    "\n",
    "        #print()\n",
    "        #print('MSE:', mean_squared_error(valid_y, oof[val_idx]))\n",
    "        #print('RMSE:', np.sqrt(mean_squared_error(valid_y, oof[val_idx])))\n",
    "        #print('R2 score:', r2_score(valid_y, oof[val_idx]))\n",
    "\n",
    "    rmse = np.sqrt(mean_squared_error(train_df[target_col], oof))        \n",
    "    gc.collect()    \n",
    "    return  rmse"
   ]
  },
  {
   "cell_type": "code",
   "execution_count": 173,
   "metadata": {
    "scrolled": true
   },
   "outputs": [
    {
     "name": "stdout",
     "output_type": "stream",
     "text": [
      "--- params ---\n",
      "{'scale_pos_weight': 384.5916265944546, 'reg_lambda': 3.761154658733963, 'min_child_weight': 81, 'colsample_bytree': 0.7459169401086646, 'subsample': 0.6980429935283096, 'max_depth': 10, 'max_bin': 247}\n",
      "===== Fold 0 =====\n",
      "Training until validation scores don't improve for 50 rounds.\n",
      "[100]\tvalidation_0's rmse: 1.17778\tvalidation_1's rmse: 1.06014\n",
      "[200]\tvalidation_0's rmse: 1.13259\tvalidation_1's rmse: 1.02608\n",
      "[300]\tvalidation_0's rmse: 1.09344\tvalidation_1's rmse: 0.996503\n",
      "[400]\tvalidation_0's rmse: 1.05943\tvalidation_1's rmse: 0.971622\n",
      "[500]\tvalidation_0's rmse: 1.03026\tvalidation_1's rmse: 0.950167\n",
      "[600]\tvalidation_0's rmse: 1.00491\tvalidation_1's rmse: 0.931386\n",
      "[700]\tvalidation_0's rmse: 0.982868\tvalidation_1's rmse: 0.915454\n",
      "[800]\tvalidation_0's rmse: 0.963882\tvalidation_1's rmse: 0.902229\n",
      "[900]\tvalidation_0's rmse: 0.947543\tvalidation_1's rmse: 0.891156\n",
      "[1000]\tvalidation_0's rmse: 0.933357\tvalidation_1's rmse: 0.881882\n",
      "Did not meet early stopping. Best iteration is:\n",
      "[1000]\tvalidation_0's rmse: 0.933357\tvalidation_1's rmse: 0.881882\n",
      "===== Fold 1 =====\n",
      "Training until validation scores don't improve for 50 rounds.\n",
      "[100]\tvalidation_0's rmse: 1.11899\tvalidation_1's rmse: 1.14987\n",
      "[200]\tvalidation_0's rmse: 1.07786\tvalidation_1's rmse: 1.11727\n",
      "[300]\tvalidation_0's rmse: 1.04274\tvalidation_1's rmse: 1.08917\n",
      "[400]\tvalidation_0's rmse: 1.01267\tvalidation_1's rmse: 1.06524\n",
      "[500]\tvalidation_0's rmse: 0.986845\tvalidation_1's rmse: 1.0447\n",
      "[600]\tvalidation_0's rmse: 0.964689\tvalidation_1's rmse: 1.02755\n",
      "[700]\tvalidation_0's rmse: 0.945579\tvalidation_1's rmse: 1.0126\n",
      "[800]\tvalidation_0's rmse: 0.929115\tvalidation_1's rmse: 0.999388\n",
      "[900]\tvalidation_0's rmse: 0.915027\tvalidation_1's rmse: 0.98821\n",
      "[1000]\tvalidation_0's rmse: 0.902887\tvalidation_1's rmse: 0.978731\n",
      "Did not meet early stopping. Best iteration is:\n",
      "[1000]\tvalidation_0's rmse: 0.902887\tvalidation_1's rmse: 0.978731\n",
      "===== Fold 2 =====\n",
      "Training until validation scores don't improve for 50 rounds.\n",
      "[100]\tvalidation_0's rmse: 1.12753\tvalidation_1's rmse: 1.35844\n",
      "[200]\tvalidation_0's rmse: 1.08805\tvalidation_1's rmse: 1.31627\n",
      "[300]\tvalidation_0's rmse: 1.05437\tvalidation_1's rmse: 1.28019\n",
      "[400]\tvalidation_0's rmse: 1.02563\tvalidation_1's rmse: 1.2488\n",
      "[500]\tvalidation_0's rmse: 1.00093\tvalidation_1's rmse: 1.22172\n",
      "[600]\tvalidation_0's rmse: 0.980036\tvalidation_1's rmse: 1.19889\n",
      "[700]\tvalidation_0's rmse: 0.962091\tvalidation_1's rmse: 1.17929\n",
      "[800]\tvalidation_0's rmse: 0.946609\tvalidation_1's rmse: 1.16241\n",
      "[900]\tvalidation_0's rmse: 0.933387\tvalidation_1's rmse: 1.14783\n",
      "[1000]\tvalidation_0's rmse: 0.922015\tvalidation_1's rmse: 1.1351\n",
      "Did not meet early stopping. Best iteration is:\n",
      "[1000]\tvalidation_0's rmse: 0.922015\tvalidation_1's rmse: 1.1351\n",
      "===== Fold 3 =====\n",
      "Training until validation scores don't improve for 50 rounds.\n",
      "[100]\tvalidation_0's rmse: 1.18734\tvalidation_1's rmse: 1.04894\n",
      "[200]\tvalidation_0's rmse: 1.14573\tvalidation_1's rmse: 1.01003\n",
      "[300]\tvalidation_0's rmse: 1.11022\tvalidation_1's rmse: 0.977366\n",
      "[400]\tvalidation_0's rmse: 1.07984\tvalidation_1's rmse: 0.95011\n",
      "[500]\tvalidation_0's rmse: 1.05377\tvalidation_1's rmse: 0.927073\n",
      "[600]\tvalidation_0's rmse: 1.03151\tvalidation_1's rmse: 0.908231\n",
      "[700]\tvalidation_0's rmse: 1.01242\tvalidation_1's rmse: 0.892302\n",
      "[1000]\tvalidation_0's rmse: 0.97001\tvalidation_1's rmse: 0.859734\n",
      "Did not meet early stopping. Best iteration is:\n",
      "[1000]\tvalidation_0's rmse: 0.97001\tvalidation_1's rmse: 0.859734\n",
      "===== Fold 4 =====\n",
      "Training until validation scores don't improve for 50 rounds.\n",
      "[100]\tvalidation_0's rmse: 1.1623\tvalidation_1's rmse: 1.03755\n",
      "[200]\tvalidation_0's rmse: 1.12219\tvalidation_1's rmse: 1.00333\n",
      "[300]\tvalidation_0's rmse: 1.08796\tvalidation_1's rmse: 0.97423\n",
      "[400]\tvalidation_0's rmse: 1.05871\tvalidation_1's rmse: 0.949506\n",
      "[500]\tvalidation_0's rmse: 1.03367\tvalidation_1's rmse: 0.928444\n",
      "[600]\tvalidation_0's rmse: 1.01219\tvalidation_1's rmse: 0.910514\n",
      "[700]\tvalidation_0's rmse: 0.993786\tvalidation_1's rmse: 0.895096\n",
      "[800]\tvalidation_0's rmse: 0.978075\tvalidation_1's rmse: 0.881812\n",
      "[900]\tvalidation_0's rmse: 0.964586\tvalidation_1's rmse: 0.870483\n",
      "[1000]\tvalidation_0's rmse: 0.953013\tvalidation_1's rmse: 0.860802\n",
      "Did not meet early stopping. Best iteration is:\n",
      "[1000]\tvalidation_0's rmse: 0.953013\tvalidation_1's rmse: 0.860802\n"
     ]
    },
    {
     "name": "stderr",
     "output_type": "stream",
     "text": [
      "Exception ignored in: <bound method BaseSession._Callable.__del__ of <tensorflow.python.client.session.BaseSession._Callable object at 0x7fe9789a3470>>\n",
      "Traceback (most recent call last):\n",
      "  File \"/usr/local/lib/python3.5/dist-packages/tensorflow/python/client/session.py\", line 1455, in __del__\n",
      "    self._session._session, self._handle, status)\n",
      "  File \"/usr/local/lib/python3.5/dist-packages/tensorflow/python/framework/errors_impl.py\", line 528, in __exit__\n",
      "    c_api.TF_GetCode(self.status.status))\n",
      "tensorflow.python.framework.errors_impl.CancelledError: Session has been closed.\n",
      "Exception ignored in: <bound method BaseSession._Callable.__del__ of <tensorflow.python.client.session.BaseSession._Callable object at 0x7fe978981780>>\n",
      "Traceback (most recent call last):\n",
      "  File \"/usr/local/lib/python3.5/dist-packages/tensorflow/python/client/session.py\", line 1455, in __del__\n",
      "    self._session._session, self._handle, status)\n",
      "  File \"/usr/local/lib/python3.5/dist-packages/tensorflow/python/framework/errors_impl.py\", line 528, in __exit__\n",
      "    c_api.TF_GetCode(self.status.status))\n",
      "tensorflow.python.framework.errors_impl.CancelledError: Session has been closed.\n",
      "Exception ignored in: <bound method BaseSession._Callable.__del__ of <tensorflow.python.client.session.BaseSession._Callable object at 0x7fe978a13390>>\n",
      "Traceback (most recent call last):\n",
      "  File \"/usr/local/lib/python3.5/dist-packages/tensorflow/python/client/session.py\", line 1455, in __del__\n",
      "    self._session._session, self._handle, status)\n",
      "  File \"/usr/local/lib/python3.5/dist-packages/tensorflow/python/framework/errors_impl.py\", line 528, in __exit__\n",
      "    c_api.TF_GetCode(self.status.status))\n",
      "tensorflow.python.framework.errors_impl.CancelledError: Session has been closed.\n"
     ]
    },
    {
     "name": "stdout",
     "output_type": "stream",
     "text": [
      "--- params ---\n",
      "{'scale_pos_weight': 376.5782491234839, 'reg_lambda': 1.8685942788711083, 'min_child_weight': 151, 'colsample_bytree': 0.6302239906759548, 'subsample': 0.8936072645681281, 'max_depth': 5, 'max_bin': 156}\n",
      "===== Fold 0 =====\n",
      "Training until validation scores don't improve for 50 rounds.\n",
      "[100]\tvalidation_0's rmse: 1.17781\tvalidation_1's rmse: 1.06013\n",
      "[200]\tvalidation_0's rmse: 1.1326\tvalidation_1's rmse: 1.02605\n",
      "[300]\tvalidation_0's rmse: 1.09342\tvalidation_1's rmse: 0.996502\n",
      "[400]\tvalidation_0's rmse: 1.05944\tvalidation_1's rmse: 0.971703\n",
      "[500]\tvalidation_0's rmse: 1.03024\tvalidation_1's rmse: 0.950275\n",
      "[600]\tvalidation_0's rmse: 1.00489\tvalidation_1's rmse: 0.931518\n",
      "[700]\tvalidation_0's rmse: 0.982846\tvalidation_1's rmse: 0.915557\n",
      "[800]\tvalidation_0's rmse: 0.9638\tvalidation_1's rmse: 0.902302\n",
      "[900]\tvalidation_0's rmse: 0.94742\tvalidation_1's rmse: 0.891304\n",
      "[1000]\tvalidation_0's rmse: 0.93324\tvalidation_1's rmse: 0.88201\n",
      "Did not meet early stopping. Best iteration is:\n",
      "[1000]\tvalidation_0's rmse: 0.93324\tvalidation_1's rmse: 0.88201\n",
      "===== Fold 1 =====\n",
      "Training until validation scores don't improve for 50 rounds.\n",
      "[100]\tvalidation_0's rmse: 1.11907\tvalidation_1's rmse: 1.14999\n",
      "[200]\tvalidation_0's rmse: 1.07805\tvalidation_1's rmse: 1.11705\n",
      "[300]\tvalidation_0's rmse: 1.04301\tvalidation_1's rmse: 1.08859\n",
      "[400]\tvalidation_0's rmse: 1.0129\tvalidation_1's rmse: 1.06427\n",
      "[500]\tvalidation_0's rmse: 0.987053\tvalidation_1's rmse: 1.04352\n",
      "[600]\tvalidation_0's rmse: 0.964917\tvalidation_1's rmse: 1.02607\n",
      "[700]\tvalidation_0's rmse: 0.945862\tvalidation_1's rmse: 1.01077\n",
      "[800]\tvalidation_0's rmse: 0.929374\tvalidation_1's rmse: 0.997559\n",
      "[900]\tvalidation_0's rmse: 0.915269\tvalidation_1's rmse: 0.986329\n",
      "[1000]\tvalidation_0's rmse: 0.903114\tvalidation_1's rmse: 0.976756\n",
      "Did not meet early stopping. Best iteration is:\n",
      "[1000]\tvalidation_0's rmse: 0.903114\tvalidation_1's rmse: 0.976756\n",
      "===== Fold 2 =====\n",
      "Training until validation scores don't improve for 50 rounds.\n",
      "[100]\tvalidation_0's rmse: 1.12753\tvalidation_1's rmse: 1.35842\n",
      "[200]\tvalidation_0's rmse: 1.08806\tvalidation_1's rmse: 1.31633\n",
      "[300]\tvalidation_0's rmse: 1.05438\tvalidation_1's rmse: 1.28036\n",
      "[400]\tvalidation_0's rmse: 1.02562\tvalidation_1's rmse: 1.24904\n",
      "[500]\tvalidation_0's rmse: 1.00095\tvalidation_1's rmse: 1.22186\n",
      "[600]\tvalidation_0's rmse: 0.980001\tvalidation_1's rmse: 1.19935\n",
      "[700]\tvalidation_0's rmse: 0.96208\tvalidation_1's rmse: 1.1799\n",
      "[800]\tvalidation_0's rmse: 0.946631\tvalidation_1's rmse: 1.16309\n",
      "[900]\tvalidation_0's rmse: 0.933396\tvalidation_1's rmse: 1.14859\n",
      "[1000]\tvalidation_0's rmse: 0.922022\tvalidation_1's rmse: 1.13599\n",
      "Did not meet early stopping. Best iteration is:\n",
      "[1000]\tvalidation_0's rmse: 0.922022\tvalidation_1's rmse: 1.13599\n",
      "===== Fold 3 =====\n",
      "Training until validation scores don't improve for 50 rounds.\n",
      "[100]\tvalidation_0's rmse: 1.18736\tvalidation_1's rmse: 1.04895\n",
      "[200]\tvalidation_0's rmse: 1.14577\tvalidation_1's rmse: 1.00991\n",
      "[300]\tvalidation_0's rmse: 1.11027\tvalidation_1's rmse: 0.977261\n",
      "[400]\tvalidation_0's rmse: 1.0799\tvalidation_1's rmse: 0.949976\n",
      "[500]\tvalidation_0's rmse: 1.05385\tvalidation_1's rmse: 0.927021\n",
      "[600]\tvalidation_0's rmse: 1.03159\tvalidation_1's rmse: 0.908151\n",
      "[700]\tvalidation_0's rmse: 1.01251\tvalidation_1's rmse: 0.892225\n",
      "[800]\tvalidation_0's rmse: 0.996157\tvalidation_1's rmse: 0.879271\n",
      "[900]\tvalidation_0's rmse: 0.982141\tvalidation_1's rmse: 0.868492\n",
      "[1000]\tvalidation_0's rmse: 0.970117\tvalidation_1's rmse: 0.859675\n",
      "Did not meet early stopping. Best iteration is:\n",
      "[1000]\tvalidation_0's rmse: 0.970117\tvalidation_1's rmse: 0.859675\n",
      "===== Fold 4 =====\n",
      "Training until validation scores don't improve for 50 rounds.\n",
      "[100]\tvalidation_0's rmse: 1.16228\tvalidation_1's rmse: 1.0376\n",
      "[200]\tvalidation_0's rmse: 1.12212\tvalidation_1's rmse: 1.00343\n",
      "[300]\tvalidation_0's rmse: 1.08786\tvalidation_1's rmse: 0.974228\n",
      "[400]\tvalidation_0's rmse: 1.05857\tvalidation_1's rmse: 0.949376\n",
      "[500]\tvalidation_0's rmse: 1.03351\tvalidation_1's rmse: 0.928193\n",
      "[600]\tvalidation_0's rmse: 1.01196\tvalidation_1's rmse: 0.910142\n",
      "[700]\tvalidation_0's rmse: 0.993526\tvalidation_1's rmse: 0.894666\n",
      "[800]\tvalidation_0's rmse: 0.977768\tvalidation_1's rmse: 0.881446\n",
      "[900]\tvalidation_0's rmse: 0.964249\tvalidation_1's rmse: 0.870138\n",
      "[1000]\tvalidation_0's rmse: 0.952645\tvalidation_1's rmse: 0.860404\n",
      "Did not meet early stopping. Best iteration is:\n",
      "[1000]\tvalidation_0's rmse: 0.952645\tvalidation_1's rmse: 0.860404\n",
      "--- params ---\n",
      "{'scale_pos_weight': 42.27804148101679, 'reg_lambda': 3.221241629900831, 'min_child_weight': 114, 'colsample_bytree': 0.8437459342370678, 'subsample': 0.7702716888064499, 'max_depth': 5, 'max_bin': 210}\n",
      "===== Fold 0 =====\n",
      "Training until validation scores don't improve for 50 rounds.\n",
      "[100]\tvalidation_0's rmse: 1.17776\tvalidation_1's rmse: 1.06043\n",
      "[200]\tvalidation_0's rmse: 1.13253\tvalidation_1's rmse: 1.02615\n",
      "[300]\tvalidation_0's rmse: 1.09334\tvalidation_1's rmse: 0.996572\n",
      "[400]\tvalidation_0's rmse: 1.05932\tvalidation_1's rmse: 0.971667\n",
      "[500]\tvalidation_0's rmse: 1.03009\tvalidation_1's rmse: 0.950184\n",
      "[600]\tvalidation_0's rmse: 1.00477\tvalidation_1's rmse: 0.931465\n",
      "[700]\tvalidation_0's rmse: 0.982807\tvalidation_1's rmse: 0.915552\n",
      "[800]\tvalidation_0's rmse: 0.96378\tvalidation_1's rmse: 0.902393\n",
      "[900]\tvalidation_0's rmse: 0.947469\tvalidation_1's rmse: 0.891336\n",
      "[1000]\tvalidation_0's rmse: 0.933263\tvalidation_1's rmse: 0.881973\n",
      "Did not meet early stopping. Best iteration is:\n",
      "[1000]\tvalidation_0's rmse: 0.933263\tvalidation_1's rmse: 0.881973\n",
      "===== Fold 1 =====\n",
      "Training until validation scores don't improve for 50 rounds.\n",
      "[100]\tvalidation_0's rmse: 1.11896\tvalidation_1's rmse: 1.15037\n",
      "[200]\tvalidation_0's rmse: 1.07794\tvalidation_1's rmse: 1.1181\n",
      "[300]\tvalidation_0's rmse: 1.0428\tvalidation_1's rmse: 1.09017\n",
      "[400]\tvalidation_0's rmse: 1.01274\tvalidation_1's rmse: 1.0662\n",
      "[500]\tvalidation_0's rmse: 0.986904\tvalidation_1's rmse: 1.04554\n",
      "[600]\tvalidation_0's rmse: 0.964745\tvalidation_1's rmse: 1.02824\n",
      "[700]\tvalidation_0's rmse: 0.945611\tvalidation_1's rmse: 1.01315\n",
      "[800]\tvalidation_0's rmse: 0.929133\tvalidation_1's rmse: 0.999963\n",
      "[900]\tvalidation_0's rmse: 0.915075\tvalidation_1's rmse: 0.988798\n",
      "[1000]\tvalidation_0's rmse: 0.902933\tvalidation_1's rmse: 0.979345\n",
      "Did not meet early stopping. Best iteration is:\n",
      "[1000]\tvalidation_0's rmse: 0.902933\tvalidation_1's rmse: 0.979345\n",
      "===== Fold 2 =====\n",
      "Training until validation scores don't improve for 50 rounds.\n",
      "[100]\tvalidation_0's rmse: 1.12753\tvalidation_1's rmse: 1.35842\n",
      "[200]\tvalidation_0's rmse: 1.08805\tvalidation_1's rmse: 1.31631\n",
      "[300]\tvalidation_0's rmse: 1.05438\tvalidation_1's rmse: 1.28025\n",
      "[400]\tvalidation_0's rmse: 1.0256\tvalidation_1's rmse: 1.24898\n",
      "[500]\tvalidation_0's rmse: 1.0009\tvalidation_1's rmse: 1.22165\n",
      "[600]\tvalidation_0's rmse: 0.979957\tvalidation_1's rmse: 1.19877\n",
      "[700]\tvalidation_0's rmse: 0.96203\tvalidation_1's rmse: 1.17917\n",
      "[800]\tvalidation_0's rmse: 0.946541\tvalidation_1's rmse: 1.16216\n",
      "[900]\tvalidation_0's rmse: 0.933348\tvalidation_1's rmse: 1.14755\n",
      "[1000]\tvalidation_0's rmse: 0.921983\tvalidation_1's rmse: 1.13483\n",
      "Did not meet early stopping. Best iteration is:\n",
      "[1000]\tvalidation_0's rmse: 0.921983\tvalidation_1's rmse: 1.13483\n",
      "===== Fold 3 =====\n",
      "Training until validation scores don't improve for 50 rounds.\n",
      "[100]\tvalidation_0's rmse: 1.18736\tvalidation_1's rmse: 1.04883\n",
      "[200]\tvalidation_0's rmse: 1.14577\tvalidation_1's rmse: 1.00982\n",
      "[300]\tvalidation_0's rmse: 1.11025\tvalidation_1's rmse: 0.977146\n",
      "[400]\tvalidation_0's rmse: 1.07986\tvalidation_1's rmse: 0.949888\n",
      "[500]\tvalidation_0's rmse: 1.05377\tvalidation_1's rmse: 0.927001\n",
      "[600]\tvalidation_0's rmse: 1.03151\tvalidation_1's rmse: 0.908164\n",
      "[700]\tvalidation_0's rmse: 1.01241\tvalidation_1's rmse: 0.89224\n",
      "[800]\tvalidation_0's rmse: 0.996019\tvalidation_1's rmse: 0.879189\n",
      "[900]\tvalidation_0's rmse: 0.982004\tvalidation_1's rmse: 0.868453\n",
      "[1000]\tvalidation_0's rmse: 0.969947\tvalidation_1's rmse: 0.859555\n",
      "Did not meet early stopping. Best iteration is:\n",
      "[1000]\tvalidation_0's rmse: 0.969947\tvalidation_1's rmse: 0.859555\n",
      "===== Fold 4 =====\n",
      "Training until validation scores don't improve for 50 rounds.\n",
      "[100]\tvalidation_0's rmse: 1.16213\tvalidation_1's rmse: 1.03765\n",
      "[200]\tvalidation_0's rmse: 1.12188\tvalidation_1's rmse: 1.00354\n"
     ]
    },
    {
     "name": "stdout",
     "output_type": "stream",
     "text": [
      "[300]\tvalidation_0's rmse: 1.08755\tvalidation_1's rmse: 0.974418\n",
      "[400]\tvalidation_0's rmse: 1.05821\tvalidation_1's rmse: 0.949617\n",
      "[500]\tvalidation_0's rmse: 1.03314\tvalidation_1's rmse: 0.928505\n",
      "[600]\tvalidation_0's rmse: 1.0116\tvalidation_1's rmse: 0.910558\n",
      "[700]\tvalidation_0's rmse: 0.993162\tvalidation_1's rmse: 0.895049\n",
      "[800]\tvalidation_0's rmse: 0.977366\tvalidation_1's rmse: 0.881801\n",
      "[900]\tvalidation_0's rmse: 0.963824\tvalidation_1's rmse: 0.870499\n",
      "[1000]\tvalidation_0's rmse: 0.95221\tvalidation_1's rmse: 0.86084\n",
      "Did not meet early stopping. Best iteration is:\n",
      "[1000]\tvalidation_0's rmse: 0.95221\tvalidation_1's rmse: 0.86084\n",
      "--- params ---\n",
      "{'scale_pos_weight': 195.02460619317566, 'reg_lambda': 3.3769098780033415, 'min_child_weight': 130, 'colsample_bytree': 0.6346565260900119, 'subsample': 0.7686997271683054, 'max_depth': 4, 'max_bin': 190}\n",
      "===== Fold 0 =====\n",
      "Training until validation scores don't improve for 50 rounds.\n",
      "[100]\tvalidation_0's rmse: 1.17766\tvalidation_1's rmse: 1.05999\n",
      "[200]\tvalidation_0's rmse: 1.13253\tvalidation_1's rmse: 1.02592\n",
      "[300]\tvalidation_0's rmse: 1.09339\tvalidation_1's rmse: 0.996329\n",
      "[400]\tvalidation_0's rmse: 1.05939\tvalidation_1's rmse: 0.971369\n",
      "[500]\tvalidation_0's rmse: 1.03017\tvalidation_1's rmse: 0.9499\n",
      "[600]\tvalidation_0's rmse: 1.00483\tvalidation_1's rmse: 0.93117\n",
      "[700]\tvalidation_0's rmse: 0.982763\tvalidation_1's rmse: 0.915222\n",
      "[800]\tvalidation_0's rmse: 0.963752\tvalidation_1's rmse: 0.90212\n",
      "[900]\tvalidation_0's rmse: 0.947325\tvalidation_1's rmse: 0.891077\n",
      "[1000]\tvalidation_0's rmse: 0.933134\tvalidation_1's rmse: 0.881832\n",
      "Did not meet early stopping. Best iteration is:\n",
      "[1000]\tvalidation_0's rmse: 0.933134\tvalidation_1's rmse: 0.881832\n",
      "===== Fold 1 =====\n",
      "Training until validation scores don't improve for 50 rounds.\n",
      "[100]\tvalidation_0's rmse: 1.11892\tvalidation_1's rmse: 1.14997\n",
      "[200]\tvalidation_0's rmse: 1.07782\tvalidation_1's rmse: 1.11724\n",
      "[300]\tvalidation_0's rmse: 1.04271\tvalidation_1's rmse: 1.08895\n",
      "[400]\tvalidation_0's rmse: 1.01264\tvalidation_1's rmse: 1.06479\n",
      "[500]\tvalidation_0's rmse: 0.986864\tvalidation_1's rmse: 1.04425\n",
      "[600]\tvalidation_0's rmse: 0.964685\tvalidation_1's rmse: 1.02683\n",
      "[700]\tvalidation_0's rmse: 0.945453\tvalidation_1's rmse: 1.0117\n",
      "[800]\tvalidation_0's rmse: 0.928918\tvalidation_1's rmse: 0.998422\n",
      "[900]\tvalidation_0's rmse: 0.914825\tvalidation_1's rmse: 0.987221\n",
      "[1000]\tvalidation_0's rmse: 0.90268\tvalidation_1's rmse: 0.977713\n",
      "Did not meet early stopping. Best iteration is:\n",
      "[1000]\tvalidation_0's rmse: 0.90268\tvalidation_1's rmse: 0.977713\n",
      "===== Fold 2 =====\n",
      "Training until validation scores don't improve for 50 rounds.\n",
      "[100]\tvalidation_0's rmse: 1.12752\tvalidation_1's rmse: 1.35847\n",
      "[200]\tvalidation_0's rmse: 1.08804\tvalidation_1's rmse: 1.31625\n",
      "[300]\tvalidation_0's rmse: 1.05437\tvalidation_1's rmse: 1.28001\n",
      "[400]\tvalidation_0's rmse: 1.0256\tvalidation_1's rmse: 1.24872\n",
      "[500]\tvalidation_0's rmse: 1.00089\tvalidation_1's rmse: 1.22143\n",
      "[600]\tvalidation_0's rmse: 0.979965\tvalidation_1's rmse: 1.1985\n",
      "[700]\tvalidation_0's rmse: 0.962038\tvalidation_1's rmse: 1.17888\n",
      "[800]\tvalidation_0's rmse: 0.946546\tvalidation_1's rmse: 1.16189\n",
      "[900]\tvalidation_0's rmse: 0.933314\tvalidation_1's rmse: 1.14738\n",
      "[1000]\tvalidation_0's rmse: 0.921933\tvalidation_1's rmse: 1.13459\n",
      "Did not meet early stopping. Best iteration is:\n",
      "[1000]\tvalidation_0's rmse: 0.921933\tvalidation_1's rmse: 1.13459\n",
      "===== Fold 3 =====\n",
      "Training until validation scores don't improve for 50 rounds.\n",
      "[100]\tvalidation_0's rmse: 1.18732\tvalidation_1's rmse: 1.04887\n",
      "[200]\tvalidation_0's rmse: 1.14569\tvalidation_1's rmse: 1.00985\n",
      "[300]\tvalidation_0's rmse: 1.11018\tvalidation_1's rmse: 0.977118\n",
      "[400]\tvalidation_0's rmse: 1.07982\tvalidation_1's rmse: 0.949854\n",
      "[500]\tvalidation_0's rmse: 1.05375\tvalidation_1's rmse: 0.926866\n",
      "[600]\tvalidation_0's rmse: 1.03148\tvalidation_1's rmse: 0.907952\n",
      "[700]\tvalidation_0's rmse: 1.01241\tvalidation_1's rmse: 0.892061\n",
      "[800]\tvalidation_0's rmse: 0.996028\tvalidation_1's rmse: 0.879062\n",
      "[900]\tvalidation_0's rmse: 0.982006\tvalidation_1's rmse: 0.8683\n",
      "[1000]\tvalidation_0's rmse: 0.970013\tvalidation_1's rmse: 0.859513\n",
      "Did not meet early stopping. Best iteration is:\n",
      "[1000]\tvalidation_0's rmse: 0.970013\tvalidation_1's rmse: 0.859513\n",
      "===== Fold 4 =====\n",
      "Training until validation scores don't improve for 50 rounds.\n",
      "[100]\tvalidation_0's rmse: 1.16225\tvalidation_1's rmse: 1.03758\n",
      "[200]\tvalidation_0's rmse: 1.12212\tvalidation_1's rmse: 1.00344\n",
      "[300]\tvalidation_0's rmse: 1.08787\tvalidation_1's rmse: 0.974361\n",
      "[400]\tvalidation_0's rmse: 1.05859\tvalidation_1's rmse: 0.94964\n",
      "[500]\tvalidation_0's rmse: 1.03356\tvalidation_1's rmse: 0.928597\n",
      "[600]\tvalidation_0's rmse: 1.01201\tvalidation_1's rmse: 0.910574\n",
      "[700]\tvalidation_0's rmse: 0.993558\tvalidation_1's rmse: 0.89512\n",
      "[800]\tvalidation_0's rmse: 0.977825\tvalidation_1's rmse: 0.881964\n",
      "[900]\tvalidation_0's rmse: 0.964346\tvalidation_1's rmse: 0.870697\n",
      "[1000]\tvalidation_0's rmse: 0.952781\tvalidation_1's rmse: 0.860944\n",
      "Did not meet early stopping. Best iteration is:\n",
      "[1000]\tvalidation_0's rmse: 0.952781\tvalidation_1's rmse: 0.860944\n",
      "--- params ---\n",
      "{'scale_pos_weight': 113.74807226501284, 'reg_lambda': 0.7434321866582173, 'min_child_weight': 110, 'colsample_bytree': 0.860164119435469, 'subsample': 0.6881598320062081, 'max_depth': 5, 'max_bin': 110}\n",
      "===== Fold 0 =====\n",
      "Training until validation scores don't improve for 50 rounds.\n",
      "[1000]\tvalidation_0's rmse: 0.933357\tvalidation_1's rmse: 0.882305\n",
      "Did not meet early stopping. Best iteration is:\n",
      "[1000]\tvalidation_0's rmse: 0.933357\tvalidation_1's rmse: 0.882305\n",
      "===== Fold 1 =====\n",
      "Training until validation scores don't improve for 50 rounds.\n",
      "[100]\tvalidation_0's rmse: 1.11904\tvalidation_1's rmse: 1.14995\n",
      "[200]\tvalidation_0's rmse: 1.07798\tvalidation_1's rmse: 1.1175\n",
      "[300]\tvalidation_0's rmse: 1.04297\tvalidation_1's rmse: 1.08926\n",
      "[400]\tvalidation_0's rmse: 1.01294\tvalidation_1's rmse: 1.0653\n",
      "[500]\tvalidation_0's rmse: 0.987185\tvalidation_1's rmse: 1.04478\n",
      "[600]\tvalidation_0's rmse: 0.965047\tvalidation_1's rmse: 1.02736\n",
      "[700]\tvalidation_0's rmse: 0.945996\tvalidation_1's rmse: 1.01226\n",
      "[800]\tvalidation_0's rmse: 0.929577\tvalidation_1's rmse: 0.999206\n",
      "[900]\tvalidation_0's rmse: 0.915487\tvalidation_1's rmse: 0.988028\n",
      "[1000]\tvalidation_0's rmse: 0.90335\tvalidation_1's rmse: 0.978714\n",
      "Did not meet early stopping. Best iteration is:\n",
      "[1000]\tvalidation_0's rmse: 0.90335\tvalidation_1's rmse: 0.978714\n",
      "===== Fold 2 =====\n",
      "Training until validation scores don't improve for 50 rounds.\n",
      "[100]\tvalidation_0's rmse: 1.12753\tvalidation_1's rmse: 1.3584\n",
      "[200]\tvalidation_0's rmse: 1.08808\tvalidation_1's rmse: 1.31629\n",
      "[300]\tvalidation_0's rmse: 1.05437\tvalidation_1's rmse: 1.28026\n",
      "[400]\tvalidation_0's rmse: 1.0256\tvalidation_1's rmse: 1.24897\n",
      "[500]\tvalidation_0's rmse: 1.0009\tvalidation_1's rmse: 1.22153\n",
      "[600]\tvalidation_0's rmse: 0.97997\tvalidation_1's rmse: 1.19854\n",
      "[700]\tvalidation_0's rmse: 0.96205\tvalidation_1's rmse: 1.17899\n",
      "[800]\tvalidation_0's rmse: 0.946597\tvalidation_1's rmse: 1.162\n",
      "[900]\tvalidation_0's rmse: 0.933342\tvalidation_1's rmse: 1.14746\n",
      "[1000]\tvalidation_0's rmse: 0.922007\tvalidation_1's rmse: 1.13465\n",
      "Did not meet early stopping. Best iteration is:\n",
      "[1000]\tvalidation_0's rmse: 0.922007\tvalidation_1's rmse: 1.13465\n",
      "===== Fold 3 =====\n",
      "Training until validation scores don't improve for 50 rounds.\n",
      "[100]\tvalidation_0's rmse: 1.18734\tvalidation_1's rmse: 1.04906\n",
      "[200]\tvalidation_0's rmse: 1.14567\tvalidation_1's rmse: 1.01019\n",
      "[300]\tvalidation_0's rmse: 1.1101\tvalidation_1's rmse: 0.977592\n",
      "[400]\tvalidation_0's rmse: 1.07968\tvalidation_1's rmse: 0.950375\n",
      "[500]\tvalidation_0's rmse: 1.05356\tvalidation_1's rmse: 0.927376\n",
      "[600]\tvalidation_0's rmse: 1.0313\tvalidation_1's rmse: 0.908517\n",
      "[700]\tvalidation_0's rmse: 1.01218\tvalidation_1's rmse: 0.892602\n",
      "[800]\tvalidation_0's rmse: 0.995781\tvalidation_1's rmse: 0.879589\n",
      "[900]\tvalidation_0's rmse: 0.981759\tvalidation_1's rmse: 0.868833\n",
      "[1000]\tvalidation_0's rmse: 0.969736\tvalidation_1's rmse: 0.860048\n",
      "Did not meet early stopping. Best iteration is:\n",
      "[1000]\tvalidation_0's rmse: 0.969736\tvalidation_1's rmse: 0.860048\n",
      "===== Fold 4 =====\n",
      "Training until validation scores don't improve for 50 rounds.\n",
      "[100]\tvalidation_0's rmse: 1.16213\tvalidation_1's rmse: 1.03774\n"
     ]
    },
    {
     "name": "stdout",
     "output_type": "stream",
     "text": [
      "[200]\tvalidation_0's rmse: 1.12189\tvalidation_1's rmse: 1.00354\n",
      "[300]\tvalidation_0's rmse: 1.08755\tvalidation_1's rmse: 0.974377\n",
      "[400]\tvalidation_0's rmse: 1.0582\tvalidation_1's rmse: 0.949536\n",
      "[500]\tvalidation_0's rmse: 1.03313\tvalidation_1's rmse: 0.928431\n",
      "[600]\tvalidation_0's rmse: 1.01156\tvalidation_1's rmse: 0.910433\n",
      "[700]\tvalidation_0's rmse: 0.99309\tvalidation_1's rmse: 0.894895\n",
      "[800]\tvalidation_0's rmse: 0.977317\tvalidation_1's rmse: 0.881617\n",
      "[900]\tvalidation_0's rmse: 0.96379\tvalidation_1's rmse: 0.870279\n",
      "[1000]\tvalidation_0's rmse: 0.952207\tvalidation_1's rmse: 0.860562\n",
      "Did not meet early stopping. Best iteration is:\n",
      "[1000]\tvalidation_0's rmse: 0.952207\tvalidation_1's rmse: 0.860562\n",
      "--- params ---\n",
      "{'scale_pos_weight': 304.9719037703267, 'reg_lambda': 3.8943111498219736, 'min_child_weight': 94, 'colsample_bytree': 0.6834767188235036, 'subsample': 0.7387651355599998, 'max_depth': 8, 'max_bin': 116}\n",
      "===== Fold 0 =====\n",
      "Training until validation scores don't improve for 50 rounds.\n",
      "[100]\tvalidation_0's rmse: 1.17772\tvalidation_1's rmse: 1.06041\n",
      "[200]\tvalidation_0's rmse: 1.13255\tvalidation_1's rmse: 1.02625\n",
      "[300]\tvalidation_0's rmse: 1.0934\tvalidation_1's rmse: 0.996719\n",
      "[400]\tvalidation_0's rmse: 1.05943\tvalidation_1's rmse: 0.971859\n",
      "[500]\tvalidation_0's rmse: 1.03027\tvalidation_1's rmse: 0.950383\n",
      "[600]\tvalidation_0's rmse: 1.0049\tvalidation_1's rmse: 0.93152\n",
      "[700]\tvalidation_0's rmse: 0.982829\tvalidation_1's rmse: 0.915475\n",
      "[800]\tvalidation_0's rmse: 0.963913\tvalidation_1's rmse: 0.902358\n",
      "[900]\tvalidation_0's rmse: 0.947593\tvalidation_1's rmse: 0.891326\n",
      "[1000]\tvalidation_0's rmse: 0.933398\tvalidation_1's rmse: 0.882016\n",
      "Did not meet early stopping. Best iteration is:\n",
      "[1000]\tvalidation_0's rmse: 0.933398\tvalidation_1's rmse: 0.882016\n",
      "===== Fold 1 =====\n",
      "Training until validation scores don't improve for 50 rounds.\n",
      "[100]\tvalidation_0's rmse: 1.11907\tvalidation_1's rmse: 1.15031\n",
      "[200]\tvalidation_0's rmse: 1.07806\tvalidation_1's rmse: 1.11805\n",
      "[300]\tvalidation_0's rmse: 1.04299\tvalidation_1's rmse: 1.08994\n",
      "[400]\tvalidation_0's rmse: 1.01298\tvalidation_1's rmse: 1.06597\n",
      "[500]\tvalidation_0's rmse: 0.987215\tvalidation_1's rmse: 1.04547\n",
      "[600]\tvalidation_0's rmse: 0.96508\tvalidation_1's rmse: 1.02819\n",
      "[700]\tvalidation_0's rmse: 0.945963\tvalidation_1's rmse: 1.01307\n",
      "[800]\tvalidation_0's rmse: 0.929487\tvalidation_1's rmse: 0.999902\n",
      "[900]\tvalidation_0's rmse: 0.915407\tvalidation_1's rmse: 0.988701\n",
      "[1000]\tvalidation_0's rmse: 0.903298\tvalidation_1's rmse: 0.979303\n",
      "Did not meet early stopping. Best iteration is:\n",
      "[1000]\tvalidation_0's rmse: 0.903298\tvalidation_1's rmse: 0.979303\n",
      "===== Fold 2 =====\n",
      "Training until validation scores don't improve for 50 rounds.\n",
      "[100]\tvalidation_0's rmse: 1.12752\tvalidation_1's rmse: 1.35834\n",
      "[200]\tvalidation_0's rmse: 1.08804\tvalidation_1's rmse: 1.31607\n",
      "[300]\tvalidation_0's rmse: 1.05434\tvalidation_1's rmse: 1.28001\n",
      "[400]\tvalidation_0's rmse: 1.02557\tvalidation_1's rmse: 1.24872\n",
      "[500]\tvalidation_0's rmse: 1.00089\tvalidation_1's rmse: 1.22139\n",
      "[600]\tvalidation_0's rmse: 0.979937\tvalidation_1's rmse: 1.19842\n",
      "[700]\tvalidation_0's rmse: 0.961995\tvalidation_1's rmse: 1.17886\n",
      "[800]\tvalidation_0's rmse: 0.946555\tvalidation_1's rmse: 1.16196\n",
      "[900]\tvalidation_0's rmse: 0.933322\tvalidation_1's rmse: 1.14745\n",
      "[1000]\tvalidation_0's rmse: 0.921957\tvalidation_1's rmse: 1.13463\n",
      "Did not meet early stopping. Best iteration is:\n",
      "[1000]\tvalidation_0's rmse: 0.921957\tvalidation_1's rmse: 1.13463\n",
      "===== Fold 3 =====\n",
      "Training until validation scores don't improve for 50 rounds.\n",
      "[100]\tvalidation_0's rmse: 1.1873\tvalidation_1's rmse: 1.0483\n",
      "[200]\tvalidation_0's rmse: 1.14565\tvalidation_1's rmse: 1.00918\n",
      "[300]\tvalidation_0's rmse: 1.1101\tvalidation_1's rmse: 0.976476\n",
      "[400]\tvalidation_0's rmse: 1.0797\tvalidation_1's rmse: 0.949151\n",
      "[500]\tvalidation_0's rmse: 1.05359\tvalidation_1's rmse: 0.926158\n",
      "[600]\tvalidation_0's rmse: 1.03129\tvalidation_1's rmse: 0.90733\n",
      "[700]\tvalidation_0's rmse: 1.0122\tvalidation_1's rmse: 0.891446\n",
      "[800]\tvalidation_0's rmse: 0.99579\tvalidation_1's rmse: 0.878475\n",
      "[900]\tvalidation_0's rmse: 0.981775\tvalidation_1's rmse: 0.867726\n",
      "[1000]\tvalidation_0's rmse: 0.969729\tvalidation_1's rmse: 0.85891\n",
      "Did not meet early stopping. Best iteration is:\n",
      "[1000]\tvalidation_0's rmse: 0.969729\tvalidation_1's rmse: 0.85891\n",
      "===== Fold 4 =====\n",
      "Training until validation scores don't improve for 50 rounds.\n",
      "[100]\tvalidation_0's rmse: 1.16229\tvalidation_1's rmse: 1.03746\n",
      "[200]\tvalidation_0's rmse: 1.12218\tvalidation_1's rmse: 1.00325\n",
      "[300]\tvalidation_0's rmse: 1.08796\tvalidation_1's rmse: 0.974097\n",
      "[400]\tvalidation_0's rmse: 1.05872\tvalidation_1's rmse: 0.949363\n",
      "[500]\tvalidation_0's rmse: 1.03365\tvalidation_1's rmse: 0.928231\n",
      "[600]\tvalidation_0's rmse: 1.01212\tvalidation_1's rmse: 0.910219\n",
      "[700]\tvalidation_0's rmse: 0.993721\tvalidation_1's rmse: 0.894777\n",
      "[800]\tvalidation_0's rmse: 0.977999\tvalidation_1's rmse: 0.881577\n",
      "[900]\tvalidation_0's rmse: 0.96452\tvalidation_1's rmse: 0.870308\n",
      "[1000]\tvalidation_0's rmse: 0.952945\tvalidation_1's rmse: 0.860665\n",
      "Did not meet early stopping. Best iteration is:\n",
      "[1000]\tvalidation_0's rmse: 0.952945\tvalidation_1's rmse: 0.860665\n",
      "--- params ---\n",
      "{'scale_pos_weight': 259.3882358465522, 'reg_lambda': 1.5996773463910088, 'min_child_weight': 194, 'colsample_bytree': 0.7934071276940435, 'subsample': 0.6680698003991048, 'max_depth': 6, 'max_bin': 202}\n",
      "===== Fold 0 =====\n",
      "Training until validation scores don't improve for 50 rounds.\n",
      "[100]\tvalidation_0's rmse: 1.17763\tvalidation_1's rmse: 1.06033\n",
      "[200]\tvalidation_0's rmse: 1.13243\tvalidation_1's rmse: 1.02607\n",
      "[300]\tvalidation_0's rmse: 1.09324\tvalidation_1's rmse: 0.996516\n",
      "[400]\tvalidation_0's rmse: 1.05924\tvalidation_1's rmse: 0.97159\n",
      "[500]\tvalidation_0's rmse: 1.03002\tvalidation_1's rmse: 0.9501\n",
      "[600]\tvalidation_0's rmse: 1.0047\tvalidation_1's rmse: 0.931305\n",
      "[700]\tvalidation_0's rmse: 0.982729\tvalidation_1's rmse: 0.915341\n",
      "[800]\tvalidation_0's rmse: 0.963776\tvalidation_1's rmse: 0.902234\n",
      "[900]\tvalidation_0's rmse: 0.947486\tvalidation_1's rmse: 0.891195\n",
      "[1000]\tvalidation_0's rmse: 0.933256\tvalidation_1's rmse: 0.881879\n",
      "Did not meet early stopping. Best iteration is:\n",
      "[1000]\tvalidation_0's rmse: 0.933256\tvalidation_1's rmse: 0.881879\n",
      "===== Fold 1 =====\n",
      "Training until validation scores don't improve for 50 rounds.\n",
      "[100]\tvalidation_0's rmse: 1.11897\tvalidation_1's rmse: 1.15\n",
      "[200]\tvalidation_0's rmse: 1.07783\tvalidation_1's rmse: 1.11742\n",
      "[300]\tvalidation_0's rmse: 1.04267\tvalidation_1's rmse: 1.08947\n",
      "[400]\tvalidation_0's rmse: 1.01255\tvalidation_1's rmse: 1.06549\n",
      "[500]\tvalidation_0's rmse: 0.986742\tvalidation_1's rmse: 1.04501\n",
      "[600]\tvalidation_0's rmse: 0.964553\tvalidation_1's rmse: 1.02775\n",
      "[700]\tvalidation_0's rmse: 0.945415\tvalidation_1's rmse: 1.01278\n",
      "[800]\tvalidation_0's rmse: 0.928948\tvalidation_1's rmse: 0.999523\n",
      "[900]\tvalidation_0's rmse: 0.914873\tvalidation_1's rmse: 0.988376\n",
      "[1000]\tvalidation_0's rmse: 0.902709\tvalidation_1's rmse: 0.978931\n",
      "Did not meet early stopping. Best iteration is:\n",
      "[1000]\tvalidation_0's rmse: 0.902709\tvalidation_1's rmse: 0.978931\n",
      "===== Fold 2 =====\n",
      "Training until validation scores don't improve for 50 rounds.\n",
      "[100]\tvalidation_0's rmse: 1.12754\tvalidation_1's rmse: 1.35836\n",
      "[200]\tvalidation_0's rmse: 1.08807\tvalidation_1's rmse: 1.31615\n",
      "[300]\tvalidation_0's rmse: 1.05436\tvalidation_1's rmse: 1.28013\n",
      "[400]\tvalidation_0's rmse: 1.02558\tvalidation_1's rmse: 1.24887\n",
      "[500]\tvalidation_0's rmse: 1.00089\tvalidation_1's rmse: 1.22153\n",
      "[600]\tvalidation_0's rmse: 0.979928\tvalidation_1's rmse: 1.19849\n",
      "[700]\tvalidation_0's rmse: 0.961989\tvalidation_1's rmse: 1.17886\n",
      "[800]\tvalidation_0's rmse: 0.946534\tvalidation_1's rmse: 1.16191\n",
      "[900]\tvalidation_0's rmse: 0.933284\tvalidation_1's rmse: 1.14735\n",
      "[1000]\tvalidation_0's rmse: 0.921887\tvalidation_1's rmse: 1.13456\n",
      "Did not meet early stopping. Best iteration is:\n",
      "[1000]\tvalidation_0's rmse: 0.921887\tvalidation_1's rmse: 1.13456\n",
      "===== Fold 3 =====\n",
      "Training until validation scores don't improve for 50 rounds.\n",
      "[100]\tvalidation_0's rmse: 1.18731\tvalidation_1's rmse: 1.04892\n",
      "[200]\tvalidation_0's rmse: 1.14569\tvalidation_1's rmse: 1.0099\n",
      "[300]\tvalidation_0's rmse: 1.11014\tvalidation_1's rmse: 0.977188\n",
      "[400]\tvalidation_0's rmse: 1.07973\tvalidation_1's rmse: 0.949843\n"
     ]
    },
    {
     "name": "stdout",
     "output_type": "stream",
     "text": [
      "[500]\tvalidation_0's rmse: 1.05363\tvalidation_1's rmse: 0.926854\n",
      "[600]\tvalidation_0's rmse: 1.03133\tvalidation_1's rmse: 0.907967\n",
      "[700]\tvalidation_0's rmse: 1.01223\tvalidation_1's rmse: 0.892088\n",
      "[800]\tvalidation_0's rmse: 0.995834\tvalidation_1's rmse: 0.8791\n",
      "[900]\tvalidation_0's rmse: 0.981809\tvalidation_1's rmse: 0.868345\n",
      "[1000]\tvalidation_0's rmse: 0.969759\tvalidation_1's rmse: 0.859493\n",
      "Did not meet early stopping. Best iteration is:\n",
      "[1000]\tvalidation_0's rmse: 0.969759\tvalidation_1's rmse: 0.859493\n",
      "===== Fold 4 =====\n",
      "Training until validation scores don't improve for 50 rounds.\n",
      "[100]\tvalidation_0's rmse: 1.16228\tvalidation_1's rmse: 1.03759\n",
      "[200]\tvalidation_0's rmse: 1.12212\tvalidation_1's rmse: 1.00341\n",
      "[300]\tvalidation_0's rmse: 1.08787\tvalidation_1's rmse: 0.974248\n",
      "[400]\tvalidation_0's rmse: 1.05857\tvalidation_1's rmse: 0.949382\n",
      "[500]\tvalidation_0's rmse: 1.03351\tvalidation_1's rmse: 0.928251\n",
      "[600]\tvalidation_0's rmse: 1.01198\tvalidation_1's rmse: 0.910252\n",
      "[700]\tvalidation_0's rmse: 0.993552\tvalidation_1's rmse: 0.894773\n",
      "[800]\tvalidation_0's rmse: 0.977813\tvalidation_1's rmse: 0.881528\n",
      "[900]\tvalidation_0's rmse: 0.96428\tvalidation_1's rmse: 0.870172\n",
      "[1000]\tvalidation_0's rmse: 0.952704\tvalidation_1's rmse: 0.860496\n",
      "Did not meet early stopping. Best iteration is:\n",
      "[1000]\tvalidation_0's rmse: 0.952704\tvalidation_1's rmse: 0.860496\n",
      "--- params ---\n",
      "{'scale_pos_weight': 13.495265569035297, 'reg_lambda': 4.848940538260304, 'min_child_weight': 182, 'colsample_bytree': 0.6724079878251978, 'subsample': 0.8297429686681106, 'max_depth': 7, 'max_bin': 204}\n",
      "===== Fold 0 =====\n",
      "Training until validation scores don't improve for 50 rounds.\n",
      "[100]\tvalidation_0's rmse: 1.17779\tvalidation_1's rmse: 1.06044\n",
      "[200]\tvalidation_0's rmse: 1.13261\tvalidation_1's rmse: 1.02627\n",
      "[300]\tvalidation_0's rmse: 1.09352\tvalidation_1's rmse: 0.996782\n",
      "[400]\tvalidation_0's rmse: 1.05949\tvalidation_1's rmse: 0.971914\n",
      "[500]\tvalidation_0's rmse: 1.03032\tvalidation_1's rmse: 0.950468\n",
      "[600]\tvalidation_0's rmse: 1.00497\tvalidation_1's rmse: 0.931666\n",
      "[700]\tvalidation_0's rmse: 0.982928\tvalidation_1's rmse: 0.915641\n",
      "[800]\tvalidation_0's rmse: 0.963917\tvalidation_1's rmse: 0.902414\n",
      "[900]\tvalidation_0's rmse: 0.947604\tvalidation_1's rmse: 0.891392\n",
      "[1000]\tvalidation_0's rmse: 0.933374\tvalidation_1's rmse: 0.88213\n",
      "Did not meet early stopping. Best iteration is:\n",
      "[1000]\tvalidation_0's rmse: 0.933374\tvalidation_1's rmse: 0.88213\n",
      "===== Fold 1 =====\n",
      "Training until validation scores don't improve for 50 rounds.\n",
      "[100]\tvalidation_0's rmse: 1.119\tvalidation_1's rmse: 1.14985\n",
      "[200]\tvalidation_0's rmse: 1.07788\tvalidation_1's rmse: 1.11708\n",
      "[300]\tvalidation_0's rmse: 1.04282\tvalidation_1's rmse: 1.08903\n",
      "[400]\tvalidation_0's rmse: 1.01276\tvalidation_1's rmse: 1.06503\n",
      "[500]\tvalidation_0's rmse: 0.986911\tvalidation_1's rmse: 1.04451\n",
      "[600]\tvalidation_0's rmse: 0.964755\tvalidation_1's rmse: 1.02737\n",
      "[700]\tvalidation_0's rmse: 0.94568\tvalidation_1's rmse: 1.01237\n",
      "[800]\tvalidation_0's rmse: 0.929254\tvalidation_1's rmse: 0.999199\n",
      "[900]\tvalidation_0's rmse: 0.915198\tvalidation_1's rmse: 0.988018\n",
      "[1000]\tvalidation_0's rmse: 0.903112\tvalidation_1's rmse: 0.978592\n",
      "Did not meet early stopping. Best iteration is:\n",
      "[1000]\tvalidation_0's rmse: 0.903112\tvalidation_1's rmse: 0.978592\n",
      "===== Fold 2 =====\n",
      "Training until validation scores don't improve for 50 rounds.\n",
      "[100]\tvalidation_0's rmse: 1.12745\tvalidation_1's rmse: 1.35842\n",
      "[200]\tvalidation_0's rmse: 1.08788\tvalidation_1's rmse: 1.31597\n",
      "[300]\tvalidation_0's rmse: 1.05415\tvalidation_1's rmse: 1.27986\n",
      "[400]\tvalidation_0's rmse: 1.02529\tvalidation_1's rmse: 1.24869\n",
      "[500]\tvalidation_0's rmse: 1.00051\tvalidation_1's rmse: 1.22146\n",
      "[600]\tvalidation_0's rmse: 0.979591\tvalidation_1's rmse: 1.19847\n",
      "[700]\tvalidation_0's rmse: 0.961576\tvalidation_1's rmse: 1.17871\n",
      "[800]\tvalidation_0's rmse: 0.946062\tvalidation_1's rmse: 1.16171\n",
      "[900]\tvalidation_0's rmse: 0.932808\tvalidation_1's rmse: 1.14709\n",
      "[1000]\tvalidation_0's rmse: 0.921401\tvalidation_1's rmse: 1.13418\n",
      "Did not meet early stopping. Best iteration is:\n",
      "[1000]\tvalidation_0's rmse: 0.921401\tvalidation_1's rmse: 1.13418\n",
      "===== Fold 3 =====\n",
      "Training until validation scores don't improve for 50 rounds.\n",
      "[100]\tvalidation_0's rmse: 1.18733\tvalidation_1's rmse: 1.04888\n",
      "[200]\tvalidation_0's rmse: 1.14569\tvalidation_1's rmse: 1.0099\n",
      "[300]\tvalidation_0's rmse: 1.11017\tvalidation_1's rmse: 0.977217\n",
      "[400]\tvalidation_0's rmse: 1.07978\tvalidation_1's rmse: 0.949877\n",
      "[500]\tvalidation_0's rmse: 1.05372\tvalidation_1's rmse: 0.926852\n",
      "[600]\tvalidation_0's rmse: 1.03145\tvalidation_1's rmse: 0.907925\n",
      "[700]\tvalidation_0's rmse: 1.01236\tvalidation_1's rmse: 0.892062\n",
      "[800]\tvalidation_0's rmse: 0.995962\tvalidation_1's rmse: 0.879014\n",
      "[900]\tvalidation_0's rmse: 0.981945\tvalidation_1's rmse: 0.86827\n",
      "[1000]\tvalidation_0's rmse: 0.969911\tvalidation_1's rmse: 0.859451\n",
      "Did not meet early stopping. Best iteration is:\n",
      "[1000]\tvalidation_0's rmse: 0.969911\tvalidation_1's rmse: 0.859451\n",
      "===== Fold 4 =====\n",
      "Training until validation scores don't improve for 50 rounds.\n",
      "[100]\tvalidation_0's rmse: 1.16226\tvalidation_1's rmse: 1.03763\n",
      "[200]\tvalidation_0's rmse: 1.12212\tvalidation_1's rmse: 1.00349\n",
      "[300]\tvalidation_0's rmse: 1.08787\tvalidation_1's rmse: 0.9744\n",
      "[400]\tvalidation_0's rmse: 1.05859\tvalidation_1's rmse: 0.949686\n",
      "[500]\tvalidation_0's rmse: 1.03354\tvalidation_1's rmse: 0.928583\n",
      "[600]\tvalidation_0's rmse: 1.01202\tvalidation_1's rmse: 0.91068\n",
      "[700]\tvalidation_0's rmse: 0.993587\tvalidation_1's rmse: 0.895237\n",
      "[800]\tvalidation_0's rmse: 0.977863\tvalidation_1's rmse: 0.882031\n",
      "[900]\tvalidation_0's rmse: 0.964378\tvalidation_1's rmse: 0.870821\n",
      "[1000]\tvalidation_0's rmse: 0.952798\tvalidation_1's rmse: 0.861194\n",
      "Did not meet early stopping. Best iteration is:\n",
      "[1000]\tvalidation_0's rmse: 0.952798\tvalidation_1's rmse: 0.861194\n",
      "--- params ---\n",
      "{'scale_pos_weight': 180.76989252716416, 'reg_lambda': 2.312002433305565, 'min_child_weight': 178, 'colsample_bytree': 0.7093874556039304, 'subsample': 0.6765656880604547, 'max_depth': 4, 'max_bin': 122}\n",
      "===== Fold 0 =====\n",
      "Training until validation scores don't improve for 50 rounds.\n",
      "[100]\tvalidation_0's rmse: 1.17772\tvalidation_1's rmse: 1.06043\n",
      "[200]\tvalidation_0's rmse: 1.13256\tvalidation_1's rmse: 1.02627\n",
      "[300]\tvalidation_0's rmse: 1.09342\tvalidation_1's rmse: 0.996772\n",
      "[400]\tvalidation_0's rmse: 1.05943\tvalidation_1's rmse: 0.971863\n",
      "[500]\tvalidation_0's rmse: 1.03026\tvalidation_1's rmse: 0.950405\n",
      "[600]\tvalidation_0's rmse: 1.00491\tvalidation_1's rmse: 0.931593\n",
      "[700]\tvalidation_0's rmse: 0.982914\tvalidation_1's rmse: 0.915523\n",
      "[800]\tvalidation_0's rmse: 0.963911\tvalidation_1's rmse: 0.902269\n",
      "[900]\tvalidation_0's rmse: 0.947531\tvalidation_1's rmse: 0.891096\n",
      "[1000]\tvalidation_0's rmse: 0.933288\tvalidation_1's rmse: 0.881835\n",
      "Did not meet early stopping. Best iteration is:\n",
      "[1000]\tvalidation_0's rmse: 0.933288\tvalidation_1's rmse: 0.881835\n",
      "===== Fold 1 =====\n",
      "Training until validation scores don't improve for 50 rounds.\n",
      "[100]\tvalidation_0's rmse: 1.11906\tvalidation_1's rmse: 1.15011\n",
      "[200]\tvalidation_0's rmse: 1.07805\tvalidation_1's rmse: 1.11768\n",
      "[300]\tvalidation_0's rmse: 1.04305\tvalidation_1's rmse: 1.08963\n",
      "[400]\tvalidation_0's rmse: 1.01301\tvalidation_1's rmse: 1.06565\n",
      "[500]\tvalidation_0's rmse: 0.987271\tvalidation_1's rmse: 1.04512\n",
      "[600]\tvalidation_0's rmse: 0.965161\tvalidation_1's rmse: 1.02783\n",
      "[700]\tvalidation_0's rmse: 0.946093\tvalidation_1's rmse: 1.01274\n",
      "[800]\tvalidation_0's rmse: 0.929583\tvalidation_1's rmse: 0.999632\n",
      "[900]\tvalidation_0's rmse: 0.915512\tvalidation_1's rmse: 0.988487\n",
      "[1000]\tvalidation_0's rmse: 0.903417\tvalidation_1's rmse: 0.979101\n",
      "Did not meet early stopping. Best iteration is:\n",
      "[1000]\tvalidation_0's rmse: 0.903417\tvalidation_1's rmse: 0.979101\n",
      "===== Fold 2 =====\n",
      "Training until validation scores don't improve for 50 rounds.\n",
      "[100]\tvalidation_0's rmse: 1.12754\tvalidation_1's rmse: 1.35842\n",
      "[200]\tvalidation_0's rmse: 1.08808\tvalidation_1's rmse: 1.31636\n",
      "[300]\tvalidation_0's rmse: 1.0544\tvalidation_1's rmse: 1.28036\n",
      "[400]\tvalidation_0's rmse: 1.02565\tvalidation_1's rmse: 1.24906\n",
      "[500]\tvalidation_0's rmse: 1.00099\tvalidation_1's rmse: 1.22188\n",
      "[600]\tvalidation_0's rmse: 0.980063\tvalidation_1's rmse: 1.19913\n",
      "[700]\tvalidation_0's rmse: 0.96214\tvalidation_1's rmse: 1.17951\n"
     ]
    },
    {
     "name": "stdout",
     "output_type": "stream",
     "text": [
      "[800]\tvalidation_0's rmse: 0.946666\tvalidation_1's rmse: 1.16255\n",
      "[900]\tvalidation_0's rmse: 0.933427\tvalidation_1's rmse: 1.14793\n",
      "[1000]\tvalidation_0's rmse: 0.92204\tvalidation_1's rmse: 1.13518\n",
      "Did not meet early stopping. Best iteration is:\n",
      "[1000]\tvalidation_0's rmse: 0.92204\tvalidation_1's rmse: 1.13518\n",
      "===== Fold 3 =====\n",
      "Training until validation scores don't improve for 50 rounds.\n",
      "[100]\tvalidation_0's rmse: 1.18729\tvalidation_1's rmse: 1.0483\n",
      "[200]\tvalidation_0's rmse: 1.14564\tvalidation_1's rmse: 1.00916\n",
      "[300]\tvalidation_0's rmse: 1.1101\tvalidation_1's rmse: 0.976454\n",
      "[400]\tvalidation_0's rmse: 1.0797\tvalidation_1's rmse: 0.949163\n",
      "[500]\tvalidation_0's rmse: 1.05359\tvalidation_1's rmse: 0.926177\n",
      "[600]\tvalidation_0's rmse: 1.03129\tvalidation_1's rmse: 0.907373\n",
      "[700]\tvalidation_0's rmse: 1.01218\tvalidation_1's rmse: 0.891486\n",
      "[800]\tvalidation_0's rmse: 0.995752\tvalidation_1's rmse: 0.878468\n",
      "[900]\tvalidation_0's rmse: 0.981715\tvalidation_1's rmse: 0.86773\n",
      "[1000]\tvalidation_0's rmse: 0.96967\tvalidation_1's rmse: 0.858918\n",
      "Did not meet early stopping. Best iteration is:\n",
      "[1000]\tvalidation_0's rmse: 0.96967\tvalidation_1's rmse: 0.858918\n",
      "===== Fold 4 =====\n",
      "Training until validation scores don't improve for 50 rounds.\n",
      "[100]\tvalidation_0's rmse: 1.16222\tvalidation_1's rmse: 1.0377\n",
      "[200]\tvalidation_0's rmse: 1.12208\tvalidation_1's rmse: 1.00355\n",
      "[300]\tvalidation_0's rmse: 1.08782\tvalidation_1's rmse: 0.974478\n",
      "[400]\tvalidation_0's rmse: 1.05856\tvalidation_1's rmse: 0.949751\n",
      "[500]\tvalidation_0's rmse: 1.03349\tvalidation_1's rmse: 0.928746\n",
      "[600]\tvalidation_0's rmse: 1.01197\tvalidation_1's rmse: 0.910752\n",
      "[700]\tvalidation_0's rmse: 0.993515\tvalidation_1's rmse: 0.895293\n",
      "[800]\tvalidation_0's rmse: 0.9778\tvalidation_1's rmse: 0.882086\n",
      "[900]\tvalidation_0's rmse: 0.964302\tvalidation_1's rmse: 0.870852\n",
      "[1000]\tvalidation_0's rmse: 0.952733\tvalidation_1's rmse: 0.861144\n",
      "Did not meet early stopping. Best iteration is:\n",
      "[1000]\tvalidation_0's rmse: 0.952733\tvalidation_1's rmse: 0.861144\n",
      "--- params ---\n",
      "{'scale_pos_weight': 357.7133799221014, 'reg_lambda': 3.119218082628714, 'min_child_weight': 69, 'colsample_bytree': 0.6447505055216364, 'subsample': 0.6189561085708415, 'max_depth': 4, 'max_bin': 101}\n",
      "===== Fold 0 =====\n",
      "Training until validation scores don't improve for 50 rounds.\n",
      "[100]\tvalidation_0's rmse: 1.17776\tvalidation_1's rmse: 1.06013\n",
      "[200]\tvalidation_0's rmse: 1.1326\tvalidation_1's rmse: 1.02609\n",
      "[300]\tvalidation_0's rmse: 1.09342\tvalidation_1's rmse: 0.996467\n",
      "[400]\tvalidation_0's rmse: 1.05939\tvalidation_1's rmse: 0.971584\n",
      "[500]\tvalidation_0's rmse: 1.03022\tvalidation_1's rmse: 0.950139\n",
      "[600]\tvalidation_0's rmse: 1.00487\tvalidation_1's rmse: 0.931406\n",
      "[700]\tvalidation_0's rmse: 0.982802\tvalidation_1's rmse: 0.915492\n",
      "[800]\tvalidation_0's rmse: 0.963815\tvalidation_1's rmse: 0.902398\n",
      "[900]\tvalidation_0's rmse: 0.947442\tvalidation_1's rmse: 0.891319\n",
      "[1000]\tvalidation_0's rmse: 0.933247\tvalidation_1's rmse: 0.88198\n",
      "Did not meet early stopping. Best iteration is:\n",
      "[1000]\tvalidation_0's rmse: 0.933247\tvalidation_1's rmse: 0.88198\n",
      "===== Fold 1 =====\n",
      "Training until validation scores don't improve for 50 rounds.\n",
      "[100]\tvalidation_0's rmse: 1.11906\tvalidation_1's rmse: 1.15026\n",
      "[200]\tvalidation_0's rmse: 1.07807\tvalidation_1's rmse: 1.11788\n",
      "[300]\tvalidation_0's rmse: 1.04306\tvalidation_1's rmse: 1.08981\n",
      "[400]\tvalidation_0's rmse: 1.01305\tvalidation_1's rmse: 1.06593\n",
      "[500]\tvalidation_0's rmse: 0.987259\tvalidation_1's rmse: 1.04536\n",
      "[600]\tvalidation_0's rmse: 0.965137\tvalidation_1's rmse: 1.02806\n",
      "[700]\tvalidation_0's rmse: 0.946034\tvalidation_1's rmse: 1.01287\n",
      "[800]\tvalidation_0's rmse: 0.92954\tvalidation_1's rmse: 0.999712\n",
      "[900]\tvalidation_0's rmse: 0.915476\tvalidation_1's rmse: 0.988534\n",
      "[1000]\tvalidation_0's rmse: 0.903317\tvalidation_1's rmse: 0.979089\n",
      "Did not meet early stopping. Best iteration is:\n",
      "[1000]\tvalidation_0's rmse: 0.903317\tvalidation_1's rmse: 0.979089\n",
      "===== Fold 2 =====\n",
      "Training until validation scores don't improve for 50 rounds.\n",
      "[100]\tvalidation_0's rmse: 1.12753\tvalidation_1's rmse: 1.35842\n",
      "[200]\tvalidation_0's rmse: 1.08809\tvalidation_1's rmse: 1.3164\n",
      "[300]\tvalidation_0's rmse: 1.05441\tvalidation_1's rmse: 1.28037\n",
      "[400]\tvalidation_0's rmse: 1.02566\tvalidation_1's rmse: 1.24918\n",
      "[500]\tvalidation_0's rmse: 1.00095\tvalidation_1's rmse: 1.22204\n",
      "[600]\tvalidation_0's rmse: 0.980029\tvalidation_1's rmse: 1.19912\n",
      "[700]\tvalidation_0's rmse: 0.962073\tvalidation_1's rmse: 1.17943\n",
      "[800]\tvalidation_0's rmse: 0.946578\tvalidation_1's rmse: 1.1624\n",
      "[900]\tvalidation_0's rmse: 0.933357\tvalidation_1's rmse: 1.14781\n",
      "[1000]\tvalidation_0's rmse: 0.922019\tvalidation_1's rmse: 1.1351\n",
      "Did not meet early stopping. Best iteration is:\n",
      "[1000]\tvalidation_0's rmse: 0.922019\tvalidation_1's rmse: 1.1351\n",
      "===== Fold 3 =====\n",
      "Training until validation scores don't improve for 50 rounds.\n",
      "[100]\tvalidation_0's rmse: 1.18734\tvalidation_1's rmse: 1.0489\n",
      "[200]\tvalidation_0's rmse: 1.14573\tvalidation_1's rmse: 1.00995\n",
      "[300]\tvalidation_0's rmse: 1.11023\tvalidation_1's rmse: 0.977256\n",
      "[600]\tvalidation_0's rmse: 1.03154\tvalidation_1's rmse: 0.908105\n",
      "[700]\tvalidation_0's rmse: 1.01246\tvalidation_1's rmse: 0.892179\n",
      "[800]\tvalidation_0's rmse: 0.996096\tvalidation_1's rmse: 0.879214\n",
      "[900]\tvalidation_0's rmse: 0.982071\tvalidation_1's rmse: 0.868473\n",
      "[1000]\tvalidation_0's rmse: 0.970031\tvalidation_1's rmse: 0.859636\n",
      "Did not meet early stopping. Best iteration is:\n",
      "[1000]\tvalidation_0's rmse: 0.970031\tvalidation_1's rmse: 0.859636\n",
      "===== Fold 4 =====\n",
      "Training until validation scores don't improve for 50 rounds.\n",
      "[100]\tvalidation_0's rmse: 1.16229\tvalidation_1's rmse: 1.03747\n",
      "[200]\tvalidation_0's rmse: 1.12218\tvalidation_1's rmse: 1.00326\n",
      "[300]\tvalidation_0's rmse: 1.08794\tvalidation_1's rmse: 0.974191\n",
      "[400]\tvalidation_0's rmse: 1.05867\tvalidation_1's rmse: 0.949449\n",
      "[500]\tvalidation_0's rmse: 1.03361\tvalidation_1's rmse: 0.928474\n",
      "[600]\tvalidation_0's rmse: 1.01204\tvalidation_1's rmse: 0.910449\n",
      "[700]\tvalidation_0's rmse: 0.993605\tvalidation_1's rmse: 0.894938\n",
      "[800]\tvalidation_0's rmse: 0.977878\tvalidation_1's rmse: 0.881802\n",
      "[900]\tvalidation_0's rmse: 0.964391\tvalidation_1's rmse: 0.870578\n",
      "[1000]\tvalidation_0's rmse: 0.952827\tvalidation_1's rmse: 0.86089\n",
      "Did not meet early stopping. Best iteration is:\n",
      "[1000]\tvalidation_0's rmse: 0.952827\tvalidation_1's rmse: 0.86089\n"
     ]
    },
    {
     "data": {
      "text/plain": [
       "'Best score=1.0089'"
      ]
     },
     "execution_count": 173,
     "metadata": {},
     "output_type": "execute_result"
    }
   ],
   "source": [
    "res_gp = gp_minimize(objective, lgb_space, n_calls=10, random_state=seed, n_random_starts=10)\n",
    "\n",
    "\"Best score=%.4f\" % res_gp.fun"
   ]
  },
  {
   "cell_type": "code",
   "execution_count": 174,
   "metadata": {
    "scrolled": true
   },
   "outputs": [
    {
     "data": {
      "text/plain": [
       "<matplotlib.axes._subplots.AxesSubplot at 0x7fe92ae41a20>"
      ]
     },
     "execution_count": 174,
     "metadata": {},
     "output_type": "execute_result"
    },
    {
     "data": {
      "image/png": "[encoded data removed]",
      "text/plain": [
       "<Figure size 432x288 with 1 Axes>"
      ]
     },
     "metadata": {
      "needs_background": "light"
     },
     "output_type": "display_data"
    }
   ],
   "source": [
    "from skopt.plots import plot_convergence\n",
    "plot_convergence(res_gp)"
   ]
  },
  {
   "cell_type": "code",
   "execution_count": 175,
   "metadata": {
    "collapsed": true
   },
   "outputs": [
    {
     "data": {
      "text/plain": [
       "[4,\n",
       " 130,\n",
       " 195.02460619317566,\n",
       " 0.7686997271683054,\n",
       " 0.6346565260900119,\n",
       " 3.3769098780033415,\n",
       " 190]"
      ]
     },
     "execution_count": 175,
     "metadata": {},
     "output_type": "execute_result"
    }
   ],
   "source": [
    "res_gp.x"
   ]
  }
 ],
 "metadata": {
  "kernelspec": {
   "display_name": "Python 3",
   "language": "python",
   "name": "python3"
  },
  "language_info": {
   "codemirror_mode": {
    "name": "ipython",
    "version": 3
   },
   "file_extension": ".py",
   "mimetype": "text/x-python",
   "name": "python",
   "nbconvert_exporter": "python",
   "pygments_lexer": "ipython3",
   "version": "3.5.2"
  }
 },
 "nbformat": 4,
 "nbformat_minor": 2
}

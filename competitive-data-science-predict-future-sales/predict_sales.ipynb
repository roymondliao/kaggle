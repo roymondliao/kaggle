{
 "cells": [
  {
   "cell_type": "code",
   "execution_count": 1,
   "metadata": {},
   "outputs": [],
   "source": [
    "import warnings\n",
    "warnings.filterwarnings('ignore')\n",
    "\n",
    "import gc\n",
    "import pickle\n",
    "import numpy as np\n",
    "import pandas as pd\n",
    "import matplotlib.pyplot as plt\n",
    "\n",
    "from tqdm import tqdm_notebook as tqdm\n",
    "from itertools import product\n",
    "from xgboost import XGBRegressor\n",
    "from sklearn.metrics import mean_squared_error\n",
    "from sklearn.linear_model import LinearRegression\n",
    "from sklearn.ensemble import RandomForestRegressor\n",
    "\n",
    "from IPython.display import display\n",
    "\n",
    "%matplotlib inline"
   ]
  },
  {
   "cell_type": "code",
   "execution_count": 2,
   "metadata": {},
   "outputs": [],
   "source": [
    "# Helper functions\n",
    "\n",
    "def rmse(*args):\n",
    "    return np.sqrt(mean_squared_error(*args))\n",
    "\n",
    "def downcast_dtypes(df):\n",
    "    \n",
    "    # Select columns to downcast\n",
    "    float_cols = [c for c in df if df[c].dtype == \"float64\"]\n",
    "    int_cols =   [c for c in df if df[c].dtype == \"int64\"]\n",
    "    \n",
    "    # Downcast\n",
    "    df[float_cols] = df[float_cols].astype(np.float32)\n",
    "    df[int_cols]   = df[int_cols].astype(np.int32)\n",
    "    \n",
    "    return df"
   ]
  },
  {
   "cell_type": "code",
   "execution_count": 3,
   "metadata": {},
   "outputs": [],
   "source": [
    "sales = pd.read_csv('competition_data/sales_train_v2.csv')\n",
    "shops = pd.read_csv('competition_data/shops.csv')\n",
    "items = pd.read_csv('competition_data/items.csv')\n",
    "item_cats = pd.read_csv('competition_data/item_categories.csv')\n",
    "test_data = pd.read_csv('competition_data/test.csv')"
   ]
  },
  {
   "cell_type": "code",
   "execution_count": 4,
   "metadata": {},
   "outputs": [
    {
     "data": {
      "text/html": [
       "<div>\n",
       "<style scoped>\n",
       "    .dataframe tbody tr th:only-of-type {\n",
       "        vertical-align: middle;\n",
       "    }\n",
       "\n",
       "    .dataframe tbody tr th {\n",
       "        vertical-align: top;\n",
       "    }\n",
       "\n",
       "    .dataframe thead th {\n",
       "        text-align: right;\n",
       "    }\n",
       "</style>\n",
       "<table border=\"1\" class=\"dataframe\">\n",
       "  <thead>\n",
       "    <tr style=\"text-align: right;\">\n",
       "      <th></th>\n",
       "      <th>date</th>\n",
       "      <th>date_block_num</th>\n",
       "      <th>shop_id</th>\n",
       "      <th>item_id</th>\n",
       "      <th>item_price</th>\n",
       "      <th>item_cnt_day</th>\n",
       "    </tr>\n",
       "  </thead>\n",
       "  <tbody>\n",
       "    <tr>\n",
       "      <th>0</th>\n",
       "      <td>02.01.2013</td>\n",
       "      <td>0</td>\n",
       "      <td>59</td>\n",
       "      <td>22154</td>\n",
       "      <td>999.00</td>\n",
       "      <td>1.0</td>\n",
       "    </tr>\n",
       "    <tr>\n",
       "      <th>1</th>\n",
       "      <td>03.01.2013</td>\n",
       "      <td>0</td>\n",
       "      <td>25</td>\n",
       "      <td>2552</td>\n",
       "      <td>899.00</td>\n",
       "      <td>1.0</td>\n",
       "    </tr>\n",
       "    <tr>\n",
       "      <th>2</th>\n",
       "      <td>05.01.2013</td>\n",
       "      <td>0</td>\n",
       "      <td>25</td>\n",
       "      <td>2552</td>\n",
       "      <td>899.00</td>\n",
       "      <td>-1.0</td>\n",
       "    </tr>\n",
       "    <tr>\n",
       "      <th>3</th>\n",
       "      <td>06.01.2013</td>\n",
       "      <td>0</td>\n",
       "      <td>25</td>\n",
       "      <td>2554</td>\n",
       "      <td>1709.05</td>\n",
       "      <td>1.0</td>\n",
       "    </tr>\n",
       "    <tr>\n",
       "      <th>4</th>\n",
       "      <td>15.01.2013</td>\n",
       "      <td>0</td>\n",
       "      <td>25</td>\n",
       "      <td>2555</td>\n",
       "      <td>1099.00</td>\n",
       "      <td>1.0</td>\n",
       "    </tr>\n",
       "  </tbody>\n",
       "</table>\n",
       "</div>"
      ],
      "text/plain": [
       "         date  date_block_num  shop_id  item_id  item_price  item_cnt_day\n",
       "0  02.01.2013               0       59    22154      999.00           1.0\n",
       "1  03.01.2013               0       25     2552      899.00           1.0\n",
       "2  05.01.2013               0       25     2552      899.00          -1.0\n",
       "3  06.01.2013               0       25     2554     1709.05           1.0\n",
       "4  15.01.2013               0       25     2555     1099.00           1.0"
      ]
     },
     "metadata": {},
     "output_type": "display_data"
    },
    {
     "data": {
      "text/html": [
       "<div>\n",
       "<style scoped>\n",
       "    .dataframe tbody tr th:only-of-type {\n",
       "        vertical-align: middle;\n",
       "    }\n",
       "\n",
       "    .dataframe tbody tr th {\n",
       "        vertical-align: top;\n",
       "    }\n",
       "\n",
       "    .dataframe thead th {\n",
       "        text-align: right;\n",
       "    }\n",
       "</style>\n",
       "<table border=\"1\" class=\"dataframe\">\n",
       "  <thead>\n",
       "    <tr style=\"text-align: right;\">\n",
       "      <th></th>\n",
       "      <th>shop_name</th>\n",
       "      <th>shop_id</th>\n",
       "    </tr>\n",
       "  </thead>\n",
       "  <tbody>\n",
       "    <tr>\n",
       "      <th>0</th>\n",
       "      <td>!Якутск Орджоникидзе, 56 фран</td>\n",
       "      <td>0</td>\n",
       "    </tr>\n",
       "    <tr>\n",
       "      <th>1</th>\n",
       "      <td>!Якутск ТЦ \"Центральный\" фран</td>\n",
       "      <td>1</td>\n",
       "    </tr>\n",
       "    <tr>\n",
       "      <th>2</th>\n",
       "      <td>Адыгея ТЦ \"Мега\"</td>\n",
       "      <td>2</td>\n",
       "    </tr>\n",
       "    <tr>\n",
       "      <th>3</th>\n",
       "      <td>Балашиха ТРК \"Октябрь-Киномир\"</td>\n",
       "      <td>3</td>\n",
       "    </tr>\n",
       "    <tr>\n",
       "      <th>4</th>\n",
       "      <td>Волжский ТЦ \"Волга Молл\"</td>\n",
       "      <td>4</td>\n",
       "    </tr>\n",
       "  </tbody>\n",
       "</table>\n",
       "</div>"
      ],
      "text/plain": [
       "                        shop_name  shop_id\n",
       "0   !Якутск Орджоникидзе, 56 фран        0\n",
       "1   !Якутск ТЦ \"Центральный\" фран        1\n",
       "2                Адыгея ТЦ \"Мега\"        2\n",
       "3  Балашиха ТРК \"Октябрь-Киномир\"        3\n",
       "4        Волжский ТЦ \"Волга Молл\"        4"
      ]
     },
     "metadata": {},
     "output_type": "display_data"
    },
    {
     "data": {
      "text/html": [
       "<div>\n",
       "<style scoped>\n",
       "    .dataframe tbody tr th:only-of-type {\n",
       "        vertical-align: middle;\n",
       "    }\n",
       "\n",
       "    .dataframe tbody tr th {\n",
       "        vertical-align: top;\n",
       "    }\n",
       "\n",
       "    .dataframe thead th {\n",
       "        text-align: right;\n",
       "    }\n",
       "</style>\n",
       "<table border=\"1\" class=\"dataframe\">\n",
       "  <thead>\n",
       "    <tr style=\"text-align: right;\">\n",
       "      <th></th>\n",
       "      <th>item_name</th>\n",
       "      <th>item_id</th>\n",
       "      <th>item_category_id</th>\n",
       "    </tr>\n",
       "  </thead>\n",
       "  <tbody>\n",
       "    <tr>\n",
       "      <th>0</th>\n",
       "      <td>! ВО ВЛАСТИ НАВАЖДЕНИЯ (ПЛАСТ.)         D</td>\n",
       "      <td>0</td>\n",
       "      <td>40</td>\n",
       "    </tr>\n",
       "    <tr>\n",
       "      <th>1</th>\n",
       "      <td>!ABBYY FineReader 12 Professional Edition Full...</td>\n",
       "      <td>1</td>\n",
       "      <td>76</td>\n",
       "    </tr>\n",
       "    <tr>\n",
       "      <th>2</th>\n",
       "      <td>***В ЛУЧАХ СЛАВЫ   (UNV)                    D</td>\n",
       "      <td>2</td>\n",
       "      <td>40</td>\n",
       "    </tr>\n",
       "    <tr>\n",
       "      <th>3</th>\n",
       "      <td>***ГОЛУБАЯ ВОЛНА  (Univ)                      D</td>\n",
       "      <td>3</td>\n",
       "      <td>40</td>\n",
       "    </tr>\n",
       "    <tr>\n",
       "      <th>4</th>\n",
       "      <td>***КОРОБКА (СТЕКЛО)                       D</td>\n",
       "      <td>4</td>\n",
       "      <td>40</td>\n",
       "    </tr>\n",
       "  </tbody>\n",
       "</table>\n",
       "</div>"
      ],
      "text/plain": [
       "                                           item_name  item_id  \\\n",
       "0          ! ВО ВЛАСТИ НАВАЖДЕНИЯ (ПЛАСТ.)         D        0   \n",
       "1  !ABBYY FineReader 12 Professional Edition Full...        1   \n",
       "2      ***В ЛУЧАХ СЛАВЫ   (UNV)                    D        2   \n",
       "3    ***ГОЛУБАЯ ВОЛНА  (Univ)                      D        3   \n",
       "4        ***КОРОБКА (СТЕКЛО)                       D        4   \n",
       "\n",
       "   item_category_id  \n",
       "0                40  \n",
       "1                76  \n",
       "2                40  \n",
       "3                40  \n",
       "4                40  "
      ]
     },
     "metadata": {},
     "output_type": "display_data"
    },
    {
     "data": {
      "text/html": [
       "<div>\n",
       "<style scoped>\n",
       "    .dataframe tbody tr th:only-of-type {\n",
       "        vertical-align: middle;\n",
       "    }\n",
       "\n",
       "    .dataframe tbody tr th {\n",
       "        vertical-align: top;\n",
       "    }\n",
       "\n",
       "    .dataframe thead th {\n",
       "        text-align: right;\n",
       "    }\n",
       "</style>\n",
       "<table border=\"1\" class=\"dataframe\">\n",
       "  <thead>\n",
       "    <tr style=\"text-align: right;\">\n",
       "      <th></th>\n",
       "      <th>item_category_name</th>\n",
       "      <th>item_category_id</th>\n",
       "    </tr>\n",
       "  </thead>\n",
       "  <tbody>\n",
       "    <tr>\n",
       "      <th>0</th>\n",
       "      <td>PC - Гарнитуры/Наушники</td>\n",
       "      <td>0</td>\n",
       "    </tr>\n",
       "    <tr>\n",
       "      <th>1</th>\n",
       "      <td>Аксессуары - PS2</td>\n",
       "      <td>1</td>\n",
       "    </tr>\n",
       "    <tr>\n",
       "      <th>2</th>\n",
       "      <td>Аксессуары - PS3</td>\n",
       "      <td>2</td>\n",
       "    </tr>\n",
       "    <tr>\n",
       "      <th>3</th>\n",
       "      <td>Аксессуары - PS4</td>\n",
       "      <td>3</td>\n",
       "    </tr>\n",
       "    <tr>\n",
       "      <th>4</th>\n",
       "      <td>Аксессуары - PSP</td>\n",
       "      <td>4</td>\n",
       "    </tr>\n",
       "  </tbody>\n",
       "</table>\n",
       "</div>"
      ],
      "text/plain": [
       "        item_category_name  item_category_id\n",
       "0  PC - Гарнитуры/Наушники                 0\n",
       "1         Аксессуары - PS2                 1\n",
       "2         Аксессуары - PS3                 2\n",
       "3         Аксессуары - PS4                 3\n",
       "4         Аксессуары - PSP                 4"
      ]
     },
     "metadata": {},
     "output_type": "display_data"
    },
    {
     "data": {
      "text/html": [
       "<div>\n",
       "<style scoped>\n",
       "    .dataframe tbody tr th:only-of-type {\n",
       "        vertical-align: middle;\n",
       "    }\n",
       "\n",
       "    .dataframe tbody tr th {\n",
       "        vertical-align: top;\n",
       "    }\n",
       "\n",
       "    .dataframe thead th {\n",
       "        text-align: right;\n",
       "    }\n",
       "</style>\n",
       "<table border=\"1\" class=\"dataframe\">\n",
       "  <thead>\n",
       "    <tr style=\"text-align: right;\">\n",
       "      <th></th>\n",
       "      <th>ID</th>\n",
       "      <th>shop_id</th>\n",
       "      <th>item_id</th>\n",
       "    </tr>\n",
       "  </thead>\n",
       "  <tbody>\n",
       "    <tr>\n",
       "      <th>0</th>\n",
       "      <td>0</td>\n",
       "      <td>5</td>\n",
       "      <td>5037</td>\n",
       "    </tr>\n",
       "    <tr>\n",
       "      <th>1</th>\n",
       "      <td>1</td>\n",
       "      <td>5</td>\n",
       "      <td>5320</td>\n",
       "    </tr>\n",
       "    <tr>\n",
       "      <th>2</th>\n",
       "      <td>2</td>\n",
       "      <td>5</td>\n",
       "      <td>5233</td>\n",
       "    </tr>\n",
       "    <tr>\n",
       "      <th>3</th>\n",
       "      <td>3</td>\n",
       "      <td>5</td>\n",
       "      <td>5232</td>\n",
       "    </tr>\n",
       "    <tr>\n",
       "      <th>4</th>\n",
       "      <td>4</td>\n",
       "      <td>5</td>\n",
       "      <td>5268</td>\n",
       "    </tr>\n",
       "  </tbody>\n",
       "</table>\n",
       "</div>"
      ],
      "text/plain": [
       "   ID  shop_id  item_id\n",
       "0   0        5     5037\n",
       "1   1        5     5320\n",
       "2   2        5     5233\n",
       "3   3        5     5232\n",
       "4   4        5     5268"
      ]
     },
     "metadata": {},
     "output_type": "display_data"
    }
   ],
   "source": [
    "display(sales.head())\n",
    "display(shops.head())\n",
    "display(items.head())\n",
    "display(item_cats.head())\n",
    "display(test_data.head())"
   ]
  },
  {
   "cell_type": "markdown",
   "metadata": {},
   "source": [
    "# EDA\n"
   ]
  },
  {
   "cell_type": "code",
   "execution_count": 5,
   "metadata": {},
   "outputs": [
    {
     "data": {
      "text/plain": [
       "<matplotlib.axes._subplots.AxesSubplot at 0x7ff4873ce668>"
      ]
     },
     "execution_count": 5,
     "metadata": {},
     "output_type": "execute_result"
    },
    {
     "data": {
      "image/png": "[encoded data removed]",
      "text/plain": [
       "<Figure size 432x288 with 1 Axes>"
      ]
     },
     "metadata": {
      "needs_background": "light"
     },
     "output_type": "display_data"
    }
   ],
   "source": [
    "# Visualization of the selling trend (we can see spikes during christmas but overall lowering trend of buying)\n",
    "sales.groupby(['date_block_num']).sum()['item_cnt_day'].plot()"
   ]
  },
  {
   "cell_type": "code",
   "execution_count": 6,
   "metadata": {},
   "outputs": [
    {
     "data": {
      "text/plain": [
       "<matplotlib.axes._subplots.AxesSubplot at 0x7ff4872fc2e8>"
      ]
     },
     "execution_count": 6,
     "metadata": {},
     "output_type": "execute_result"
    },
    {
     "data": {
      "image/png": "[encoded data removed]",
      "text/plain": [
       "<Figure size 432x288 with 1 Axes>"
      ]
     },
     "metadata": {
      "needs_background": "light"
     },
     "output_type": "display_data"
    }
   ],
   "source": [
    "# Similar pattern for prices can be seen here\n",
    "sales.groupby(['date_block_num']).sum()['item_price'].plot()"
   ]
  },
  {
   "cell_type": "code",
   "execution_count": 7,
   "metadata": {},
   "outputs": [
    {
     "data": {
      "text/plain": [
       "<matplotlib.collections.PathCollection at 0x7ff486e0b6d8>"
      ]
     },
     "execution_count": 7,
     "metadata": {},
     "output_type": "execute_result"
    },
    {
     "data": {
      "image/png": "[encoded data removed]",
      "text/plain": [
       "<Figure size 432x288 with 1 Axes>"
      ]
     },
     "metadata": {
      "needs_background": "light"
     },
     "output_type": "display_data"
    }
   ],
   "source": [
    "# There appears to be some outliers in the data\n",
    "plt.scatter(sales['item_price'], sales['item_cnt_day'])"
   ]
  },
  {
   "cell_type": "code",
   "execution_count": 8,
   "metadata": {},
   "outputs": [
    {
     "name": "stdout",
     "output_type": "stream",
     "text": [
      "2169.0\n",
      "307980.0\n"
     ]
    }
   ],
   "source": [
    "outlier_item_cnt_day = sales.item_cnt_day.max()\n",
    "outlier_item_price = sales.item_price.max()\n",
    "print(outlier_item_cnt_day)\n",
    "print(outlier_item_price)"
   ]
  },
  {
   "cell_type": "markdown",
   "metadata": {},
   "source": [
    "# Data leak"
   ]
  },
  {
   "cell_type": "code",
   "execution_count": 9,
   "metadata": {},
   "outputs": [],
   "source": [
    "train_ids = sales.drop_duplicates(['shop_id', 'item_id'])[['shop_id', 'item_id']]\n",
    "test_ids = test_data.drop_duplicates(['shop_id', 'item_id'])[['shop_id', 'item_id']]\n",
    "train_ids = {(shop, item) for shop, item in train_ids.values}\n",
    "test_ids = {(shop, item) for shop, item in test_ids.values}"
   ]
  },
  {
   "cell_type": "code",
   "execution_count": 10,
   "metadata": {},
   "outputs": [
    {
     "name": "stdout",
     "output_type": "stream",
     "text": [
      "Unique shop-item id combinations in train set 424124\n",
      "Unique shop-item id combinations in test set 214200\n",
      "Intersection of shop-item ids in both train and test 111404\n",
      "New shop-item id combination for which we don't have labels 102796\n"
     ]
    }
   ],
   "source": [
    "print('Unique shop-item id combinations in train set {}'.format(len(train_ids)))\n",
    "print('Unique shop-item id combinations in test set {}'.format(len(test_ids)))\n",
    "print('Intersection of shop-item ids in both train and test {}'.format(len(train_ids.intersection(test_ids))))\n",
    "print('New shop-item id combination for which we don\\'t have labels {}'.format(len(test_ids - train_ids)))"
   ]
  },
  {
   "cell_type": "markdown",
   "metadata": {},
   "source": [
    "# Feature Engineering"
   ]
  },
  {
   "cell_type": "code",
   "execution_count": 11,
   "metadata": {},
   "outputs": [
    {
     "data": {
      "application/vnd.jupyter.widget-view+json": {
       "model_id": "9965d7b07469437dae2b11196cd61ec6",
       "version_major": 2,
       "version_minor": 0
      },
      "text/plain": [
       "HBox(children=(IntProgress(value=0, max=3), HTML(value='')))"
      ]
     },
     "metadata": {},
     "output_type": "display_data"
    },
    {
     "name": "stdout",
     "output_type": "stream",
     "text": [
      "\n"
     ]
    }
   ],
   "source": [
    "# Columns used for merging\n",
    "index_cols = ['shop_id', 'item_id', 'date_block_num']\n",
    "\n",
    "# Exploiting data leak (we're only interested in item ids that are in both test and train sets)\n",
    "sales = sales[sales.item_id.isin(test_data.item_id)]\n",
    "\n",
    "# For every month we create a matrix from all shops/items combinations from that month\n",
    "matrix = [] \n",
    "new_items = pd.DataFrame()\n",
    "cur_items_aux=np.array([])\n",
    "for block_num in sales['date_block_num'].unique():\n",
    "    cur_shops = sales.loc[sales['date_block_num'] == block_num, 'shop_id'].unique()\n",
    "    cur_items = sales.loc[sales['date_block_num'] == block_num, 'item_id'].append(pd.Series(cur_items_aux)).unique()\n",
    "    cur_items_aux = cur_items[pd.Series(cur_items).isin(test_data.item_id)]\n",
    "    matrix.append(np.array(list(product(*[cur_shops, cur_items, [block_num]])),dtype='int32'))\n",
    "\n",
    "# Convert matrix into a dataframe\n",
    "matrix = pd.DataFrame(np.vstack(matrix), columns = index_cols,dtype=np.int32)\n",
    "\n",
    "# Add test data that represents following month (34) to our matrix \n",
    "test_data['date_block_num'] = 34\n",
    "matrix = matrix.append(test_data[['shop_id', 'item_id', 'date_block_num']])\n",
    "\n",
    "# Add target column to our accumulated data (amount if items sold by specific shop in the specific month)\n",
    "gb = sales.groupby(index_cols,as_index=False).agg({'item_cnt_day':{'target':'sum'}})\n",
    "gb.columns = [col[0] if col[-1]=='' else col[-1] for col in gb.columns.values] \n",
    "all_data = pd.merge(matrix, gb, how='left', on=index_cols).fillna(0)\n",
    "\n",
    "# Add target shop column that represents specific shop monthly sales\n",
    "gb = sales.groupby(['shop_id', 'date_block_num'],as_index=False).agg({'item_cnt_day':{'target_shop':'sum'}})\n",
    "gb.columns = [col[0] if col[-1]=='' else col[-1] for col in gb.columns.values]\n",
    "all_data = pd.merge(all_data, gb, how='left', on=['shop_id', 'date_block_num']).fillna(0)\n",
    "\n",
    "# Add target item column that represents how many times specific item was sold in specific month\n",
    "gb = sales.groupby(['item_id', 'date_block_num'],as_index=False).agg({'item_cnt_day':{'target_item':'sum'}})\n",
    "gb.columns = [col[0] if col[-1] == '' else col[-1] for col in gb.columns.values]\n",
    "all_data = pd.merge(all_data, gb, how='left', on=['item_id', 'date_block_num']).fillna(0)\n",
    "\n",
    "# Convert all 64 bit data types to 32 bit in order to decrease memory usage\n",
    "all_data = downcast_dtypes(all_data)\n",
    "del matrix, gb \n",
    "gc.collect()\n",
    " \n",
    "# Here we create a set of powerful features -> lags (values of specific columns back in time e.g. lag 1 = value that was here previous month)\n",
    "\n",
    "# We go back 3 month at max\n",
    "lag_range = [1, 2, 3]\n",
    "\n",
    "# List of columns used for lags\n",
    "cols_to_rename = list(all_data.columns.difference(index_cols))\n",
    "\n",
    "for month_lag in tqdm(lag_range):\n",
    "    train_lag = all_data[index_cols + cols_to_rename].copy()\n",
    "    train_lag['date_block_num'] = train_lag['date_block_num'] + month_lag\n",
    "    fun = lambda x: '{}_lag_{}'.format(x, month_lag) if x in cols_to_rename else x\n",
    "    train_lag = train_lag.rename(columns=fun)\n",
    "    all_data = pd.merge(all_data, train_lag, on=index_cols, how='left').fillna(0)\n",
    "\n",
    "del train_lag\n",
    "\n",
    "# We won't use old data from year 2013\n",
    "all_data = all_data[all_data['date_block_num'] >= 12] \n",
    "\n",
    "# List of all lagged features\n",
    "fit_cols = [col for col in all_data.columns if col[-1] in [str(item) for item in lag_range]] \n",
    "# We will drop these at fitting stage\n",
    "to_drop_cols = list(set(list(all_data.columns)) - (set(fit_cols)|set(index_cols))) + ['date_block_num'] \n",
    "\n",
    "# Category for each item\n",
    "item_category_mapping = items[['item_id','item_category_id']].drop_duplicates()\n",
    "\n",
    "all_data = pd.merge(all_data, item_category_mapping, how='left', on='item_id')\n",
    "all_data = downcast_dtypes(all_data)\n",
    "gc.collect();"
   ]
  },
  {
   "cell_type": "code",
   "execution_count": 12,
   "metadata": {},
   "outputs": [],
   "source": [
    "# Mean encoded features\n",
    "\n",
    "mean_encoded_item_cats = pd.DataFrame(all_data.groupby(['shop_id','item_category_id']).target.agg(['mean', 'var']).reset_index())\n",
    "mean_encoded_item_cats.columns = ['shop_id', 'item_category_id', 'mean_enc_cat_id', 'var_enc_cat_id']\n",
    "all_data = pd.merge(all_data, mean_encoded_item_cats, how='left', on=['shop_id', 'item_category_id'])\n",
    "\n",
    "del mean_encoded_item_cats\n",
    "all_data = downcast_dtypes(all_data)"
   ]
  },
  {
   "cell_type": "code",
   "execution_count": 13,
   "metadata": {},
   "outputs": [
    {
     "data": {
      "text/html": [
       "<div>\n",
       "<style scoped>\n",
       "    .dataframe tbody tr th:only-of-type {\n",
       "        vertical-align: middle;\n",
       "    }\n",
       "\n",
       "    .dataframe tbody tr th {\n",
       "        vertical-align: top;\n",
       "    }\n",
       "\n",
       "    .dataframe thead th {\n",
       "        text-align: right;\n",
       "    }\n",
       "</style>\n",
       "<table border=\"1\" class=\"dataframe\">\n",
       "  <thead>\n",
       "    <tr style=\"text-align: right;\">\n",
       "      <th></th>\n",
       "      <th>shop_id</th>\n",
       "      <th>item_id</th>\n",
       "      <th>date_block_num</th>\n",
       "      <th>target</th>\n",
       "      <th>target_shop</th>\n",
       "      <th>target_item</th>\n",
       "      <th>target_lag_1</th>\n",
       "      <th>target_item_lag_1</th>\n",
       "      <th>target_shop_lag_1</th>\n",
       "      <th>target_lag_2</th>\n",
       "      <th>target_item_lag_2</th>\n",
       "      <th>target_shop_lag_2</th>\n",
       "      <th>target_lag_3</th>\n",
       "      <th>target_item_lag_3</th>\n",
       "      <th>target_shop_lag_3</th>\n",
       "      <th>item_category_id</th>\n",
       "      <th>mean_enc_cat_id</th>\n",
       "      <th>var_enc_cat_id</th>\n",
       "    </tr>\n",
       "  </thead>\n",
       "  <tbody>\n",
       "    <tr>\n",
       "      <th>0</th>\n",
       "      <td>54</td>\n",
       "      <td>10297</td>\n",
       "      <td>12</td>\n",
       "      <td>4.0</td>\n",
       "      <td>3416.0</td>\n",
       "      <td>23.0</td>\n",
       "      <td>3.0</td>\n",
       "      <td>42.0</td>\n",
       "      <td>4282.0</td>\n",
       "      <td>0.0</td>\n",
       "      <td>2.0</td>\n",
       "      <td>3085.0</td>\n",
       "      <td>0.0</td>\n",
       "      <td>0.0</td>\n",
       "      <td>0.0</td>\n",
       "      <td>37</td>\n",
       "      <td>0.512281</td>\n",
       "      <td>2.742767</td>\n",
       "    </tr>\n",
       "    <tr>\n",
       "      <th>1</th>\n",
       "      <td>54</td>\n",
       "      <td>10298</td>\n",
       "      <td>12</td>\n",
       "      <td>14.0</td>\n",
       "      <td>3416.0</td>\n",
       "      <td>182.0</td>\n",
       "      <td>21.0</td>\n",
       "      <td>369.0</td>\n",
       "      <td>4282.0</td>\n",
       "      <td>119.0</td>\n",
       "      <td>1309.0</td>\n",
       "      <td>3085.0</td>\n",
       "      <td>7.0</td>\n",
       "      <td>144.0</td>\n",
       "      <td>2464.0</td>\n",
       "      <td>40</td>\n",
       "      <td>1.120868</td>\n",
       "      <td>10.631319</td>\n",
       "    </tr>\n",
       "    <tr>\n",
       "      <th>2</th>\n",
       "      <td>54</td>\n",
       "      <td>10300</td>\n",
       "      <td>12</td>\n",
       "      <td>3.0</td>\n",
       "      <td>3416.0</td>\n",
       "      <td>26.0</td>\n",
       "      <td>1.0</td>\n",
       "      <td>54.0</td>\n",
       "      <td>4282.0</td>\n",
       "      <td>31.0</td>\n",
       "      <td>361.0</td>\n",
       "      <td>3085.0</td>\n",
       "      <td>0.0</td>\n",
       "      <td>53.0</td>\n",
       "      <td>2464.0</td>\n",
       "      <td>37</td>\n",
       "      <td>0.512281</td>\n",
       "      <td>2.742767</td>\n",
       "    </tr>\n",
       "    <tr>\n",
       "      <th>3</th>\n",
       "      <td>54</td>\n",
       "      <td>10292</td>\n",
       "      <td>12</td>\n",
       "      <td>9.0</td>\n",
       "      <td>3416.0</td>\n",
       "      <td>93.0</td>\n",
       "      <td>8.0</td>\n",
       "      <td>156.0</td>\n",
       "      <td>4282.0</td>\n",
       "      <td>16.0</td>\n",
       "      <td>203.0</td>\n",
       "      <td>3085.0</td>\n",
       "      <td>15.0</td>\n",
       "      <td>279.0</td>\n",
       "      <td>2464.0</td>\n",
       "      <td>40</td>\n",
       "      <td>1.120868</td>\n",
       "      <td>10.631319</td>\n",
       "    </tr>\n",
       "    <tr>\n",
       "      <th>4</th>\n",
       "      <td>54</td>\n",
       "      <td>10143</td>\n",
       "      <td>12</td>\n",
       "      <td>1.0</td>\n",
       "      <td>3416.0</td>\n",
       "      <td>12.0</td>\n",
       "      <td>1.0</td>\n",
       "      <td>18.0</td>\n",
       "      <td>4282.0</td>\n",
       "      <td>0.0</td>\n",
       "      <td>2.0</td>\n",
       "      <td>3085.0</td>\n",
       "      <td>0.0</td>\n",
       "      <td>0.0</td>\n",
       "      <td>0.0</td>\n",
       "      <td>55</td>\n",
       "      <td>0.902726</td>\n",
       "      <td>2.715576</td>\n",
       "    </tr>\n",
       "  </tbody>\n",
       "</table>\n",
       "</div>"
      ],
      "text/plain": [
       "   shop_id  item_id  date_block_num  target  target_shop  target_item  \\\n",
       "0       54    10297              12     4.0       3416.0         23.0   \n",
       "1       54    10298              12    14.0       3416.0        182.0   \n",
       "2       54    10300              12     3.0       3416.0         26.0   \n",
       "3       54    10292              12     9.0       3416.0         93.0   \n",
       "4       54    10143              12     1.0       3416.0         12.0   \n",
       "\n",
       "   target_lag_1  target_item_lag_1  target_shop_lag_1  target_lag_2  \\\n",
       "0           3.0               42.0             4282.0           0.0   \n",
       "1          21.0              369.0             4282.0         119.0   \n",
       "2           1.0               54.0             4282.0          31.0   \n",
       "3           8.0              156.0             4282.0          16.0   \n",
       "4           1.0               18.0             4282.0           0.0   \n",
       "\n",
       "   target_item_lag_2  target_shop_lag_2  target_lag_3  target_item_lag_3  \\\n",
       "0                2.0             3085.0           0.0                0.0   \n",
       "1             1309.0             3085.0           7.0              144.0   \n",
       "2              361.0             3085.0           0.0               53.0   \n",
       "3              203.0             3085.0          15.0              279.0   \n",
       "4                2.0             3085.0           0.0                0.0   \n",
       "\n",
       "   target_shop_lag_3  item_category_id  mean_enc_cat_id  var_enc_cat_id  \n",
       "0                0.0                37         0.512281        2.742767  \n",
       "1             2464.0                40         1.120868       10.631319  \n",
       "2             2464.0                37         0.512281        2.742767  \n",
       "3             2464.0                40         1.120868       10.631319  \n",
       "4                0.0                55         0.902726        2.715576  "
      ]
     },
     "execution_count": 13,
     "metadata": {},
     "output_type": "execute_result"
    }
   ],
   "source": [
    "# Train test split (last month is test)\n",
    "train = all_data[all_data.date_block_num  < 34].fillna(0)\n",
    "test  = all_data[all_data.date_block_num == 34].fillna(0)\n",
    "train.head()"
   ]
  },
  {
   "cell_type": "code",
   "execution_count": 14,
   "metadata": {},
   "outputs": [
    {
     "data": {
      "text/html": [
       "<div>\n",
       "<style scoped>\n",
       "    .dataframe tbody tr th:only-of-type {\n",
       "        vertical-align: middle;\n",
       "    }\n",
       "\n",
       "    .dataframe tbody tr th {\n",
       "        vertical-align: top;\n",
       "    }\n",
       "\n",
       "    .dataframe thead th {\n",
       "        text-align: right;\n",
       "    }\n",
       "</style>\n",
       "<table border=\"1\" class=\"dataframe\">\n",
       "  <thead>\n",
       "    <tr style=\"text-align: right;\">\n",
       "      <th></th>\n",
       "      <th>count</th>\n",
       "      <th>mean</th>\n",
       "      <th>std</th>\n",
       "      <th>min</th>\n",
       "      <th>25%</th>\n",
       "      <th>50%</th>\n",
       "      <th>75%</th>\n",
       "      <th>max</th>\n",
       "    </tr>\n",
       "  </thead>\n",
       "  <tbody>\n",
       "    <tr>\n",
       "      <th>shop_id</th>\n",
       "      <td>3110574.0</td>\n",
       "      <td>31.901944</td>\n",
       "      <td>17.323508</td>\n",
       "      <td>2.0</td>\n",
       "      <td>17.000000</td>\n",
       "      <td>33.000000</td>\n",
       "      <td>47.000000</td>\n",
       "      <td>59.000000</td>\n",
       "    </tr>\n",
       "    <tr>\n",
       "      <th>item_id</th>\n",
       "      <td>3110574.0</td>\n",
       "      <td>10818.201138</td>\n",
       "      <td>6275.575794</td>\n",
       "      <td>30.0</td>\n",
       "      <td>5095.000000</td>\n",
       "      <td>10785.000000</td>\n",
       "      <td>16090.000000</td>\n",
       "      <td>22167.000000</td>\n",
       "    </tr>\n",
       "    <tr>\n",
       "      <th>date_block_num</th>\n",
       "      <td>3110574.0</td>\n",
       "      <td>24.035516</td>\n",
       "      <td>6.103539</td>\n",
       "      <td>12.0</td>\n",
       "      <td>19.000000</td>\n",
       "      <td>25.000000</td>\n",
       "      <td>29.000000</td>\n",
       "      <td>33.000000</td>\n",
       "    </tr>\n",
       "    <tr>\n",
       "      <th>target</th>\n",
       "      <td>3110574.0</td>\n",
       "      <td>0.453473</td>\n",
       "      <td>4.450819</td>\n",
       "      <td>-2.0</td>\n",
       "      <td>0.000000</td>\n",
       "      <td>0.000000</td>\n",
       "      <td>0.000000</td>\n",
       "      <td>2253.000000</td>\n",
       "    </tr>\n",
       "    <tr>\n",
       "      <th>target_shop</th>\n",
       "      <td>3110574.0</td>\n",
       "      <td>1396.751343</td>\n",
       "      <td>1123.326294</td>\n",
       "      <td>-1.0</td>\n",
       "      <td>763.000000</td>\n",
       "      <td>1062.000000</td>\n",
       "      <td>1491.000000</td>\n",
       "      <td>10495.000000</td>\n",
       "    </tr>\n",
       "    <tr>\n",
       "      <th>target_item</th>\n",
       "      <td>3110574.0</td>\n",
       "      <td>21.487192</td>\n",
       "      <td>131.944809</td>\n",
       "      <td>-1.0</td>\n",
       "      <td>1.000000</td>\n",
       "      <td>6.000000</td>\n",
       "      <td>16.000000</td>\n",
       "      <td>12185.000000</td>\n",
       "    </tr>\n",
       "    <tr>\n",
       "      <th>target_lag_1</th>\n",
       "      <td>3110574.0</td>\n",
       "      <td>0.454072</td>\n",
       "      <td>4.483642</td>\n",
       "      <td>-2.0</td>\n",
       "      <td>0.000000</td>\n",
       "      <td>0.000000</td>\n",
       "      <td>0.000000</td>\n",
       "      <td>1305.000000</td>\n",
       "    </tr>\n",
       "    <tr>\n",
       "      <th>target_item_lag_1</th>\n",
       "      <td>3110574.0</td>\n",
       "      <td>21.430510</td>\n",
       "      <td>139.486404</td>\n",
       "      <td>-1.0</td>\n",
       "      <td>1.000000</td>\n",
       "      <td>5.000000</td>\n",
       "      <td>16.000000</td>\n",
       "      <td>12557.000000</td>\n",
       "    </tr>\n",
       "    <tr>\n",
       "      <th>target_shop_lag_1</th>\n",
       "      <td>3110574.0</td>\n",
       "      <td>1325.843018</td>\n",
       "      <td>1137.565918</td>\n",
       "      <td>0.0</td>\n",
       "      <td>705.000000</td>\n",
       "      <td>1034.000000</td>\n",
       "      <td>1459.000000</td>\n",
       "      <td>10495.000000</td>\n",
       "    </tr>\n",
       "    <tr>\n",
       "      <th>target_lag_2</th>\n",
       "      <td>3110574.0</td>\n",
       "      <td>0.447597</td>\n",
       "      <td>4.587493</td>\n",
       "      <td>-4.0</td>\n",
       "      <td>0.000000</td>\n",
       "      <td>0.000000</td>\n",
       "      <td>0.000000</td>\n",
       "      <td>1305.000000</td>\n",
       "    </tr>\n",
       "    <tr>\n",
       "      <th>target_item_lag_2</th>\n",
       "      <td>3110574.0</td>\n",
       "      <td>21.152611</td>\n",
       "      <td>142.239166</td>\n",
       "      <td>-1.0</td>\n",
       "      <td>0.000000</td>\n",
       "      <td>5.000000</td>\n",
       "      <td>15.000000</td>\n",
       "      <td>12557.000000</td>\n",
       "    </tr>\n",
       "    <tr>\n",
       "      <th>target_shop_lag_2</th>\n",
       "      <td>3110574.0</td>\n",
       "      <td>1253.027222</td>\n",
       "      <td>1142.350220</td>\n",
       "      <td>0.0</td>\n",
       "      <td>653.000000</td>\n",
       "      <td>993.000000</td>\n",
       "      <td>1428.000000</td>\n",
       "      <td>10495.000000</td>\n",
       "    </tr>\n",
       "    <tr>\n",
       "      <th>target_lag_3</th>\n",
       "      <td>3110574.0</td>\n",
       "      <td>0.439452</td>\n",
       "      <td>4.672558</td>\n",
       "      <td>-4.0</td>\n",
       "      <td>0.000000</td>\n",
       "      <td>0.000000</td>\n",
       "      <td>0.000000</td>\n",
       "      <td>1305.000000</td>\n",
       "    </tr>\n",
       "    <tr>\n",
       "      <th>target_item_lag_3</th>\n",
       "      <td>3110574.0</td>\n",
       "      <td>20.860367</td>\n",
       "      <td>145.052795</td>\n",
       "      <td>-1.0</td>\n",
       "      <td>0.000000</td>\n",
       "      <td>4.000000</td>\n",
       "      <td>15.000000</td>\n",
       "      <td>12557.000000</td>\n",
       "    </tr>\n",
       "    <tr>\n",
       "      <th>target_shop_lag_3</th>\n",
       "      <td>3110574.0</td>\n",
       "      <td>1180.591187</td>\n",
       "      <td>1147.708496</td>\n",
       "      <td>0.0</td>\n",
       "      <td>594.000000</td>\n",
       "      <td>956.000000</td>\n",
       "      <td>1367.000000</td>\n",
       "      <td>10495.000000</td>\n",
       "    </tr>\n",
       "    <tr>\n",
       "      <th>item_category_id</th>\n",
       "      <td>3110574.0</td>\n",
       "      <td>46.056875</td>\n",
       "      <td>16.420493</td>\n",
       "      <td>2.0</td>\n",
       "      <td>37.000000</td>\n",
       "      <td>43.000000</td>\n",
       "      <td>57.000000</td>\n",
       "      <td>83.000000</td>\n",
       "    </tr>\n",
       "    <tr>\n",
       "      <th>mean_enc_cat_id</th>\n",
       "      <td>3110574.0</td>\n",
       "      <td>0.425745</td>\n",
       "      <td>3.165492</td>\n",
       "      <td>0.0</td>\n",
       "      <td>0.055977</td>\n",
       "      <td>0.181360</td>\n",
       "      <td>0.399083</td>\n",
       "      <td>562.304321</td>\n",
       "    </tr>\n",
       "    <tr>\n",
       "      <th>var_enc_cat_id</th>\n",
       "      <td>3110574.0</td>\n",
       "      <td>9.069332</td>\n",
       "      <td>499.230225</td>\n",
       "      <td>0.0</td>\n",
       "      <td>0.074030</td>\n",
       "      <td>0.320517</td>\n",
       "      <td>1.049821</td>\n",
       "      <td>76213.492188</td>\n",
       "    </tr>\n",
       "  </tbody>\n",
       "</table>\n",
       "</div>"
      ],
      "text/plain": [
       "                       count          mean          std   min          25%  \\\n",
       "shop_id            3110574.0     31.901944    17.323508   2.0    17.000000   \n",
       "item_id            3110574.0  10818.201138  6275.575794  30.0  5095.000000   \n",
       "date_block_num     3110574.0     24.035516     6.103539  12.0    19.000000   \n",
       "target             3110574.0      0.453473     4.450819  -2.0     0.000000   \n",
       "target_shop        3110574.0   1396.751343  1123.326294  -1.0   763.000000   \n",
       "target_item        3110574.0     21.487192   131.944809  -1.0     1.000000   \n",
       "target_lag_1       3110574.0      0.454072     4.483642  -2.0     0.000000   \n",
       "target_item_lag_1  3110574.0     21.430510   139.486404  -1.0     1.000000   \n",
       "target_shop_lag_1  3110574.0   1325.843018  1137.565918   0.0   705.000000   \n",
       "target_lag_2       3110574.0      0.447597     4.587493  -4.0     0.000000   \n",
       "target_item_lag_2  3110574.0     21.152611   142.239166  -1.0     0.000000   \n",
       "target_shop_lag_2  3110574.0   1253.027222  1142.350220   0.0   653.000000   \n",
       "target_lag_3       3110574.0      0.439452     4.672558  -4.0     0.000000   \n",
       "target_item_lag_3  3110574.0     20.860367   145.052795  -1.0     0.000000   \n",
       "target_shop_lag_3  3110574.0   1180.591187  1147.708496   0.0   594.000000   \n",
       "item_category_id   3110574.0     46.056875    16.420493   2.0    37.000000   \n",
       "mean_enc_cat_id    3110574.0      0.425745     3.165492   0.0     0.055977   \n",
       "var_enc_cat_id     3110574.0      9.069332   499.230225   0.0     0.074030   \n",
       "\n",
       "                            50%           75%           max  \n",
       "shop_id               33.000000     47.000000     59.000000  \n",
       "item_id            10785.000000  16090.000000  22167.000000  \n",
       "date_block_num        25.000000     29.000000     33.000000  \n",
       "target                 0.000000      0.000000   2253.000000  \n",
       "target_shop         1062.000000   1491.000000  10495.000000  \n",
       "target_item            6.000000     16.000000  12185.000000  \n",
       "target_lag_1           0.000000      0.000000   1305.000000  \n",
       "target_item_lag_1      5.000000     16.000000  12557.000000  \n",
       "target_shop_lag_1   1034.000000   1459.000000  10495.000000  \n",
       "target_lag_2           0.000000      0.000000   1305.000000  \n",
       "target_item_lag_2      5.000000     15.000000  12557.000000  \n",
       "target_shop_lag_2    993.000000   1428.000000  10495.000000  \n",
       "target_lag_3           0.000000      0.000000   1305.000000  \n",
       "target_item_lag_3      4.000000     15.000000  12557.000000  \n",
       "target_shop_lag_3    956.000000   1367.000000  10495.000000  \n",
       "item_category_id      43.000000     57.000000     83.000000  \n",
       "mean_enc_cat_id        0.181360      0.399083    562.304321  \n",
       "var_enc_cat_id         0.320517      1.049821  76213.492188  "
      ]
     },
     "execution_count": 14,
     "metadata": {},
     "output_type": "execute_result"
    }
   ],
   "source": [
    "train.describe().T"
   ]
  },
  {
   "cell_type": "markdown",
   "metadata": {},
   "source": [
    "# Train / Val / Test - split"
   ]
  },
  {
   "cell_type": "code",
   "execution_count": 15,
   "metadata": {},
   "outputs": [],
   "source": [
    "dates = train['date_block_num']\n",
    "boolean_test = (dates.isin([30,31,32,33]))\n",
    "boolean_train = ~boolean_test\n",
    "dates_train = dates[boolean_train]\n",
    "dates_val  = dates[boolean_test]\n",
    "\n",
    "X_train = train.loc[boolean_train].drop(to_drop_cols, axis=1)\n",
    "X_val =  train.loc[boolean_test].drop(to_drop_cols, axis=1)\n",
    "X_test = test.drop(to_drop_cols, axis=1)\n",
    "\n",
    "y_train = train.loc[boolean_train, 'target'].values\n",
    "y_val =  train.loc[boolean_test, 'target'].values\n",
    "y_test = test['target'].values\n",
    "\n",
    "X = X_train.append(X_val)\n",
    "y = np.append(y_train, y_val)"
   ]
  },
  {
   "cell_type": "markdown",
   "metadata": {},
   "source": [
    "# Optimization and training of models (skip this part because it takes long time to train)"
   ]
  },
  {
   "cell_type": "code",
   "execution_count": 18,
   "metadata": {},
   "outputs": [
    {
     "data": {
      "application/vnd.jupyter.widget-view+json": {
       "model_id": "263c18c310a64e119a101ff963981c32",
       "version_major": 2,
       "version_minor": 0
      },
      "text/plain": [
       "HBox(children=(IntProgress(value=0, max=10), HTML(value='')))"
      ]
     },
     "metadata": {},
     "output_type": "display_data"
    },
    {
     "name": "stdout",
     "output_type": "stream",
     "text": [
      "[19:40:35] WARNING: /workspace/src/objective/regression_obj.cu:152: reg:linear is now deprecated in favor of reg:squarederror.\n",
      "0.01 is best learning rate so far...\n",
      "[19:47:33] WARNING: /workspace/src/objective/regression_obj.cu:152: reg:linear is now deprecated in favor of reg:squarederror.\n",
      "0.02 is best learning rate so far...\n",
      "[19:50:52] WARNING: /workspace/src/objective/regression_obj.cu:152: reg:linear is now deprecated in favor of reg:squarederror.\n",
      "0.03 is best learning rate so far...\n",
      "[19:53:16] WARNING: /workspace/src/objective/regression_obj.cu:152: reg:linear is now deprecated in favor of reg:squarederror.\n",
      "[19:55:08] WARNING: /workspace/src/objective/regression_obj.cu:152: reg:linear is now deprecated in favor of reg:squarederror.\n",
      "[19:56:42] WARNING: /workspace/src/objective/regression_obj.cu:152: reg:linear is now deprecated in favor of reg:squarederror.\n",
      "[19:58:01] WARNING: /workspace/src/objective/regression_obj.cu:152: reg:linear is now deprecated in favor of reg:squarederror.\n",
      "[19:59:10] WARNING: /workspace/src/objective/regression_obj.cu:152: reg:linear is now deprecated in favor of reg:squarederror.\n",
      "0.08 is best learning rate so far...\n",
      "[20:00:37] WARNING: /workspace/src/objective/regression_obj.cu:152: reg:linear is now deprecated in favor of reg:squarederror.\n",
      "[20:01:26] WARNING: /workspace/src/objective/regression_obj.cu:152: reg:linear is now deprecated in favor of reg:squarederror.\n"
     ]
    }
   ],
   "source": [
    "learning_rates = [0.01, 0.02, 0.03, 0.04, 0.05, 0.06, 0.07, 0.08, 0.09, 0.1]\n",
    "best_rmse = np.inf\n",
    "\n",
    "for lr in tqdm(learning_rates):\n",
    "    \n",
    "    xgb_model = XGBRegressor(\n",
    "        n_jobs=8,\n",
    "        learning_rate=lr,\n",
    "        max_depth=10,\n",
    "        n_estimators=1000,\n",
    "        min_child_weight=300, \n",
    "        colsample_bytree=0.8, \n",
    "        subsample=0.8, \n",
    "        eta=0.3,    \n",
    "        seed=1)\n",
    "\n",
    "    xgb_model.fit(\n",
    "        X_train, \n",
    "        y_train.clip(0,20), \n",
    "        eval_metric=\"rmse\", \n",
    "        eval_set=[(X_train, y_train.clip(0,20)), (X_val, y_val.clip(0,20))], \n",
    "        verbose=False, \n",
    "        early_stopping_rounds=2)\n",
    "    \n",
    "    pred_xgb_val = xgb_model.predict(X_val)\n",
    "    score = rmse(y_val.clip(0,20), pred_xgb_val.clip(0,20))\n",
    "    \n",
    "    if score < best_rmse:\n",
    "        best_rmse = score\n",
    "        best_lr = lr\n",
    "        print('{} is best learning rate so far...'.format(best_lr))\n",
    "    \n",
    "# 0.08 was the best learning rate"
   ]
  },
  {
   "cell_type": "code",
   "execution_count": 19,
   "metadata": {},
   "outputs": [
    {
     "name": "stdout",
     "output_type": "stream",
     "text": [
      "[20:05:57] WARNING: /workspace/src/objective/regression_obj.cu:152: reg:linear is now deprecated in favor of reg:squarederror.\n",
      "[0]\tvalidation_0-rmse:1.43379\tvalidation_1-rmse:1.26249\n",
      "Multiple eval metrics have been passed: 'validation_1-rmse' will be used for early stopping.\n",
      "\n",
      "Will train until validation_1-rmse hasn't improved in 20 rounds.\n",
      "[50]\tvalidation_0-rmse:0.955189\tvalidation_1-rmse:0.877937\n",
      "[100]\tvalidation_0-rmse:0.942633\tvalidation_1-rmse:0.871878\n",
      "[150]\tvalidation_0-rmse:0.930875\tvalidation_1-rmse:0.863868\n",
      "[200]\tvalidation_0-rmse:0.921702\tvalidation_1-rmse:0.858302\n",
      "[250]\tvalidation_0-rmse:0.916851\tvalidation_1-rmse:0.854932\n",
      "[300]\tvalidation_0-rmse:0.909318\tvalidation_1-rmse:0.849604\n",
      "[350]\tvalidation_0-rmse:0.9047\tvalidation_1-rmse:0.846098\n",
      "[400]\tvalidation_0-rmse:0.89872\tvalidation_1-rmse:0.84102\n",
      "[450]\tvalidation_0-rmse:0.893365\tvalidation_1-rmse:0.836074\n",
      "[500]\tvalidation_0-rmse:0.888856\tvalidation_1-rmse:0.832113\n",
      "[550]\tvalidation_0-rmse:0.885504\tvalidation_1-rmse:0.829684\n",
      "[600]\tvalidation_0-rmse:0.882528\tvalidation_1-rmse:0.827785\n",
      "[650]\tvalidation_0-rmse:0.879717\tvalidation_1-rmse:0.825399\n",
      "[700]\tvalidation_0-rmse:0.877044\tvalidation_1-rmse:0.822748\n",
      "[750]\tvalidation_0-rmse:0.874281\tvalidation_1-rmse:0.82022\n",
      "[800]\tvalidation_0-rmse:0.871766\tvalidation_1-rmse:0.817671\n",
      "[850]\tvalidation_0-rmse:0.869119\tvalidation_1-rmse:0.815403\n",
      "[900]\tvalidation_0-rmse:0.866987\tvalidation_1-rmse:0.813668\n",
      "[950]\tvalidation_0-rmse:0.864203\tvalidation_1-rmse:0.811802\n",
      "[999]\tvalidation_0-rmse:0.86148\tvalidation_1-rmse:0.809075\n"
     ]
    },
    {
     "data": {
      "text/plain": [
       "XGBRegressor(base_score=0.5, booster='gbtree', colsample_bylevel=1,\n",
       "             colsample_bynode=1, colsample_bytree=0.8, eta=0.3, gamma=0,\n",
       "             importance_type='gain', learning_rate=0.08, max_delta_step=0,\n",
       "             max_depth=10, min_child_weight=300, missing=None,\n",
       "             n_estimators=1000, n_jobs=8, nthread=None, objective='reg:linear',\n",
       "             random_state=0, reg_alpha=0, reg_lambda=1, scale_pos_weight=1,\n",
       "             seed=1, silent=None, subsample=0.8, verbosity=1)"
      ]
     },
     "execution_count": 19,
     "metadata": {},
     "output_type": "execute_result"
    }
   ],
   "source": [
    "xgb_model = XGBRegressor(\n",
    "        n_jobs=8,\n",
    "        learning_rate=best_lr,\n",
    "        max_depth=10,\n",
    "        n_estimators=1000,\n",
    "        min_child_weight=300, \n",
    "        colsample_bytree=0.8, \n",
    "        subsample=0.8, \n",
    "        eta=0.3,    \n",
    "        seed=1)\n",
    "\n",
    "xgb_model.fit(\n",
    "    X, \n",
    "    y.clip(0,20), \n",
    "    eval_metric=\"rmse\", \n",
    "    eval_set=[(X_train, y_train.clip(0,20)), (X_val, y_val.clip(0,20))], \n",
    "    verbose=50, \n",
    "    early_stopping_rounds=20)"
   ]
  },
  {
   "cell_type": "code",
   "execution_count": 22,
   "metadata": {},
   "outputs": [],
   "source": [
    "rf_model = RandomForestRegressor(bootstrap=0.7, criterion='mse', max_depth=12,\n",
    "                      max_features=4, max_leaf_nodes=None,\n",
    "                      min_impurity_decrease=0.0, min_impurity_split=None,\n",
    "                      min_samples_leaf=1, min_samples_split=2,\n",
    "                      min_weight_fraction_leaf=0.0, n_estimators=50, n_jobs=8,\n",
    "                      oob_score=False, random_state=None, verbose=0,\n",
    "                      warm_start=False)\n",
    "rf_model.fit(X, y.clip(0,20))"
   ]
  },
  {
   "cell_type": "code",
   "execution_count": 24,
   "metadata": {},
   "outputs": [],
   "source": [
    "# Save the models\n",
    "#pickle.dump(xgb_model, open('models/xgb_model.pkl', 'wb'))\n",
    "#pickle.dump(rf_model, open('models/rf_model.pkl', 'wb'))"
   ]
  },
  {
   "cell_type": "markdown",
   "metadata": {},
   "source": [
    "# Testing the models (continue here)"
   ]
  },
  {
   "cell_type": "code",
   "execution_count": 16,
   "metadata": {},
   "outputs": [
    {
     "name": "stdout",
     "output_type": "stream",
     "text": [
      "[17:02:48] WARNING: /workspace/src/objective/regression_obj.cu:152: reg:linear is now deprecated in favor of reg:squarederror.\n"
     ]
    }
   ],
   "source": [
    "# Load the models\n",
    "xgb_model = pickle.load(open('models/xgb_model.pkl', 'rb'))\n",
    "rf_model = pickle.load(open('models/rf_model.pkl', 'rb'))"
   ]
  },
  {
   "cell_type": "code",
   "execution_count": 17,
   "metadata": {},
   "outputs": [
    {
     "name": "stdout",
     "output_type": "stream",
     "text": [
      "Train RMSE for XGB is 0.8797357082366943\n",
      "Val RMSE for XGB is 0.7452297806739807\n"
     ]
    }
   ],
   "source": [
    "xgb_predict_train = xgb_model.predict(X_train)\n",
    "xgb_predict_val = xgb_model.predict(X_val)\n",
    "print('Train RMSE for XGB is {}'.format(rmse(y_train.clip(0,20), xgb_predict_train.clip(0,20))))\n",
    "print('Val RMSE for XGB is {}'.format(rmse(y_val.clip(0,20), xgb_predict_val.clip(0,20))))"
   ]
  },
  {
   "cell_type": "code",
   "execution_count": 18,
   "metadata": {},
   "outputs": [
    {
     "name": "stdout",
     "output_type": "stream",
     "text": [
      "Train RMSE for Random Forest is 0.9624247608720525\n",
      "Val RMSE for Random Forest is 0.7976568427945554\n"
     ]
    }
   ],
   "source": [
    "rf_predict_train = rf_model.predict(X_train)\n",
    "rf_predict_val = rf_model.predict(X_val)\n",
    "print('Train RMSE for Random Forest is {}'.format(rmse(y_train.clip(0,20), rf_predict_train.clip(0,20))))\n",
    "print('Val RMSE for Random Forest is {}'.format(rmse(y_val.clip(0,20), rf_predict_val.clip(0,20))))"
   ]
  },
  {
   "cell_type": "code",
   "execution_count": 19,
   "metadata": {},
   "outputs": [
    {
     "data": {
      "image/png": "[encoded data removed]",
      "text/plain": [
       "<Figure size 432x288 with 1 Axes>"
      ]
     },
     "metadata": {
      "needs_background": "light"
     },
     "output_type": "display_data"
    }
   ],
   "source": [
    "features = pd.Series(xgb_model.feature_importances_, index=X.columns)\n",
    "features = features.nlargest(10)\n",
    "features.plot(kind='barh')\n",
    "plt.title('Top 10 XGBoost Feature Importances')\n",
    "plt.show()"
   ]
  },
  {
   "cell_type": "code",
   "execution_count": 20,
   "metadata": {},
   "outputs": [
    {
     "data": {
      "image/png": "[encoded data removed]",
      "text/plain": [
       "<Figure size 432x288 with 1 Axes>"
      ]
     },
     "metadata": {
      "needs_background": "light"
     },
     "output_type": "display_data"
    }
   ],
   "source": [
    "features = pd.Series(rf_model.feature_importances_, index=X.columns)\n",
    "features = features.nlargest(10)\n",
    "features.plot(kind='barh')\n",
    "plt.title('Top 10 Random Forest Feature Importances')\n",
    "plt.show()"
   ]
  },
  {
   "cell_type": "code",
   "execution_count": 21,
   "metadata": {},
   "outputs": [
    {
     "data": {
      "text/plain": [
       "<matplotlib.collections.PathCollection at 0x7ff47c3404a8>"
      ]
     },
     "execution_count": 21,
     "metadata": {},
     "output_type": "execute_result"
    },
    {
     "data": {
      "image/png": "[encoded data removed]",
      "text/plain": [
       "<Figure size 432x288 with 1 Axes>"
      ]
     },
     "metadata": {
      "needs_background": "light"
     },
     "output_type": "display_data"
    }
   ],
   "source": [
    "# Check how good are the predictions (nice diagonal pattern with few outliers means very good model predictions)\n",
    "predictions1 = xgb_model.predict(X)\n",
    "predictions2 = rf_model.predict(X)\n",
    "plt.scatter(predictions1.clip(0,20), predictions2.clip(0,20))"
   ]
  },
  {
   "cell_type": "markdown",
   "metadata": {},
   "source": [
    "# Stacking models"
   ]
  },
  {
   "cell_type": "code",
   "execution_count": 22,
   "metadata": {},
   "outputs": [
    {
     "data": {
      "text/plain": [
       "LinearRegression(copy_X=True, fit_intercept=True, n_jobs=8, normalize=False)"
      ]
     },
     "execution_count": 22,
     "metadata": {},
     "output_type": "execute_result"
    }
   ],
   "source": [
    "# Train linear model on predictions of random forest and xgboost\n",
    "\n",
    "lr_model = LinearRegression(n_jobs=8)\n",
    "xgb_preds = xgb_model.predict(X)\n",
    "rf_preds = rf_model.predict(X)\n",
    "X_stacking = np.c_[xgb_preds, rf_preds]\n",
    "lr_model.fit(X_stacking, y.clip(0,20))"
   ]
  },
  {
   "cell_type": "code",
   "execution_count": 23,
   "metadata": {},
   "outputs": [
    {
     "name": "stdout",
     "output_type": "stream",
     "text": [
      "Train RMSE for Stacked linear regression is 0.872346123527145\n"
     ]
    }
   ],
   "source": [
    "xgb_train_preds = xgb_model.predict(X_train)\n",
    "rf_train_preds = rf_model.predict(X_train)\n",
    "X_train_stacking = np.c_[xgb_train_preds, rf_train_preds]\n",
    "lr_train_preds = lr_model.predict(X_train_stacking)\n",
    "\n",
    "print('Train RMSE for Stacked linear regression is {}'.format(rmse(y_train.clip(0,20), lr_train_preds.clip(0,20))))"
   ]
  },
  {
   "cell_type": "code",
   "execution_count": 24,
   "metadata": {},
   "outputs": [
    {
     "name": "stdout",
     "output_type": "stream",
     "text": [
      "Val RMSE for Stacked linear regression is 0.740831665590659\n"
     ]
    }
   ],
   "source": [
    "xgb_val_preds = xgb_model.predict(X_val)\n",
    "rf_val_preds = rf_model.predict(X_val)\n",
    "X_val_stacking = np.c_[xgb_val_preds, rf_val_preds]\n",
    "lr_val_preds = lr_model.predict(X_val_stacking)\n",
    "\n",
    "print('Val RMSE for Stacked linear regression is {}'.format(rmse(y_val.clip(0,20), lr_val_preds.clip(0,20))))"
   ]
  },
  {
   "cell_type": "code",
   "execution_count": 25,
   "metadata": {},
   "outputs": [],
   "source": [
    "xgb_test_preds = xgb_model.predict(X_test)\n",
    "rf_test_preds = rf_model.predict(X_test)\n",
    "X_test_stacking = np.c_[xgb_test_preds, rf_test_preds]\n",
    "test_preds = lr_model.predict(X_test_stacking)"
   ]
  },
  {
   "cell_type": "markdown",
   "metadata": {},
   "source": [
    "# Creating submission"
   ]
  },
  {
   "cell_type": "code",
   "execution_count": 26,
   "metadata": {},
   "outputs": [],
   "source": [
    "predictions = pd.DataFrame()\n",
    "predictions['shop_id'] = test_data.shop_id\n",
    "predictions['item_id'] = test_data.item_id\n",
    "predictions['item_cnt_month'] = test_preds\n",
    "submision = test_data[['ID', 'shop_id', 'item_id']].merge(predictions, on=['shop_id', 'item_id'], how='left').fillna(0)\n",
    "submision[['ID', 'item_cnt_month']].to_csv('submission.csv',index=False)"
   ]
  },
  {
   "cell_type": "markdown",
   "metadata": {},
   "source": [
    "On a final note, I would like to thank organizers for creating this insightful and interesting course!"
   ]
  }
 ],
 "metadata": {
  "kernelspec": {
   "display_name": "Python 3",
   "language": "python",
   "name": "python3"
  },
  "language_info": {
   "codemirror_mode": {
    "name": "ipython",
    "version": 3
   },
   "file_extension": ".py",
   "mimetype": "text/x-python",
   "name": "python",
   "nbconvert_exporter": "python",
   "pygments_lexer": "ipython3",
   "version": "3.5.2"
  }
 },
 "nbformat": 4,
 "nbformat_minor": 4
}

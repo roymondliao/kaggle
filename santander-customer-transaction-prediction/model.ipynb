{
 "cells": [
  {
   "cell_type": "code",
   "execution_count": 107,
   "metadata": {},
   "outputs": [
    {
     "data": {
      "text/plain": [
       "['train.csv.zip',\n",
       " 'test.csv',\n",
       " 'sample_submission.csv.zip',\n",
       " 'test.csv.zip',\n",
       " 'sample_submission.csv',\n",
       " 'train.csv']"
      ]
     },
     "execution_count": 107,
     "metadata": {},
     "output_type": "execute_result"
    }
   ],
   "source": [
    "import gc\n",
    "import os\n",
    "import logging\n",
    "import warnings\n",
    "import numpy as np\n",
    "import pandas as pd\n",
    "import seaborn as sns\n",
    "import matplotlib.pyplot as plt\n",
    "from tqdm import tqdm_notebook, tqdm\n",
    "from numba import jit\n",
    "from datetime import datetime\n",
    "from pathlib import Path\n",
    "from collections import Counter\n",
    "from sklearn.preprocessing import StandardScaler\n",
    "from sklearn.metrics import classification_report\n",
    "from sklearn.feature_selection import SelectFromModel\n",
    "warnings.filterwarnings('ignore')\n",
    "\n",
    "IS_LOCAL = True\n",
    "if(IS_LOCAL):\n",
    "    PATH = Path('/mnt/disks/data/santander-customer-transaction/')\n",
    "else:\n",
    "    PATH = Path('../input/')\n",
    "    \n",
    "os.listdir(str(PATH))"
   ]
  },
  {
   "cell_type": "code",
   "execution_count": 108,
   "metadata": {
    "scrolled": false
   },
   "outputs": [
    {
     "name": "stdout",
     "output_type": "stream",
     "text": [
      "CPU times: user 14 s, sys: 612 ms, total: 14.6 s\n",
      "Wall time: 14.6 s\n"
     ]
    }
   ],
   "source": [
    "%%time\n",
    "train_df = pd.read_csv(str(PATH / 'train.csv'))\n",
    "test_df = pd.read_csv(str(PATH / 'test.csv'))"
   ]
  },
  {
   "cell_type": "code",
   "execution_count": 109,
   "metadata": {},
   "outputs": [
    {
     "data": {
      "text/plain": [
       "((200000, 202), (200000, 201))"
      ]
     },
     "execution_count": 109,
     "metadata": {},
     "output_type": "execute_result"
    }
   ],
   "source": [
    "train_df.shape, test_df.shape"
   ]
  },
  {
   "cell_type": "code",
   "execution_count": 110,
   "metadata": {},
   "outputs": [],
   "source": [
    "target_col = 'target'\n",
    "predictor_cols = [c for c in train_df.columns if c not in ['ID_code', 'target']]\n",
    "# predictor_cols = [x for x in train_df.columns if x.startswith('var')]"
   ]
  },
  {
   "cell_type": "markdown",
   "metadata": {},
   "source": [
    "# Reverse features"
   ]
  },
  {
   "cell_type": "code",
   "execution_count": 114,
   "metadata": {},
   "outputs": [],
   "source": [
    "for var in predictor_cols:\n",
    "    if np.corrcoef(train_df['target'], train_df[var])[1][0] < 0:\n",
    "        train_df[var] = train_df[var] * -1\n",
    "        test_df[var] = test_df[var] * -1\n",
    "    "
   ]
  },
  {
   "cell_type": "code",
   "execution_count": 117,
   "metadata": {},
   "outputs": [],
   "source": [
    "# Count all values\n",
    "var_stats = {}\n",
    "hist_df = pd.DataFrame()\n",
    "for var in predictor_cols:\n",
    "    var_stats = train_df[var].append(test_df[var]).value_counts()\n",
    "    hist_df[var] = pd.Series(test_df[var]).map(var_stats)\n",
    "    hist_df[var] = hist_df[var] > 1\n",
    "\n",
    "# remove fake test rows\n",
    "ind = hist_df.sum(axis=1) != 200    "
   ]
  },
  {
   "cell_type": "code",
   "execution_count": 123,
   "metadata": {},
   "outputs": [],
   "source": [
    "# recount values without fake rows\n",
    "var_stats = {}\n",
    "for var in predictor_cols:\n",
    "    var_stats[var] = train_df[var].append(test_df[ind][var]).value_counts()\n"
   ]
  },
  {
   "cell_type": "code",
   "execution_count": 125,
   "metadata": {},
   "outputs": [],
   "source": [
    "def logit(p):\n",
    "    return np.log(p) - np.log(1 - p)\n",
    "\n",
    "def var_to_feat(vr, var_stats, feat_id):\n",
    "    new_df = pd.DataFrame()\n",
    "    new_df['var'] = vr.values\n",
    "    new_df['hist'] = pd.Series(vr).map(var_stats)\n",
    "    new_df['feature_id'] = feat_id\n",
    "    new_df['var_rank'] = new_df['var'].rank() / 200000\n",
    "    return new_df.values"
   ]
  },
  {
   "cell_type": "code",
   "execution_count": 126,
   "metadata": {},
   "outputs": [],
   "source": [
    "TARGET = np.array( list(train_df['target'].values) * 200 )"
   ]
  },
  {
   "cell_type": "code",
   "execution_count": 131,
   "metadata": {},
   "outputs": [
    {
     "data": {
      "text/plain": [
       "array([0, 0, 0, 0, 0, 0, 0, 0, 0, 0, 0, 0, 0, 1, 0, 0, 0, 0, 0, 0])"
      ]
     },
     "execution_count": 131,
     "metadata": {},
     "output_type": "execute_result"
    }
   ],
   "source": [
    "TRAIN = []\n",
    "var_mean = {}\n",
    "var_var  = {}\n",
    "for var in predictor_cols:\n",
    "    tmp = var_to_feat(train_df[var], var_stats[var], int(var[4:]) )\n",
    "    var_mean[var] = np.mean(tmp[:,0]) \n",
    "    var_var[var]  = np.var(tmp[:,0])\n",
    "    tmp[:,0] = (tmp[:,0]-var_mean[var])/var_var[var]\n",
    "    TRAIN.append( tmp )\n",
    "TRAIN = np.vstack( TRAIN )"
   ]
  },
  {
   "cell_type": "markdown",
   "metadata": {},
   "source": [
    "# List of fake samples and public / private LB split"
   ]
  },
  {
   "cell_type": "code",
   "execution_count": 83,
   "metadata": {},
   "outputs": [
    {
     "name": "stderr",
     "output_type": "stream",
     "text": [
      "100%|██████████| 200/200 [00:06<00:00, 32.94it/s]\n"
     ]
    }
   ],
   "source": [
    "df_test = test_df[predictor_cols].values\n",
    "unique_samples = []\n",
    "unique_count = np.zeros_like(df_test)\n",
    "for feature in tqdm(range(df_test.shape[1])):\n",
    "    _, index, count = np.unique(df_test[:, feature], return_counts=True, return_index=True)\n",
    "    unique_count[index[count == 1],  i] += 1"
   ]
  },
  {
   "cell_type": "code",
   "execution_count": 86,
   "metadata": {},
   "outputs": [
    {
     "name": "stdout",
     "output_type": "stream",
     "text": [
      "100000\n",
      "100000\n"
     ]
    }
   ],
   "source": [
    "# Samples which have unique values are real the others are fake\n",
    "real_samples_indexes = np.argwhere(np.sum(unique_count, axis=1) > 0)[:, 0]\n",
    "synthetic_samples_indexes = np.argwhere(np.sum(unique_count, axis=1) == 0)[:, 0]\n",
    "\n",
    "print(len(real_samples_indexes))\n",
    "print(len(synthetic_samples_indexes))"
   ]
  },
  {
   "cell_type": "code",
   "execution_count": null,
   "metadata": {},
   "outputs": [],
   "source": [
    "real_test_df = df_test[real_samples_indexes].copy()\n",
    "generator_for_each_synthetic_sample = []\n",
    "\n",
    "for cur_sample_index in tqdm(synthetic_samples_indexes[:200]):\n",
    "    cur_synthetic_sample = df_test[cur_sample_index]\n",
    "    potential_generators = real_test_df == cur_synthetic_sample\n",
    "    \n",
    "    # A verified generator for a synthetic sample is achieved\n",
    "    # only if the value of a feature appears only once in the\n",
    "    # entire real samples set\n",
    "    features_mask = np.sum(potential_generators, axis=0) == 1\n",
    "    verified_generators_mask = np.any(potential_generators[:, features_mask], axis=1)\n",
    "    verified_generators_for_sample = real_samples_indexes[np.argwhere(verified_generators_mask)[:, 0]]\n",
    "    generator_for_each_synthetic_sample.append(set(verified_generators_for_sample))\n"
   ]
  },
  {
   "cell_type": "code",
   "execution_count": 106,
   "metadata": {},
   "outputs": [
    {
     "data": {
      "text/plain": [
       "array([  3,   1,   1,   4,   4,   1,   5,   1,   4,   2,   1,   2,  16,\n",
       "         2,   3,  10,   5,   1,   1,   1,   2,   1,   2,   9,   2,  17,\n",
       "         1,   3,   2,   2,   2,   2,   2,   2,   7,   3,   1,   5,   2,\n",
       "         1,   2,   1,   4,  14,   2,   1,   1,   1,   1,   1,   1,   2,\n",
       "         1,   6,   2,   2,   1,   5,   1,   4,   2,   1,   2,   2,   4,\n",
       "         1,   5,   3, 454,   2,   1,  16,   1,   1,   2,   1,   1,   1,\n",
       "         2,   2,   2,   4,   2,   1,   1,   1,   2,   1,   1,   1,   1,\n",
       "        19,   1,  13,   3,   5,   1,   2,   8,   3,   1,   1,   1,  19,\n",
       "         3,   2,   3,   1,  14,   1,   1,   3,   4,   2,   2,   2,   1,\n",
       "         1,   5,   4,   1,   1,   1,   1,   3,  10,   3,   1,   1,   2,\n",
       "         5,  10,   1,  13,   1,   1,   1,   2,   1,   2,   1,   3,   1,\n",
       "         1,   9,   1,   4,   1,  22,   3,   1,   2,   1,   5,   1,   1,\n",
       "         2,   4,   1,   1,   1,  21,   3,   1,   1,   1,   7,   1,   1,\n",
       "         4,   3,   2,   3,   1,   1,   2,   1,   2,   1,   1,   2,   1,\n",
       "         1,   2,   1,   5,   3,   1,   1,   2,   2,   2,   2,   1,   1,\n",
       "         1,   1,   1,   2,   1])"
      ]
     },
     "execution_count": 106,
     "metadata": {},
     "output_type": "execute_result"
    }
   ],
   "source": [
    "# After collecting the \"verified generators\" for each fake sample, \n",
    "# finding the Public/Private LB split is no more than a few set operations.\n",
    "public_LB = generator_for_each_synthetic_sample[0]\n",
    "for x in tqdm(generator_for_each_synthetic_sample):\n",
    "    if public_LB.intersection(x):\n",
    "        public_LB = public_LB.union(x)\n",
    "\n",
    "private_LB = generator_for_each_synthetic_sample[1]\n",
    "for x in tqdm(generator_for_each_synthetic_sample):\n",
    "    if private_LB.intersection(x):\n",
    "        private_LB = private_LB.union(x)\n",
    "        \n",
    "print(len(public_LB))\n",
    "print(len(private_LB))"
   ]
  },
  {
   "cell_type": "markdown",
   "metadata": {},
   "source": [
    "# Unique count"
   ]
  },
  {
   "cell_type": "code",
   "execution_count": 14,
   "metadata": {},
   "outputs": [],
   "source": [
    "full_df = pd.concat([train_df, test_df], axis=0)"
   ]
  },
  {
   "cell_type": "code",
   "execution_count": 25,
   "metadata": {
    "scrolled": true
   },
   "outputs": [
    {
     "name": "stderr",
     "output_type": "stream",
     "text": [
      "100%|██████████| 200/200 [00:58<00:00,  2.02it/s]\n"
     ]
    }
   ],
   "source": [
    "for f in tqdm(predictor_cols):\n",
    "    unique_count_dict = full_df[f].value_counts().to_dict()\n",
    "    train_df['un_real_' + f] = train_df[f].apply(lambda x: x if unique_count_dict[x] == 1 else np.nan).values\n",
    "    test_df['un_real_' + f] = test_df[f].apply(lambda x: x if unique_count_dict[x] == 1 else np.nan).values\n",
    "    "
   ]
  },
  {
   "cell_type": "code",
   "execution_count": null,
   "metadata": {},
   "outputs": [],
   "source": [
    "df = pd.concat([train,real_test], axis = 0)\n",
    "for feat in tqdm_notebook(features):\n",
    "    df[feat+'_var'] = df.groupby([feat])[feat].transform('var')\n",
    "for feat in tqdm_notebook(features):\n",
    "    df[feat+'plus_'] = df[feat] + df[feat+'_var']\n",
    "    df[feat+'minus_'] = df[feat] - df[feat+'_var']"
   ]
  },
  {
   "cell_type": "markdown",
   "metadata": {},
   "source": [
    "## Convert var_68 to datetime"
   ]
  },
  {
   "cell_type": "code",
   "execution_count": 4,
   "metadata": {},
   "outputs": [],
   "source": [
    "epoch_datetime = pd.datetime(1900, 1, 1)\n",
    "trf_var_68_s = (train_df['var_68']*10000 - 7000 + epoch_datetime.toordinal()).astype(int)\n",
    "date_s = trf_var_68_s.map(datetime.fromordinal)\n",
    "train_df['date'] = date_s\n",
    "sorted_train_df = train_df.drop('var_68', axis=1).sort_values('date')"
   ]
  },
  {
   "cell_type": "code",
   "execution_count": 5,
   "metadata": {},
   "outputs": [],
   "source": [
    "sorted_train_df.reset_index(inplace=True)\n",
    "sorted_train_df.drop('index', axis=1, inplace=True)"
   ]
  },
  {
   "cell_type": "markdown",
   "metadata": {},
   "source": [
    "## Try to use stacking method"
   ]
  },
  {
   "cell_type": "code",
   "execution_count": 34,
   "metadata": {},
   "outputs": [],
   "source": [
    "train_part_1_df = train_df.sample(train_df.shape[0] // 2, replace=False)\n",
    "train_part_2_df = train_df.iloc[~train_part_1_df.index.values, :]"
   ]
  },
  {
   "cell_type": "code",
   "execution_count": 35,
   "metadata": {
    "scrolled": true
   },
   "outputs": [
    {
     "data": {
      "text/plain": [
       "((100000, 202), (100000, 202))"
      ]
     },
     "execution_count": 35,
     "metadata": {},
     "output_type": "execute_result"
    }
   ],
   "source": [
    "train_part_1_df.shape, train_part_2_df.shape"
   ]
  },
  {
   "cell_type": "markdown",
   "metadata": {},
   "source": [
    "# Features engineering"
   ]
  },
  {
   "cell_type": "markdown",
   "metadata": {},
   "source": [
    "### Features Interaction"
   ]
  },
  {
   "cell_type": "code",
   "execution_count": 36,
   "metadata": {},
   "outputs": [
    {
     "name": "stdout",
     "output_type": "stream",
     "text": [
      "CPU times: user 14.5 s, sys: 12.3 s, total: 26.8 s\n",
      "Wall time: 26.8 s\n"
     ]
    }
   ],
   "source": [
    "%%time\n",
    "for df in [test_df, train_df]:\n",
    "    df['sum'] = df[features].sum(axis=1)  \n",
    "    df['min'] = df[features].min(axis=1)\n",
    "    df['max'] = df[features].max(axis=1)\n",
    "    df['mean'] = df[features].mean(axis=1)\n",
    "    df['std'] = df[features].std(axis=1)\n",
    "    df['skew'] = df[features].skew(axis=1)\n",
    "    df['kurt'] = df[features].kurtosis(axis=1)\n",
    "    df['med'] = df[features].median(axis=1)"
   ]
  },
  {
   "cell_type": "code",
   "execution_count": 5,
   "metadata": {},
   "outputs": [],
   "source": [
    "full_df = pd.concat([train_df.drop(['target', 'sum', 'min', 'max', 'mean', 'std', 'skew', 'kurt', 'med'], axis=1),\n",
    "                     test_df.drop(['sum', 'min', 'max', 'mean', 'std', 'skew', 'kurt', 'med'], axis=1)], \n",
    "                    axis=0).copy()\n",
    "full_df.reset_index(inplace=True)\n",
    "full_df.drop(['index'], axis=1, inplace=True)"
   ]
  },
  {
   "cell_type": "markdown",
   "metadata": {},
   "source": [
    "### features slice windows"
   ]
  },
  {
   "cell_type": "code",
   "execution_count": 49,
   "metadata": {},
   "outputs": [],
   "source": [
    "drop_cols = ['var_68']\n",
    "train_df.drop(drop_cols, inplace=True, axis=1)\n",
    "test_df.drop(drop_cols, inplace=True, axis=1)"
   ]
  },
  {
   "cell_type": "code",
   "execution_count": 50,
   "metadata": {},
   "outputs": [],
   "source": [
    "predictor_cols.remove(*drop_cols)"
   ]
  },
  {
   "cell_type": "code",
   "execution_count": null,
   "metadata": {
    "scrolled": true
   },
   "outputs": [],
   "source": [
    "%%time\n",
    "slice_size = [3, 7]\n",
    "stride = 2\n",
    "\n",
    "for s in slice_size:\n",
    "    total_slice = (len(predictor_cols)-s) // stride + 1\n",
    "    for i in tqdm(range(total_slice)):\n",
    "        new_feature = predictor_cols[(i*stride):((i*stride + s))]\n",
    "        # train\n",
    "        train_df['ws_mean_{}_{}'.format(s, i)] = train_df[new_feature].mean(axis=1)\n",
    "        train_df['ws_std_{}_{}'.format(s, i)] = train_df[new_feature].std(axis=1)\n",
    "        train_df['ws_min_{}_{}'.format(s, i)] = train_df[new_feature].min(axis=1)\n",
    "        train_df['ws_max_{}_{}'.format(s, i)] = train_df[new_feature].max(axis=1)\n",
    "        # test\n",
    "        test_df['ws_mean_{}_{}'.format(s, i)] = test_df[new_feature].mean(axis=1)\n",
    "        test_df['ws_std_{}_{}'.format(s, i)] = test_df[new_feature].std(axis=1)\n",
    "        test_df['ws_min_{}_{}'.format(s, i)] = test_df[new_feature].min(axis=1)\n",
    "        test_df['ws_max_{}_{}'.format(s, i)] = test_df[new_feature].max(axis=1)\n",
    "  "
   ]
  },
  {
   "cell_type": "markdown",
   "metadata": {},
   "source": [
    "## Feature Transformation"
   ]
  },
  {
   "cell_type": "markdown",
   "metadata": {},
   "source": [
    "### Convert numeric features to categories features"
   ]
  },
  {
   "cell_type": "code",
   "execution_count": 6,
   "metadata": {},
   "outputs": [],
   "source": [
    "from sklearn.preprocessing import Binarizer\n",
    "unique_value_df = train_df.drop(['ID_code', 'target', 'sum', 'min', 'max', 'mean', 'std', 'skew', 'kurt', 'med'], \n",
    "                                axis=1).nunique().sort_values()\n",
    "convert_to_categories_cols = unique_value_df[unique_value_df > 100000].index.values"
   ]
  },
  {
   "cell_type": "code",
   "execution_count": 8,
   "metadata": {
    "scrolled": true
   },
   "outputs": [
    {
     "ename": "NameError",
     "evalue": "name 'convert_to_categories_cols' is not defined",
     "output_type": "error",
     "traceback": [
      "\u001b[0;31m---------------------------------------------------------------------------\u001b[0m",
      "\u001b[0;31mNameError\u001b[0m                                 Traceback (most recent call last)",
      "\u001b[0;32m<timed exec>\u001b[0m in \u001b[0;36m<module>\u001b[0;34m()\u001b[0m\n",
      "\u001b[0;31mNameError\u001b[0m: name 'convert_to_categories_cols' is not defined"
     ]
    }
   ],
   "source": [
    "%%time\n",
    "from sklearn.preprocessing import OneHotEncoder, LabelEncoder \n",
    "label_encoder = LabelEncoder()\n",
    "\n",
    "for c in list(convert_to_categories_cols):\n",
    "    cate_range = np.arange(full_df[c].min(), full_df[c].max(), \n",
    "                          (full_df[c].max() - full_df[c].min()) / 10).tolist() + [full_df[c].max()]\n",
    "    res = pd.cut(full_df[c], cate_range, include_lowest=True,\n",
    "                 labels=list(map(lambda i:str(i), range(1, len(cate_range)))))\n",
    "    \n",
    "    one_hot_encoder = OneHotEncoder(sparse=False).fit(np.array(res).reshape(-1, 1))\n",
    "    one_hot_res = one_hot_encoder.transform(np.array(res).reshape(-1, 1))\n",
    "    \n",
    "    cols = [c + '_' + str(i) for i in range(1, len(cate_range))]\n",
    "    res_df = pd.DataFrame(one_hot_res, columns=cols).drop(cols[-1], axis=1)\n",
    "    full_df = pd.concat([full_df, res_df], axis=1).drop(c, axis=1)\n"
   ]
  },
  {
   "cell_type": "code",
   "execution_count": 8,
   "metadata": {},
   "outputs": [],
   "source": [
    "remain_cols = [i for i in predictor_cols if i not in convert_to_categories_cols]\n",
    "full_df.drop(remain_cols[2:], axis=1, inplace=True)\n",
    "\n",
    "train_df = train_df.merge(full_df, on='ID_code', how='left')\n",
    "test_df = test_df.merge(full_df, on='ID_code', how='left')"
   ]
  },
  {
   "cell_type": "code",
   "execution_count": 9,
   "metadata": {},
   "outputs": [],
   "source": [
    "predictor_cols = train_df.columns.drop(['ID_code', 'target'])"
   ]
  },
  {
   "cell_type": "code",
   "execution_count": 10,
   "metadata": {},
   "outputs": [
    {
     "data": {
      "text/plain": [
       "252"
      ]
     },
     "execution_count": 10,
     "metadata": {},
     "output_type": "execute_result"
    }
   ],
   "source": [
    "del full_df\n",
    "gc.collect()"
   ]
  },
  {
   "cell_type": "markdown",
   "metadata": {},
   "source": [
    "### Use the data of target 1 to cut data and convert to categoris features"
   ]
  },
  {
   "cell_type": "code",
   "execution_count": 6,
   "metadata": {},
   "outputs": [],
   "source": [
    "target_1_df = train_df.loc[train_df['target'] == 1]"
   ]
  },
  {
   "cell_type": "code",
   "execution_count": 133,
   "metadata": {},
   "outputs": [],
   "source": [
    "convert_predictor_cols = ['var_0', 'var_1', 'var_2', 'var_3', 'var_4', 'var_5', 'var_6',\n",
    "       'var_8', 'var_9', 'var_11', 'var_12', 'var_13', 'var_14', 'var_15',\n",
    "       'var_16', 'var_18', 'var_19', 'var_20', 'var_21', 'var_22',\n",
    "       'var_23', 'var_24', 'var_25', 'var_26', 'var_28', 'var_31',\n",
    "       'var_32', 'var_33', 'var_34', 'var_35', 'var_36', 'var_37',\n",
    "       'var_40', 'var_42', 'var_43', 'var_44', 'var_45', 'var_47',\n",
    "       'var_48', 'var_49', 'var_50', 'var_51', 'var_52', 'var_53',\n",
    "       'var_54', 'var_55', 'var_56', 'var_57', 'var_58', 'var_59',\n",
    "       'var_60', 'var_61', 'var_62', 'var_63', 'var_64', 'var_65',\n",
    "       'var_66', 'var_67', 'var_68', 'var_69', 'var_70', 'var_71',\n",
    "       'var_72', 'var_73', 'var_74', 'var_75', 'var_76', 'var_77',\n",
    "       'var_78', 'var_79', 'var_80', 'var_81', 'var_82', 'var_83',\n",
    "       'var_84', 'var_85', 'var_86', 'var_87', 'var_88', 'var_89',\n",
    "       'var_90', 'var_91', 'var_92', 'var_93', 'var_94', 'var_95',\n",
    "       'var_97', 'var_99', 'var_101', 'var_102', 'var_104', 'var_105',\n",
    "       'var_106', 'var_107', 'var_108', 'var_109', 'var_110', 'var_111',\n",
    "       'var_112', 'var_113', 'var_114', 'var_115', 'var_116', 'var_118',\n",
    "       'var_119', 'var_120', 'var_121', 'var_122', 'var_123', 'var_125',\n",
    "       'var_127', 'var_128', 'var_129', 'var_130', 'var_131', 'var_132',\n",
    "       'var_133', 'var_134', 'var_135', 'var_137', 'var_138', 'var_139',\n",
    "       'var_140', 'var_141', 'var_142', 'var_143', 'var_144', 'var_145',\n",
    "       'var_146', 'var_147', 'var_148', 'var_149', 'var_150', 'var_151',\n",
    "       'var_152', 'var_153', 'var_154', 'var_155', 'var_156', 'var_157',\n",
    "       'var_159', 'var_162', 'var_163', 'var_164', 'var_165', 'var_166',\n",
    "       'var_167', 'var_168', 'var_169', 'var_170', 'var_171', 'var_172',\n",
    "       'var_173', 'var_174', 'var_175', 'var_176', 'var_177', 'var_178',\n",
    "       'var_179', 'var_180', 'var_181', 'var_182', 'var_184', 'var_186',\n",
    "       'var_187', 'var_188', 'var_189', 'var_190', 'var_191', 'var_192',\n",
    "       'var_193', 'var_194', 'var_195', 'var_196', 'var_197', 'var_198',\n",
    "       'var_199']"
   ]
  },
  {
   "cell_type": "code",
   "execution_count": 83,
   "metadata": {},
   "outputs": [],
   "source": [
    "convert_df = pd.DataFrame()\n",
    "for f in convert_predictor_cols:\n",
    "    cate_range = target_1_df[f].quantile([0.25, 0.5, 0.75]).values.tolist()\n",
    "    cate_range.insert(0, train_df[f].min() - 0.001)\n",
    "    cate_range.append(train_df[f].max() + 0.001)\n",
    "    res = pd.cut(train_df[f], cate_range, include_lowest=True,\n",
    "                 labels=list(map(lambda i:str(i), range(1, len(cate_range)))))\n",
    "    res = res.astype(int)\n",
    "    #one_hot_encoder = OneHotEncoder(sparse=False).fit(np.array(res).reshape(-1, 1))\n",
    "    #one_hot_res = one_hot_encoder.transform(np.array(res).reshape(-1, 1))\n",
    "    \n",
    "    #cols = [c + '_' + str(i) for i in range(1, len(cate_range))]\n",
    "    cols = [f + '_' + 'bin']\n",
    "    #res_df = pd.DataFrame(res, columns=cols)\n",
    "    convert_df = pd.concat([convert_df, res], axis=1)\n",
    "\n",
    "convert_df.columns = [f + '_' + 'bin' for f in convert_predictor_cols]"
   ]
  },
  {
   "cell_type": "code",
   "execution_count": 76,
   "metadata": {
    "scrolled": true
   },
   "outputs": [
    {
     "data": {
      "text/plain": [
       "Counter({False: 200000})"
      ]
     },
     "execution_count": 76,
     "metadata": {},
     "output_type": "execute_result"
    }
   ],
   "source": [
    "Counter(res.isna())"
   ]
  },
  {
   "cell_type": "code",
   "execution_count": 89,
   "metadata": {},
   "outputs": [],
   "source": [
    "train_df = pd.concat([train_df, convert_df], axis=1)"
   ]
  },
  {
   "cell_type": "code",
   "execution_count": 111,
   "metadata": {},
   "outputs": [],
   "source": [
    "convert_test_df = pd.DataFrame()\n",
    "for f in convert_predictor_cols:\n",
    "    cate_range = target_1_df[f].quantile([0.25, 0.5, 0.75]).values.tolist()\n",
    "    cate_range.insert(0, test_df[f].min() - 0.001)\n",
    "    cate_range.append(test_df[f].max() + 0.001)\n",
    "    res = pd.cut(test_df[f], cate_range, include_lowest=True,\n",
    "                 labels=list(map(lambda i:str(i), range(1, len(cate_range)))))\n",
    "    res = res.astype(int)\n",
    "    #one_hot_encoder = OneHotEncoder(sparse=False).fit(np.array(res).reshape(-1, 1))\n",
    "    #one_hot_res = one_hot_encoder.transform(np.array(res).reshape(-1, 1))\n",
    "    \n",
    "    #cols = [c + '_' + str(i) for i in range(1, len(cate_range))]\n",
    "    cols = [f + '_' + 'bin']\n",
    "    #res_df = pd.DataFrame(res, columns=cols)\n",
    "    convert_test_df = pd.concat([convert_test_df, res], axis=1)\n",
    "\n",
    "convert_test_df.columns = [f + '_' + 'bin' for f in convert_predictor_cols]"
   ]
  },
  {
   "cell_type": "code",
   "execution_count": 112,
   "metadata": {},
   "outputs": [],
   "source": [
    "test_df = pd.concat([test_df, convert_test_df], axis=1)\n"
   ]
  },
  {
   "cell_type": "markdown",
   "metadata": {},
   "source": [
    "# Split data"
   ]
  },
  {
   "cell_type": "code",
   "execution_count": 21,
   "metadata": {},
   "outputs": [
    {
     "name": "stdout",
     "output_type": "stream",
     "text": [
      "train size:  150000\n",
      "valid size:  50000\n"
     ]
    }
   ],
   "source": [
    "'''\n",
    "from sklearn.model_selection import train_test_split\n",
    "from sklearn.model_selection import StratifiedKFold\n",
    "split_probability = 0.25\n",
    "seed = 8787\n",
    "train_data, valid_data = train_test_split(train_df,\n",
    "                                          test_size=split_probability, \n",
    "                                          stratify=train_df['target'],\n",
    "                                          shuffle=True,\n",
    "                                          random_state=seed)\n",
    "\n",
    "print(\"train size: \", train_data.shape[0])\n",
    "print(\"valid size: \", valid_data.shape[0])\n",
    "'''"
   ]
  },
  {
   "cell_type": "markdown",
   "metadata": {},
   "source": [
    "# Model"
   ]
  },
  {
   "cell_type": "code",
   "execution_count": 27,
   "metadata": {},
   "outputs": [],
   "source": [
    "import multiprocessing\n",
    "import itertools\n",
    "import xgboost as xgb\n",
    "import lightgbm as lgb\n",
    "import catboost as cb\n",
    "from xgboost import plot_importance\n",
    "from sklearn.model_selection import StratifiedKFold, KFold\n",
    "from skopt.space import Real, Integer\n",
    "from skopt.utils import use_named_args\n",
    "from skopt import gp_minimize\n",
    "from sklearn.metrics import confusion_matrix\n",
    "from sklearn.metrics import accuracy_score\n",
    "from sklearn.metrics import precision_score, recall_score, f1_score, roc_auc_score\n",
    "import warnings\n",
    "\n",
    "warnings.filterwarnings('ignore')"
   ]
  },
  {
   "cell_type": "markdown",
   "metadata": {},
   "source": [
    "## XGBoost"
   ]
  },
  {
   "cell_type": "code",
   "execution_count": 83,
   "metadata": {},
   "outputs": [],
   "source": [
    "num_of_iter = 1000000\n",
    "num_early_stopping = 4000\n",
    "num_verbose_eval = 5000"
   ]
  },
  {
   "cell_type": "code",
   "execution_count": 90,
   "metadata": {},
   "outputs": [],
   "source": [
    "sk_params = {\n",
    "    'learning_rate': 0.01,\n",
    "    'n_estimators': num_of_iter,                                   \n",
    "    'objective': 'binary:logistic', \n",
    "    'n_jobs': multiprocessing.cpu_count(),\n",
    "    'tree_method': \"gpu_hist\",  # auto, hist, gpu_hist\n",
    "    'n_gpus': -1,\n",
    "    'eval_metric': ['auc'], # 'logloss'\n",
    "    'random_state':  seed,\n",
    "    'verbosity': 2,\n",
    "    #'gamma': 0, # Minimum loss reduction required to make a further partition on a leaf node of the tree, alias min_split_loss. It acts as a regularization parameter. Either 0, 1 or 5.\n",
    "    'max_depth': 5, # 0 means no limit (useful only for depth wise grow policy).\n",
    "    'min_child_weight': 10.0, # Minimum sum of instance weight (hessian) needed in a child.\n",
    "    'subsample': 0.335, # Subsample ratio of the training instances.\n",
    "    'colsample_bytree': 0.04, # subsample ratio of columns when constructing each tree.\n",
    "    #'colsample_bylevel': 1, # subsample ratio of columns for each level.\n",
    "    'reg_lambda': 3, # L2 regularization. Increasing this value will make model more conservative.\n",
    "    #'reg_alpha': 3, # L1 regularization. Increasing this value will make model more conservative.\n",
    "    #'scale_pos_weight': 1, # Control the balance of positive and negative weights, useful for unbalanced classes.\n",
    "    #'grow_policy': \"lossguide\", # split at nodes with highest loss change.\n",
    "    'max_leaves': 13, # Maximum number of nodes to be added. (for lossguide grow policy).\n",
    "    'max_bin': 100, # Increasing this number improves the optimality of splits at the cost of higher computation time.\n",
    "}"
   ]
  },
  {
   "cell_type": "code",
   "execution_count": 7,
   "metadata": {},
   "outputs": [
    {
     "name": "stdout",
     "output_type": "stream",
     "text": [
      "[0]\tvalidation_0-auc:0.563491\tvalidation_1-auc:0.557731\n",
      "Multiple eval metrics have been passed: 'validation_1-auc' will be used for early stopping.\n",
      "\n",
      "Will train until validation_1-auc hasn't improved in 4000 rounds.\n",
      "[5000]\tvalidation_0-auc:0.925126\tvalidation_1-auc:0.896326\n",
      "[10000]\tvalidation_0-auc:0.941072\tvalidation_1-auc:0.900325\n",
      "[15000]\tvalidation_0-auc:0.952876\tvalidation_1-auc:0.900694\n",
      "Stopping. Best iteration:\n",
      "[13356]\tvalidation_0-auc:0.949146\tvalidation_1-auc:0.900843\n",
      "\n",
      "CPU times: user 1h 41min 10s, sys: 4min 38s, total: 1h 45min 49s\n",
      "Wall time: 20min 50s\n"
     ]
    }
   ],
   "source": [
    "%%time\n",
    "xgb_clf_draft = xgb.XGBClassifier(**sk_params)\n",
    "eval_set = [(train_data[predictor_cols], train_data[target_col]), \n",
    "            (valid_data[predictor_cols], valid_data[target_col])]\n",
    "\n",
    "xgb_clf_draft.fit(X=train_data[predictor_cols],\n",
    "                  y=train_data[target_col], \n",
    "                  eval_set=eval_set,             \n",
    "                  early_stopping_rounds=num_early_stopping, \n",
    "                  verbose=num_verbose_eval)\n"
   ]
  },
  {
   "cell_type": "code",
   "execution_count": 87,
   "metadata": {},
   "outputs": [],
   "source": [
    "num_folds = 11\n",
    "folds = StratifiedKFold(n_splits=num_folds, shuffle=False, random_state=2319)\n",
    "oof = np.zeros(train_part_1_df.shape[0])\n",
    "oof_2 = np.zeros(train_part_2_df.shape[0])\n",
    "y_predictions = np.zeros(test_df.shape[0])"
   ]
  },
  {
   "cell_type": "code",
   "execution_count": 86,
   "metadata": {},
   "outputs": [],
   "source": [
    "predictor_cols = features = [c for c in train_part_1_df.columns if c not in ['ID_code', 'target', 'date']]"
   ]
  },
  {
   "cell_type": "code",
   "execution_count": null,
   "metadata": {},
   "outputs": [
    {
     "name": "stdout",
     "output_type": "stream",
     "text": [
      "===== Fold 0 =====\n",
      "[0]\tvalidation_0-auc:0.524262\tvalidation_1-auc:0.528282\n",
      "Multiple eval metrics have been passed: 'validation_1-auc' will be used for early stopping.\n",
      "\n",
      "Will train until validation_1-auc hasn't improved in 4000 rounds.\n",
      "[5000]\tvalidation_0-auc:0.93808\tvalidation_1-auc:0.896612\n",
      "[10000]\tvalidation_0-auc:0.95696\tvalidation_1-auc:0.898474\n",
      "Stopping. Best iteration:\n",
      "[7702]\tvalidation_0-auc:0.948948\tvalidation_1-auc:0.898711\n",
      "\n",
      "===== Fold 1 =====\n",
      "[0]\tvalidation_0-auc:0.52261\tvalidation_1-auc:0.529029\n",
      "Multiple eval metrics have been passed: 'validation_1-auc' will be used for early stopping.\n",
      "\n",
      "Will train until validation_1-auc hasn't improved in 4000 rounds.\n",
      "[5000]\tvalidation_0-auc:0.937875\tvalidation_1-auc:0.897868\n",
      "[10000]\tvalidation_0-auc:0.957005\tvalidation_1-auc:0.898187\n",
      "Stopping. Best iteration:\n",
      "[7992]\tvalidation_0-auc:0.950111\tvalidation_1-auc:0.898544\n",
      "\n"
     ]
    }
   ],
   "source": [
    "for fold_, (train_idx, val_idx) in enumerate(folds.split(train_part_1_df[predictor_cols].values,\n",
    "                                                         train_part_1_df[target_col].values)):\n",
    "    print(\"===== Fold {} =====\".format(fold_))\n",
    "    \n",
    "    train_X, train_y = train_part_1_df.iloc[train_idx][predictor_cols], train_part_1_df.iloc[train_idx][target_col] \n",
    "    valid_X, valid_y = train_part_1_df.iloc[val_idx][predictor_cols], train_part_1_df.iloc[val_idx][target_col]\n",
    "    eval_set = [(train_X, train_y), (valid_X, valid_y)]\n",
    "    cv_model = xgb.XGBClassifier(**sk_params)\n",
    "    cv_model.fit(X=train_X,\n",
    "                 y=train_y, \n",
    "                 eval_set=eval_set,             \n",
    "                 early_stopping_rounds=num_early_stopping, \n",
    "                 verbose=num_verbose_eval) \n",
    "    \n",
    "    oof[val_idx] = cv_model.predict_proba(train_part_1_df.iloc[val_idx][predictor_cols], \n",
    "                                          ntree_limit=cv_model.best_iteration)[:, 1]\n",
    "    oof_2[val_idx] = cv_model.predict_proba(train_part_1_df.iloc[val_idx][predictor_cols], \n",
    "                                          ntree_limit=cv_model.best_iteration)[:, 1]\n",
    "    y_predictions +=  cv_model.predict_proba(test_df[predictor_cols], \n",
    "                                             ntree_limit=cv_model.best_iteration)[:, 1] / folds.n_splits\n",
    "    \n",
    "print(\"CV score: {:<8.10f}\".format(roc_auc_score(train_part_1_df[target_col], oof)))   \n"
   ]
  },
  {
   "cell_type": "code",
   "execution_count": 8,
   "metadata": {
    "scrolled": true
   },
   "outputs": [
    {
     "data": {
      "text/plain": [
       "Text(0.5, 1.0, 'Loss')"
      ]
     },
     "execution_count": 8,
     "metadata": {},
     "output_type": "execute_result"
    },
    {
     "data": {
      "image/png": "[encoded data removed]",
      "text/plain": [
       "<Figure size 432x288 with 1 Axes>"
      ]
     },
     "metadata": {},
     "output_type": "display_data"
    }
   ],
   "source": [
    "loss = xgb_clf_draft.evals_result()\n",
    "train_loss = loss['validation_0']['auc']\n",
    "valid_loss = loss['validation_1']['auc']\n",
    "iteration = range(len(train_loss))\n",
    "plt.plot(iteration, train_loss, 'b-', \n",
    "         iteration, valid_loss, 'r-')\n",
    "plt.legend(['Training', 'Validation'])\n",
    "plt.title('Loss')\n"
   ]
  },
  {
   "cell_type": "code",
   "execution_count": null,
   "metadata": {
    "scrolled": true
   },
   "outputs": [],
   "source": [
    "pred_clf = xgb_clf_draft.predict(valid_data[predictor_cols], \n",
    "                                 ntree_limit=xgb_clf_draft.best_iteration)[:, 1]\n",
    "\n",
    "#y_pred = np.argmax(pred_clf >= 0.5, 1)\n",
    "y_true = valid_data[target].values.tolist()\n",
    "print('Default setting accuracy: {:.4f}%'.format(accuracy_score(y_true, pred_clf) * 100))\n"
   ]
  },
  {
   "cell_type": "code",
   "execution_count": 81,
   "metadata": {},
   "outputs": [
    {
     "name": "stdout",
     "output_type": "stream",
     "text": [
      "Thresh=0.00239, n=200, Accuracy: 92.08%\n",
      "Thresh=0.00265, n=190, Accuracy: 92.17%\n",
      "Thresh=0.00272, n=180, Accuracy: 92.15%\n",
      "Thresh=0.00282, n=170, Accuracy: 92.19%\n",
      "Thresh=0.00296, n=160, Accuracy: 92.19%\n",
      "Thresh=0.00308, n=150, Accuracy: 92.19%\n",
      "Thresh=0.00318, n=140, Accuracy: 92.05%\n",
      "Thresh=0.00346, n=130, Accuracy: 92.16%\n",
      "Thresh=0.00358, n=120, Accuracy: 92.18%\n",
      "Thresh=0.00389, n=110, Accuracy: 91.96%\n"
     ]
    }
   ],
   "source": [
    "y_true = valid_data[target].values.tolist()\n",
    "thresholds = np.sort(xgb_clf_draft.feature_importances_)\n",
    "target_thresholds = list(map(lambda x:thresholds[x], range(0, thresholds.shape[0]//2, 10)))\n",
    "\n",
    "for thresh in target_thresholds:\n",
    "    # select features using threshold\n",
    "    selection = SelectFromModel(xgb_clf_draft, threshold=thresh, prefit=True)\n",
    "    select_train_data = selection.transform(train_data[predictors])\n",
    "    select_valid_data = selection.transform(valid_data[predictors])\n",
    "    \n",
    "    # train model\n",
    "    eval_set = [(select_train_data, train_data[target]), (select_valid_data, valid_data[target])]\n",
    "    selection_model = xgb.XGBClassifier(**sk_params)\n",
    "    selection_model.fit(X=select_train_data,\n",
    "                        y=train_data[target], \n",
    "                        eval_set=eval_set,  \n",
    "                        early_stopping_rounds=num_early_stopping, \n",
    "                        verbose=False)\n",
    "    # eval model\n",
    "    select_valid_data = selection.transform(valid_data[predictors])\n",
    "    y_pred = selection_model.predict(select_valid_data, ntree_limit=selection_model.best_iteration)\n",
    "    accuracy = accuracy_score(y_true, y_pred)\n",
    "    print(\"Thresh=%.5f, n=%d, Accuracy: %.2f%%\" % (thresh, select_train_data.shape[1], accuracy*100.0))"
   ]
  },
  {
   "cell_type": "code",
   "execution_count": null,
   "metadata": {},
   "outputs": [],
   "source": [
    "fig, ax = plt.subplots(figsize=(15, 15))\n",
    "xgb.plot_importance(xgb_clf, importance_type='gain', max_num_features=30, height=0.5, ax=ax)"
   ]
  },
  {
   "cell_type": "markdown",
   "metadata": {},
   "source": [
    "# LightGBM"
   ]
  },
  {
   "cell_type": "code",
   "execution_count": 28,
   "metadata": {},
   "outputs": [],
   "source": [
    "num_of_iter = 1000000\n",
    "num_early_stopping = 4000\n",
    "num_verbose_eval = 5000\n",
    "seed = 2319"
   ]
  },
  {
   "cell_type": "code",
   "execution_count": 7,
   "metadata": {},
   "outputs": [],
   "source": [
    "labels_weight = train_df['target'].value_counts()[0] / train_df['target'].value_counts()[1]\n",
    "\n",
    "sk_params = {\n",
    "    'boosting_type': 'gbdt', # goss, dart\n",
    "    'subsample_freq': 5,\n",
    "    'num_leaves': 13,\n",
    "    'max_depth': -1,\n",
    "    'learning_rate': 0.0083,\n",
    "    'n_estimators': num_of_iter,\n",
    "    #'subsample_for_bin': 200000,  # Number of samples for constructing bin\n",
    "    'objective': 'binary',\n",
    "    'metrics': ['auc'],\n",
    "    #'min_split_gain': 0,  # lambda_l1, lambda_l2 and min_gain_to_split to regularization\n",
    "    'min_child_weight': 10.0,  # Minimum sum of instance weight(hessian) needed in a child(leaf)\n",
    "    'min_child_samples': 80,  # Minimum number of data need in a child(min_data_in_leaf)\n",
    "    'subsample': 0.335,\n",
    "    'colsample_bytree': 0.041,\n",
    "    #'reg_alpha': 3,  # L1 regularization term on weights\n",
    "    #'reg_lambda': 3,\n",
    "    'random_state': seed,\n",
    "    'n_jobs': multiprocessing.cpu_count(),\n",
    "    #'scale_pos_weight': labels_weight,\n",
    "    #'max_bin': 255,\n",
    "    'boost_from_average':'false',\n",
    "    'tree_learner': 'serial'\n",
    "}\n"
   ]
  },
  {
   "cell_type": "code",
   "execution_count": 30,
   "metadata": {},
   "outputs": [],
   "source": [
    "predictor_cols = [c for c in train_df.columns if c not in ['ID_code', 'target']]\n",
    "\n",
    "#categorical_cols = [f + '_' + 'bin' for f in convert_predictor_cols]"
   ]
  },
  {
   "cell_type": "code",
   "execution_count": 48,
   "metadata": {},
   "outputs": [],
   "source": [
    "predictor_cols = ['var_2', 'var_6', 'var_191', 'new_var']\n",
    "feature_1 = 'var_2'\n",
    "feature_2 = 'var_6'\n",
    "feature_3 = 'var_191'"
   ]
  },
  {
   "cell_type": "code",
   "execution_count": 49,
   "metadata": {},
   "outputs": [],
   "source": [
    "train_df['new_var'] = np.sqrt(train_df[feature_1].values) + np.sqrt(train_df[feature_2].values) + np.sqrt(abs(train_df[feature_3].values))\n"
   ]
  },
  {
   "cell_type": "code",
   "execution_count": 31,
   "metadata": {},
   "outputs": [],
   "source": [
    "from sklearn.model_selection import train_test_split\n",
    "\n",
    "split_probability = 0.3\n",
    "seed = 23191\n",
    "tmp_train_df, tmp_valid_df = train_test_split(train_df,\n",
    "                                              test_size=split_probability, \n",
    "                                              stratify=train_df[target_col],\n",
    "                                              shuffle=True,\n",
    "                                              random_state=seed)\n"
   ]
  },
  {
   "cell_type": "code",
   "execution_count": 33,
   "metadata": {},
   "outputs": [],
   "source": [
    "train_X, train_y = tmp_train_df[predictor_cols], tmp_train_df[target_col]\n",
    "valid_X, valid_y = tmp_valid_df[predictor_cols], tmp_valid_df[target_col]"
   ]
  },
  {
   "cell_type": "code",
   "execution_count": 34,
   "metadata": {},
   "outputs": [],
   "source": [
    "labels_weight = train_df['target'].value_counts()[0] / train_df['target'].value_counts()[1]\n",
    "\n",
    "sk_params = {\n",
    "    'boosting_type': 'gbdt', # goss, dart\n",
    "    'subsample_freq': 5,\n",
    "    'num_leaves': 80,\n",
    "    'max_depth': 7,\n",
    "    'learning_rate': 0.1,\n",
    "    'n_estimators': num_of_iter,\n",
    "    #'subsample_for_bin': 200000,  # Number of samples for constructing bin\n",
    "    'objective': 'binary',\n",
    "    'metrics': ['auc'],\n",
    "    #'min_split_gain': 0,  # lambda_l1, lambda_l2 and min_gain_to_split to regularization\n",
    "    'min_child_weight': 10.0,  # Minimum sum of instance weight(hessian) needed in a child(leaf)\n",
    "    'min_child_samples': 80,  # Minimum number of data need in a child(min_data_in_leaf)\n",
    "    'subsample': 0.8,\n",
    "    'colsample_bytree': 0.8,\n",
    "    #'reg_alpha': 3,  # L1 regularization term on weights\n",
    "    #'reg_lambda': 3,\n",
    "    'random_state': seed,\n",
    "    'n_jobs': multiprocessing.cpu_count(),\n",
    "    #'scale_pos_weight': labels_weight,\n",
    "    #'max_bin': 255,\n",
    "    'boost_from_average':'false',\n",
    "    'tree_learner': 'serial'\n",
    "}"
   ]
  },
  {
   "cell_type": "code",
   "execution_count": 35,
   "metadata": {},
   "outputs": [
    {
     "name": "stdout",
     "output_type": "stream",
     "text": [
      "Training until validation scores don't improve for 4000 rounds.\n",
      "[5000]\ttraining's auc: 0.999962\tvalid_1's auc: 0.909139\n",
      "Early stopping, best iteration is:\n",
      "[5855]\ttraining's auc: 0.999959\tvalid_1's auc: 0.909181\n"
     ]
    },
    {
     "data": {
      "text/plain": [
       "LGBMClassifier(boost_from_average='false', boosting_type='gbdt',\n",
       "        class_weight=None, colsample_bytree=0.8, importance_type='split',\n",
       "        learning_rate=0.1, max_depth=7, metrics=['auc'],\n",
       "        min_child_samples=80, min_child_weight=10.0, min_split_gain=0.0,\n",
       "        n_estimators=1000000, n_jobs=8, num_leaves=80, objective='binary',\n",
       "        random_state=23191, reg_alpha=0.0, reg_lambda=0.0, silent=True,\n",
       "        subsample=0.8, subsample_for_bin=200000, subsample_freq=5,\n",
       "        tree_learner='serial')"
      ]
     },
     "execution_count": 35,
     "metadata": {},
     "output_type": "execute_result"
    }
   ],
   "source": [
    "eval_set = [(train_X, train_y), (valid_X, valid_y)]\n",
    "cv_model = lgb.LGBMClassifier(**sk_params)\n",
    "cv_model.fit(X=train_X,\n",
    "             y=train_y, \n",
    "             eval_set=eval_set,             \n",
    "             early_stopping_rounds=num_early_stopping, \n",
    "             verbose=num_verbose_eval) # categorical_feature=categorical_cols"
   ]
  },
  {
   "cell_type": "code",
   "execution_count": 36,
   "metadata": {
    "scrolled": true
   },
   "outputs": [
    {
     "name": "stdout",
     "output_type": "stream",
     "text": [
      "\n",
      " >> CV score: 0.9091812049\n"
     ]
    }
   ],
   "source": [
    "oof = cv_model.predict_proba(tmp_valid_df[predictor_cols], \n",
    "                             ntree_limit=cv_model.best_iteration_)[:, 1]\n",
    "print(\"\\n >> CV score: {:<8.10f}\".format(roc_auc_score(tmp_valid_df[target_col], oof)))\n"
   ]
  },
  {
   "cell_type": "code",
   "execution_count": 37,
   "metadata": {},
   "outputs": [
    {
     "data": {
      "text/plain": [
       "<matplotlib.axes._subplots.AxesSubplot at 0x7f63dccda550>"
      ]
     },
     "execution_count": 37,
     "metadata": {},
     "output_type": "execute_result"
    },
    {
     "data": {
      "image/png": "[encoded data removed]",
      "text/plain": [
       "<Figure size 432x288 with 1 Axes>"
      ]
     },
     "metadata": {},
     "output_type": "display_data"
    }
   ],
   "source": [
    "lgb.plot_importance(cv_model, max_num_features=25, height=0.5, importance_type='split')\n"
   ]
  },
  {
   "cell_type": "code",
   "execution_count": 38,
   "metadata": {},
   "outputs": [],
   "source": [
    "y_predictions = cv_model.predict_proba(test_df[predictor_cols], \n",
    "                                       ntree_limit=cv_model.best_iteration_)[:, 1]"
   ]
  },
  {
   "cell_type": "code",
   "execution_count": 39,
   "metadata": {},
   "outputs": [],
   "source": [
    "file_name = 'lgb_submission_use_unique.csv'\n",
    "submission_df = test_df[['ID_code']]\n",
    "submission_df['target'] = y_predictions\n",
    "submission_df.to_csv(file_name, header=True, index=False, mode='w')\n"
   ]
  },
  {
   "cell_type": "code",
   "execution_count": 25,
   "metadata": {},
   "outputs": [],
   "source": [
    "from imblearn.over_sampling import SMOTE\n",
    "smote = SMOTE(ratio='minority', n_jobs=multiprocessing.cpu_count())"
   ]
  },
  {
   "cell_type": "code",
   "execution_count": 40,
   "metadata": {},
   "outputs": [],
   "source": [
    "@jit\n",
    "def augment(x, y, t=2, shuff_features=200):\n",
    "    xs, xn = [], []\n",
    "    for i in range(t):\n",
    "        mask = y > 0\n",
    "        x1 = x[mask].copy()\n",
    "        ids = np.arange(x1.shape[0])\n",
    "        for c in range(x1.shape[1]):\n",
    "            np.random.shuffle(ids)\n",
    "            x1[:, c] = x1[ids][:, c]\n",
    "        xs.append(x1)\n",
    "\n",
    "    for i in range(t//2):\n",
    "        mask = y==0\n",
    "        x1 = x[mask].copy()\n",
    "        ids = np.arange(x1.shape[0])\n",
    "        for c in range(x1.shape[1]):\n",
    "            np.random.shuffle(ids)\n",
    "            x1[:, c] = x1[ids][:, c]\n",
    "        xn.append(x1)\n",
    "\n",
    "    xs = np.vstack(xs)\n",
    "    xn = np.vstack(xn)\n",
    "    ys = np.ones(xs.shape[0])\n",
    "    yn = np.zeros(xn.shape[0])\n",
    "    x = np.vstack([x, xs, xn])\n",
    "    y = np.concatenate([y, ys, yn])\n",
    "    return x, y"
   ]
  },
  {
   "cell_type": "code",
   "execution_count": 41,
   "metadata": {},
   "outputs": [],
   "source": [
    "predictor_cols = [c for c in train_df.columns if c not in ['ID_code', 'target']]\n",
    "# predictor_cols = features = [c for c in train_part_1_df.columns if c not in ['ID_code', 'target', 'date']]"
   ]
  },
  {
   "cell_type": "code",
   "execution_count": 39,
   "metadata": {},
   "outputs": [],
   "source": [
    "num_folds = 10\n",
    "#folds = StratifiedKFold(n_splits=num_folds, shuffle=True, random_state=2319)\n",
    "folds = KFold(n_splits=num_folds, shuffle=False, random_state=2319)"
   ]
  },
  {
   "cell_type": "code",
   "execution_count": 64,
   "metadata": {},
   "outputs": [],
   "source": [
    "from sklearn.preprocessing import StandardScaler\n",
    "sc = StandardScaler()\n",
    "train_features = sc.fit_transform(train_df[features])\n",
    "test_features = sc.transform(test_df[features])\n",
    "sc_train_df = pd.DataFrame(train_features, columns=features)\n",
    "sc_test_df = pd.DataFrame(test_features, columns=features)"
   ]
  },
  {
   "cell_type": "code",
   "execution_count": 10,
   "metadata": {
    "scrolled": false
   },
   "outputs": [],
   "source": [
    "def cv_training(_data, _test_data, _predictor_cols, _target_col, _is_augment=False):\n",
    "    y_predictions = np.zeros(_test_data.shape[0]) \n",
    "    oof = np.zeros(train_df.shape[0])\n",
    "\n",
    "    for fold_, (trn_idx, val_idx) in enumerate(folds.split(_data[_predictor_cols].values,\n",
    "                                                           _data[_target_col].values)):\n",
    "        print(\"===== Fold {} =====\".format(fold_))\n",
    "        \n",
    "        train_X, train_y = _data.iloc[trn_idx][_predictor_cols], _data.iloc[trn_idx][_target_col] \n",
    "        valid_X, valid_y = _data.iloc[val_idx][_predictor_cols], _data.iloc[val_idx][_target_col]\n",
    "        if _is_augment:\n",
    "            over_train_x, over_trian_y = augment(train_X.values, train_y.values)\n",
    "            over_train_x_df = pd.DataFrame(over_train_x)\n",
    "            eval_set = [(over_train_x, over_trian_y), (valid_X, valid_y)]\n",
    "            cv_model = lgb.LGBMClassifier(**sk_params)\n",
    "            cv_model.fit(X=over_train_x,\n",
    "                         y=over_trian_y, \n",
    "                         eval_set=eval_set,             \n",
    "                         early_stopping_rounds=num_early_stopping, \n",
    "                         verbose=num_verbose_eval)\n",
    "        else:\n",
    "            eval_set = [(train_X, train_y), (valid_X, valid_y)]\n",
    "            cv_model = lgb.LGBMClassifier(**sk_params)\n",
    "            cv_model.fit(X=train_X,\n",
    "                         y=train_y, \n",
    "                         eval_set=eval_set,             \n",
    "                         early_stopping_rounds=num_early_stopping, \n",
    "                         verbose=num_verbose_eval)\n",
    "                     #categorical_feature=list(convert_to_categories_cols)) \n",
    "\n",
    "        oof[val_idx] = cv_model.predict_proba(_data.iloc[val_idx][_predictor_cols], \n",
    "                                              ntree_limit=cv_model.best_iteration_)[:, 1]\n",
    "        #oof_2 = cv_model.predict_proba(train_part_2_df[predictor_cols], \n",
    "        #                               ntree_limit=cv_model.best_iteration_)[:, 1]     \n",
    "        #oof_2_df = pd.DataFrame(oof_2, columns=['oof_{}'.format(fold_)])\n",
    "        #part_2_df = pd.concat([part_2_df, oof_2_df], axis=1)\n",
    "\n",
    "        y_predictions += cv_model.predict_proba(_test_data[_predictor_cols], \n",
    "                                               ntree_limit=cv_model.best_iteration_)[:, 1] / folds.n_splits\n",
    "        #y_pred_tmp_df = pd.DataFrame(y_predictions, columns=['oof_{}'.format(fold_)])\n",
    "        #y_pred_df = pd.concat([y_pred_df, y_pred_tmp_df], axis=1)\n",
    "\n",
    "    print(\"\\n >> CV score: {:<8.10f}\".format(roc_auc_score(_data[_target_col], oof)))       \n",
    "    return y_predictions, roc_auc_score(_data[_target_col], oof)\n"
   ]
  },
  {
   "cell_type": "code",
   "execution_count": 43,
   "metadata": {},
   "outputs": [],
   "source": [
    "def cv_stacking(_data_part_1, _data_part_2, _test_data, _predictor_cols, _target_col,\n",
    "                _is_augment=False):\n",
    "    y_predictions = np.zeros(_test_data.shape[0]) \n",
    "    oof_1 = np.zeros(train_part_1_df.shape[0])\n",
    "    oof_2 = np.zeros(train_part_2_df.shape[0])\n",
    "    train_level_2_df = pd.DataFrame()\n",
    "    test_level_2_df = pd.DataFrame()\n",
    "    \n",
    "    for fold_, (trn_idx, val_idx) in enumerate(folds.split(_data_part_1[_predictor_cols].values,\n",
    "                                                           _data_part_1[_target_col].values)):\n",
    "        print(\"===== Fold {} =====\".format(fold_))\n",
    "        \n",
    "        train_X, train_y = _data_part_1.iloc[trn_idx][_predictor_cols], _data_part_1.iloc[trn_idx][_target_col] \n",
    "        valid_X, valid_y = _data_part_1.iloc[val_idx][_predictor_cols], _data_part_1.iloc[val_idx][_target_col]\n",
    "        if _is_augment:\n",
    "            over_train_x, over_trian_y = augment(train_X.values, train_y.values)\n",
    "            over_train_x_df = pd.DataFrame(over_train_x)\n",
    "            eval_set = [(over_train_x, over_trian_y), (valid_X, valid_y)]\n",
    "            cv_model = lgb.LGBMClassifier(**sk_params)\n",
    "            cv_model.fit(X=over_train_x,\n",
    "                         y=over_trian_y, \n",
    "                         eval_set=eval_set,             \n",
    "                         early_stopping_rounds=num_early_stopping, \n",
    "                         verbose=num_verbose_eval)\n",
    "        else:\n",
    "            eval_set = [(train_X, train_y), (valid_X, valid_y)]\n",
    "            cv_model = lgb.LGBMClassifier(**sk_params)\n",
    "            cv_model.fit(X=train_X,\n",
    "                         y=train_y, \n",
    "                         eval_set=eval_set,             \n",
    "                         early_stopping_rounds=num_early_stopping, \n",
    "                         verbose=num_verbose_eval)\n",
    "                     #categorical_feature=list(convert_to_categories_cols)) \n",
    "\n",
    "        oof_1[val_idx] = cv_model.predict_proba(_data_part_1.iloc[val_idx][_predictor_cols], \n",
    "                                                ntree_limit=cv_model.best_iteration_)[:, 1]\n",
    "        \n",
    "        oof_2 = cv_model.predict_proba(_data_part_2[predictor_cols], \n",
    "                                        ntree_limit=cv_model.best_iteration_)[:, 1]     \n",
    "        \n",
    "        oof_2_df = pd.DataFrame(oof_2, columns=['oof_{}'.format(fold_)])\n",
    "        train_level_2_df = pd.concat([train_level_2_df, oof_2_df], axis=1)\n",
    "\n",
    "        y_predictions += cv_model.predict_proba(_test_data[_predictor_cols], \n",
    "                                               ntree_limit=cv_model.best_iteration_)[:, 1] / folds.n_splits\n",
    "        y_pred_tmp_df = pd.DataFrame(y_predictions, columns=['oof_{}'.format(fold_)])\n",
    "        test_level_2_df = pd.concat([test_level_2_df, y_pred_tmp_df], axis=1)\n",
    "\n",
    "    print(\"\\n >> CV score: {:<8.10f}\".format(roc_auc_score(_data_part_1[_target_col], oof_1)))       \n",
    "    return train_level_2_df, test_level_2_df, roc_auc_score(_data[_target_col], oof)\n"
   ]
  },
  {
   "cell_type": "code",
   "execution_count": 68,
   "metadata": {},
   "outputs": [],
   "source": [
    "sc_train_df = pd.concat([sc_train_df, train_df[features]], axis=1)\n",
    "sc_test_df = pd.concat([sc_test_df, test_df[features]], axis=1)"
   ]
  },
  {
   "cell_type": "code",
   "execution_count": null,
   "metadata": {
    "scrolled": true
   },
   "outputs": [
    {
     "name": "stdout",
     "output_type": "stream",
     "text": [
      "===== Fold 0 =====\n",
      "Training until validation scores don't improve for 4000 rounds.\n",
      "[5000]\tvalid_0's auc: 0.911777\tvalid_1's auc: 0.891115\n",
      "[10000]\tvalid_0's auc: 0.921512\tvalid_1's auc: 0.895066\n",
      "[15000]\tvalid_0's auc: 0.92876\tvalid_1's auc: 0.896091\n",
      "[20000]\tvalid_0's auc: 0.935329\tvalid_1's auc: 0.896092\n",
      "Early stopping, best iteration is:\n",
      "[16704]\tvalid_0's auc: 0.931034\tvalid_1's auc: 0.896435\n",
      "===== Fold 1 =====\n",
      "Training until validation scores don't improve for 4000 rounds.\n",
      "[5000]\tvalid_0's auc: 0.910914\tvalid_1's auc: 0.903078\n",
      "[10000]\tvalid_0's auc: 0.920691\tvalid_1's auc: 0.908554\n",
      "[15000]\tvalid_0's auc: 0.928017\tvalid_1's auc: 0.909565\n",
      "Early stopping, best iteration is:\n",
      "[14911]\tvalid_0's auc: 0.927895\tvalid_1's auc: 0.909584\n",
      "===== Fold 2 =====\n",
      "Training until validation scores don't improve for 4000 rounds.\n",
      "[5000]\tvalid_0's auc: 0.911766\tvalid_1's auc: 0.890725\n",
      "[10000]\tvalid_0's auc: 0.921614\tvalid_1's auc: 0.89397\n",
      "[15000]\tvalid_0's auc: 0.928868\tvalid_1's auc: 0.894558\n",
      "Early stopping, best iteration is:\n",
      "[15491]\tvalid_0's auc: 0.929553\tvalid_1's auc: 0.894661\n",
      "===== Fold 3 =====\n",
      "Training until validation scores don't improve for 4000 rounds.\n",
      "[10000]\tvalid_0's auc: 0.920877\tvalid_1's auc: 0.904965\n",
      "[15000]\tvalid_0's auc: 0.928137\tvalid_1's auc: 0.905516\n",
      "Early stopping, best iteration is:\n",
      "[15931]\tvalid_0's auc: 0.929413\tvalid_1's auc: 0.905581\n",
      "===== Fold 4 =====\n",
      "Training until validation scores don't improve for 4000 rounds.\n",
      "[5000]\tvalid_0's auc: 0.911702\tvalid_1's auc: 0.890591\n",
      "[10000]\tvalid_0's auc: 0.921349\tvalid_1's auc: 0.894028\n",
      "[15000]\tvalid_0's auc: 0.928655\tvalid_1's auc: 0.894472\n",
      "Early stopping, best iteration is:\n",
      "[14781]\tvalid_0's auc: 0.928356\tvalid_1's auc: 0.894594\n",
      "===== Fold 5 =====\n",
      "Training until validation scores don't improve for 4000 rounds.\n",
      "[5000]\tvalid_0's auc: 0.911383\tvalid_1's auc: 0.886464\n",
      "[10000]\tvalid_0's auc: 0.921285\tvalid_1's auc: 0.889092\n",
      "[15000]\tvalid_0's auc: 0.928591\tvalid_1's auc: 0.888997\n",
      "Early stopping, best iteration is:\n",
      "[11745]\tvalid_0's auc: 0.923962\tvalid_1's auc: 0.889343\n",
      "===== Fold 6 =====\n",
      "[5000]\tvalid_0's auc: 0.911557\tvalid_1's auc: 0.90246\n",
      "[10000]\tvalid_0's auc: 0.921405\tvalid_1's auc: 0.907429\n",
      "[15000]\tvalid_0's auc: 0.92875\tvalid_1's auc: 0.90769\n",
      "Early stopping, best iteration is:\n",
      "[11890]\tvalid_0's auc: 0.924302\tvalid_1's auc: 0.907876\n",
      "===== Fold 7 =====\n",
      "Training until validation scores don't improve for 4000 rounds.\n",
      "[5000]\tvalid_0's auc: 0.911239\tvalid_1's auc: 0.901679\n",
      "[10000]\tvalid_0's auc: 0.92106\tvalid_1's auc: 0.904913\n",
      "[15000]\tvalid_0's auc: 0.928356\tvalid_1's auc: 0.905201\n",
      "Early stopping, best iteration is:\n",
      "[12885]\tvalid_0's auc: 0.925391\tvalid_1's auc: 0.905289\n",
      "===== Fold 8 =====\n",
      "Training until validation scores don't improve for 4000 rounds.\n",
      "[5000]\tvalid_0's auc: 0.911718\tvalid_1's auc: 0.889539\n",
      "[10000]\tvalid_0's auc: 0.921425\tvalid_1's auc: 0.892387\n",
      "[15000]\tvalid_0's auc: 0.928663\tvalid_1's auc: 0.892399\n",
      "Early stopping, best iteration is:\n",
      "[12635]\tvalid_0's auc: 0.925355\tvalid_1's auc: 0.89274\n",
      "===== Fold 9 =====\n",
      "Training until validation scores don't improve for 4000 rounds.\n",
      "[5000]\tvalid_0's auc: 0.911055\tvalid_1's auc: 0.898493\n",
      "[10000]\tvalid_0's auc: 0.920853\tvalid_1's auc: 0.901817\n",
      "[15000]\tvalid_0's auc: 0.928185\tvalid_1's auc: 0.90232\n",
      "Early stopping, best iteration is:\n",
      "[13390]\tvalid_0's auc: 0.925955\tvalid_1's auc: 0.90235\n",
      "===== Fold 10 =====\n",
      "Training until validation scores don't improve for 4000 rounds.\n",
      "[5000]\tvalid_0's auc: 0.911355\tvalid_1's auc: 0.894095\n",
      "[10000]\tvalid_0's auc: 0.921082\tvalid_1's auc: 0.896515\n",
      "Early stopping, best iteration is:\n",
      "[9605]\tvalid_0's auc: 0.920448\tvalid_1's auc: 0.896625\n",
      "===== Fold 11 =====\n",
      "Training until validation scores don't improve for 4000 rounds.\n",
      "[5000]\tvalid_0's auc: 0.911454\tvalid_1's auc: 0.900009\n",
      "[10000]\tvalid_0's auc: 0.921211\tvalid_1's auc: 0.903018\n",
      "Early stopping, best iteration is:\n",
      "[9713]\tvalid_0's auc: 0.920744\tvalid_1's auc: 0.903094\n",
      "===== Fold 12 =====\n",
      "Training until validation scores don't improve for 4000 rounds.\n",
      "[5000]\tvalid_0's auc: 0.911843\tvalid_1's auc: 0.899191\n",
      "[10000]\tvalid_0's auc: 0.921595\tvalid_1's auc: 0.901928\n",
      "[15000]\tvalid_0's auc: 0.928855\tvalid_1's auc: 0.90183\n",
      "Early stopping, best iteration is:\n",
      "[12160]\tvalid_0's auc: 0.92482\tvalid_1's auc: 0.902026\n",
      "===== Fold 13 =====\n",
      "Training until validation scores don't improve for 4000 rounds.\n",
      "[5000]\tvalid_0's auc: 0.910562\tvalid_1's auc: 0.903944\n",
      "[10000]\tvalid_0's auc: 0.920342\tvalid_1's auc: 0.907007\n",
      "[15000]\tvalid_0's auc: 0.927743\tvalid_1's auc: 0.907646\n",
      "Early stopping, best iteration is:\n",
      "[15978]\tvalid_0's auc: 0.929102\tvalid_1's auc: 0.907738\n",
      "===== Fold 14 =====\n",
      "Training until validation scores don't improve for 4000 rounds.\n",
      "[5000]\tvalid_0's auc: 0.911457\tvalid_1's auc: 0.900197\n",
      "[10000]\tvalid_0's auc: 0.921294\tvalid_1's auc: 0.902112\n",
      "[15000]\tvalid_0's auc: 0.928569\tvalid_1's auc: 0.902519\n",
      "Early stopping, best iteration is:\n",
      "[14299]\tvalid_0's auc: 0.927581\tvalid_1's auc: 0.90261\n",
      "===== Fold 15 =====\n",
      "Training until validation scores don't improve for 4000 rounds.\n",
      "[5000]\tvalid_0's auc: 0.911512\tvalid_1's auc: 0.898429\n",
      "[10000]\tvalid_0's auc: 0.921239\tvalid_1's auc: 0.901965\n",
      "[15000]\tvalid_0's auc: 0.928523\tvalid_1's auc: 0.901837\n",
      "Early stopping, best iteration is:\n",
      "[11737]\tvalid_0's auc: 0.92389\tvalid_1's auc: 0.902122\n",
      "===== Fold 16 =====\n",
      "Training until validation scores don't improve for 4000 rounds.\n"
     ]
    }
   ],
   "source": [
    "y_pred, auc_score = cv_training(train_df, test_df, predictor_cols, target_col, \n",
    "                                _is_augment=True)\n"
   ]
  },
  {
   "cell_type": "code",
   "execution_count": null,
   "metadata": {
    "scrolled": true
   },
   "outputs": [],
   "source": [
    "train_level_2_df, test_level_2_df, auc_score = cv_stacking(train_part_1_df, \n",
    "                                                           train_part_2_df, test_df, \n",
    "                                                           predictor_cols, \n",
    "                                                           target_col, \n",
    "                                                           _is_augment=True)"
   ]
  },
  {
   "cell_type": "code",
   "execution_count": 13,
   "metadata": {},
   "outputs": [],
   "source": [
    "file_name = 'lgb_submission_only_feature_slice_windows.csv'\n",
    "submission_df = test_df[['ID_code']]\n",
    "submission_df['target'] = y_pred\n",
    "submission_df.to_csv(file_name, header=True, index=False, mode='w')\n"
   ]
  },
  {
   "cell_type": "code",
   "execution_count": 14,
   "metadata": {},
   "outputs": [],
   "source": [
    "# check correlations with previously result\n",
    "from scipy.stats.stats import pearsonr\n",
    "nn_df = pd.read_csv('./nn_submission.csv')\n",
    "cb_df = pd.read_csv('./cb_submission.csv')\n"
   ]
  },
  {
   "cell_type": "code",
   "execution_count": 18,
   "metadata": {},
   "outputs": [
    {
     "data": {
      "text/plain": [
       "(0.9810304282258011, 0.0)"
      ]
     },
     "execution_count": 18,
     "metadata": {},
     "output_type": "execute_result"
    }
   ],
   "source": [
    "pearsonr(nn_df[target_col].values, y_pred)"
   ]
  },
  {
   "cell_type": "code",
   "execution_count": 19,
   "metadata": {},
   "outputs": [
    {
     "data": {
      "text/plain": [
       "(0.9222933162488419, 0.0)"
      ]
     },
     "execution_count": 19,
     "metadata": {},
     "output_type": "execute_result"
    }
   ],
   "source": [
    "pearsonr(cb_df[target_col].values, y_pred)"
   ]
  },
  {
   "cell_type": "markdown",
   "metadata": {},
   "source": [
    "# CatBoost"
   ]
  },
  {
   "cell_type": "code",
   "execution_count": 58,
   "metadata": {},
   "outputs": [],
   "source": [
    "sk_params = {\n",
    "    'loss_function': 'Logloss',\n",
    "    'eval_metric': 'AUC',\n",
    "    'iterations': num_of_iter,\n",
    "    'learning_rate': 0.005,\n",
    "    'random_state': seed,\n",
    "    #'l2_leaf_reg': 0.01,\n",
    "    'bootstrap_type': 'Bernoulli',\n",
    "    'subsample': 0.4, # only use at bootstrap type is [Poisson, Bernoulli]\n",
    "    'use_best_model': True,\n",
    "    'depth': 5,\n",
    "    'one_hot_max_size': 31,\n",
    "    'colsample_bylevel': 0.4,\n",
    "    'leaf_estimation_method': 'Gradient', # [Newton, Gradient]\n",
    "    'class_weights': [1, 8.951238929246692],\n",
    "    'max_bin': 128, # alias max_bin\n",
    "    'use_best_model': True,\n",
    "    'thread_count': multiprocessing.cpu_count()    \n",
    "}"
   ]
  },
  {
   "cell_type": "code",
   "execution_count": 59,
   "metadata": {},
   "outputs": [],
   "source": [
    "num_folds = 11\n",
    "folds = StratifiedKFold(n_splits=num_folds, shuffle=False, random_state=2319)\n",
    "oof_cb = np.zeros(train_df.shape[0])\n",
    "y_predictions_cb = np.zeros(test_df.shape[0])"
   ]
  },
  {
   "cell_type": "code",
   "execution_count": null,
   "metadata": {
    "scrolled": false
   },
   "outputs": [
    {
     "name": "stdout",
     "output_type": "stream",
     "text": [
      "===== Fold 0 =====\n",
      "0:\ttest: 0.6196260\ttest1: 0.5973012\tbest: 0.5973012 (0)\ttotal: 173ms\tremaining: 2d 9m 21s\n",
      "5000:\ttest: 0.9152808\ttest1: 0.8918786\tbest: 0.8918791 (4999)\ttotal: 15m 30s\tremaining: 2d 3h 24m 58s\n",
      "10000:\ttest: 0.9345802\ttest1: 0.8969014\tbest: 0.8969031 (9995)\ttotal: 30m 53s\tremaining: 2d 2h 58m 2s\n",
      "15000:\ttest: 0.9492535\ttest1: 0.8979270\tbest: 0.8979644 (14684)\ttotal: 46m 15s\tremaining: 2d 2h 37m 10s\n",
      "Stopped by overfitting detector  (4000 iterations wait)\n",
      "\n",
      "bestTest = 0.897966414\n",
      "bestIteration = 15066\n",
      "\n",
      "Shrink model to first 15067 iterations.\n",
      "===== Fold 1 =====\n",
      "0:\ttest: 0.6190083\ttest1: 0.6197627\tbest: 0.6197627 (0)\ttotal: 166ms\tremaining: 1d 22h 10m 53s\n",
      "5000:\ttest: 0.9154997\ttest1: 0.8907716\tbest: 0.8907862 (4996)\ttotal: 15m 32s\tremaining: 2d 3h 31m 47s\n",
      "10000:\ttest: 0.9347703\ttest1: 0.8952405\tbest: 0.8952426 (9997)\ttotal: 31m 3s\tremaining: 2d 3h 14m 27s\n",
      "15000:\ttest: 0.9494584\ttest1: 0.8957647\tbest: 0.8957738 (14975)\ttotal: 46m 31s\tremaining: 2d 2h 54m 32s\n",
      "20000:\ttest: 0.9614148\ttest1: 0.8957074\tbest: 0.8958300 (17740)\ttotal: 1h 1m 58s\tremaining: 2d 2h 36m 14s\n",
      "Stopped by overfitting detector  (4000 iterations wait)\n",
      "\n",
      "bestTest = 0.8958300181\n",
      "bestIteration = 17740\n",
      "\n",
      "Shrink model to first 17741 iterations.\n",
      "===== Fold 2 =====\n",
      "0:\ttest: 0.6158167\ttest1: 0.6067051\tbest: 0.6067051 (0)\ttotal: 164ms\tremaining: 1d 21h 31m 46s\n",
      "5000:\ttest: 0.9160472\ttest1: 0.8853484\tbest: 0.8853484 (5000)\ttotal: 15m 35s\tremaining: 2d 3h 41m 43s\n",
      "10000:\ttest: 0.9352336\ttest1: 0.8903059\tbest: 0.8903084 (9998)\ttotal: 31m 7s\tremaining: 2d 3h 20m 57s\n",
      "20000:\ttest: 0.9616629\ttest1: 0.8913218\tbest: 0.8913338 (19844)\ttotal: 1h 2m 5s\tremaining: 2d 2h 42m 16s\n",
      "25000:\ttest: 0.9710616\ttest1: 0.8913313\tbest: 0.8914072 (23842)\ttotal: 1h 17m 30s\tremaining: 2d 2h 22m 46s\n",
      "Stopped by overfitting detector  (4000 iterations wait)\n",
      "\n",
      "bestTest = 0.8914118315\n",
      "bestIteration = 25483\n",
      "\n",
      "Shrink model to first 25484 iterations.\n",
      "===== Fold 3 =====\n",
      "0:\ttest: 0.6174334\ttest1: 0.6137183\tbest: 0.6137183 (0)\ttotal: 165ms\tremaining: 1d 21h 47m 41s\n",
      "5000:\ttest: 0.9151497\ttest1: 0.8965976\tbest: 0.8966082 (4999)\ttotal: 15m 30s\tremaining: 2d 3h 24m 4s\n",
      "10000:\ttest: 0.9344341\ttest1: 0.9000947\tbest: 0.9000992 (9884)\ttotal: 30m 59s\tremaining: 2d 3h 7m 50s\n",
      "15000:\ttest: 0.9492393\ttest1: 0.9005532\tbest: 0.9006198 (14178)\ttotal: 46m 24s\tremaining: 2d 2h 46m 51s\n",
      "20000:\ttest: 0.9611891\ttest1: 0.9006906\tbest: 0.9007847 (17204)\ttotal: 1h 1m 48s\tremaining: 2d 2h 28m 16s\n",
      "Stopped by overfitting detector  (4000 iterations wait)\n",
      "\n",
      "bestTest = 0.9007847403\n",
      "bestIteration = 17204\n",
      "\n",
      "Shrink model to first 17205 iterations.\n",
      "===== Fold 4 =====\n",
      "0:\ttest: 0.6169386\ttest1: 0.6190361\tbest: 0.6190361 (0)\ttotal: 162ms\tremaining: 1d 21h 4m 34s\n",
      "5000:\ttest: 0.9154756\ttest1: 0.8918209\tbest: 0.8918209 (5000)\ttotal: 15m 32s\tremaining: 2d 3h 33m 38s\n",
      "10000:\ttest: 0.9346432\ttest1: 0.8957429\tbest: 0.8957551 (9989)\ttotal: 30m 50s\tremaining: 2d 2h 52m 20s\n",
      "15000:\ttest: 0.9493845\ttest1: 0.8958827\tbest: 0.8959248 (13052)\ttotal: 46m 4s\tremaining: 2d 2h 25m 50s\n",
      "Stopped by overfitting detector  (4000 iterations wait)\n",
      "\n",
      "bestTest = 0.8959247618\n",
      "bestIteration = 13052\n",
      "\n",
      "Shrink model to first 13053 iterations.\n",
      "===== Fold 5 =====\n",
      "0:\ttest: 0.6173861\ttest1: 0.6149817\tbest: 0.6149817 (0)\ttotal: 161ms\tremaining: 1d 20h 46m 54s\n",
      "5000:\ttest: 0.9152654\ttest1: 0.8948367\tbest: 0.8948422 (4999)\ttotal: 15m 23s\tremaining: 2d 3h 2m 40s\n",
      "10000:\ttest: 0.9346884\ttest1: 0.8987743\tbest: 0.8987743 (10000)\ttotal: 30m 42s\tremaining: 2d 2h 39m 20s\n"
     ]
    }
   ],
   "source": [
    "for fold_, (train_idx, val_idx) in enumerate(folds.split(train_df[predictor_cols].values,\n",
    "                                                         train_df[target_col].values)):\n",
    "    print(\"===== Fold {} =====\".format(fold_))\n",
    "    \n",
    "    train_X, train_y = train_df.iloc[train_idx][predictor_cols], train_df.iloc[train_idx][target_col] \n",
    "    valid_X, valid_y = train_df.iloc[val_idx][predictor_cols], train_df.iloc[val_idx][target_col]\n",
    "    eval_set = [(train_X, train_y), (valid_X, valid_y)]\n",
    "    cv_model = cb.CatBoostClassifier(**sk_params, od_type='Iter', od_wait=20)\n",
    "    cv_model.fit(X=train_X,\n",
    "                 y=train_y, \n",
    "                 eval_set=eval_set,             \n",
    "                 early_stopping_rounds=num_early_stopping, \n",
    "                 verbose=num_verbose_eval) \n",
    "    \n",
    "    oof_cb[val_idx] = cv_model.predict_proba(train_df.iloc[val_idx][predictor_cols], \n",
    "                                             ntree_end=cv_model.best_iteration_)[:, 1]\n",
    "    y_predictions_cb +=  cv_model.predict_proba(test_df[predictor_cols], \n",
    "                                                ntree_end=cv_model.best_iteration_)[:, 1] / folds.n_splits\n",
    "    \n",
    "print(\"\\n >> CV score: {:<8.10f}\".format(roc_auc_score(train_df[target_col], oof_cb)))\n"
   ]
  },
  {
   "cell_type": "code",
   "execution_count": null,
   "metadata": {},
   "outputs": [],
   "source": [
    "file_name = 'cb_submission.csv'\n",
    "submission_df = test_df[['ID_code']]\n",
    "submission_df['target'] = ensemble\n",
    "submission_df.to_csv(file_name, header=True, index=False, mode='w')\n"
   ]
  },
  {
   "cell_type": "markdown",
   "metadata": {},
   "source": [
    "# Ensemble"
   ]
  },
  {
   "cell_type": "code",
   "execution_count": 89,
   "metadata": {},
   "outputs": [
    {
     "name": "stdout",
     "output_type": "stream",
     "text": [
      "NN+LightBGM auc = 0.9001412910\n"
     ]
    }
   ],
   "source": [
    "ensemble = 0.75 * oof + 0.25 * oof_cb\n",
    "print('NN+LightBGM auc = {:<8.10f}'.format(roc_auc_score(train_df[target_col], ensemble)))"
   ]
  },
  {
   "cell_type": "markdown",
   "metadata": {},
   "source": [
    "# Submission\n",
    "Base Line submission : 0.500"
   ]
  },
  {
   "cell_type": "code",
   "execution_count": 90,
   "metadata": {},
   "outputs": [],
   "source": [
    "submission_df = test_df[['ID_code']]\n",
    "submission_df['target'] = ensemble"
   ]
  },
  {
   "cell_type": "code",
   "execution_count": 92,
   "metadata": {},
   "outputs": [],
   "source": [
    "submission_df.to_csv('ensemble_submission.csv', header=True, index=False, mode='w')"
   ]
  }
 ],
 "metadata": {
  "kernelspec": {
   "display_name": "Python 3",
   "language": "python",
   "name": "python3"
  },
  "language_info": {
   "codemirror_mode": {
    "name": "ipython",
    "version": 3
   },
   "file_extension": ".py",
   "mimetype": "text/x-python",
   "name": "python",
   "nbconvert_exporter": "python",
   "pygments_lexer": "ipython3",
   "version": "3.5.2"
  }
 },
 "nbformat": 4,
 "nbformat_minor": 2
}

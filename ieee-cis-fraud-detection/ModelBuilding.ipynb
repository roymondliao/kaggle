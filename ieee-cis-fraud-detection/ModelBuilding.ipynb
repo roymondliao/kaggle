{
 "cells": [
  {
   "cell_type": "code",
   "execution_count": 1,
   "metadata": {
    "scrolled": true
   },
   "outputs": [
    {
     "name": "stderr",
     "output_type": "stream",
     "text": [
      "/usr/local/lib/python3.5/dist-packages/sklearn/externals/joblib/__init__.py:15: DeprecationWarning: sklearn.externals.joblib is deprecated in 0.21 and will be removed in 0.23. Please import this functionality directly from joblib, which can be installed with: pip install joblib. If this warning is raised when loading pickled models, you may need to re-serialize those models with scikit-learn 0.21+.\n",
      "  warnings.warn(msg, category=DeprecationWarning)\n"
     ]
    }
   ],
   "source": [
    "import multiprocessing\n",
    "import warnings\n",
    "import os\n",
    "import gc\n",
    "import random\n",
    "import itertools\n",
    "import pickle\n",
    "import time\n",
    "from datetime import datetime\n",
    "from pathlib import Path\n",
    "from collections import Counter\n",
    "from datetime import datetime\n",
    "from IPython.core.interactiveshell import InteractiveShell\n",
    "InteractiveShell.ast_node_interactivity = \"all\"\n",
    "\n",
    "# visualization \n",
    "import seaborn as sns\n",
    "import matplotlib.pyplot as plt\n",
    "\n",
    "# data preprocessing \n",
    "from itertools import product\n",
    "import pandas as pd\n",
    "import numpy as np\n",
    "import missingno\n",
    "from sklearn.preprocessing import OneHotEncoder, LabelEncoder\n",
    "from sklearn.preprocessing import StandardScaler, MinMaxScaler\n",
    "from sklearn.utils import shuffle\n",
    "\n",
    "# model\n",
    "import xgboost as xgb\n",
    "import lightgbm as lgb\n",
    "import catboost as cb \n",
    "from sklearn.linear_model import LogisticRegression\n",
    "from sklearn.linear_model import LogisticRegressionCV\n",
    "from sklearn.linear_model import LogisticRegression\n",
    "from sklearn.ensemble import RandomForestClassifier\n",
    "from sklearn.neighbors import KNeighborsClassifier\n",
    "from sklearn import svm\n",
    "from sklearn.naive_bayes import GaussianNB\n",
    "from sklearn.pipeline import Pipeline\n",
    "\n",
    "# eveluation \n",
    "from sklearn.model_selection import train_test_split\n",
    "from sklearn.model_selection import TimeSeriesSplit\n",
    "from sklearn.feature_selection import SelectFromModel\n",
    "from sklearn.model_selection import StratifiedKFold, KFold\n",
    "from sklearn.metrics import confusion_matrix, classification_report\n",
    "from sklearn.metrics import accuracy_score\n",
    "from sklearn.metrics import precision_recall_fscore_support, roc_curve\n",
    "from sklearn.metrics import precision_score, recall_score, f1_score, roc_auc_score\n",
    "\n",
    "# hyperparameters tuning \n",
    "from skopt.space import Real, Integer\n",
    "from skopt.utils import use_named_args\n",
    "from skopt import gp_minimize\n",
    "\n",
    "# utils\n",
    "import sys\n",
    "sys.path.insert(0, '/tf/notebooks/other/kaggle')\n",
    "from utils import utils_featexp\n",
    "from utils import utils_features_engineering\n",
    "from utils import utils_features_plots\n",
    "from utils import utils_reduce_memory\n",
    "from utils import utils_statistic\n",
    "\n",
    "warnings.filterwarnings('ignore')\n",
    "seed = 9527"
   ]
  },
  {
   "cell_type": "code",
   "execution_count": 2,
   "metadata": {},
   "outputs": [],
   "source": [
    "main_path = Path('../input/ieee-cis-fraud-detection/')\n",
    "\n",
    "with open(str(main_path / 'train_df.pkl'), 'rb') as handle:\n",
    "    train_df = pickle.load(handle)\n",
    "    \n",
    "with open(str(main_path / 'test_df.pkl'), 'rb') as handle:\n",
    "    test_df = pickle.load(handle)    "
   ]
  },
  {
   "cell_type": "code",
   "execution_count": 3,
   "metadata": {},
   "outputs": [
    {
     "name": "stdout",
     "output_type": "stream",
     "text": [
      "Number of train data:(590540, 441)\n",
      "Number of test data:(506691, 440)\n"
     ]
    }
   ],
   "source": [
    "print('Number of train data:{}'.format(train_df.shape))\n",
    "print('Number of test data:{}'.format(test_df.shape))"
   ]
  },
  {
   "cell_type": "markdown",
   "metadata": {},
   "source": [
    "# Feature Engineering"
   ]
  },
  {
   "cell_type": "markdown",
   "metadata": {},
   "source": [
    "* Define cols"
   ]
  },
  {
   "cell_type": "code",
   "execution_count": 5,
   "metadata": {},
   "outputs": [],
   "source": [
    "target_col = 'isFraud'\n",
    "redundant_cols = ['P_emaildomain', 'R_emaildomain', 'DeviceType', 'DeviceInfo', 'TransactionDT', 'tran_date']\n",
    "features_cols = [c for c in train_df.columns.tolist() if c not in redundant_cols + ['TransactionID', 'isFraud']]\n",
    "cat_features = [i for i in features_cols if str(train_df[i].dtype) in ['object', 'category']]"
   ]
  },
  {
   "cell_type": "markdown",
   "metadata": {},
   "source": [
    "* Load knn feature data"
   ]
  },
  {
   "cell_type": "code",
   "execution_count": 4,
   "metadata": {},
   "outputs": [],
   "source": [
    "train_knn_feats_df = np.load(str(main_path / 'knn_feats_minkowski_train.npy'))\n",
    "test_knn_feats_df = np.load(str(main_path / 'knn_feats_minkowski_test.npy'))"
   ]
  },
  {
   "cell_type": "code",
   "execution_count": 5,
   "metadata": {},
   "outputs": [],
   "source": [
    "knn_cols = ['knn_' + str(i) for i in range(train_knn_feats_df.shape[1])]\n",
    "train_knn_df = pd.DataFrame(train_knn_feats_df, columns=knn_cols)\n",
    "test_knn_df = pd.DataFrame(test_knn_feats_df, columns=knn_cols)\n",
    "del train_knn_feats_df, test_knn_feats_df"
   ]
  },
  {
   "cell_type": "markdown",
   "metadata": {},
   "source": [
    "* Label encoding"
   ]
  },
  {
   "cell_type": "code",
   "execution_count": 25,
   "metadata": {
    "scrolled": true
   },
   "outputs": [
    {
     "data": {
      "text/plain": [
       "LabelEncoder()"
      ]
     },
     "execution_count": 25,
     "metadata": {},
     "output_type": "execute_result"
    },
    {
     "data": {
      "text/plain": [
       "LabelEncoder()"
      ]
     },
     "execution_count": 25,
     "metadata": {},
     "output_type": "execute_result"
    },
    {
     "data": {
      "text/plain": [
       "LabelEncoder()"
      ]
     },
     "execution_count": 25,
     "metadata": {},
     "output_type": "execute_result"
    },
    {
     "data": {
      "text/plain": [
       "LabelEncoder()"
      ]
     },
     "execution_count": 25,
     "metadata": {},
     "output_type": "execute_result"
    },
    {
     "data": {
      "text/plain": [
       "LabelEncoder()"
      ]
     },
     "execution_count": 25,
     "metadata": {},
     "output_type": "execute_result"
    },
    {
     "data": {
      "text/plain": [
       "LabelEncoder()"
      ]
     },
     "execution_count": 25,
     "metadata": {},
     "output_type": "execute_result"
    },
    {
     "data": {
      "text/plain": [
       "LabelEncoder()"
      ]
     },
     "execution_count": 25,
     "metadata": {},
     "output_type": "execute_result"
    },
    {
     "data": {
      "text/plain": [
       "LabelEncoder()"
      ]
     },
     "execution_count": 25,
     "metadata": {},
     "output_type": "execute_result"
    },
    {
     "data": {
      "text/plain": [
       "LabelEncoder()"
      ]
     },
     "execution_count": 25,
     "metadata": {},
     "output_type": "execute_result"
    },
    {
     "data": {
      "text/plain": [
       "LabelEncoder()"
      ]
     },
     "execution_count": 25,
     "metadata": {},
     "output_type": "execute_result"
    },
    {
     "data": {
      "text/plain": [
       "LabelEncoder()"
      ]
     },
     "execution_count": 25,
     "metadata": {},
     "output_type": "execute_result"
    },
    {
     "data": {
      "text/plain": [
       "LabelEncoder()"
      ]
     },
     "execution_count": 25,
     "metadata": {},
     "output_type": "execute_result"
    },
    {
     "data": {
      "text/plain": [
       "LabelEncoder()"
      ]
     },
     "execution_count": 25,
     "metadata": {},
     "output_type": "execute_result"
    },
    {
     "data": {
      "text/plain": [
       "LabelEncoder()"
      ]
     },
     "execution_count": 25,
     "metadata": {},
     "output_type": "execute_result"
    },
    {
     "data": {
      "text/plain": [
       "LabelEncoder()"
      ]
     },
     "execution_count": 25,
     "metadata": {},
     "output_type": "execute_result"
    },
    {
     "data": {
      "text/plain": [
       "LabelEncoder()"
      ]
     },
     "execution_count": 25,
     "metadata": {},
     "output_type": "execute_result"
    },
    {
     "data": {
      "text/plain": [
       "LabelEncoder()"
      ]
     },
     "execution_count": 25,
     "metadata": {},
     "output_type": "execute_result"
    },
    {
     "data": {
      "text/plain": [
       "LabelEncoder()"
      ]
     },
     "execution_count": 25,
     "metadata": {},
     "output_type": "execute_result"
    },
    {
     "data": {
      "text/plain": [
       "LabelEncoder()"
      ]
     },
     "execution_count": 25,
     "metadata": {},
     "output_type": "execute_result"
    },
    {
     "data": {
      "text/plain": [
       "LabelEncoder()"
      ]
     },
     "execution_count": 25,
     "metadata": {},
     "output_type": "execute_result"
    },
    {
     "data": {
      "text/plain": [
       "LabelEncoder()"
      ]
     },
     "execution_count": 25,
     "metadata": {},
     "output_type": "execute_result"
    },
    {
     "data": {
      "text/plain": [
       "LabelEncoder()"
      ]
     },
     "execution_count": 25,
     "metadata": {},
     "output_type": "execute_result"
    },
    {
     "data": {
      "text/plain": [
       "LabelEncoder()"
      ]
     },
     "execution_count": 25,
     "metadata": {},
     "output_type": "execute_result"
    },
    {
     "data": {
      "text/plain": [
       "LabelEncoder()"
      ]
     },
     "execution_count": 25,
     "metadata": {},
     "output_type": "execute_result"
    },
    {
     "data": {
      "text/plain": [
       "LabelEncoder()"
      ]
     },
     "execution_count": 25,
     "metadata": {},
     "output_type": "execute_result"
    },
    {
     "data": {
      "text/plain": [
       "LabelEncoder()"
      ]
     },
     "execution_count": 25,
     "metadata": {},
     "output_type": "execute_result"
    },
    {
     "data": {
      "text/plain": [
       "LabelEncoder()"
      ]
     },
     "execution_count": 25,
     "metadata": {},
     "output_type": "execute_result"
    },
    {
     "data": {
      "text/plain": [
       "LabelEncoder()"
      ]
     },
     "execution_count": 25,
     "metadata": {},
     "output_type": "execute_result"
    },
    {
     "data": {
      "text/plain": [
       "LabelEncoder()"
      ]
     },
     "execution_count": 25,
     "metadata": {},
     "output_type": "execute_result"
    },
    {
     "data": {
      "text/plain": [
       "LabelEncoder()"
      ]
     },
     "execution_count": 25,
     "metadata": {},
     "output_type": "execute_result"
    },
    {
     "data": {
      "text/plain": [
       "LabelEncoder()"
      ]
     },
     "execution_count": 25,
     "metadata": {},
     "output_type": "execute_result"
    }
   ],
   "source": [
    "enc = LabelEncoder()\n",
    "for f in cat_features:\n",
    "    if train_df[f].dtype =='O': \n",
    "        df1_tmp = train_df[f].fillna('NaN')\n",
    "        df2_tmp = test_df[f].fillna('NaN')        \n",
    "        enc.fit(np.concatenate([df1_tmp.values, df2_tmp.values], axis=0).astype(str))\n",
    "        train_df[f] = enc.transform(df1_tmp.values)\n",
    "        test_df[f] = enc.transform(df2_tmp.values)"
   ]
  },
  {
   "cell_type": "code",
   "execution_count": 26,
   "metadata": {},
   "outputs": [],
   "source": [
    "train_df['is_this_transaction_in_test_data'] = 0\n",
    "test_df['is_this_transaction_in_test_data'] = 1"
   ]
  },
  {
   "cell_type": "code",
   "execution_count": 27,
   "metadata": {},
   "outputs": [],
   "source": [
    "all_df = pd.concat([train_df[features_cols + ['is_this_transaction_in_test_data']], \n",
    "                    test_df[features_cols + ['is_this_transaction_in_test_data']]], axis=0)"
   ]
  },
  {
   "cell_type": "code",
   "execution_count": 28,
   "metadata": {},
   "outputs": [],
   "source": [
    "num_of_iter = 10000\n",
    "num_early_stopping = 200\n",
    "num_verbose_eval = 500\n",
    "\n",
    "metric = 'auc'\n",
    "\n",
    "lgb_sk_params = {\n",
    "    'boosting_type': 'gbdt', # goss, dart\n",
    "    #'num_leaves': 80,\n",
    "    #'max_depth': 5,\n",
    "    'learning_rate': 0.1,\n",
    "    'n_estimators': num_of_iter,\n",
    "    #'subsample_for_bin': 200000,  # Number of samples for constructing bin\n",
    "    'objective': 'binary',\n",
    "    'metrics': [metric], # binary_logloss\n",
    "    #'min_split_gain': 0,  # lambda_l1, lambda_l2 and min_gain_to_split to regularization\n",
    "    #'min_child_weight': 1,  # Minimum sum of instance weight(hessian) needed in a child(leaf)\n",
    "    #'min_child_samples': 100,  # Minimum number of data need in a child(min_data_in_leaf)\n",
    "    #'subsample': 0.8,\n",
    "    #'colsample_bytree': 0.8,\n",
    "    #'reg_alpha': 3,  # L1 regularization term on weights\n",
    "    #'reg_lambda': 0.191472,\n",
    "    'random_state': seed,\n",
    "    'n_jobs': multiprocessing.cpu_count(),\n",
    "    #'scale_pos_weight': 7.369937,\n",
    "    #'max_bin': 255\n",
    "}"
   ]
  },
  {
   "cell_type": "code",
   "execution_count": 29,
   "metadata": {},
   "outputs": [],
   "source": [
    "target_col = 'is_this_transaction_in_test_data'\n",
    "select_features_cols = features_cols"
   ]
  },
  {
   "cell_type": "code",
   "execution_count": 30,
   "metadata": {},
   "outputs": [
    {
     "name": "stdout",
     "output_type": "stream",
     "text": [
      "===== Fold 0 =====\n",
      "Training until validation scores don't improve for 200 rounds.\n",
      "[500]\tvalidation_0's auc: 0.939835\tvalidation_1's auc: 0.934796\n",
      "[1000]\tvalidation_0's auc: 0.951262\tvalidation_1's auc: 0.943217\n",
      "[1500]\tvalidation_0's auc: 0.958353\tvalidation_1's auc: 0.947803\n",
      "[2000]\tvalidation_0's auc: 0.963524\tvalidation_1's auc: 0.950875\n",
      "[2500]\tvalidation_0's auc: 0.967815\tvalidation_1's auc: 0.953299\n",
      "[3000]\tvalidation_0's auc: 0.971234\tvalidation_1's auc: 0.955106\n",
      "[3500]\tvalidation_0's auc: 0.97408\tvalidation_1's auc: 0.956579\n",
      "[4000]\tvalidation_0's auc: 0.976539\tvalidation_1's auc: 0.957881\n",
      "[4500]\tvalidation_0's auc: 0.978642\tvalidation_1's auc: 0.95898\n",
      "[5000]\tvalidation_0's auc: 0.980532\tvalidation_1's auc: 0.959941\n",
      "[5500]\tvalidation_0's auc: 0.982327\tvalidation_1's auc: 0.960787\n",
      "[6000]\tvalidation_0's auc: 0.983943\tvalidation_1's auc: 0.961596\n",
      "[6500]\tvalidation_0's auc: 0.985132\tvalidation_1's auc: 0.962128\n",
      "[7000]\tvalidation_0's auc: 0.986364\tvalidation_1's auc: 0.962706\n",
      "[7500]\tvalidation_0's auc: 0.987287\tvalidation_1's auc: 0.963143\n",
      "[8000]\tvalidation_0's auc: 0.988251\tvalidation_1's auc: 0.963621\n",
      "[8500]\tvalidation_0's auc: 0.989119\tvalidation_1's auc: 0.964064\n",
      "[9000]\tvalidation_0's auc: 0.989883\tvalidation_1's auc: 0.964412\n",
      "[9500]\tvalidation_0's auc: 0.990572\tvalidation_1's auc: 0.96472\n",
      "[10000]\tvalidation_0's auc: 0.991223\tvalidation_1's auc: 0.965053\n",
      "Did not meet early stopping. Best iteration is:\n",
      "[10000]\tvalidation_0's auc: 0.991223\tvalidation_1's auc: 0.965053\n",
      "===== Fold 1 =====\n",
      "Training until validation scores don't improve for 200 rounds.\n",
      "[500]\tvalidation_0's auc: 0.939915\tvalidation_1's auc: 0.935392\n",
      "[1000]\tvalidation_0's auc: 0.951185\tvalidation_1's auc: 0.943315\n",
      "[1500]\tvalidation_0's auc: 0.958292\tvalidation_1's auc: 0.947799\n",
      "[2000]\tvalidation_0's auc: 0.963709\tvalidation_1's auc: 0.951002\n",
      "[2500]\tvalidation_0's auc: 0.967788\tvalidation_1's auc: 0.95325\n",
      "[3000]\tvalidation_0's auc: 0.971304\tvalidation_1's auc: 0.955126\n",
      "[3500]\tvalidation_0's auc: 0.974234\tvalidation_1's auc: 0.956713\n",
      "[4000]\tvalidation_0's auc: 0.976646\tvalidation_1's auc: 0.957923\n",
      "[4500]\tvalidation_0's auc: 0.978741\tvalidation_1's auc: 0.958846\n",
      "[5000]\tvalidation_0's auc: 0.980614\tvalidation_1's auc: 0.959799\n",
      "[5500]\tvalidation_0's auc: 0.982438\tvalidation_1's auc: 0.960692\n",
      "[6000]\tvalidation_0's auc: 0.983739\tvalidation_1's auc: 0.961247\n",
      "[6500]\tvalidation_0's auc: 0.984917\tvalidation_1's auc: 0.961756\n",
      "[7000]\tvalidation_0's auc: 0.985889\tvalidation_1's auc: 0.962179\n",
      "[7500]\tvalidation_0's auc: 0.987006\tvalidation_1's auc: 0.962767\n",
      "[8000]\tvalidation_0's auc: 0.987971\tvalidation_1's auc: 0.963224\n",
      "[8500]\tvalidation_0's auc: 0.988915\tvalidation_1's auc: 0.963659\n",
      "[9000]\tvalidation_0's auc: 0.989766\tvalidation_1's auc: 0.964085\n",
      "[9500]\tvalidation_0's auc: 0.990453\tvalidation_1's auc: 0.964426\n",
      "[10000]\tvalidation_0's auc: 0.99112\tvalidation_1's auc: 0.964747\n",
      "Did not meet early stopping. Best iteration is:\n",
      "[10000]\tvalidation_0's auc: 0.99112\tvalidation_1's auc: 0.964747\n",
      "===== Fold 2 =====\n",
      "Training until validation scores don't improve for 200 rounds.\n",
      "[500]\tvalidation_0's auc: 0.939754\tvalidation_1's auc: 0.935455\n",
      "[1000]\tvalidation_0's auc: 0.951374\tvalidation_1's auc: 0.943752\n",
      "[1500]\tvalidation_0's auc: 0.958506\tvalidation_1's auc: 0.948271\n",
      "[2000]\tvalidation_0's auc: 0.963663\tvalidation_1's auc: 0.951261\n",
      "[2500]\tvalidation_0's auc: 0.967751\tvalidation_1's auc: 0.953542\n",
      "[3000]\tvalidation_0's auc: 0.9711\tvalidation_1's auc: 0.955393\n",
      "[3500]\tvalidation_0's auc: 0.974091\tvalidation_1's auc: 0.956955\n",
      "[4000]\tvalidation_0's auc: 0.976474\tvalidation_1's auc: 0.958188\n",
      "[4500]\tvalidation_0's auc: 0.978688\tvalidation_1's auc: 0.95934\n",
      "[5000]\tvalidation_0's auc: 0.980468\tvalidation_1's auc: 0.960246\n",
      "[5500]\tvalidation_0's auc: 0.982231\tvalidation_1's auc: 0.961075\n",
      "[6000]\tvalidation_0's auc: 0.983724\tvalidation_1's auc: 0.961796\n",
      "[6500]\tvalidation_0's auc: 0.984861\tvalidation_1's auc: 0.962304\n",
      "[7000]\tvalidation_0's auc: 0.985958\tvalidation_1's auc: 0.962748\n",
      "[7500]\tvalidation_0's auc: 0.987046\tvalidation_1's auc: 0.963269\n",
      "[8000]\tvalidation_0's auc: 0.988029\tvalidation_1's auc: 0.963738\n",
      "[8500]\tvalidation_0's auc: 0.988976\tvalidation_1's auc: 0.964176\n",
      "[9000]\tvalidation_0's auc: 0.989748\tvalidation_1's auc: 0.96459\n",
      "[9500]\tvalidation_0's auc: 0.990426\tvalidation_1's auc: 0.964873\n",
      "[10000]\tvalidation_0's auc: 0.991038\tvalidation_1's auc: 0.965182\n",
      "Did not meet early stopping. Best iteration is:\n",
      "[10000]\tvalidation_0's auc: 0.991038\tvalidation_1's auc: 0.965182\n",
      "===== Fold 3 =====\n",
      "Training until validation scores don't improve for 200 rounds.\n",
      "[500]\tvalidation_0's auc: 0.939993\tvalidation_1's auc: 0.936236\n",
      "[1000]\tvalidation_0's auc: 0.951411\tvalidation_1's auc: 0.944249\n",
      "[1500]\tvalidation_0's auc: 0.958462\tvalidation_1's auc: 0.948619\n",
      "[2000]\tvalidation_0's auc: 0.963795\tvalidation_1's auc: 0.951638\n",
      "[2500]\tvalidation_0's auc: 0.967901\tvalidation_1's auc: 0.953935\n",
      "[3000]\tvalidation_0's auc: 0.971306\tvalidation_1's auc: 0.955874\n",
      "[3500]\tvalidation_0's auc: 0.974233\tvalidation_1's auc: 0.957343\n",
      "[4000]\tvalidation_0's auc: 0.976696\tvalidation_1's auc: 0.9586\n",
      "[4500]\tvalidation_0's auc: 0.97884\tvalidation_1's auc: 0.959662\n",
      "[5000]\tvalidation_0's auc: 0.980762\tvalidation_1's auc: 0.960535\n",
      "[5500]\tvalidation_0's auc: 0.982237\tvalidation_1's auc: 0.961131\n",
      "[6000]\tvalidation_0's auc: 0.983715\tvalidation_1's auc: 0.961806\n",
      "[6500]\tvalidation_0's auc: 0.985004\tvalidation_1's auc: 0.962448\n",
      "[7000]\tvalidation_0's auc: 0.986203\tvalidation_1's auc: 0.963053\n",
      "[7500]\tvalidation_0's auc: 0.98719\tvalidation_1's auc: 0.963498\n",
      "[8000]\tvalidation_0's auc: 0.988178\tvalidation_1's auc: 0.963923\n",
      "[8500]\tvalidation_0's auc: 0.989083\tvalidation_1's auc: 0.96435\n",
      "[9000]\tvalidation_0's auc: 0.989826\tvalidation_1's auc: 0.964726\n",
      "[9500]\tvalidation_0's auc: 0.990548\tvalidation_1's auc: 0.965028\n",
      "[10000]\tvalidation_0's auc: 0.991206\tvalidation_1's auc: 0.965316\n",
      "Did not meet early stopping. Best iteration is:\n",
      "[10000]\tvalidation_0's auc: 0.991206\tvalidation_1's auc: 0.965316\n",
      "===== Fold 4 =====\n",
      "Training until validation scores don't improve for 200 rounds.\n",
      "[500]\tvalidation_0's auc: 0.939778\tvalidation_1's auc: 0.936221\n",
      "[1000]\tvalidation_0's auc: 0.950963\tvalidation_1's auc: 0.94407\n",
      "[1500]\tvalidation_0's auc: 0.958094\tvalidation_1's auc: 0.948593\n",
      "[2000]\tvalidation_0's auc: 0.963481\tvalidation_1's auc: 0.951801\n",
      "[2500]\tvalidation_0's auc: 0.967331\tvalidation_1's auc: 0.953695\n",
      "[3000]\tvalidation_0's auc: 0.970966\tvalidation_1's auc: 0.955615\n",
      "[3500]\tvalidation_0's auc: 0.973787\tvalidation_1's auc: 0.957091\n",
      "[4000]\tvalidation_0's auc: 0.976111\tvalidation_1's auc: 0.95831\n",
      "[4500]\tvalidation_0's auc: 0.978246\tvalidation_1's auc: 0.959266\n",
      "[5000]\tvalidation_0's auc: 0.980174\tvalidation_1's auc: 0.960133\n",
      "[5500]\tvalidation_0's auc: 0.981868\tvalidation_1's auc: 0.960919\n",
      "[6000]\tvalidation_0's auc: 0.983409\tvalidation_1's auc: 0.961719\n",
      "[6500]\tvalidation_0's auc: 0.98472\tvalidation_1's auc: 0.962401\n",
      "[7000]\tvalidation_0's auc: 0.985938\tvalidation_1's auc: 0.962966\n",
      "[7500]\tvalidation_0's auc: 0.987122\tvalidation_1's auc: 0.963568\n",
      "[8000]\tvalidation_0's auc: 0.988082\tvalidation_1's auc: 0.964032\n",
      "[8500]\tvalidation_0's auc: 0.989009\tvalidation_1's auc: 0.964464\n",
      "[9000]\tvalidation_0's auc: 0.989793\tvalidation_1's auc: 0.964763\n",
      "[9500]\tvalidation_0's auc: 0.99056\tvalidation_1's auc: 0.965124\n",
      "[10000]\tvalidation_0's auc: 0.991154\tvalidation_1's auc: 0.96543\n",
      "Did not meet early stopping. Best iteration is:\n",
      "[10000]\tvalidation_0's auc: 0.991154\tvalidation_1's auc: 0.96543\n",
      "\n",
      "## Valid-CV AUC: 0.9651\n",
      "CPU times: user 1d 20h 3min 49s, sys: 6min 50s, total: 1d 20h 10min 39s\n",
      "Wall time: 6h 38min 34s\n"
     ]
    }
   ],
   "source": [
    "%%time\n",
    "n_splits = 3\n",
    "folds = StratifiedKFold(n_splits=n_splits, shuffle=True, random_state=seed)\n",
    "Kflods = folds.split(all_df[select_features_cols].values, all_df[target_col].values)\n",
    "#folds = TimeSeriesSplit(n_splits=n_splits)\n",
    "#Kflods = folds.split(train_df[select_features_cols].values, train_df[target_col].values)\n",
    "\n",
    "oof = np.zeros(len(all_df))\n",
    "feature_importance_df = pd.DataFrame()\n",
    "total_fold_loss_df = pd.DataFrame()\n",
    "target_encoding_cols = None\n",
    "model_name = 'lgb'\n",
    "mean_enc = None\n",
    "\n",
    "for fold, (trn_idx, val_idx) in enumerate(Kflods):\n",
    "    print(\"===== Fold {} =====\".format(fold))\n",
    "    trn_idx = shuffle(trn_idx)\n",
    "    train_x, train_y = all_df.iloc[trn_idx][select_features_cols], all_df.iloc[trn_idx][target_col]\n",
    "    valid_x, valid_y = all_df.iloc[val_idx][select_features_cols], all_df.iloc[val_idx][target_col]\n",
    "    features_cols_v2 = select_features_cols.copy()\n",
    "\n",
    "    eval_set = [(train_x[features_cols_v2], train_y), (valid_x[features_cols_v2], valid_y)]\n",
    "    \n",
    "    cv_model = lgb.LGBMClassifier(**lgb_sk_params)    \n",
    "    cv_model.fit(X=train_x[features_cols_v2],\n",
    "                 y=train_y, \n",
    "                 eval_set=eval_set,    \n",
    "                 eval_names=['validation_0', 'validation_1'],\n",
    "                 early_stopping_rounds=num_early_stopping, \n",
    "                 #categorical_feature=cat_features,\n",
    "                 verbose=num_verbose_eval) \n",
    "    loss = cv_model.evals_result_.items()\n",
    "\n",
    "    \n",
    "    # loss \n",
    "    fold_loss_df = pd.DataFrame(columns=['fold', 'type', 'loss'])\n",
    "    for k, v in loss:\n",
    "        if k == 'validation_0' or k == 'learn':        \n",
    "            fold_loss_df['loss'] = v[list(v.keys())[0]]\n",
    "            fold_loss_df['fold'] = fold + 1\n",
    "            fold_loss_df['type'] = 'train'                \n",
    "        elif k == 'validation_1' or k == 'validation':\n",
    "            fold_loss_df['loss'] = v[list(v.keys())[0]]\n",
    "            fold_loss_df['fold'] = fold + 1\n",
    "            fold_loss_df['type'] = 'valid'                \n",
    "        total_fold_loss_df = pd.concat([total_fold_loss_df, fold_loss_df], axis=0)\n",
    "    \n",
    "    # feature importance\n",
    "    fold_importance_df = pd.DataFrame()\n",
    "    fold_importance_df[\"feature\"] = features_cols_v2\n",
    "    fold_importance_df[\"importance\"] = cv_model.feature_importances_\n",
    "    fold_importance_df[\"fold\"] = fold + 1\n",
    "    feature_importance_df = pd.concat([feature_importance_df, fold_importance_df], axis=0)\n",
    "    \n",
    "    # evaluation\n",
    "    oof[val_idx] += cv_model.predict_proba(valid_x[features_cols_v2], \n",
    "                                           ntree_limit=cv_model.best_iteration_)[:, 1]\n",
    "\n",
    "\n",
    "print()     \n",
    "print('## Valid-CV AUC: {:.4f}'.format(roc_auc_score(all_df[target_col].values, oof)))    "
   ]
  },
  {
   "cell_type": "code",
   "execution_count": 37,
   "metadata": {},
   "outputs": [
    {
     "data": {
      "text/plain": [
       "<Figure size 720x720 with 0 Axes>"
      ]
     },
     "execution_count": 37,
     "metadata": {},
     "output_type": "execute_result"
    },
    {
     "data": {
      "text/plain": [
       "<matplotlib.axes._subplots.AxesSubplot at 0x7f8e50fbb860>"
      ]
     },
     "execution_count": 37,
     "metadata": {},
     "output_type": "execute_result"
    },
    {
     "data": {
      "text/plain": [
       "Text(0.5, 1.0, 'LGB Features importance (averaged/folds)')"
      ]
     },
     "execution_count": 37,
     "metadata": {},
     "output_type": "execute_result"
    },
    {
     "data": {
      "image/png": "[encoded data removed]",
      "text/plain": [
       "<Figure size 720x720 with 1 Axes>"
      ]
     },
     "metadata": {},
     "output_type": "display_data"
    }
   ],
   "source": [
    "plt.style.use('dark_background')\n",
    "cols = (feature_importance_df[[\"feature\", \"importance\"]]\n",
    "    .groupby(\"feature\")\n",
    "    .mean()\n",
    "    .sort_values(by=\"importance\", ascending=False)[:40].index)\n",
    "best_features = feature_importance_df.loc[feature_importance_df.feature.isin(cols)]\n",
    "\n",
    "plt.figure(figsize=(10,10))\n",
    "sns.barplot(x=\"importance\", y=\"feature\", data=best_features.sort_values(by=\"importance\",ascending=False),\n",
    "        edgecolor=('white'), linewidth=2, palette=\"rocket\")\n",
    "plt.title('LGB Features importance (averaged/folds)', fontsize=18)\n",
    "plt.tight_layout()"
   ]
  },
  {
   "cell_type": "code",
   "execution_count": 38,
   "metadata": {},
   "outputs": [
    {
     "data": {
      "text/plain": [
       "Index(['card1', 'card2', 'addr1', 'TransactionAmt', 'addr_hash', 'dist1',\n",
       "       'D11', 'D15', 'D4', 'D10', 'C13', 'D2', 'card5', 'D1', 'D5',\n",
       "       'P_email_cate', 'D3', 'cents', 'C9', 'C2', 'C1', 'C6', 'C11', 'id_31',\n",
       "       'V310', 'C14', 'C5', 'V130', 'V313', 'V307', 'M6', 'id_02', 'M5',\n",
       "       'V314', 'V127', 'V315', 'id_20', 'M4', 'C12', 'id_19'],\n",
       "      dtype='object', name='feature')"
      ]
     },
     "execution_count": 38,
     "metadata": {},
     "output_type": "execute_result"
    }
   ],
   "source": [
    "cols"
   ]
  },
  {
   "cell_type": "markdown",
   "metadata": {},
   "source": [
    "* **Card columns**"
   ]
  },
  {
   "cell_type": "code",
   "execution_count": 8,
   "metadata": {},
   "outputs": [],
   "source": [
    "train_df, enc_value, prior_mean, feature_name = utils_features_engineering.mean_encoding(data_x=train_df, \n",
    "                                                                                         data_y=train_df[target_col], \n",
    "                                                                                         feature='card1', \n",
    "                                                                                         target=target_col)\n",
    "test_df[feature_name] = test_df['card1'].map(enc_value)"
   ]
  },
  {
   "cell_type": "code",
   "execution_count": 9,
   "metadata": {},
   "outputs": [],
   "source": [
    "for feature in ['card2', 'card3', 'card5']:\n",
    "    count_feature = 'c_{}'.format(feature)\n",
    "    train_df[count_feature] = train_df[feature].map(train_df[feature].value_counts(dropna=False))\n",
    "    test_df[count_feature] = test_df[feature].map(train_df[feature].value_counts(dropna=False))"
   ]
  },
  {
   "cell_type": "code",
   "execution_count": null,
   "metadata": {},
   "outputs": [],
   "source": [
    "for i in [do_count, do_count_unique, do]\n",
    "train_df = do_count(data=train_df, \n",
    "                    group_cols=['card4'], \n",
    "                    target_col='TransactionAmt', \n",
    "                    new_col_name='n_tran_card4', \n",
    "                    col_type=np.int8)\n"
   ]
  },
  {
   "cell_type": "code",
   "execution_count": null,
   "metadata": {},
   "outputs": [],
   "source": [
    "train_df = do_count(data=train_df, \n",
    "                    group_cols=['card6'], \n",
    "                    target_col='TransactionAmt', \n",
    "                    new_col_name='n_tran_card4', \n",
    "                    col_type=np.int8)"
   ]
  },
  {
   "cell_type": "markdown",
   "metadata": {},
   "source": [
    "* **D columns**"
   ]
  },
  {
   "cell_type": "code",
   "execution_count": null,
   "metadata": {},
   "outputs": [],
   "source": []
  },
  {
   "cell_type": "markdown",
   "metadata": {},
   "source": [
    "* **C columns**"
   ]
  },
  {
   "cell_type": "code",
   "execution_count": null,
   "metadata": {},
   "outputs": [],
   "source": []
  },
  {
   "cell_type": "markdown",
   "metadata": {},
   "source": [
    "* **M columns**"
   ]
  },
  {
   "cell_type": "code",
   "execution_count": null,
   "metadata": {},
   "outputs": [],
   "source": []
  },
  {
   "cell_type": "markdown",
   "metadata": {},
   "source": [
    "* **V columns**"
   ]
  },
  {
   "cell_type": "code",
   "execution_count": null,
   "metadata": {},
   "outputs": [],
   "source": []
  },
  {
   "cell_type": "markdown",
   "metadata": {},
   "source": [
    "* **Other columns**"
   ]
  },
  {
   "cell_type": "code",
   "execution_count": null,
   "metadata": {},
   "outputs": [],
   "source": []
  },
  {
   "cell_type": "markdown",
   "metadata": {},
   "source": [
    "* **Interaction**"
   ]
  },
  {
   "cell_type": "code",
   "execution_count": null,
   "metadata": {},
   "outputs": [],
   "source": []
  },
  {
   "cell_type": "markdown",
   "metadata": {},
   "source": [
    "# Baseline model"
   ]
  },
  {
   "cell_type": "code",
   "execution_count": 86,
   "metadata": {},
   "outputs": [],
   "source": [
    "num_of_iter = 10000\n",
    "num_early_stopping = 200\n",
    "num_verbose_eval = 500\n",
    "\n",
    "metric = 'auc'\n",
    "weight_ratio = (train_df.shape[0] - sum(train_df.isFraud)) / sum(train_df.isFraud) \n",
    "#weight_ratio = 10\n",
    "\n",
    "xgb_sk_params = {\n",
    "    'learning_rate': 0.1,\n",
    "    'n_estimators': num_of_iter,                                   \n",
    "    'objective': 'binary:logistic', # binary:logistic\n",
    "    'n_jobs': multiprocessing.cpu_count(),\n",
    "    #'tree_method': \"gpu_hist\",  # gpu_hist\n",
    "    #'n_gpus': -1,\n",
    "    'eval_metric': [metric], # logloss\n",
    "    'random_state':  seed,\n",
    "    #'verbosity ': 0,\n",
    "    #'gamma': 1.718862, # Minimum loss reduction required to make a further partition on a leaf node of the tree, alias min_split_loss. It acts as a regularization parameter. Either 0, 1 or 5.\n",
    "    #'max_depth': 3, # 0 means no limit (useful only for depth wise grow policy).\n",
    "    #'min_child_weight': 156, # Minimum sum of instance weight (hessian) needed in a child.\n",
    "    #'subsample': 0.729009, # Subsample ratio of the training instances.\n",
    "    #'colsample_bytree': 0.884221, # subsample ratio of columns when constructing each tree.\n",
    "    #'colsample_bylevel': 0.034, # subsample ratio of columns for each level.\n",
    "    #'reg_lambda': 1e-3, # L2 regularization. Increasing this value will make model more conservative.\n",
    "    #'reg_alpha': 0, # L1 regularization. Increasing this value will make model more conservative.\n",
    "    #'scale_pos_weight': weight_ratio, # Control the balance of positive and negative weights, useful for unbalanced classes.\n",
    "    #'grow_policy': \"lossguide\", # split at nodes with highest loss change.\n",
    "    #'max_leaves': 255, # Maximum number of nodes to be added. (for lossguide grow policy).\n",
    "    'max_bin': 115, # Increasing this number improves the optimality of splits at the cost of higher computation time.\n",
    "}\n",
    "\n",
    "lgb_sk_params = {\n",
    "    'boosting_type': 'gbdt', # goss, dart\n",
    "    #'num_leaves': 80,\n",
    "    #'max_depth': 5,\n",
    "    'learning_rate': 0.1,\n",
    "    'n_estimators': num_of_iter,\n",
    "    #'subsample_for_bin': 200000,  # Number of samples for constructing bin\n",
    "    'objective': 'binary',\n",
    "    'metrics': [metric], # binary_logloss\n",
    "    #'min_split_gain': 0,  # lambda_l1, lambda_l2 and min_gain_to_split to regularization\n",
    "    #'min_child_weight': 1,  # Minimum sum of instance weight(hessian) needed in a child(leaf)\n",
    "    #'min_child_samples': 100,  # Minimum number of data need in a child(min_data_in_leaf)\n",
    "    #'subsample': 0.8,\n",
    "    #'colsample_bytree': 0.8,\n",
    "    #'reg_alpha': 3,  # L1 regularization term on weights\n",
    "    #'reg_lambda': 0.191472,\n",
    "    'random_state': seed,\n",
    "    'n_jobs': multiprocessing.cpu_count(),\n",
    "    #'scale_pos_weight': 7.369937,\n",
    "    #'max_bin': 255\n",
    "}\n",
    "\n",
    "cat_sk_params = {\n",
    "    'loss_function': 'Logloss',\n",
    "    'iterations': num_of_iter,\n",
    "    'learning_rate': 0.1,\n",
    "    'random_state': seed,\n",
    "    #'l2_leaf_reg': 0.01,\n",
    "    #'bootstrap_type': 'Bayesian',\n",
    "    #'subsample': 0.8, # only use at bootstrap type is [Poisson, Bernoulli]\n",
    "    'use_best_model': True,\n",
    "    #'depth': 5,\n",
    "    #'one_hot_max_size': 31,\n",
    "    #'colsample_bylevel': 0.8,\n",
    "    #'leaf_estimation_method': 'Gradient', # [Newton, Gradient]\n",
    "    #'class_weights': [1, 0.9038461538461537],\n",
    "    #'max_bin': 128, # alias max_bin\n",
    "    'thread_count': multiprocessing.cpu_count()    \n",
    "}"
   ]
  },
  {
   "cell_type": "code",
   "execution_count": 64,
   "metadata": {},
   "outputs": [],
   "source": [
    "select_features_cols = features_cols + knn_cols"
   ]
  },
  {
   "cell_type": "code",
   "execution_count": null,
   "metadata": {
    "scrolled": false
   },
   "outputs": [],
   "source": [
    "%%time\n",
    "n_splits = 5\n",
    "folds = StratifiedKFold(n_splits=n_splits, shuffle=True, random_state=seed)\n",
    "Kflods = folds.split(train_df[select_features_cols].values, train_df[target_col].values)\n",
    "#folds = TimeSeriesSplit(n_splits=n_splits)\n",
    "#Kflods = folds.split(train_df[select_features_cols].values, train_df[target_col].values)\n",
    "\n",
    "oof = np.zeros(len(train_df))\n",
    "feature_importance_df = pd.DataFrame()\n",
    "total_fold_loss_df = pd.DataFrame()\n",
    "y_pred = np.zeros(test_df.shape[0])\n",
    "target_encoding_cols = None\n",
    "model_name = 'lgb'\n",
    "mean_enc = None\n",
    "\n",
    "time_split_trn_ratio = []\n",
    "time_split_val_ratio = []\n",
    "\n",
    "for fold, (trn_idx, val_idx) in enumerate(Kflods):\n",
    "    print(\"===== Fold {} =====\".format(fold))\n",
    "    trn_idx = shuffle(trn_idx)\n",
    "    train_x, train_y = train_df.iloc[trn_idx][select_features_cols], train_df.iloc[trn_idx][target_col]\n",
    "    valid_x, valid_y = train_df.iloc[val_idx][select_features_cols], train_df.iloc[val_idx][target_col]\n",
    "    features_cols_v2 = select_features_cols.copy()\n",
    "\n",
    "    #time_split_trn_ratio.append(train_y.sum() / train_y.count())\n",
    "    #time_split_val_ratio.append(valid_y.sum() / valid_y.count())\n",
    "    if mean_enc == 'mean':\n",
    "        for f in target_encoding_cols:\n",
    "            train_x, enc_value, prior_mean, feature_name = mean_encoding(train_x, train_y, f, target_col)\n",
    "            valid_x[feature_name] = valid_x[f].map(enc_value)\n",
    "            valid_x[feature_name].fillna(prior_mean, inplace=True)    \n",
    "            test_df[feature_name] = test_df[f].map(enc_value)\n",
    "            test_df[feature_name].fillna(prior_mean, inplace=True)\n",
    "            eatures_cols_v2.remove(f)\n",
    "            features_cols_v2.append(feature_name)\n",
    "    elif mean_enc == 'smooth':\n",
    "        for f in target_encoding_cols:\n",
    "            train_x, enc_value, prior_mean, feature_name = smooth_mean_encoding(train_x, train_y, f, target_col, \n",
    "                                                                                smooth_method='sigmoid_smooth')\n",
    "            valid_x[feature_name] = valid_x[f].map(enc_value)\n",
    "            valid_x[feature_name].fillna(prior_mean, inplace=True)    \n",
    "            test_df[feature_name] = test_df[f].map(enc_value)\n",
    "            test_df[feature_name].fillna(prior_mean, inplace=True)\n",
    "            features_cols_v2.remove(f)\n",
    "            features_cols_v2.append(feature_name)\n",
    "    elif mean_enc == 'beta':\n",
    "        prior_mean = np.mean(train_y)\n",
    "        for f in target_encoding_cols:\n",
    "            stats = train_df.iloc[trn_idx].groupby(f).agg(['sum', 'count'])['label'].reset_index()\n",
    "            train_x, feature_name = beta_mean_encoding(train_x, f, target_col, stats, prior_mean)\n",
    "            valid_x, _ = beta_mean_encoding(valid_x, f, target_col, stats, prior_mean)\n",
    "            test_df, _ = beta_mean_encoding(test_df, f, target_col, stats, prior_mean)\n",
    "            features_cols_v2.remove(f)\n",
    "            features_cols_v2.append(feature_name)\n",
    "\n",
    "    eval_set = [(train_x[features_cols_v2], train_y), (valid_x[features_cols_v2], valid_y)]\n",
    "    \n",
    "    if model_name == 'xgb':\n",
    "        xgb_sk_params.update({'random_state': fold + np.random.randint(999) + seed})\n",
    "        cv_model = xgb.XGBClassifier(**xgb_sk_params)\n",
    "        cv_model.fit(X=train_x[features_cols_v2],\n",
    "                     y=train_y, \n",
    "                     eval_set=eval_set,             \n",
    "                     early_stopping_rounds=num_early_stopping, \n",
    "                     verbose=num_verbose_eval) \n",
    "        loss = cv_model.evals_result().items()\n",
    "        \n",
    "    elif model_name == 'lgb':\n",
    "        cv_model = lgb.LGBMClassifier(**lgb_sk_params)    \n",
    "        cv_model.fit(X=train_x[features_cols_v2],\n",
    "                     y=train_y, \n",
    "                     eval_set=eval_set,    \n",
    "                     eval_names=['validation_0', 'validation_1'],\n",
    "                     early_stopping_rounds=num_early_stopping, \n",
    "                     #categorical_feature=cat_features\n",
    "                     verbose=num_verbose_eval) \n",
    "        loss = cv_model.evals_result_.items()\n",
    "    elif model_name == 'cat':\n",
    "        cv_model = cb.CatBoostClassifier(**cat_sk_params, od_type='Iter', od_wait=20)\n",
    "        eval_set = [(valid_x[features_cols_v2], valid_y)]\n",
    "        cv_model.fit(X=train_x[features_cols_v2],\n",
    "                     y=train_y,\n",
    "                     eval_set=eval_set,\n",
    "                     #cat_features=cat_features,\n",
    "                     early_stopping_rounds=num_early_stopping, \n",
    "                     verbose=num_verbose_eval,\n",
    "                     plot=False)\n",
    "        loss = cv_model.evals_result_.items()\n",
    "    \n",
    "    # loss \n",
    "    fold_loss_df = pd.DataFrame(columns=['fold', 'type', 'loss'])\n",
    "    for k, v in loss:\n",
    "        if k == 'validation_0' or k == 'learn':        \n",
    "            fold_loss_df['loss'] = v[list(v.keys())[0]]\n",
    "            fold_loss_df['fold'] = fold + 1\n",
    "            fold_loss_df['type'] = 'train'                \n",
    "        elif k == 'validation_1' or k == 'validation':\n",
    "            fold_loss_df['loss'] = v[list(v.keys())[0]]\n",
    "            fold_loss_df['fold'] = fold + 1\n",
    "            fold_loss_df['type'] = 'valid'                \n",
    "        total_fold_loss_df = pd.concat([total_fold_loss_df, fold_loss_df], axis=0)\n",
    "    \n",
    "    # feature importance\n",
    "    fold_importance_df = pd.DataFrame()\n",
    "    fold_importance_df[\"feature\"] = features_cols_v2\n",
    "    fold_importance_df[\"importance\"] = cv_model.feature_importances_\n",
    "    fold_importance_df[\"fold\"] = fold + 1\n",
    "    feature_importance_df = pd.concat([feature_importance_df, fold_importance_df], axis=0)\n",
    "    \n",
    "    # evaluation\n",
    "    if model_name == 'xgb':\n",
    "        oof[val_idx] += cv_model.predict_proba(valid_x[features_cols_v2], \n",
    "                                               ntree_limit=cv_model.best_iteration)[:, 1]\n",
    "        y_pred += cv_model.predict_proba(test_df[features_cols_v2], \n",
    "                                         ntree_limit=cv_model.best_iteration)[:, 1] / folds.n_splits\n",
    "    elif model_name == 'lgb':\n",
    "        oof[val_idx] += cv_model.predict_proba(valid_x[features_cols_v2], \n",
    "                                               ntree_limit=cv_model.best_iteration_)[:, 1]\n",
    "        y_pred += cv_model.predict_proba(test_df[features_cols_v2], \n",
    "                                         ntree_limit=cv_model.best_iteration_)[:, 1] / folds.n_splits\n",
    "    elif model_name == 'cat':   \n",
    "        oof[val_idx] += cv_model.predict_proba(valid_x[features_cols_v2], \n",
    "                                               ntree_end=cv_model.best_iteration_)[:, 1]\n",
    "        y_pred += cv_model.predict_proba(test_df[features_cols_v2], \n",
    "                                         ntree_end=cv_model.best_iteration_)[:, 1] / folds.n_splits \n",
    "\n",
    "print()     \n",
    "print('## Valid-CV AUC: {:.4f}'.format(roc_auc_score(train_df[target_col].values, oof)))    "
   ]
  },
  {
   "cell_type": "code",
   "execution_count": 85,
   "metadata": {
    "scrolled": true
   },
   "outputs": [
    {
     "name": "stdout",
     "output_type": "stream",
     "text": [
      "Classification  report:\n",
      "              precision    recall  f1-score   support\n",
      "\n",
      "           0       0.63      1.00      0.77     20663\n",
      "           1       1.00      0.40      0.57     20663\n",
      "\n",
      "    accuracy                           0.70     41326\n",
      "   macro avg       0.81      0.70      0.67     41326\n",
      "weighted avg       0.81      0.70      0.67     41326\n",
      "\n"
     ]
    }
   ],
   "source": [
    "report = classification_report(train_df[target_col].values, oof >= 0.5, target_names=['0', '1'])\n",
    "print('Classification  report:')\n",
    "print(report)\n"
   ]
  },
  {
   "cell_type": "code",
   "execution_count": 68,
   "metadata": {
    "scrolled": false
   },
   "outputs": [
    {
     "data": {
      "text/plain": [
       "<matplotlib.axes._subplots.AxesSubplot at 0x7fdd325f5ba8>"
      ]
     },
     "execution_count": 68,
     "metadata": {},
     "output_type": "execute_result"
    },
    {
     "data": {
      "text/plain": [
       "Text(0.5, 0, 'Iteration')"
      ]
     },
     "execution_count": 68,
     "metadata": {},
     "output_type": "execute_result"
    },
    {
     "data": {
      "image/png": "[encoded data removed]",
      "text/plain": [
       "<Figure size 720x576 with 1 Axes>"
      ]
     },
     "metadata": {
      "needs_background": "light"
     },
     "output_type": "display_data"
    }
   ],
   "source": [
    "total_fold_loss_df = total_fold_loss_df.reset_index()\n",
    "\n",
    "fig, ax = plt.subplots(1, 1, figsize=(10, 8))\n",
    "palette = sns.color_palette(\"Paired\", fold)\n",
    "sns.lineplot(x='index', y='loss', hue='fold', style='type', \n",
    "             data=total_fold_loss_df, ax=ax)\n",
    "ax.set_xlabel('Iteration', fontsize=14)    "
   ]
  },
  {
   "cell_type": "code",
   "execution_count": null,
   "metadata": {},
   "outputs": [],
   "source": [
    "plt.style.use('dark_background')\n",
    "cols = (feature_importance_df[[\"feature\", \"importance\"]]\n",
    "    .groupby(\"feature\")\n",
    "    .mean()\n",
    "    .sort_values(by=\"importance\", ascending=False)[:40].index)\n",
    "best_features = feature_importance_df.loc[feature_importance_df.feature.isin(cols)]\n",
    "\n",
    "plt.figure(figsize=(10,10))\n",
    "sns.barplot(x=\"importance\", y=\"feature\", data=best_features.sort_values(by=\"importance\",ascending=False),\n",
    "        edgecolor=('white'), linewidth=2, palette=\"rocket\")\n",
    "plt.title('LGB Features importance (averaged/folds)', fontsize=18)\n",
    "plt.tight_layout()"
   ]
  },
  {
   "cell_type": "code",
   "execution_count": 69,
   "metadata": {},
   "outputs": [
    {
     "data": {
      "text/plain": [
       "<matplotlib.axes._subplots.AxesSubplot at 0x7fdd2be48128>"
      ]
     },
     "execution_count": 69,
     "metadata": {},
     "output_type": "execute_result"
    },
    {
     "data": {
      "image/png": "[encoded data removed]",
      "text/plain": [
       "<Figure size 1080x1080 with 1 Axes>"
      ]
     },
     "metadata": {
      "needs_background": "light"
     },
     "output_type": "display_data"
    }
   ],
   "source": [
    "fig, ax = plt.subplots(figsize=(15, 15))\n",
    "lgb.plot_importance(cv_model, max_num_features=100, height=0.5, importance_type='split', ax=ax)\n",
    "\n",
    "#fimp_df = feature_importance_df.groupby('feature')['importance'].mean()\\\n",
    "#    .reset_index()\\\n",
    "#    .sort_values('importance', ascending=False)\n",
    "\n",
    "#fig, ax = plt.subplots(1, 1, figsize=(12, 10))\n",
    "#pal = sns.color_palette(\"Paired\", fimp_df.shape[0])\n",
    "#g = sns.barplot(x=\"importance\", y=\"feature\", \n",
    "#                palette=pal,\n",
    "#                data=fimp_df,\n",
    "#                ax=ax)"
   ]
  },
  {
   "cell_type": "code",
   "execution_count": 70,
   "metadata": {},
   "outputs": [],
   "source": [
    "submit_name = 'sample_data'\n",
    "file_name = 'submission_{}.csv'.format(submit_name)\n",
    "submission_df = test_df[['TransactionID']]\n",
    "submission_df['isFraud'] = y_pred\n",
    "submission_df.to_csv(file_name, header=True, index=False, mode='w')"
   ]
  },
  {
   "cell_type": "markdown",
   "metadata": {},
   "source": [
    "# Feature selection\n",
    "\n",
    "* Reduces Overfitting: Less redundant data means less opportunity to make decisions based on noise.\n",
    "* Improves Accuracy: Less misleading data means modeling accuracy improves.\n",
    "* Reduces Training Time: fewer data points reduce algorithm complexity and algorithms train faster."
   ]
  },
  {
   "cell_type": "code",
   "execution_count": null,
   "metadata": {},
   "outputs": [],
   "source": [
    "from sklearn.feature_selection import SelectFromModel\n",
    "from sklearn.ensemble import RandomForestClassifier\n",
    "import copy\n",
    "\n",
    "fe_train_data = copy.deepcopy(train_df)\n",
    "fe_train_data.fillna(0, inplace=True)\n",
    "embeded_rf_selector = SelectFromModel(RandomForestClassifier(n_estimators=100, \n",
    "                                                             random_state=seed))\n",
    "embeded_rf_selector.fit(fe_train_data[features_cols], fe_train_data[target_col])"
   ]
  },
  {
   "cell_type": "code",
   "execution_count": null,
   "metadata": {},
   "outputs": [],
   "source": [
    "embeded_rf_support = embeded_rf_selector.get_support()\n",
    "embeded_rf_feature = fe_train_data[features_cols].loc[:, embeded_rf_support].columns.tolist()\n",
    "print(str(len(embeded_rf_feature)), 'selected features')\n",
    "del fe_train_data"
   ]
  },
  {
   "cell_type": "markdown",
   "metadata": {},
   "source": [
    "# Cross validation"
   ]
  },
  {
   "cell_type": "code",
   "execution_count": null,
   "metadata": {},
   "outputs": [],
   "source": [
    "%%time\n",
    "n_splits = 5\n",
    "folds = StratifiedKFold(n_splits=n_splits, shuffle=True, random_state=seed)\n",
    "Kflods = folds.split(train_df[features_cols].values, train_df[target_col].values)\n",
    "#folds = TimeSeriesSplit(n_splits=5)\n",
    "#Kflods = folds.split(train_df[features_cols].values, train_df[target_col].values)\n",
    "\n",
    "oof = np.zeros(len(train_df))\n",
    "predictions = np.zeros(len(test_df))\n",
    "feature_importance_df = pd.DataFrame()\n",
    "total_fold_loss_df = pd.DataFrame()\n",
    "y_true = test_df[target_col].values.tolist()\n",
    "y_pred = np.zeros(test_df.shape[0])\n",
    "test_acc_score = []\n",
    "test_auc_score = []\n",
    "encoding_cols = ['c_in', 'c_out', 'c_t_in', 'c_t_out', 'TW']\n",
    "target_encoding_cols = [f for f in features_cols if f in encoding_cols]\n",
    "model_name = 'xgb'\n",
    "mean_enc = None\n",
    "\n",
    "time_split_trn_ratio = []\n",
    "time_split_val_ratio = []\n",
    "\n",
    "for fold, (trn_idx, val_idx) in enumerate(Kflods):\n",
    "    print(\"===== Fold {} =====\".format(fold))\n",
    "    trn_idx = shuffle(trn_idx)\n",
    "    train_x, train_y = train_df.iloc[trn_idx][features_cols], train_df.iloc[trn_idx][target_col]\n",
    "    valid_x, valid_y = train_df.iloc[val_idx][features_cols], train_df.iloc[val_idx][target_col]\n",
    "    features_cols_v2 = features_cols.copy()\n",
    "\n",
    "    time_split_trn_ratio.append(train_y.sum() / train_y.count())\n",
    "    time_split_val_ratio.append(valid_y.sum() / valid_y.count())\n",
    "    if mean_enc == 'mean':\n",
    "        for f in target_encoding_cols:\n",
    "            train_x, enc_value, prior_mean, feature_name = mean_encoding(train_x, train_y, f, target_col)\n",
    "            valid_x[feature_name] = valid_x[f].map(enc_value)\n",
    "            valid_x[feature_name].fillna(prior_mean, inplace=True)    \n",
    "            test_df[feature_name] = test_df[f].map(enc_value)\n",
    "            test_df[feature_name].fillna(prior_mean, inplace=True)\n",
    "            #features_cols_v2.remove(f)\n",
    "            features_cols_v2.append(feature_name)\n",
    "    elif mean_enc == 'smooth':\n",
    "        for f in target_encoding_cols:\n",
    "            train_x, enc_value, prior_mean, feature_name = smooth_mean_encoding(train_x, train_y, f, target_col, \n",
    "                                                                                smooth_method='sigmoid_smooth')\n",
    "            valid_x[feature_name] = valid_x[f].map(enc_value)\n",
    "            valid_x[feature_name].fillna(prior_mean, inplace=True)    \n",
    "            test_df[feature_name] = test_df[f].map(enc_value)\n",
    "            test_df[feature_name].fillna(prior_mean, inplace=True)\n",
    "            #features_cols_v2.remove(f)\n",
    "            features_cols_v2.append(feature_name)\n",
    "    elif mean_enc == 'beta':\n",
    "        prior_mean = np.mean(train_y)\n",
    "        for f in target_encoding_cols:\n",
    "            stats = train_df.iloc[trn_idx].groupby(f).agg(['sum', 'count'])['label'].reset_index()\n",
    "            train_x, feature_name = beta_mean_encoding(train_x, f, target_col, stats, prior_mean)\n",
    "            valid_x, _ = beta_mean_encoding(valid_x, f, target_col, stats, prior_mean)\n",
    "            test_df, _ = beta_mean_encoding(test_df, f, target_col, stats, prior_mean)\n",
    "            #features_cols_v2.remove(f)\n",
    "            features_cols_v2.append(feature_name)\n",
    "\n",
    "    eval_set = [(train_x[features_cols_v2], train_y), (valid_x[features_cols_v2], valid_y)]\n",
    "    \n",
    "    if model_name == 'xgb':\n",
    "        xgb_sk_params.update({'random_state': fold + np.random.randint(999) + seed})\n",
    "        cv_model = xgb.XGBClassifier(**xgb_sk_params)\n",
    "        cv_model.fit(X=train_x[features_cols_v2],\n",
    "                     y=train_y, \n",
    "                     eval_set=eval_set,             \n",
    "                     early_stopping_rounds=num_early_stopping, \n",
    "                     verbose=num_verbose_eval) \n",
    "        loss = cv_model.evals_result().items()\n",
    "        \n",
    "    elif model_name == 'lgb':\n",
    "        cv_model = lgb.LGBMClassifier(**lgb_sk_params)    \n",
    "        cv_model.fit(X=train_x[features_cols_v2],\n",
    "                     y=train_y, \n",
    "                     eval_set=eval_set,    \n",
    "                     eval_names=['validation_0', 'validation_1'],\n",
    "                     early_stopping_rounds=num_early_stopping, \n",
    "                     verbose=num_verbose_eval,\n",
    "                     categorical_feature=bin_features) \n",
    "        loss = cv_model.evals_result_.items()\n",
    "    elif model_name == 'cat':\n",
    "        cv_model = cb.CatBoostClassifier(**cat_sk_params, od_type='Iter', od_wait=20)\n",
    "        eval_set = [(valid_x[features_cols_v2], valid_y)]\n",
    "        cv_model.fit(X=train_x[features_cols_v2],\n",
    "                     y=train_y,\n",
    "                     eval_set=eval_set,\n",
    "                     #cat_features=cat_features,\n",
    "                     early_stopping_rounds=num_early_stopping, \n",
    "                     verbose=num_verbose_eval,\n",
    "                     plot=False)\n",
    "        loss = cv_model.evals_result_.items()\n",
    "    \n",
    "    # loss \n",
    "    fold_loss_df = pd.DataFrame(columns=['fold', 'type', 'loss'])\n",
    "    for k, v in loss:\n",
    "        if k == 'validation_0' or k == 'learn':        \n",
    "            fold_loss_df['loss'] = v[list(v.keys())[0]]\n",
    "            fold_loss_df['fold'] = fold + 1\n",
    "            fold_loss_df['type'] = 'train'                \n",
    "        elif k == 'validation_1' or k == 'validation':\n",
    "            fold_loss_df['loss'] = v[list(v.keys())[0]]\n",
    "            fold_loss_df['fold'] = fold + 1\n",
    "            fold_loss_df['type'] = 'valid'                \n",
    "        total_fold_loss_df = pd.concat([total_fold_loss_df, fold_loss_df], axis=0)\n",
    "    \n",
    "    # feature importance\n",
    "    fold_importance_df = pd.DataFrame()\n",
    "    fold_importance_df[\"feature\"] = features_cols_v2\n",
    "    fold_importance_df[\"importance\"] = cv_model.feature_importances_\n",
    "    fold_importance_df[\"fold\"] = fold + 1\n",
    "    feature_importance_df = pd.concat([feature_importance_df, fold_importance_df], axis=0)\n",
    "    \n",
    "    # evaluation\n",
    "    if model_name == 'xgb':\n",
    "        oof[val_idx] += cv_model.predict_proba(valid_x[features_cols_v2], \n",
    "                                               ntree_limit=cv_model.best_iteration)[:, 1]\n",
    "        y_pred += cv_model.predict_proba(test_df[features_cols_v2], \n",
    "                                         ntree_limit=cv_model.best_iteration)[:, 1] / folds.n_splits\n",
    "    elif model_name == 'lgb':\n",
    "        oof[val_idx] += cv_model.predict_proba(valid_x[features_cols_v2], \n",
    "                                               ntree_limit=cv_model.best_iteration_)[:, 1]\n",
    "        y_pred += cv_model.predict_proba(test_df[features_cols_v2], \n",
    "                                         ntree_limit=cv_model.best_iteration_)[:, 1] / folds.n_splits\n",
    "    elif model_name == 'cat':   \n",
    "        oof[val_idx] += cv_model.predict_proba(valid_x[features_cols_v2], \n",
    "                                               ntree_end=cv_model.best_iteration_)[:, 1]\n",
    "        y_pred += cv_model.predict_proba(test_df[features_cols_v2], \n",
    "                                         ntree_end=cv_model.best_iteration_)[:, 1] / folds.n_splits        \n",
    "        \n",
    "    test_acc_score.append(accuracy_score(y_true, y_pred >= 0.5))\n",
    "    test_auc_score.append(roc_auc_score(y_true, y_pred))\n",
    "    \n",
    "\n",
    "print()    \n",
    "print('## Valid-CV Accuracy: {:.4f}'.format(accuracy_score(train_df[target_col].values, oof >= 0.5)))    \n",
    "print('## Valid-CV AUC: {:.4f}'.format(roc_auc_score(train_df[target_col].values, oof)))    \n",
    "print()   \n",
    "print('## Test-CV Accuracy: {:.4f}'.format(np.array(test_acc_score).mean()))    \n",
    "print('## Test-CV AUC: {:.4f}'.format(np.array(test_auc_score).mean()))  \n",
    "       "
   ]
  },
  {
   "cell_type": "markdown",
   "metadata": {},
   "source": [
    "# HPO"
   ]
  }
 ],
 "metadata": {
  "kernelspec": {
   "display_name": "Python 3",
   "language": "python",
   "name": "python3"
  },
  "language_info": {
   "codemirror_mode": {
    "name": "ipython",
    "version": 3
   },
   "file_extension": ".py",
   "mimetype": "text/x-python",
   "name": "python",
   "nbconvert_exporter": "python",
   "pygments_lexer": "ipython3",
   "version": "3.5.2"
  }
 },
 "nbformat": 4,
 "nbformat_minor": 2
}

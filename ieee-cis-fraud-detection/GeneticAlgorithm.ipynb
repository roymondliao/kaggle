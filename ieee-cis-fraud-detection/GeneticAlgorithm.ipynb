{
 "cells": [
  {
   "cell_type": "code",
   "execution_count": 2,
   "metadata": {},
   "outputs": [],
   "source": [
    "import numpy as np\n",
    "import random\n",
    "import matplotlib.pyplot as plt\n",
    "from sklearn.datasets import load_boston\n",
    "from sklearn.model_selection import cross_val_score\n",
    "from sklearn.linear_model import LinearRegression\n",
    " \n",
    "SEED = 2018\n",
    "random.seed(SEED)\n",
    "np.random.seed(SEED)"
   ]
  },
  {
   "cell_type": "code",
   "execution_count": 3,
   "metadata": {},
   "outputs": [],
   "source": [
    "dataset = load_boston()\n",
    "X, y = dataset.data, dataset.target\n",
    "features = dataset.feature_names"
   ]
  },
  {
   "cell_type": "code",
   "execution_count": 7,
   "metadata": {},
   "outputs": [
    {
     "name": "stdout",
     "output_type": "stream",
     "text": [
      "CV MSE before feature selection: 37.131807\n"
     ]
    }
   ],
   "source": [
    "est = LinearRegression()\n",
    "score = -1.0 * cross_val_score(est, X, y, cv=5, scoring='neg_mean_squared_error')\n",
    "print('CV MSE before feature selection: {:2f}'.format(np.mean(score)))"
   ]
  },
  {
   "cell_type": "code",
   "execution_count": 91,
   "metadata": {},
   "outputs": [],
   "source": [
    "class GeneticSelector:\n",
    "    def __init__(self, estimator, n_gen, n_size, n_best, n_rand, n_children, mutation_rate):\n",
    "        # estimator\n",
    "        self.estimator = estimator\n",
    "        # number of generations\n",
    "        self.n_gen = n_gen\n",
    "        # number of chromosomes in population\n",
    "        self.n_size = n_size\n",
    "        # number of random chromosomes to select \n",
    "        self.n_rand = n_rand\n",
    "        # number of best chromosomes to select\n",
    "        self.n_best = n_best\n",
    "        # number of children created during crossover\n",
    "        self.n_children = n_children\n",
    "        # probablity of chromosome mutation\n",
    "        self.mutation_rate = mutation_rate\n",
    "        \n",
    "        if ((self.n_best + self.n_rand) / 2) * self.n_children != self.n_size:\n",
    "            raise ValueError('The population size in not stable.')\n",
    "    \n",
    "    def initilize(self):\n",
    "        population = []\n",
    "        for i in range(self.n_size):\n",
    "            chromosome = np.ones(self.n_features, dtype=np.bool)\n",
    "            mask = np.random.rand(len(chromosome)) < 0.3\n",
    "            chromosome[mask] = False\n",
    "            population.append(chromosome)\n",
    "        return population\n",
    "    \n",
    "    def fitness(self, population):\n",
    "        X, y = self.dataset\n",
    "        scores = []        \n",
    "        for chromosome in population:\n",
    "            score = -1.0 * np.mean(cross_val_score(self.estimator, \n",
    "                                                   X[:, chromosome], y, \n",
    "                                                   cv=5, scoring='neg_mean_squared_error'))\n",
    "            scores.append(score)\n",
    "        scores, population = np.array(scores), np.array(population)\n",
    "        inds = np.argsort(scores)\n",
    "        return list(scores[inds]), list(population[inds, :])\n",
    "    \n",
    "    def selection(self, population_sorted):\n",
    "        population_next = []\n",
    "        for i in range(self.n_best):\n",
    "            population_next.append(population_sorted[i])\n",
    "        for i in range(self.n_rand):\n",
    "            population_next.append(random.choice(population_sorted))\n",
    "        random.shuffle(population_next)\n",
    "        return population_next\n",
    "    \n",
    "    def crossover(self, population):\n",
    "        population_next = []\n",
    "        for i in range(int(len(population)/2)):\n",
    "            for j in range(self.n_children):\n",
    "                chromosome_1, chromosome_2 = population[i], population[len(population)-1-i]\n",
    "                child = chromosome_1\n",
    "                mask = np.random.rand(len(child)) > 0.5\n",
    "                child[mask] = chromosome_2[mask]\n",
    "                population_next.append(child)\n",
    "        return population_next\n",
    "    \n",
    "    def mutation(self, population):\n",
    "        population_next = []\n",
    "        for i in range(len(population)):\n",
    "            chromosome = population[i]\n",
    "            if random.random() < self.mutation_rate:\n",
    "                mask = np.random.rand(len(chromosome)) < 0.05\n",
    "                chromosome[mask] = False\n",
    "            population_next.append(chromosome)\n",
    "        return population_next\n",
    "    \n",
    "    def generate(self, population):\n",
    "        # Selection, crossover and mutation\n",
    "        scores_sorted, population_sorted = self.fitness(population)\n",
    "        population = self.selection(population_sorted)\n",
    "        population = self.crossover(population)\n",
    "        population = self.mutation(population)\n",
    "        # History\n",
    "        self.chromosomes_best.append(population_sorted[0])\n",
    "        self.scores_best.append(scores_sorted[0])\n",
    "        self.scores_avg.append(np.mean(scores_sorted))                \n",
    "        return population\n",
    "    \n",
    "    def fit(self, X, y):\n",
    " \n",
    "        self.chromosomes_best = []\n",
    "        self.scores_best, self.scores_avg  = [], []\n",
    "        \n",
    "        self.dataset = X, y\n",
    "        self.n_features = X.shape[1]\n",
    "        \n",
    "        population = self.initilize()\n",
    "        for i in range(self.n_gen):\n",
    "            population = self.generate(population)\n",
    "            \n",
    "        return self \n",
    "    \n",
    "    @property\n",
    "    def support_(self):\n",
    "        return self.chromosomes_best[-1]\n",
    " \n",
    "    def plot_scores(self):\n",
    "        plt.plot(self.scores_best, label='Best')\n",
    "        plt.plot(self.scores_avg, label='Average')\n",
    "        plt.legend()\n",
    "        plt.ylabel('Scores')\n",
    "        plt.xlabel('Generation')\n",
    "        plt.show()        "
   ]
  },
  {
   "cell_type": "code",
   "execution_count": 92,
   "metadata": {},
   "outputs": [
    {
     "data": {
      "image/png": "[encoded data removed]",
      "text/plain": [
       "<Figure size 432x288 with 1 Axes>"
      ]
     },
     "metadata": {
      "needs_background": "light"
     },
     "output_type": "display_data"
    },
    {
     "name": "stdout",
     "output_type": "stream",
     "text": [
      "CV MSE after feature selection: 29.62\n"
     ]
    }
   ],
   "source": [
    "sel = GeneticSelector(estimator=LinearRegression(), \n",
    "                      n_gen=7, n_size=200, n_best=40, n_rand=40, \n",
    "                      n_children=5, mutation_rate=0.05)\n",
    "sel.fit(X, y)\n",
    "sel.plot_scores()\n",
    "score = -1.0 * cross_val_score(est, X[:,sel.support_], y, cv=5, scoring=\"neg_mean_squared_error\")\n",
    "print(\"CV MSE after feature selection: {:.2f}\".format(np.mean(score)))"
   ]
  }
 ],
 "metadata": {
  "kernelspec": {
   "display_name": "Python 3",
   "language": "python",
   "name": "python3"
  },
  "language_info": {
   "codemirror_mode": {
    "name": "ipython",
    "version": 3
   },
   "file_extension": ".py",
   "mimetype": "text/x-python",
   "name": "python",
   "nbconvert_exporter": "python",
   "pygments_lexer": "ipython3",
   "version": "3.5.2"
  }
 },
 "nbformat": 4,
 "nbformat_minor": 2
}

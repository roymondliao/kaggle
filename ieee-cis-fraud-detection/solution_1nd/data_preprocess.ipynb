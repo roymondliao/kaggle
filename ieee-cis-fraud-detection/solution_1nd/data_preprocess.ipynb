{
 "cells": [
  {
   "cell_type": "code",
   "execution_count": 16,
   "metadata": {},
   "outputs": [],
   "source": [
    "import numpy as np\n",
    "import pandas as pd\n",
    "import os\n",
    "import warnings\n",
    "import math\n",
    "import sys\n",
    "from pathlib import Path\n",
    "from datetime import datetime, timedelta\n",
    "from sklearn.preprocessing import LabelEncoder\n",
    "from pandas.tseries.holiday import USFederalHolidayCalendar as calendar\n",
    "\n",
    "# utils\n",
    "sys.path.insert(0, '/tf/notebooks/other/kaggle')\n",
    "from utils import utils_featexp\n",
    "from utils import utils_features_engineering\n",
    "from utils import utils_features_plots\n",
    "from utils import utils_reduce_memory\n",
    "from utils import utils_statistic\n",
    "\n",
    "warnings.filterwarnings('ignore')"
   ]
  },
  {
   "cell_type": "code",
   "execution_count": 8,
   "metadata": {},
   "outputs": [
    {
     "name": "stdout",
     "output_type": "stream",
     "text": [
      "Number of train transaction data:590540\n",
      "Number of train identity data:144233\n",
      "Number of test transaction data:506691\n",
      "Number of test identity data:141907\n"
     ]
    }
   ],
   "source": [
    "START_DATE = datetime.strptime('2017-11-30', '%Y-%m-%d')\n",
    "main_path = Path('../../input/ieee-cis-fraud-detection/')\n",
    "\n",
    "train_transaction_data = pd.read_csv(main_path / 'train_transaction.csv')\n",
    "train_identity_data = pd.read_csv(main_path / 'train_identity.csv')\n",
    "test_transaction_data = pd.read_csv(main_path / 'test_transaction.csv')\n",
    "test_identity_data = pd.read_csv(main_path / 'test_identity.csv')\n",
    "\n",
    "print('Number of train transaction data:{}\\nNumber of train identity data:{}'.format(\n",
    "    train_transaction_data.shape[0],\n",
    "    train_identity_data.shape[0]\n",
    "))\n",
    "\n",
    "print('Number of test transaction data:{}\\nNumber of test identity data:{}'.format(\n",
    "    test_transaction_data.shape[0],\n",
    "    test_identity_data.shape[0]\n",
    "))"
   ]
  },
  {
   "cell_type": "code",
   "execution_count": 11,
   "metadata": {},
   "outputs": [],
   "source": [
    "datas_range = pd.date_range(start='2017-10-01', end='2019-01-01')\n",
    "us_holidays = calendar().holidays(start=dates_range.min(), end=dates_range.max())\n",
    "\n",
    "for df in [train_transaction_data, test_transaction_data]:\n",
    "    # temporary variables for aggregation\n",
    "    df['DT'] = df['TransactionDT'].apply(lambda x:(START_DATE + ))\n",
    "\n"
   ]
  },
  {
   "cell_type": "code",
   "execution_count": 12,
   "metadata": {},
   "outputs": [
    {
     "data": {
      "text/plain": [
       "DatetimeIndex(['2017-10-01', '2017-10-02', '2017-10-03', '2017-10-04',\n",
       "               '2017-10-05', '2017-10-06', '2017-10-07', '2017-10-08',\n",
       "               '2017-10-09', '2017-10-10',\n",
       "               ...\n",
       "               '2018-12-23', '2018-12-24', '2018-12-25', '2018-12-26',\n",
       "               '2018-12-27', '2018-12-28', '2018-12-29', '2018-12-30',\n",
       "               '2018-12-31', '2019-01-01'],\n",
       "              dtype='datetime64[ns]', length=458, freq='D')"
      ]
     },
     "execution_count": 12,
     "metadata": {},
     "output_type": "execute_result"
    }
   ],
   "source": [
    "datas_range"
   ]
  }
 ],
 "metadata": {
  "kernelspec": {
   "display_name": "Python 3",
   "language": "python",
   "name": "python3"
  },
  "language_info": {
   "codemirror_mode": {
    "name": "ipython",
    "version": 3
   },
   "file_extension": ".py",
   "mimetype": "text/x-python",
   "name": "python",
   "nbconvert_exporter": "python",
   "pygments_lexer": "ipython3",
   "version": "3.5.2"
  }
 },
 "nbformat": 4,
 "nbformat_minor": 2
}

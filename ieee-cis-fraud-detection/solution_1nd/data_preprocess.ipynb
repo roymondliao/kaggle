{
 "cells": [
  {
   "cell_type": "code",
   "execution_count": 26,
   "metadata": {},
   "outputs": [],
   "source": [
    "import numpy as np\n",
    "import pandas as pd\n",
    "import os\n",
    "import warnings\n",
    "import math\n",
    "import sys\n",
    "import seaborn as sns\n",
    "from pathlib import Path\n",
    "from datetime import datetime, timedelta\n",
    "from sklearn.preprocessing import LabelEncoder\n",
    "from pandas.tseries.holiday import USFederalHolidayCalendar as calendar\n",
    "\n",
    "# utils\n",
    "sys.path.insert(0, '/tf/notebooks/other/kaggle')\n",
    "from utils import utils_featexp\n",
    "from utils import utils_features_engineering\n",
    "from utils import utils_features_plots\n",
    "from utils import utils_reduce_memory\n",
    "from utils import utils_statistic\n",
    "\n",
    "warnings.filterwarnings('ignore')"
   ]
  },
  {
   "cell_type": "code",
   "execution_count": null,
   "metadata": {},
   "outputs": [],
   "source": [
    "START_DATE = datetime.strptime('2017-11-30', '%Y-%m-%d')\n",
    "main_path = Path('../../input/ieee-cis-fraud-detection/')\n",
    "\n",
    "train_transaction_data = pd.read_csv(main_path / 'train_transaction.csv')\n",
    "train_identity_data = pd.read_csv(main_path / 'train_identity.csv')\n",
    "test_transaction_data = pd.read_csv(main_path / 'test_transaction.csv')\n",
    "test_identity_data = pd.read_csv(main_path / 'test_identity.csv')\n",
    "\n",
    "print('Number of train transaction data:{}\\nNumber of train identity data:{}'.format(\n",
    "    train_transaction_data.shape[0],\n",
    "    train_identity_data.shape[0]\n",
    "))\n",
    "\n",
    "print('Number of test transaction data:{}\\nNumber of test identity data:{}'.format(\n",
    "    test_transaction_data.shape[0],\n",
    "    test_identity_data.shape[0]\n",
    "))"
   ]
  },
  {
   "cell_type": "code",
   "execution_count": null,
   "metadata": {},
   "outputs": [],
   "source": [
    "datas_range = pd.data_range(start='2017-10-01', end='2019-01-01')\n",
    "us_holidays = calendar().holidays(start=dates_range.min(), end=dates_range.max())\n",
    "\n",
    "for df in [train_transaction_data, test_transaction_data]:\n",
    "    df['DT'] = df['TransactionDT'].apply(lambda x:(START_DATE + timedelta(seconds=x)))\n",
    "    df['DT_M'] = ((df['DT'].dt.year - 2017)*12 + df['DT'].dt.month).astype(np.int8)\n",
    "    df['DT_W'] = ((df['DT'].dt.year - 2017)*52 + df['DT'].dt.weekofyear).astype(np.int8)\n",
    "    df['DT_D'] = ((df['DT'].dt.year - 2017)*365 + df['DT'].dt.dayofyear).astype(np.int8)\n",
    "    \n",
    "    df['DT_hour'] = (df['DT'].dt.hour).astype(np.int8)\n",
    "    df['DT_day_week'] = (df['DT'].dt.dayofweek).astype(np.int8)\n",
    "    df['DT_day_month'] = (df['DT'].dt.day).astype(np.int8)\n",
    "    df['DT_week_month'] = (df['DT'].dt.day) / 7\n",
    "    df['DT_week_month'] = df['DT_week_month'].apply(lambda x: math.ceil(x))\n",
    "    \n"
   ]
  },
  {
   "cell_type": "code",
   "execution_count": 33,
   "metadata": {},
   "outputs": [],
   "source": [
    "train_card1_df = train_transaction_data['card1'].value_counts().reset_index()\n",
    "test_card1_df = test_transaction_data['card1'].value_counts().reset_index()\n"
   ]
  },
  {
   "cell_type": "code",
   "execution_count": 39,
   "metadata": {},
   "outputs": [
    {
     "data": {
      "text/plain": [
       "14932"
      ]
     },
     "execution_count": 39,
     "metadata": {},
     "output_type": "execute_result"
    }
   ],
   "source": [
    "max(train_transaction_data.groupby('card1').size() )"
   ]
  },
  {
   "cell_type": "code",
   "execution_count": null,
   "metadata": {},
   "outputs": [],
   "source": [
    "daset[c+'_freq'] = daset[c].map(daset.groupby(c).size() / daset.shape[0])"
   ]
  }
 ],
 "metadata": {
  "kernelspec": {
   "display_name": "Python 3",
   "language": "python",
   "name": "python3"
  },
  "language_info": {
   "codemirror_mode": {
    "name": "ipython",
    "version": 3
   },
   "file_extension": ".py",
   "mimetype": "text/x-python",
   "name": "python",
   "nbconvert_exporter": "python",
   "pygments_lexer": "ipython3",
   "version": "3.5.2"
  }
 },
 "nbformat": 4,
 "nbformat_minor": 2
}
